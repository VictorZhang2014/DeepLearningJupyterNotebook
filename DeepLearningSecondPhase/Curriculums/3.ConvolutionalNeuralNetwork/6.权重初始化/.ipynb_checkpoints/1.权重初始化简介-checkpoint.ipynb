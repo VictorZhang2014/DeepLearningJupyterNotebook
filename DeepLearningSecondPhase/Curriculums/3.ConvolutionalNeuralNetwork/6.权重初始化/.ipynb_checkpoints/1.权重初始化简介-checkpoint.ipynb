{
 "cells": [
  {
   "cell_type": "markdown",
   "metadata": {},
   "source": [
    "# 权重初始化简介\n",
    "\n",
    "这周，我们将讲解权重初始化。你将学习如何为神经网络确定合适的初始权重。好的初始权重可以使神经网络更接近最优解，也能够使神经网络更快地得到最优结果。\n",
    "\n",
    "你可以在该课程 [GitHub 代码库](https://github.com/VictorZhang2014/cn-deep-learning) 的 `tutorials/weight-initialization` 文件夹下找到本节课的 Notebook 文件。从 Github 下载文件或克隆代码库\n",
    "\n",
    "```\n",
    "git clone https://github.com/udacity/cn-deep-learning.git\n",
    "```"
   ]
  },
  {
   "cell_type": "code",
   "execution_count": null,
   "metadata": {},
   "outputs": [],
   "source": []
  }
 ],
 "metadata": {
  "kernelspec": {
   "display_name": "Python 2",
   "language": "python",
   "name": "python2"
  },
  "language_info": {
   "codemirror_mode": {
    "name": "ipython",
    "version": 2
   },
   "file_extension": ".py",
   "mimetype": "text/x-python",
   "name": "python",
   "nbconvert_exporter": "python",
   "pygments_lexer": "ipython2",
   "version": "2.7.14"
  }
 },
 "nbformat": 4,
 "nbformat_minor": 2
}
