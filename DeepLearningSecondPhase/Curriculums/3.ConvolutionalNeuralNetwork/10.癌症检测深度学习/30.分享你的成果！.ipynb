{
 "cells": [
  {
   "cell_type": "markdown",
   "metadata": {},
   "source": [
    "# 分享你的成果！\n",
    "\n",
    "如果满意你的成果，请将包含你的代码的 GitHub 资源库分享到 `nd101` slack 的 `#cnns` 频道！在 GitHub 资源库中更新你的成果，是与他人分享你的知识、吸引潜在雇主的绝佳方式。\n",
    "\n",
    "你还可以访问 slack 频道提问问题、获得实现过程的提示、分享观点，或者找到合作者！（我们欢迎（并鼓励！）你与其他学员合作。）\n",
    "\n",
    "\n",
    "<img src=\"../../../sources/img/CNN/slack.png\" >"
   ]
  },
  {
   "cell_type": "code",
   "execution_count": null,
   "metadata": {},
   "outputs": [],
   "source": []
  }
 ],
 "metadata": {
  "kernelspec": {
   "display_name": "Python 2",
   "language": "python",
   "name": "python2"
  },
  "language_info": {
   "codemirror_mode": {
    "name": "ipython",
    "version": 2
   },
   "file_extension": ".py",
   "mimetype": "text/x-python",
   "name": "python",
   "nbconvert_exporter": "python",
   "pygments_lexer": "ipython2",
   "version": "2.7.14"
  }
 },
 "nbformat": 4,
 "nbformat_minor": 2
}
