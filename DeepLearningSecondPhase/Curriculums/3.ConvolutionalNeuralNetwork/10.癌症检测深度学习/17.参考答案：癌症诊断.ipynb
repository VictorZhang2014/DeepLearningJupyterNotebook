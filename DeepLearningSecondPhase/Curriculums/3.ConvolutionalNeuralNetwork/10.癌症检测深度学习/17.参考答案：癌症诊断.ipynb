{
 "cells": [
  {
   "cell_type": "code",
   "execution_count": 1,
   "metadata": {},
   "outputs": [
    {
     "data": {
      "text/html": [
       "<iframe width=\"900\" height=\"600\" src=\"https://www.youtube.com/embed/IJYvt2ssUFk\" frameborder=\"0\" allow=\"autoplay; encrypted-media\" allowfullscreen></iframe>"
      ],
      "text/plain": [
       "<IPython.core.display.HTML object>"
      ]
     },
     "execution_count": 1,
     "metadata": {},
     "output_type": "execute_result"
    }
   ],
   "source": [
    "from IPython.display import HTML\n",
    "\n",
    "HTML('<iframe width=\"900\" height=\"600\" src=\"https://www.youtube.com/embed/IJYvt2ssUFk\" frameborder=\"0\" allow=\"autoplay; encrypted-media\" allowfullscreen></iframe>')\n"
   ]
  },
  {
   "cell_type": "markdown",
   "metadata": {},
   "source": [
    "下图是我们的模型对一组病变图像所做的预测直方图，如下所述：\n",
    "\n",
    "- 水平轴上的每个点是从 0 到 1 的值 `p`。\n",
    "- 在所有值 `p` 中，我们定位了被分类器预测概率 `p` 为恶性的所有病变\n",
    "\n",
    "<img src=\"../../../sources/img/CNN/threshold.png\">\n",
    "\n",
    "在图中，我们将 0.2、0.5 和 0.8 作为阈值。请注意：\n",
    "\n",
    "- 在 0.2 下，我们正确分类了每个恶性病变，但也对许多良性病变进行了进一步检查。\n",
    "- 在 0.5 下，我们未诊断出一些恶性病变（严重），对少许良性病变进行了进一步检查。\n",
    "- 在 0.8 下，我们对大部分良性病变进行了正确分类，但未诊断出许多恶性病变（非常严重）。\n",
    "\n",
    "因此，在这种情况下，0.2 是否更好还存在争议。\n",
    "\n",
    "但是，在该模型中，可能会有更好的阈值。这个阈值是多少？\n",
    "\n",
    "## 练习题\n",
    "在该模型中，哪个值是最佳阈值？\n",
    "- 答：0.4\n",
    "\n",
    "<img src=\"../../../sources/img/CNN/0.4.png\">\n",
    "\n",
    "我同意。将阈值设为 0.4 看起来能诊断出所有恶性病变，而几乎没有未诊断出的良性病变。 \n",
    "\n",
    "\n"
   ]
  },
  {
   "cell_type": "code",
   "execution_count": null,
   "metadata": {},
   "outputs": [],
   "source": []
  }
 ],
 "metadata": {
  "kernelspec": {
   "display_name": "Python 2",
   "language": "python",
   "name": "python2"
  },
  "language_info": {
   "codemirror_mode": {
    "name": "ipython",
    "version": 2
   },
   "file_extension": ".py",
   "mimetype": "text/x-python",
   "name": "python",
   "nbconvert_exporter": "python",
   "pygments_lexer": "ipython2",
   "version": "2.7.14"
  }
 },
 "nbformat": 4,
 "nbformat_minor": 2
}
