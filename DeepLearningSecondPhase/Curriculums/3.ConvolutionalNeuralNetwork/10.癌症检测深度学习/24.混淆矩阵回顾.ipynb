{
 "cells": [
  {
   "cell_type": "markdown",
   "metadata": {},
   "source": [
    "# 混淆矩阵\n",
    "\n",
    "我们在评价指标课程中学习了混淆矩阵。\n",
    "\n",
    "但是，混淆矩阵可以比 2×2 大得多。以下是一个大混淆矩阵的示例。假设有三种疾病，分别称为 A、B 和 C。该混淆矩阵如下所示：\n",
    "\n",
    "<img src=\"../../../sources/img/CNN/new-confusion-matrix.png\" > \n",
    "\n",
    "<center>三种类型疾病（A、B 和 C）的混淆矩阵</center>\n",
    "\n",
    "可以看出， 第 ii 行和 第 j j 列的每个条目会告诉你病人患有疾病 ii、以及被诊断出疾病 j j 的概率。\n",
    "\n",
    "例如，根据第二行、第一列的条目，可以确定如果病人患有疾病 B，被诊断出疾病 A 的概率是 0.08。\n",
    "\n",
    "我们现在用几个测试题测试一下你学到的知识。\n",
    "\n",
    "\n",
    "## 练习题\n",
    "\n",
    "- 如果你患有疾病 A，被诊断出疾病 C 的概率是多少？\n",
    "  - 0.1\n",
    "  \n",
    "- 如果你患有疾病 C，被诊断出疾病 C 的概率是多少？\n",
    "  - 0.6\n",
    "  \n",
    "- 如果有一个完美分类器，混淆矩阵会是什么样？\n",
    "  - 单位矩阵\n",
    "  \n",
    "- 如果你的医生是一只猴子，它无论在什么情况下都会指向字母 B，混淆矩阵会是什么样?\n",
    "  - 第二列都是 1，其他地方都是零\n",
    "  \n",
    "- 将混淆矩阵必须满足的所有属性打勾。\n",
    "  - 将混淆矩阵必须满足的所有属性打勾。\n",
    "  - 每一行的条目相加必须等于1\n",
    "  \n",
    "\n"
   ]
  },
  {
   "cell_type": "code",
   "execution_count": null,
   "metadata": {},
   "outputs": [],
   "source": []
  }
 ],
 "metadata": {
  "kernelspec": {
   "display_name": "Python 2",
   "language": "python",
   "name": "python2"
  },
  "language_info": {
   "codemirror_mode": {
    "name": "ipython",
    "version": 2
   },
   "file_extension": ".py",
   "mimetype": "text/x-python",
   "name": "python",
   "nbconvert_exporter": "python",
   "pygments_lexer": "ipython2",
   "version": "2.7.14"
  }
 },
 "nbformat": 4,
 "nbformat_minor": 2
}
