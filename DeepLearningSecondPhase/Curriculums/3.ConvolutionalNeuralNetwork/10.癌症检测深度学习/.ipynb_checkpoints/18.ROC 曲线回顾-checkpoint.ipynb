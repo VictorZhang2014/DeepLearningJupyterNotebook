{
 "cells": [
  {
   "cell_type": "markdown",
   "metadata": {},
   "source": [
    "# ROC 曲线回顾\n",
    "\n",
    "我们将真阳性率作为水平轴，将假阳性率作为垂直轴。\n",
    "\n",
    "<img src=\"../../../sources/img/CNN/roc.png\">\n",
    "\n",
    "但是，在这一节课，我将使用不同的 ROC 曲线。我使用的曲线好像是把这个曲线侧翻了一样，如图所示：\n",
    "\n",
    "<img src=\"../../../sources/img/CNN/roc-curve.png\">\n",
    "\n",
    "我使用这个曲线的原因非常有意思。我们把敏感性作为水平轴、特异性作为垂直轴，就得到了这个曲线！\n",
    "\n",
    "我再具体一点（一语双关）。我们使用与上一部分相同的直方图。\n",
    "\n",
    "<img src=\"../../../sources/img/CNN/threshold_single.png\">\n",
    "\n",
    "回想一下，水平轴上的值都是可能阈值。对于 0 和 1 之间的任何阈值 pp，模型的结论如下：`“该阈值左边的所有病变都被视为良性，其右边的所有病变都被视为恶性，并会接受进一步检查。”`\n",
    "\n",
    "对于这个模型，我们对敏感性和特异性进行以下计算：\n",
    "\n",
    "- 敏感性：在所有恶性病变中，位于阈值右侧的病变（正确分类）的百分比是多少？\n",
    "- 特异性：在所有良性病变中，位于阈值左侧的病变（正确分类）的百分比是多少？\n",
    "\n",
    "我们将（敏感性，特异性）作为坐标系，绘制出这个点。如果绘制出与 0% 和 100% 之间的每个可能阈值对应的所有点，则会得到我在上面绘制的 ROC 曲线。因此，也可以将 ROC 曲线称为敏感性-特异性曲线。\n",
    "\n",
    "最后是在阈值从 0 向 1 变化时绘制 ROC 曲线的一段动画。"
   ]
  },
  {
   "cell_type": "code",
   "execution_count": 1,
   "metadata": {},
   "outputs": [
    {
     "data": {
      "text/html": [
       "<iframe width=\"900\" height=\"600\" src=\"https://www.youtube.com/embed/1GdiN5Wc8LA\" frameborder=\"0\" allow=\"autoplay; encrypted-media\" allowfullscreen></iframe>"
      ],
      "text/plain": [
       "<IPython.core.display.HTML object>"
      ]
     },
     "execution_count": 1,
     "metadata": {},
     "output_type": "execute_result"
    }
   ],
   "source": [
    "from IPython.display import HTML\n",
    "\n",
    "HTML('<iframe width=\"900\" height=\"600\" src=\"https://www.youtube.com/embed/1GdiN5Wc8LA\" frameborder=\"0\" allow=\"autoplay; encrypted-media\" allowfullscreen></iframe>')\n",
    "\n"
   ]
  },
  {
   "cell_type": "code",
   "execution_count": null,
   "metadata": {},
   "outputs": [],
   "source": []
  }
 ],
 "metadata": {
  "kernelspec": {
   "display_name": "Python 2",
   "language": "python",
   "name": "python2"
  },
  "language_info": {
   "codemirror_mode": {
    "name": "ipython",
    "version": 2
   },
   "file_extension": ".py",
   "mimetype": "text/x-python",
   "name": "python",
   "nbconvert_exporter": "python",
   "pygments_lexer": "ipython2",
   "version": "2.7.14"
  }
 },
 "nbformat": 4,
 "nbformat_minor": 2
}
