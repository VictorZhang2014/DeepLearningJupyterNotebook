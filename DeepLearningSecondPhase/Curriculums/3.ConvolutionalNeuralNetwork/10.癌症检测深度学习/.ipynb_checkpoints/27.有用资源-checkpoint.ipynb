{
 "cells": [
  {
   "cell_type": "markdown",
   "metadata": {},
   "source": [
    "# 有用资源\n",
    "\n",
    "<img src=\"../../../sources/img/CNN/nature.png\" width=\"300\" height=\"500\">\n",
    "\n",
    "\n",
    "这是我们在《[自然](https://www.nature.com/articles/nature21056.epdf?author_access_token=8oxIcYWf5UNrNpHsUHd2StRgN0jAjWel9jnR3ZoTv0NXpMHRAJy8Qn10ys2O4tuPakXos4UhQAFZ750CsBNMMsISFHIKinKDMKjShCpHIlYPYUHhNzkn6pSnOCt0Ftf6)》杂志中发表的文章。\n",
    "\n",
    "与我们的研究相关的其他文章：\n",
    "\n",
    "- 《[财富](http://fortune.com/2017/01/26/stanford-ai-skin-cancer/)》杂志\n",
    "- 《[彭博商业周刊](https://www.bloomberg.com/news/articles/2017-06-29/diagnosing-skin-cancer-with-google-images)》\n",
    "-  [BBC](http://www.bbc.com/news/health-38717928)\n",
    "- 《[华尔街日报](https://www.wsj.com/articles/computers-turn-medical-sleuths-and-identify-skin-cancer-1486740634?emailToken=JRrzcPt+aXiegNA9bcw301gwc7UFEfTMWk7NKjXPN0TNv3XR5Pmlyrgph8DyqGWjAEd26tYY7mAuACbSgWwvV8aXkLNl1A74KycC8smailE=)》\n",
    "- 《[福布斯](https://www.forbes.com/forbes/welcome/?toURL=https://www.forbes.com/sites/forbestechcouncil/2017/09/27/what-can-computer-vision-do-in-the-palm-of-your-hand/&refURL=https://classroom.udacity.com/nanodegrees/nd101-cn/parts/2a8d2359-b807-46f7-b18a-7da519ab12ee/modules/bdc4f70d-3e85-4f88-ba05-265911925599/lessons/54e18898-2666-445d-ba5c-ecab62a61d00/concepts/23124cbb-77e8-4f8c-aaf4-c27b809c82ea&referrer=https://classroom.udacity.com/nanodegrees/nd101-cn/parts/2a8d2359-b807-46f7-b18a-7da519ab12ee/modules/bdc4f70d-3e85-4f88-ba05-265911925599/lessons/54e18898-2666-445d-ba5c-ecab62a61d00/concepts/23124cbb-77e8-4f8c-aaf4-c27b809c82ea#4d2c686847a7)》\n",
    "- 《[科学美国人](https://www.scientificamerican.com/article/deep-learning-networks-rival-human-vision1/)》\n",
    "\n",
    "注：以上链接中部分为外网链接，国内网络可能无法打开。\n"
   ]
  },
  {
   "cell_type": "code",
   "execution_count": null,
   "metadata": {},
   "outputs": [],
   "source": []
  }
 ],
 "metadata": {
  "kernelspec": {
   "display_name": "Python 2",
   "language": "python",
   "name": "python2"
  },
  "language_info": {
   "codemirror_mode": {
    "name": "ipython",
    "version": 2
   },
   "file_extension": ".py",
   "mimetype": "text/x-python",
   "name": "python",
   "nbconvert_exporter": "python",
   "pygments_lexer": "ipython2",
   "version": "2.7.14"
  }
 },
 "nbformat": 4,
 "nbformat_minor": 2
}
