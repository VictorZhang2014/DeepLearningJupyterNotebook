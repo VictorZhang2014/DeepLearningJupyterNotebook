{
 "cells": [
  {
   "cell_type": "markdown",
   "metadata": {},
   "source": [
    "# 敏感性与特异性\n",
    "\n",
    "敏感性和特异性虽然与查准率和查全率相似，但并不相同。其定义如下：\n",
    "\n",
    "在癌症示例中，敏感性和特异性指：\n",
    "\n",
    "- 敏感性：在患有癌症的所有人中，诊断正确的人有多少？\n",
    "- 特异性：在未患癌症的所有人中，诊断正确的人有多少？\n",
    "\n",
    "查准率和查全率的定义如下：\n",
    "\n",
    "- 查全率：在被诊断患有癌症的所有人中，多少人确实得了癌症？\n",
    "- 查准率：在患有癌症的所有人中，多少人被诊断患有癌症？\n",
    "\n",
    "从这里可以看出，敏感性就是查全率，但特异性并不是查准率。\n",
    "\n",
    "<img src=\"../../../sources/img/CNN/confusion-matrix.png\" >\n",
    "\n",
    "敏感性和特异性是这个矩阵中的行。更具体地说，如果我们做以下标记\n",
    "\n",
    "- TP：（真阳性）被正确诊断为患病的病人。\n",
    "- TN：（真阴性）被正确诊断为健康的健康人。\n",
    "- FP：（假阳性）被错误诊断为患病的健康人。\n",
    "- FN：（假阴性）被错误诊断为健康的病人。\n",
    "\n",
    "那么：\n",
    "\n",
    "敏感性 = {`TP`} / ({`TP` + `FN`})\n",
    "\n",
    "且\n",
    "\n",
    "特异性 = {`TN`} / ({`TN` + `FP`}) \n",
    "\n",
    "<img src=\"../../../sources/img/CNN/sensitivity-specificity.png\" >\n",
    "\n",
    "查准率和查全率是矩阵的第一行和第一列：\n",
    "\n",
    "查全率 = {`TP`} / ({`TP` + `FN`})\n",
    "\n",
    "且\n",
    "\n",
    "查准率 = {`TP`} / {`TP` + `FP`}\n",
    "\n",
    "<img src=\"../../../sources/img/CNN/precision-recall.png\" >\n",
    "\n",
    "\n"
   ]
  },
  {
   "cell_type": "code",
   "execution_count": null,
   "metadata": {},
   "outputs": [],
   "source": []
  }
 ],
 "metadata": {
  "kernelspec": {
   "display_name": "Python 2",
   "language": "python",
   "name": "python2"
  },
  "language_info": {
   "codemirror_mode": {
    "name": "ipython",
    "version": 2
   },
   "file_extension": ".py",
   "mimetype": "text/x-python",
   "name": "python",
   "nbconvert_exporter": "python",
   "pygments_lexer": "ipython2",
   "version": "2.7.14"
  }
 },
 "nbformat": 4,
 "nbformat_minor": 2
}
