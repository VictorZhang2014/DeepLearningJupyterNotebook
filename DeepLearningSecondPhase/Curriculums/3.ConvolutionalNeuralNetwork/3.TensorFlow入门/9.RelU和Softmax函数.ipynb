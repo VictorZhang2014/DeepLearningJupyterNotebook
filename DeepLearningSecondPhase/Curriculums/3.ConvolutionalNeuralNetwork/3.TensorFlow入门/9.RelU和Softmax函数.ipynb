{
 "cells": [
  {
   "cell_type": "markdown",
   "metadata": {},
   "source": [
    "# 激活函数\n",
    "\n",
    "之前，我们使用 S 型函数作为隐藏单元上的激活函数，对于分类来说，则是输出单元上的激活函数。但是，S 型函数并非是唯一可以使用的激活函数，实际上它具有一些不足。\n",
    "\n",
    "\n",
    "\n"
   ]
  }
 ],
 "metadata": {
  "kernelspec": {
   "display_name": "Python 3",
   "language": "python",
   "name": "python3"
  },
  "language_info": {
   "codemirror_mode": {
    "name": "ipython",
    "version": 3
   },
   "file_extension": ".py",
   "mimetype": "text/x-python",
   "name": "python",
   "nbconvert_exporter": "python",
   "pygments_lexer": "ipython3",
   "version": "3.6.4"
  }
 },
 "nbformat": 4,
 "nbformat_minor": 2
}
