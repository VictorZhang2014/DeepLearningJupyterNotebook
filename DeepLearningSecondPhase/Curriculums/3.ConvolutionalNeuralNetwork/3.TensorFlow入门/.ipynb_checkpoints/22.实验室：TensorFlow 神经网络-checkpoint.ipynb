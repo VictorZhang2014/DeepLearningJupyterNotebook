{
 "cells": [
  {
   "cell_type": "markdown",
   "metadata": {},
   "source": [
    "# 实验室：TensorFlow 神经网络\n",
    "\n",
    "<img src=\"../../../sources/img/CNN/nmn.png\" alt=\"\" />\n",
    "\n",
    "## TensorFlow Lab\n",
    "\n",
    "我们为你准备了一个 Jupyter notebook，指引你在 TensorFlow 里创建一个单层的神经网络。你将实现数据归一化，用 TensorFlow 来创建一个网络并训练它。\n",
    "\n",
    "## 获取 notebook\n",
    "\n",
    "notebook 和所有相关的文件都可以在我们的 [GitHub repo](https://github.com/VictorZhang2014/deep-learning) 里获得。你可以 clone 这个目录，或者下载 Zip 文件。\n",
    "\n",
    "用 Git clone：\n",
    "\n",
    "```\n",
    "git clone https://github.com/udacity/deep-learning.git\n",
    "```\n",
    "\n",
    "如果你对 Git 和 Github 不熟，我推荐你看下我们相关课程。如果你不用 Git，可以以 Zip 形式下载文件。目录在[这儿](https://github.com/VictorZhang2014/deep-learning)。\n",
    "\n",
    "<img src=\"../../../sources/img/CNN/download-repo.png\" alt=\"\" />\n",
    "\n",
    "如果你下载了 Zip 文件，请解压（通常双击就可以）。最新的代码都会在这个目录里，所以这时获取最近更新文件的最佳地方。\n",
    "\n",
    "在你下载或者 clone 了文件之后，进入到这个 repo，在 `intro-to-tensorflow` 这个文件夹里，你会找到这次要用的 notebook，以及一个 Conda 配置文件，它可以帮助你安装所有需要的包。\n",
    "\n",
    "你会看到 [intro_to_tensorflow.ipynb](../../../projects/intro-to-tensorflow/intro_to_tensorflow.ipynb)，这就是你要练习的 notebook。它有三个问题需要你解决：\n",
    "\n",
    "- 问题一：对特征归一化\n",
    "- 问题二：用 TensorFlow 创建特征、目标、权重和偏置项 tensor。\n",
    "- 问题三：调整学习率，epochs 和 batch size 来获取最高准确率\n",
    "- 这是一个自我检测项目。把你的答案与我们的答案做比较。如果你有任何问题，我们也有很多途径解决你的疑问。\n",
    "\n",
    "\n",
    "## 帮助\n",
    "\n",
    "可以向你的 mentor 求助，论坛发帖。参考一下去学过的知识点，对你也很有帮助。"
   ]
  },
  {
   "cell_type": "code",
   "execution_count": null,
   "metadata": {},
   "outputs": [],
   "source": []
  }
 ],
 "metadata": {
  "kernelspec": {
   "display_name": "Python 3",
   "language": "python",
   "name": "python3"
  },
  "language_info": {
   "codemirror_mode": {
    "name": "ipython",
    "version": 3
   },
   "file_extension": ".py",
   "mimetype": "text/x-python",
   "name": "python",
   "nbconvert_exporter": "python",
   "pygments_lexer": "ipython3",
   "version": "3.6.4"
  }
 },
 "nbformat": 4,
 "nbformat_minor": 2
}
