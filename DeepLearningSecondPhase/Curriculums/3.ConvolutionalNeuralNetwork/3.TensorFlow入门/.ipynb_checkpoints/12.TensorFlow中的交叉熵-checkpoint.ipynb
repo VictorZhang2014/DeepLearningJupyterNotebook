{
 "cells": [
  {
   "cell_type": "markdown",
   "metadata": {},
   "source": [
    "# TensorFlow 中的交叉熵 (Cross Entropy)\n",
    "\n",
    "与 softmax 一样，TensorFlow 也有一个函数可以方便地帮我们实现交叉熵。\n",
    "\n",
    "<img src=\"../../../sources/img/CNN/cross-entropy-diagram.png\" alt=\"\" />\n",
    "\n",
    "<center> Cross entropy loss function 交叉熵损失函数 </center>\n",
    "\n",
    "让我们把你从视频当中学到的知识，在 TensorFlow 中来创建一个交叉熵函数。创建一个交叉熵函数，你需要用到这两个新的函数：\n",
    "\n",
    "- [tf.reduce_sum()](https://www.tensorflow.org/api_docs/python/tf/reduce_sum)\n",
    "- [tf.log()](https://www.tensorflow.org/api_docs/python/tf/log)\n",
    "\n",
    "## Reduce Sum\n",
    "\n",
    "```\n",
    "x = tf.reduce_sum([1, 2, 3, 4, 5])  # 15\n",
    "```\n",
    "\n",
    "`tf.reduce_sum()` 函数输入一个序列，返回它们的和\n",
    "\n",
    "## Natural Log\n",
    "\n",
    "```\n",
    "x = tf.log(100)  # 4.60517\n",
    "```\n",
    "\n",
    "`tf.log()` 所做跟你所想的一样，它返回所输入值的自然对数。\n",
    "\n",
    "## 练习\n",
    "\n",
    "用 `softmax_data` 和 `one_hot_encod_label` 打印交叉熵"
   ]
  },
  {
   "cell_type": "code",
   "execution_count": null,
   "metadata": {},
   "outputs": [],
   "source": [
    "import tensorflow as tf\n",
    "\n",
    "softmax_data = [0.7, 0.2, 0.1]\n",
    "one_hot_data = [1.0, 0.0, 0.0]\n",
    "\n",
    "softmax = tf.placeholder(tf.float32)\n",
    "one_hot = tf.placeholder(tf.float32)\n",
    "\n",
    "# TODO: Print cross entropy from session\n",
    "cross_entropy = -tf.reduce_sum(tf.multiply(one_hot, tf.log(softmax)))\n",
    "\n",
    "with tf.Session() as session:\n",
    "    output = session.run(cross_entropy, feed_dict={softmax: softmax_data, one_hot: one_hot_data})\n",
    "    print(output)"
   ]
  }
 ],
 "metadata": {
  "kernelspec": {
   "display_name": "Python 3",
   "language": "python",
   "name": "python3"
  },
  "language_info": {
   "codemirror_mode": {
    "name": "ipython",
    "version": 3
   },
   "file_extension": ".py",
   "mimetype": "text/x-python",
   "name": "python",
   "nbconvert_exporter": "python",
   "pygments_lexer": "ipython3",
   "version": "3.6.4"
  }
 },
 "nbformat": 4,
 "nbformat_minor": 2
}
