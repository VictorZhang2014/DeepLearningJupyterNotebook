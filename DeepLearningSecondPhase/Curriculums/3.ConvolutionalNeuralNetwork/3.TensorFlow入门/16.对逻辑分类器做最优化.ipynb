{
 "cells": [
  {
   "cell_type": "markdown",
   "metadata": {},
   "source": [
    "# 对逻辑分类器做最优化\n",
    "\n",
    "\n",
    "利用梯度下降法训练逻辑回归非常有效\n",
    "\n",
    "- 一方面，你是直接优化你所关心的误差，\n",
    "\n",
    "在许多机器学习的研究工作应用时，都是关于设计好的损失函数，用于做最优化\n",
    "\n",
    "但正如你在作业中运行模型时可能遇到的那样的存在\n",
    "\n",
    "最大的问题是它非常难以规模化"
   ]
  },
  {
   "cell_type": "code",
   "execution_count": 1,
   "metadata": {},
   "outputs": [
    {
     "data": {
      "text/html": [
       "<iframe src=\"https://www.youtube.com/embed/afGbmvTGFyM\" width=\"900\" height=\"600\" frameborder=\"0\" allow=\"autoplay; encrypted-media\" allowfullscreen></iframe>"
      ],
      "text/plain": [
       "<IPython.core.display.HTML object>"
      ]
     },
     "execution_count": 1,
     "metadata": {},
     "output_type": "execute_result"
    }
   ],
   "source": [
    "from IPython.display import HTML\n",
    "\n",
    "HTML('<iframe src=\"https://www.youtube.com/embed/afGbmvTGFyM\" width=\"900\" height=\"600\" frameborder=\"0\" allow=\"autoplay; encrypted-media\" allowfullscreen></iframe>')\n"
   ]
  },
  {
   "cell_type": "code",
   "execution_count": null,
   "metadata": {},
   "outputs": [],
   "source": []
  }
 ],
 "metadata": {
  "kernelspec": {
   "display_name": "Python 3",
   "language": "python",
   "name": "python3"
  },
  "language_info": {
   "codemirror_mode": {
    "name": "ipython",
    "version": 3
   },
   "file_extension": ".py",
   "mimetype": "text/x-python",
   "name": "python",
   "nbconvert_exporter": "python",
   "pygments_lexer": "ipython3",
   "version": "3.6.4"
  }
 },
 "nbformat": 4,
 "nbformat_minor": 2
}
