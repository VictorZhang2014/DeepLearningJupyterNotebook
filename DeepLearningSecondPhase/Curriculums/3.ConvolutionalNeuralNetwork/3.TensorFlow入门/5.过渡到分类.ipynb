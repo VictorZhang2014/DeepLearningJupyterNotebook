{
 "cells": [
  {
   "cell_type": "markdown",
   "metadata": {},
   "source": [
    "# 过渡到分类\n",
    "\n",
    "在本节课程之后，确保你已经了解了TensorFlow的基本使用，之前的课程已经讲解过了\n",
    "\n",
    "<img src=\"../../../sources/img/CNN/06-l-supervised-classification-391-1.jpg\" alt=\"\" />\n",
    "\n",
    "好样的！你已经完成很多了。具体来说，你做了：\n",
    "\n",
    "- 在 `tf.Session` 里面进行运算。\n",
    "- 通过 `tf.constant()` 创建常量 tensor。\n",
    "- 用 `tf.placeholder()` 和 feed_dict 得到输入。\n",
    "- 应用 `tf.add()`、 `tf.subtract()`、 `tf.multiply()` 和 `tf.divide()` 函数进行数学运算。\n",
    "- 学习如何用 `tf.cast()` 进行类型转换。\n",
    "\n",
    "你现在对 TensorFlow 有了基本了解，让我们休息一下，回到神经网络理论部分。在接下来的视频中，你将学习神经网络最流行的应用之一——分类。\n",
    "\n",
    "\n"
   ]
  },
  {
   "cell_type": "code",
   "execution_count": null,
   "metadata": {},
   "outputs": [],
   "source": []
  }
 ],
 "metadata": {
  "kernelspec": {
   "display_name": "Python 3",
   "language": "python",
   "name": "python3"
  },
  "language_info": {
   "codemirror_mode": {
    "name": "ipython",
    "version": 3
   },
   "file_extension": ".py",
   "mimetype": "text/x-python",
   "name": "python",
   "nbconvert_exporter": "python",
   "pygments_lexer": "ipython3",
   "version": "3.6.4"
  }
 },
 "nbformat": 4,
 "nbformat_minor": 2
}
