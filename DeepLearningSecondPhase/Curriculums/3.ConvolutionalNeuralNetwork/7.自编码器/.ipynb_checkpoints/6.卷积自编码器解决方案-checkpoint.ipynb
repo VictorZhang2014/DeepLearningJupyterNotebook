{
 "cells": [
  {
   "cell_type": "markdown",
   "metadata": {},
   "source": [
    "# 卷积自编码器解决方案\n",
    "\n",
    "[练习 Convolutional_Autoencoder.ipynb](../../../projects/deep-learning-master/autoencoder/Convolutional_Autoencoder.ipynb)\n",
    "\n",
    "[解决方案 Convolutional_Autoencoder_Solution.ipynb](../../../projects/deep-learning-master/autoencoder/Convolutional_Autoencoder_Solution.ipynb)"
   ]
  },
  {
   "cell_type": "code",
   "execution_count": 1,
   "metadata": {},
   "outputs": [
    {
     "data": {
      "text/html": [
       "<iframe width=\"900\" height=\"600\" src=\"https://www.youtube.com/embed/avbNvKQ2qLE\" frameborder=\"0\" allow=\"autoplay; encrypted-media\" allowfullscreen></iframe>"
      ],
      "text/plain": [
       "<IPython.core.display.HTML object>"
      ]
     },
     "execution_count": 1,
     "metadata": {},
     "output_type": "execute_result"
    }
   ],
   "source": [
    "from IPython.display import HTML\n",
    "\n",
    "HTML('<iframe width=\"900\" height=\"600\" src=\"https://www.youtube.com/embed/avbNvKQ2qLE\" frameborder=\"0\" allow=\"autoplay; encrypted-media\" allowfullscreen></iframe>')\n"
   ]
  },
  {
   "cell_type": "code",
   "execution_count": null,
   "metadata": {},
   "outputs": [],
   "source": []
  }
 ],
 "metadata": {
  "kernelspec": {
   "display_name": "Python 2",
   "language": "python",
   "name": "python2"
  },
  "language_info": {
   "codemirror_mode": {
    "name": "ipython",
    "version": 2
   },
   "file_extension": ".py",
   "mimetype": "text/x-python",
   "name": "python",
   "nbconvert_exporter": "python",
   "pygments_lexer": "ipython2",
   "version": "2.7.14"
  }
 },
 "nbformat": 4,
 "nbformat_minor": 2
}
