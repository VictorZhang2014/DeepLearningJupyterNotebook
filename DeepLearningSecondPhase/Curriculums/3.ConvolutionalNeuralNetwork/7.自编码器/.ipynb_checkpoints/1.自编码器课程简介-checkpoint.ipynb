{
 "cells": [
  {
   "cell_type": "markdown",
   "metadata": {},
   "source": [
    "# 自编码器\n",
    "\n",
    "本周我们要讲的是`自编码器`。这些模型用于`压缩数据`及`图像去噪`，你将在本课程中实现。思路是我们将构建一个尝试生成其输入数据的网络，但该网络具有一个窄的隐藏层用作输入数据的压缩表示。\n",
    "\n",
    "<img src=\"../../../sources/img/CNN/autoencoder-1.png\" alt=\"\" />\n",
    "\n",
    "跟往常一样，你可以在我们的 [公共GitHub 代码库](https://github.com/VictorZhang2014/deep-learning) 中找到本课的 notebook，它位于 `autoencoder` 目录下。使用 `git pull` 命令可获取最新的文件！\n",
    "\n",
    "或者，你也可以使用以下代码克隆代码库\n",
    "\n",
    "```\n",
    "git clone https://github.com/VictorZhang2014/deep-learning.git\n",
    "```\n",
    "\n",
    "你可以直接[在此](https://github.com/VictorZhang2014/deep-learning/tree/master/autoencoder)找到文件。\n"
   ]
  },
  {
   "cell_type": "code",
   "execution_count": null,
   "metadata": {},
   "outputs": [],
   "source": []
  }
 ],
 "metadata": {
  "kernelspec": {
   "display_name": "Python 2",
   "language": "python",
   "name": "python2"
  },
  "language_info": {
   "codemirror_mode": {
    "name": "ipython",
    "version": 2
   },
   "file_extension": ".py",
   "mimetype": "text/x-python",
   "name": "python",
   "nbconvert_exporter": "python",
   "pygments_lexer": "ipython2",
   "version": "2.7.14"
  }
 },
 "nbformat": 4,
 "nbformat_minor": 2
}
