{
 "cells": [
  {
   "cell_type": "markdown",
   "metadata": {},
   "source": [
    "# TensorFlow最大池化\n",
    "\n",
    "<img src=\"../../../sources/img/CNN/max-pooling.png\" alt=\"\" />\n",
    "\n",
    "<center> 由 Aphex34 (自己的作品) CC BY-SA 4.0， 通过 Wikimedia Commons 共享 </center>\n",
    "\n",
    "这是一个最大池化的例子 [max pooling](https://en.wikipedia.org/wiki/Convolutional_neural_network#Pooling_layer) 用了 2x2 的滤波器 stride 为 2。四个 2x2 的颜色代表滤波器移动每个步长所产出的最大值。\n",
    "\n",
    "例如 `[[1, 0], [4, 6]]` 生成 `6`，因为 `6` 是这4个数字中最大的。同理 `[[2, 3], [6, 8]]` 生成 `8`。 理论上，最大池化操作的好处是减小输入大小，使得神经网络能够专注于最重要的元素。最大池化只取覆盖区域中的最大值，其它的值都丢弃。\n",
    "\n",
    "TensorFlow 提供了 `tf.nn.max_pool()` 函数，用于对卷积层实现 [最大池化](https://en.wikipedia.org/wiki/Convolutional_neural_network#Pooling_layer) 。\n",
    "\n",
    "\n",
    "```\n",
    "\n",
    "...\n",
    "conv_layer = tf.nn.conv2d(input, weight, strides=[1, 2, 2, 1], padding='SAME')\n",
    "conv_layer = tf.nn.bias_add(conv_layer, bias)\n",
    "conv_layer = tf.nn.relu(conv_layer)\n",
    "# Apply Max Pooling\n",
    "conv_layer = tf.nn.max_pool(\n",
    "    conv_layer,\n",
    "    ksize=[1, 2, 2, 1],\n",
    "    strides=[1, 2, 2, 1],\n",
    "    padding='SAME')\n",
    "```\n",
    "\n",
    "\n",
    "`tf.nn.max_pool()` 函数实现最大池化时， `ksize` 参数是滤波器大小，`strides` 参数是步长。`2x2` 的滤波器配合 `2x2` 的步长是常用设定。\n",
    "\n",
    "`ksize` 和 `strides` 参数也被构建为四个元素的列表，每个元素对应 `input tensor` 的一个维度 (`[batch, height, width, channels]`)，对 `ksize` 和 `strides` 来说，`batch` 和 `channel` 通常都设置成 `1`。\n"
   ]
  },
  {
   "cell_type": "code",
   "execution_count": null,
   "metadata": {},
   "outputs": [],
   "source": []
  }
 ],
 "metadata": {
  "kernelspec": {
   "display_name": "Python 2",
   "language": "python",
   "name": "python2"
  },
  "language_info": {
   "codemirror_mode": {
    "name": "ipython",
    "version": 2
   },
   "file_extension": ".py",
   "mimetype": "text/x-python",
   "name": "python",
   "nbconvert_exporter": "python",
   "pygments_lexer": "ipython2",
   "version": "2.7.14"
  }
 },
 "nbformat": 4,
 "nbformat_minor": 2
}
