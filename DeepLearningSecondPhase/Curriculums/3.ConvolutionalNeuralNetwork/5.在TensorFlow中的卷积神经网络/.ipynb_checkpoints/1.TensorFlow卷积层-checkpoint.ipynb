{
 "cells": [
  {
   "cell_type": "markdown",
   "metadata": {},
   "source": [
    "# TensorFlow卷积层\n",
    "\n",
    "让我们看下如何在 TensorFlow 里面实现 CNN。\n",
    "\n",
    "TensorFlow 提供了 `tf.nn.conv2d()` 和 `tf.nn.bias_add()` 函数来创建你自己的卷积层。\n",
    "\n",
    "```\n",
    "k_output = 64\n",
    "\n",
    "# Image Properties\n",
    "image_width = 10\n",
    "image_height = 10\n",
    "color_channels = 3\n",
    "\n",
    "# Convolution filter\n",
    "filter_size_width = 5\n",
    "filter_size_height = 5\n",
    "\n",
    "# Input/Image\n",
    "input = tf.placeholder(\n",
    "    tf.float32,\n",
    "    shape=[None, image_height, image_width, color_channels])\n",
    "\n",
    "# Weight and bias\n",
    "weight = tf.Variable(tf.truncated_normal(\n",
    "    [filter_size_height, filter_size_width, color_channels, k_output]))\n",
    "bias = tf.Variable(tf.zeros(k_output))\n",
    "\n",
    "# Apply Convolution\n",
    "conv_layer = tf.nn.conv2d(input, weight, strides=[1, 2, 2, 1], padding='SAME')\n",
    "# Add bias\n",
    "conv_layer = tf.nn.bias_add(conv_layer, bias)\n",
    "# Apply activation function\n",
    "conv_layer = tf.nn.relu(conv_layer)\n",
    "```\n",
    "\n",
    "\n",
    "上述代码用了 `tf.nn.conv2d()` 函数来计算卷积，`weights` 作为滤波器，`[1, 2, 2, 1]` 作为 `strides`。`TensorFlow` 对每一个 `input` 维度使用一个单独的 `stride` 参数，`[batch, input_height, input_width, input_channels]`。我们通常把 `batch` 和 `input_channels` （`strides` 序列中的第一个第四个）的 `stride` 设为 1。\n",
    "\n",
    "你可以专注于修改 `input_height` 和 `input_width`， `batch` 和 `input_channels` 都设置成 `1`。`input_height` 和 `input_width` `strides` 表示滤波器在input 上移动的步长。上述例子中，在 input 之后，设置了一个 `5x5` ，`stride` 为 `2` 的滤波器。\n",
    "\n",
    "`tf.nn.bias_add()` 函数对矩阵的最后一维加了偏置项。"
   ]
  },
  {
   "cell_type": "code",
   "execution_count": null,
   "metadata": {},
   "outputs": [],
   "source": []
  }
 ],
 "metadata": {
  "kernelspec": {
   "display_name": "Python 2",
   "language": "python",
   "name": "python2"
  },
  "language_info": {
   "codemirror_mode": {
    "name": "ipython",
    "version": 2
   },
   "file_extension": ".py",
   "mimetype": "text/x-python",
   "name": "python",
   "nbconvert_exporter": "python",
   "pygments_lexer": "ipython2",
   "version": "2.7.14"
  }
 },
 "nbformat": 4,
 "nbformat_minor": 2
}
