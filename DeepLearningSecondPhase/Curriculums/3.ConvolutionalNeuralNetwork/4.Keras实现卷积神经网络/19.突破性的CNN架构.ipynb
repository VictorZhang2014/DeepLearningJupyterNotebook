{
 "cells": [
  {
   "cell_type": "markdown",
   "metadata": {},
   "source": [
    "# 突破性的CNN架构"
   ]
  },
  {
   "cell_type": "code",
   "execution_count": 2,
   "metadata": {},
   "outputs": [
    {
     "data": {
      "text/html": [
       "<iframe width=\"900\" height=\"600\" src=\"https://www.youtube.com/embed/ddrB-mhMfkY\" frameborder=\"0\" allow=\"autoplay; encrypted-media\" allowfullscreen></iframe>"
      ],
      "text/plain": [
       "<IPython.core.display.HTML object>"
      ]
     },
     "execution_count": 2,
     "metadata": {},
     "output_type": "execute_result"
    }
   ],
   "source": [
    "from IPython.display import HTML\n",
    "\n",
    "HTML('<iframe width=\"900\" height=\"600\" src=\"https://www.youtube.com/embed/ddrB-mhMfkY\" frameborder=\"0\" allow=\"autoplay; encrypted-media\" allowfullscreen></iframe>')\n"
   ]
  },
  {
   "cell_type": "markdown",
   "metadata": {},
   "source": [
    "## 课外资料\n",
    "\n",
    "- 参阅 [AlexNet](http://papers.nips.cc/paper/4824-imagenet-classification-with-deep-convolutional-neural-networks.pdf) 论文！\n",
    "- 在此处详细了解 [VGGNet](https://arxiv.org/pdf/1409.1556.pdf)。\n",
    "- 此处是 [ResNet](https://arxiv.org/pdf/1512.03385v1.pdf) 论文。\n",
    "- 这是用于访问一些著名 CNN 架构的 [Keras 文档](https://keras.io/applications/)。\n",
    "- 阅读这一关于[梯度消失问题的详细处理方案](http://neuralnetworksanddeeplearning.com/chap5.html)。\n",
    "- 这是包含不同 CNN 架构的基准的 [GitHub 资源库](https://github.com/jcjohnson/cnn-benchmarks)。\n",
    "- 访问 [ImageNet Large Scale Visual Recognition Competition (ILSVRC) 网站](http://www.image-net.org/challenges/LSVRC/)。"
   ]
  },
  {
   "cell_type": "code",
   "execution_count": null,
   "metadata": {},
   "outputs": [],
   "source": []
  }
 ],
 "metadata": {
  "kernelspec": {
   "display_name": "Python 3",
   "language": "python",
   "name": "python3"
  },
  "language_info": {
   "codemirror_mode": {
    "name": "ipython",
    "version": 3
   },
   "file_extension": ".py",
   "mimetype": "text/x-python",
   "name": "python",
   "nbconvert_exporter": "python",
   "pygments_lexer": "ipython3",
   "version": "3.6.4"
  }
 },
 "nbformat": 4,
 "nbformat_minor": 2
}
