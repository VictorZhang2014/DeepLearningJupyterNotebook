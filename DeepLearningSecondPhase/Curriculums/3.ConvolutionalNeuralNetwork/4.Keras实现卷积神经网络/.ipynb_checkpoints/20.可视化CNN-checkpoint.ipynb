{
 "cells": [
  {
   "cell_type": "code",
   "execution_count": 1,
   "metadata": {},
   "outputs": [
    {
     "data": {
      "text/html": [
       "<iframe width=\"900\" height=\"600\" src=\"https://www.youtube.com/embed/mnqS_EhEZVg\" frameborder=\"0\" allow=\"autoplay; encrypted-media\" allowfullscreen></iframe>"
      ],
      "text/plain": [
       "<IPython.core.display.HTML object>"
      ]
     },
     "execution_count": 1,
     "metadata": {},
     "output_type": "execute_result"
    }
   ],
   "source": [
    "from IPython.display import HTML\n",
    "\n",
    "HTML('<iframe width=\"900\" height=\"600\" src=\"https://www.youtube.com/embed/mnqS_EhEZVg\" frameborder=\"0\" allow=\"autoplay; encrypted-media\" allowfullscreen></iframe>')\n"
   ]
  },
  {
   "cell_type": "markdown",
   "metadata": {},
   "source": [
    "## （非常棒的）课外资料 ！\n",
    "\n",
    "如果你想详细了解如何解读 CNN（尤其是卷积层），建议查看以下资料：\n",
    "\n",
    "- 这是摘自斯坦福大学的 CS231n 课程中的一个a [章节](http://cs231n.github.io/understanding-cnn/)，其中对 CNN 学习的内容进行了可视化。\n",
    "- 参阅这个关于很酷的 [OpenFrameworks](http://openframeworks.cc/) 应用的 [演示](https://aiexperiments.withgoogle.com/what-neural-nets-see)，该应用可以根据用户提供的视频实时可视化 CNN！\n",
    "- 这是另一个 CNN 可视化工具的[演示](https://www.youtube.com/watch?v=AgkfIQ4IGaM&t=78s)。如果你想详细了解这些可视化图表是如何制作的，请观看[此视频](https://www.youtube.com/watch?v=ghEmQSxT6tw&t=5s)。\n",
    "- 这是另一个可与 Keras 和 Tensorflow 中的 CNN 无缝合作的[可视化工具](https://medium.com/merantix/picasso-a-free-open-source-visualizer-for-cnns-d8ed3a35cfc5)。\n",
    "- 阅读这篇可视化 CNN 如何看待这个世界的 [Keras 博文](https://blog.keras.io/how-convolutional-neural-networks-see-the-world.html)。在此博文中，你会找到 Deep Dreams 的简单介绍，以及在 Keras 中自己编写 Deep Dreams 的代码。阅读了这篇博文后：\n",
    "\n",
    "\n",
    "\n"
   ]
  },
  {
   "cell_type": "markdown",
   "metadata": {},
   "source": [
    "我们看一个 CNN 示例，了解具体运行过程。\n",
    "\n",
    "我们要查看的 CNN 在 ImageNet 上进行了训练（请参阅这篇来自 Zeiler 和 Fergus 的[论文](http://www.matthewzeiler.com/wp-content/uploads/2017/07/eccv2014.pdf)）。在下面的图片中（摘自上述同一论文），我们将看到该网络中的每个层级会检测到什么，并查看每个层级如何检测到越来越复杂的规律。\n",
    "\n",
    "<img src=\"../../../sources/img/CNN/layer-1-grid.png\" alt=\"\" />\n",
    "\n",
    "<center> 导致网络的第一层级被激活的示例规律，从简单的对角线（从左上角开始）到绿色块（底部中间部分）。 </center>\n",
    "\n",
    "上述图片来自 Matthew Zeiler 和 Rob Fergus 的 [深度可视化工具箱](https://www.youtube.com/watch?v=ghEmQSxT6tw)，使我们能够可视化 CNN 中的每个层级侧重的是什么。\n",
    "\n",
    "上述网格中的每个图片代表的是第一层级的神经元被激活的规律，换句话说，它们是第一层级能够识别的规律。左上角的图片显示的是 -45 度线条，顶部中间的图片显示的是 +45 度的线条。下面的这些方框再次供参考。\n",
    "\n",
    "<img src=\"../../../sources/img/CNN/diagonal-line-1.png\" alt=\"\" />\n",
    "\n",
    "<center> 正如此处图表所显示的，该 CNN 的第一层级可以识别 -45 度的线条。 </center>\n",
    "\n",
    "<img src=\"../../../sources/img/CNN/diagonal-line-2.png\" alt=\"\" />\n",
    "\n",
    "<center> 该 CNN 的第一层级还能够识别 +45 度的线条，例如上方的图片。</center>\n",
    "\n",
    "我们查看一些导致此类激活的示例图片。下面的图片网格均激活了 -45 度的线条。注意它们均被选中了，但是具有不同的颜色、渐变和规律。\n",
    "\n",
    "<img src=\"../../../sources/img/CNN/grid-layer-1.png\" alt=\"\" />\n",
    "\n",
    "<center> 激活第一层级的 -45 度线条检测器的示例图片。</center>\n",
    "\n",
    "因此，该 CNN 的第一层级清晰地选出了非常简单的形状和规律，例如线条和色块。\n",
    "\n",
    "\n",
    "## 第 2 层级\n",
    "\n",
    "<img src=\"../../../sources/img/CNN/screen-shot-2016-11-24-at-12.09.02-pm.png\" alt=\"\" />\n",
    "\n",
    "<center> ** 该 CNN 的第二层级的可视化图表。注意我们选出了更加复杂的规律（例如圆圈和条纹）。左侧的灰色网格表示该 CNN 的这一层级如何根据右侧网格中的图片被激活（即所看到的内容）。** </center>\n",
    "\n",
    "该 CNN 的第二层级发现了复杂的规律。\n",
    "\n",
    "正如在上述图片中所看到的，该 CNN 的第二层级识别出圆圈（第二行第二列）、长条（第一行第二列）以及长方形（右下角）。\n",
    "\n",
    "** CNN 自己学会发现这些规律 ** 。 没有任何特殊说明指导该 CNN 侧重于更深层级中的更复杂对象。当你向 CNN 提供训练数据时，它通常都会这么做。\n",
    "\n",
    "\n",
    "## 第 3 层级\n",
    "\n",
    "<img src=\"../../../sources/img/CNN/screen-shot-2016-11-24-at-12.09.24-pm.png\" alt=\"\" />\n",
    "\n",
    "<center> 该 CNN 中第三层级的可视化图表。左侧的灰色网格表示该 CNN 的这一层级如何根据右侧网格中的相应图片被激活（即所看到的内容）。</center>\n",
    "\n",
    "第 3 层级从第 2 层级中选出复杂的特征组合。包括网格和蜂窝（左上角）、轮子（第二行第二列），甚至面孔（第三行第三列）。\n",
    "\n",
    "我们将跳过第 4 层级（继续这一模式），并直接跳到第 5 层级，即该 CNN 的最后一个层级。\n",
    "\n",
    "\n",
    "## 第 5 层级\n",
    "\n",
    "<img src=\"../../../sources/img/CNN/screen-shot-2016-11-24-at-12.08.11-pm.png\" alt=\"\" />\n",
    "\n",
    "<center> 该 CNN 的第 5 层级（即最后一个层级）的可视化图表。左侧的灰色网格表示该 CNN 的这一层级如何根据右侧网格中的相应图片被激活（即所看到的内容）。</center>\n",
    "\n",
    "最后一个层级选出我们关心的最高级分类规律，例如狗的脸部、鸟类脸部和自行车。\n"
   ]
  },
  {
   "cell_type": "code",
   "execution_count": null,
   "metadata": {},
   "outputs": [],
   "source": []
  }
 ],
 "metadata": {
  "kernelspec": {
   "display_name": "Python 3",
   "language": "python",
   "name": "python3"
  },
  "language_info": {
   "codemirror_mode": {
    "name": "ipython",
    "version": 3
   },
   "file_extension": ".py",
   "mimetype": "text/x-python",
   "name": "python",
   "nbconvert_exporter": "python",
   "pygments_lexer": "ipython3",
   "version": "3.6.4"
  }
 },
 "nbformat": 4,
 "nbformat_minor": 2
}
