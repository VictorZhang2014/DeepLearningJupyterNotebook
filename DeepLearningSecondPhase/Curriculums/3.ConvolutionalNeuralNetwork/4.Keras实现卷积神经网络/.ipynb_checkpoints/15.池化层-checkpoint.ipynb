{
 "cells": [
  {
   "cell_type": "markdown",
   "metadata": {},
   "source": [
    "# 池化层"
   ]
  },
  {
   "cell_type": "code",
   "execution_count": 1,
   "metadata": {},
   "outputs": [
    {
     "data": {
      "text/html": [
       "<iframe width=\"1080\" height=\"608\" src=\"https://www.youtube.com/embed/OkkIZNs7Cyc\" frameborder=\"0\" allow=\"autoplay; encrypted-media\" allowfullscreen></iframe>"
      ],
      "text/plain": [
       "<IPython.core.display.HTML object>"
      ]
     },
     "execution_count": 1,
     "metadata": {},
     "output_type": "execute_result"
    }
   ],
   "source": [
    "from IPython.display import HTML\n",
    "\n",
    "HTML('<iframe width=\"1080\" height=\"608\" src=\"https://www.youtube.com/embed/OkkIZNs7Cyc\" frameborder=\"0\" allow=\"autoplay; encrypted-media\" allowfullscreen></iframe>')\n"
   ]
  },
  {
   "cell_type": "markdown",
   "metadata": {},
   "source": [
    "# 总结\n",
    "\n",
    "- 最大池化层中对应的节点值计算方法：拿出窗口中包含的最大像素\n",
    "\n",
    "\n",
    "# 课外资料\n",
    "\n",
    "- 请参阅该 [Keras 文档](https://keras.io/layers/pooling/)，了解不同类型的池化层！"
   ]
  },
  {
   "cell_type": "markdown",
   "metadata": {},
   "source": [
    "<img src=\"../../../sources/img/CNN/maxpool.jpeg\" alt=\"\" />\n",
    "\n",
    "<center>  窗口为 2x2、stride 为 2 的最大池化层  </center>\n",
    "\n",
    "<center>  图片来源：http://cs231n.github.io/convolutional-networks/  </center>\n",
    "\n",
    "\n",
    "## Keras 中的最大池化层\n",
    "\n",
    "要在 Keras 中创建最大池化层，你必须首先导入必要的模块：\n",
    "\n",
    "```\n",
    "from keras.layers import MaxPooling2D\n",
    "```\n",
    "\n",
    "然后使用以下格式创建卷积层：\n",
    "\n",
    "```\n",
    "MaxPooling2D(pool_size, strides, padding)\n",
    "```\n",
    "\n",
    "## 参数\n",
    "\n",
    "你必须包含以下参数：\n",
    "\n",
    "- `pool_size` - 指定池化窗口高度和宽度的数字。\n",
    "\n",
    "你可能还需要调整其他可选参数：\n",
    "\n",
    "- `strides` - 垂直和水平 `stride`。如果不指定任何值，则 `strides` 默认为 `pool_size`。\n",
    "- `padding` - 选项包括 `'valid'` 和 `'same'`。如果不指定任何值，则 `padding` 设为 `'valid'`。\n",
    "\n",
    "** 注意 **：可以将 `pool_size` 和 `strides` 表示为数字或元组。\n",
    "\n",
    "此外，建议阅读[官方文档](https://keras.io/layers/pooling/#maxpooling2d)。\n",
    "\n",
    "## 示例\n",
    "\n",
    "假设我要构建一个 `CNN`，并且我想通过在卷积层后面添加最大池化层，降低卷积层的维度。假设卷积层的大小是 (100, 100, 15)，我希望最大池化层的大小为 (50, 50, 15)。要实现这一点，我可以在最大池化层中使用 2x2 窗口，stride 设为 2，代码如下：\n",
    "\n",
    "```\n",
    "    MaxPooling2D(pool_size=2, strides=2)\n",
    "```\n",
    "\n",
    "如果你想将 stride 设为 1，但是窗口大小依然保留为 2x2，则使用以下代码：\n",
    "\n",
    "```\n",
    "    MaxPooling2D(pool_size=2, strides=1)\n",
    "```\n",
    "\n",
    "## 检查最大池化层的维度\n",
    "\n",
    "将以下代码复制粘贴到叫做 `pool-dims.py` 的 Python 可执行文件中：\n",
    "\n",
    "```\n",
    "from keras.models import Sequential\n",
    "from keras.layers import MaxPooling2D\n",
    "\n",
    "model = Sequential()\n",
    "model.add(MaxPooling2D(pool_size=2, strides=2, input_shape=(100, 100, 15)))\n",
    "model.summary()\n",
    "```\n",
    "\n",
    "运行 `python path/to/pool-dims.py` 并查看输出。应该如下所示：\n",
    "\n",
    "<img src=\"../../../sources/img/CNN/pooling-dims.png\" alt=\"\" />\n",
    "\n",
    "你可以随便修改 `pool-dims.py` 文件中的参数，并看看最大池化层的形状如何变化。"
   ]
  },
  {
   "cell_type": "code",
   "execution_count": null,
   "metadata": {},
   "outputs": [],
   "source": []
  }
 ],
 "metadata": {
  "kernelspec": {
   "display_name": "Python 3",
   "language": "python",
   "name": "python3"
  },
  "language_info": {
   "codemirror_mode": {
    "name": "ipython",
    "version": 3
   },
   "file_extension": ".py",
   "mimetype": "text/x-python",
   "name": "python",
   "nbconvert_exporter": "python",
   "pygments_lexer": "ipython3",
   "version": "3.6.4"
  }
 },
 "nbformat": 4,
 "nbformat_minor": 2
}
