{
 "cells": [
  {
   "cell_type": "markdown",
   "metadata": {},
   "source": [
    "<img src=\"../../../sources/img/CNN/convolution-schematic.gif\" alt=\"\" />\n",
    "\n",
    "<center> 窗口为 3x3、stride 为 1 的卷积 </center>\n",
    "\n",
    "<center> 图片来源：http://deeplearning.stanford.edu/wiki/index.php/Feature_extraction_using_convolution </center> \n",
    "\n",
    "\n",
    "# 维度\n",
    "\n",
    "和神经网络一样，我们按以下步骤在 `Keras` 中创建 `CNN：`首先创建一个序列模型。\n",
    "\n",
    "使用 `.add()` 方法向该网络中添加层级。\n",
    "\n",
    "将以下代码复制粘贴到叫做 `conv-dims.py` 的 Python 可执行文件中：\n",
    "\n",
    "```\n",
    "from keras.models import Sequential\n",
    "from keras.layers import Conv2D\n",
    "\n",
    "model = Sequential()\n",
    "model.add(Conv2D(filters=16, kernel_size=2, strides=2, padding='valid', \n",
    "    activation='relu', input_shape=(200, 200, 1)))\n",
    "model.summary()\n",
    "```\n",
    "\n",
    "我们不会训练该 CNN；相反，我们将使用该可执行文件根据所提供的参数研究卷积层的维度如何变化。\n",
    "\n",
    "运行 `python path/to/conv-dims.py` 并查看输出。应该如下所示：\n",
    "\n",
    "<img src=\"../../../sources/img/CNN/conv-dims.png\" alt=\"\" />\n",
    "\n",
    "卷积层的维度符合你的期望吗？\n",
    "\n",
    "你可以随意更改在 `conv-dims.py` 文件中为参数（`filters`、`kernel_size` 等）分配的值。\n",
    "\n",
    "注意卷积层中的参数数量是如何变化的。对应的是输出内容中的 Param # 下的值。在上图中，卷积层具有 `80` 个参数。\n",
    "\n",
    "同时注意卷积层的形状是如何变化的。对应的是输出内容中的 `Output Shape` 下的值。在上图中，`None` 对应的是`批次大小`，`卷积层`的`高度`为 `100`，`宽度`为 `100`，`深度`为 `16`。\n",
    "\n",
    "<br/>\n",
    "<br/>\n",
    "<br/>\n",
    "\n",
    "\n",
    "# 公式：卷积层中的参数数量\n",
    "\n",
    "卷积层中的参数数量取决于 `filters`、`kernel_size` 和 `input_shape` 的值。我们定义几个变量：\n",
    "\n",
    "- `K`     - 卷积层中的过滤器数量\n",
    "- `F`     - 卷积过滤器的高度 `F_W` 和宽度 `F_H`\n",
    "- `D_in`  - 上一层级的深度\n",
    "\n",
    "** 注意 ** ：`K` = `filters`，`F` = `kernel_size`。类似地，`D_in` 是 `input_shape` 元祖中的最后一个值。\n",
    "\n",
    "因为每个过滤器有 `F*F*D_in` 个权重，卷积层由 `K` 个过滤器组成，因此卷积层中的权重总数是 `K*F*F*D_in`。因为每个过滤器有 `1` 个偏差项，卷积层有 `K` 个偏差。因此，卷积层中的参数数量是 `K*F_W*F_H*D_in + K`。\n",
    "\n",
    "\n",
    "# 公式：卷积层的形状\n",
    "\n",
    "卷积层的形状取决于 `kernel_size`、`input_shape`、`padding` 和 `stride` 的值。我们定义几个变量：\n",
    "\n",
    "- `K`    - 卷积层中的过滤器数量\n",
    "- `F`    - 卷积过滤器的高度和宽度\n",
    "- `H_in` - 上一层级的高度\n",
    "- `W_in` - 上一层级的宽度\n",
    "\n",
    "** 注意 **：`K` = `filters`、`F` = `kernel_size`，以及 `S` = `stride`。类似地，`H_in` 和 `W_in` 分别是 `input_shape` 元祖的第一个和第二个值。\n",
    "\n",
    "<b>`卷积层`的`深度始终为过滤器数量` `K`。</b>\n",
    "\n",
    "如果 `padding = 'same'`，那么卷积层的空间维度如下：\n",
    "\n",
    "- height = ceil(float(`H_in`) / float(`S`))\n",
    "- width = ceil(float(`W_in`) / float(`S`))\n",
    "\n",
    "如果 `padding = 'valid'`，那么卷积层的空间维度如下:\n",
    "\n",
    "- height = ceil(float(`H_in` - `F` + 1) / float(`S`))\n",
    "- width = ceil(float(`W_in` - `F` + 1) / float(`S`))\n"
   ]
  },
  {
   "cell_type": "code",
   "execution_count": 23,
   "metadata": {},
   "outputs": [
    {
     "name": "stdout",
     "output_type": "stream",
     "text": [
      "参数数量：80\n",
      "output 宽度：100\n",
      "output 高度：100\n"
     ]
    }
   ],
   "source": [
    "\n",
    "# 例子\n",
    "# model.add(Conv2D(filters=16, kernel_size=2, strides=2, padding='valid', \n",
    "#     activation='relu', input_shape=(200, 200, 1)))\n",
    "\n",
    "from math import ceil\n",
    "\n",
    "K = 16\n",
    "F_W = 2\n",
    "F_H = 2\n",
    "D_in = 1\n",
    "\n",
    "W_in = 200\n",
    "H_in = 200\n",
    "S = 2\n",
    "\n",
    "params_count = K * F_W * F_H * D_in + K   # \n",
    "print(\"参数数量：{0}\".format(params_count))\n",
    "\n",
    "width = ceil(float(W_in - F_W + 1) / float(S))\n",
    "height = ceil(float(H_in - F_H + 1) / float(S))\n",
    "print(\"output 宽度：{0}\".format(width))\n",
    "print(\"output 高度：{0}\".format(height))\n"
   ]
  },
  {
   "cell_type": "markdown",
   "metadata": {},
   "source": [
    "# 练习\n",
    "\n",
    "请更改 `conv-dims.py` 文件，使其如下所示：\n",
    "\n",
    "```\n",
    "from keras.models import Sequential\n",
    "from keras.layers import Conv2D\n",
    "\n",
    "model = Sequential()\n",
    "model.add(Conv2D(filters=32, kernel_size=3, strides=2, padding='same', \n",
    "    activation='relu', input_shape=(128, 128, 3)))\n",
    "model.summary()\n",
    "```\n",
    "\n",
    "运行 `python path/to/conv-dims.py`，并使用输出回答以下问题。"
   ]
  },
  {
   "cell_type": "code",
   "execution_count": 25,
   "metadata": {},
   "outputs": [
    {
     "name": "stdout",
     "output_type": "stream",
     "text": [
      "参数数量：896\n",
      "output 宽度：64\n",
      "output 高度：64\n"
     ]
    }
   ],
   "source": [
    "from math import ceil\n",
    "\n",
    "K = 32\n",
    "F_W = 3\n",
    "F_H = 3\n",
    "D_in = 3\n",
    "\n",
    "W_in = 128\n",
    "H_in = 128\n",
    "S = 2\n",
    "\n",
    "params_count = K * F_W * F_H * D_in + K   # \n",
    "print(\"参数数量：{0}\".format(params_count))\n",
    "\n",
    "width = ceil(float(W_in) / float(S))\n",
    "height = ceil(float(H_in) / float(S))\n",
    "print(\"output 宽度：{0}\".format(width))\n",
    "print(\"output 高度：{0}\".format(height))"
   ]
  },
  {
   "cell_type": "markdown",
   "metadata": {},
   "source": [
    "## 问题：\n",
    "\n",
    "- 卷积层有多少个参数？ 答：896\n",
    "- 卷积层的深度是多少？ 答：32\n",
    "- 卷积层的宽度是多少？ 答：64"
   ]
  },
  {
   "cell_type": "code",
   "execution_count": null,
   "metadata": {},
   "outputs": [],
   "source": []
  }
 ],
 "metadata": {
  "kernelspec": {
   "display_name": "Python 3",
   "language": "python",
   "name": "python3"
  },
  "language_info": {
   "codemirror_mode": {
    "name": "ipython",
    "version": 3
   },
   "file_extension": ".py",
   "mimetype": "text/x-python",
   "name": "python",
   "nbconvert_exporter": "python",
   "pygments_lexer": "ipython3",
   "version": "3.6.4"
  }
 },
 "nbformat": 4,
 "nbformat_minor": 2
}
