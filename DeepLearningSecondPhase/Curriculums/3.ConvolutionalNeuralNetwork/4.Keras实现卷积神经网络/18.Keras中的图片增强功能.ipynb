{
 "cells": [
  {
   "cell_type": "markdown",
   "metadata": {},
   "source": [
    "# Keras中的图片增强功能\n",
    "\n",
    "如果你尚 [未通过 AWS 启动 GPU 服务器](https://ap-southeast-1.console.aws.amazon.com/ec2/v2/home?region=ap-southeast-1#Instances:sort=statusChecks)，强烈建议你先启动，然后再运行此视频中的记事本。虽然可以在 CPU 上训练记事本，但是 AWS GPU 实例训练起来将快很多。\n",
    "\n",
    "你可以在 [aind2-cnn GitHub 资源库](https://github.com/IntelligentPeople/aind2-cnn) 中访问视频中描述的 Jupyter 记事本。转到 `cifar10-augmentation/` 文件夹并打开 [cifar10_augmentation.ipynb](../../../projects/aind2-cnn-master/cifar10-augmentation/cifar10_augmentation.ipynb)。\n",
    "\n",
    "## 关于 steps_per_epoch 的注意事项\n",
    "\n",
    "`fit_generator` 具有很多参数，包括\n",
    "\n",
    "```\n",
    "steps_per_epoch = x_train.shape[0] / batch_size\n",
    "```\n",
    "\n",
    "其中 `x_train.shape[0]` 对应的是训练数据集 `x_train` 中的独特样本数量。通过将 `steps_per_epoch` 设为此值，我们确保模型在每个 `epoch` 中看到 `x_train.shape[0]` 个增强图片。\n",
    "\n",
    "## 课外资料\n",
    "\n",
    "- 阅读这篇对 MNIST 数据集进行可视化的[精彩博文](http://machinelearningmastery.com/image-augmentation-deep-learning-keras/)。\n",
    "- 参阅此[详细实现](https://blog.keras.io/building-powerful-image-classification-models-using-very-little-data.html)，了解如何使用增强功能提高 Kaggle 数据集的效果。\n",
    "- 阅读关于 ImageDataGenerator 类的 Keras [文档](https://keras.io/preprocessing/image/)。"
   ]
  },
  {
   "cell_type": "code",
   "execution_count": 8,
   "metadata": {},
   "outputs": [
    {
     "data": {
      "text/html": [
       "<iframe width=\"900\" height=\"600\" src=\"https://www.youtube.com/embed/odStujZq3GY\" frameborder=\"0\" allow=\"autoplay; encrypted-media\" allowfullscreen></iframe>"
      ],
      "text/plain": [
       "<IPython.core.display.HTML object>"
      ]
     },
     "execution_count": 8,
     "metadata": {},
     "output_type": "execute_result"
    }
   ],
   "source": [
    "from IPython.display import HTML\n",
    "\n",
    "HTML('<iframe width=\"900\" height=\"600\" src=\"https://www.youtube.com/embed/odStujZq3GY\" frameborder=\"0\" allow=\"autoplay; encrypted-media\" allowfullscreen></iframe>')\n"
   ]
  },
  {
   "cell_type": "markdown",
   "metadata": {},
   "source": [
    "第5步修改：在 notebook 中创建并配置增强后的图像生成器，使用数据增强的不同设置。仔细阅读可用参数值列表 [此处](https://keras.io/preprocessing/image/)。\n",
    "\n",
    "改变设置后，训练模型。检查测试数据集的准确性，在下面的文本框中报告比率。"
   ]
  },
  {
   "cell_type": "code",
   "execution_count": null,
   "metadata": {},
   "outputs": [],
   "source": []
  }
 ],
 "metadata": {
  "kernelspec": {
   "display_name": "Python 3",
   "language": "python",
   "name": "python3"
  },
  "language_info": {
   "codemirror_mode": {
    "name": "ipython",
    "version": 3
   },
   "file_extension": ".py",
   "mimetype": "text/x-python",
   "name": "python",
   "nbconvert_exporter": "python",
   "pygments_lexer": "ipython3",
   "version": "3.6.4"
  }
 },
 "nbformat": 4,
 "nbformat_minor": 2
}
