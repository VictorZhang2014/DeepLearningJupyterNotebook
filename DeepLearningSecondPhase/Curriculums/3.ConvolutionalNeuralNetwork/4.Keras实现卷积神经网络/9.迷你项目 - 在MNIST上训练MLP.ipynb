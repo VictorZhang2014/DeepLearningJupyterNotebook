{
 "cells": [
  {
   "cell_type": "markdown",
   "metadata": {},
   "source": [
    "# 迷你项目 - 在MNIST上训练MLP\n",
    "\n",
    "对于深度学习 [尚未充分理解](https://www.technologyreview.com/s/604087/the-dark-secret-at-the-heart-of-ai/) 时，在很多情况下，实践先于理论。如果你刚接触深度学习，强烈建议并鼓励你利用各种模型进行试验，了解模型工作原理。[Github](https://github.com/InteligentMachine/aind2-cnn) 提供了 初学者代码。\n",
    "\n",
    "在这个迷你项目中，你将在 [mnist_mlp.ipynb](../../../projects/aind2-cnn-master/mnist-mlp/mnist_mlp.ipynb) 中，修改神经网络，比较结果模型配置。\n",
    "\n",
    "## 记住：\n",
    "\n",
    "- 通过对比验证损失和训练损失，发现过度拟合。\n",
    "- 如果训练损失远远低于验证损失，那么这个模型可能过度拟合。\n",
    "\n"
   ]
  },
  {
   "cell_type": "markdown",
   "metadata": {},
   "source": [
    "# 多层感知器  Multilayer-Perceptron\n",
    "\n",
    "[multilayer_perceptron.py](../../../projects/multilayer-perceptron/multilayer_perceptron.py) "
   ]
  },
  {
   "cell_type": "code",
   "execution_count": 2,
   "metadata": {},
   "outputs": [
    {
     "name": "stdout",
     "output_type": "stream",
     "text": [
      "Extracting ./train-images-idx3-ubyte.gz\n",
      "Extracting ./train-labels-idx1-ubyte.gz\n",
      "Extracting ./t10k-images-idx3-ubyte.gz\n",
      "Extracting ./t10k-labels-idx1-ubyte.gz\n",
      "Epoch: 0001 cost= 32.535205841\n",
      "Epoch: 0002 cost= 22.047822952\n",
      "Epoch: 0003 cost= 17.227848053\n",
      "Epoch: 0004 cost= 20.041126251\n",
      "Epoch: 0005 cost= 11.179069519\n",
      "Epoch: 0006 cost= 14.333504677\n",
      "Epoch: 0007 cost= 13.053142548\n",
      "Epoch: 0008 cost= 10.305236816\n",
      "Epoch: 0009 cost= 15.437884331\n",
      "Epoch: 0010 cost= 10.867423058\n",
      "Epoch: 0011 cost= 9.070223808\n",
      "Epoch: 0012 cost= 10.843492508\n",
      "Epoch: 0013 cost= 5.617918968\n",
      "Epoch: 0014 cost= 10.167313576\n",
      "Epoch: 0015 cost= 8.011865616\n",
      "Epoch: 0016 cost= 6.280184746\n",
      "Epoch: 0017 cost= 10.077612877\n",
      "Epoch: 0018 cost= 4.957820892\n",
      "Epoch: 0019 cost= 6.748449326\n",
      "Epoch: 0020 cost= 7.593130112\n",
      "Optimization Finished!\n",
      "Accuracy: 0.820312\n"
     ]
    }
   ],
   "source": [
    "from tensorflow.examples.tutorials.mnist import input_data\n",
    "mnist = input_data.read_data_sets(\".\", one_hot=True, reshape=False)\n",
    "\n",
    "import tensorflow as tf\n",
    "\n",
    "# Parameters\n",
    "learning_rate = 0.001\n",
    "training_epochs = 20\n",
    "batch_size = 128  # Decrease batch size if you don't have enough memory\n",
    "display_step = 1\n",
    "\n",
    "n_input = 784  # MNIST data input (img shape: 28*28)\n",
    "n_classes = 10  # MNIST total classes (0-9 digits)\n",
    "\n",
    "n_hidden_layer = 256 # layer number of features\n",
    "\n",
    "# Store layers weight & bias\n",
    "weights = {\n",
    "    'hidden_layer': tf.Variable(tf.random_normal([n_input, n_hidden_layer])),\n",
    "    'out': tf.Variable(tf.random_normal([n_hidden_layer, n_classes]))\n",
    "}\n",
    "biases = {\n",
    "    'hidden_layer': tf.Variable(tf.random_normal([n_hidden_layer])),\n",
    "    'out': tf.Variable(tf.random_normal([n_classes]))\n",
    "}\n",
    "\n",
    "# tf Graph input\n",
    "x = tf.placeholder(\"float\", [None, 28, 28, 1])\n",
    "y = tf.placeholder(\"float\", [None, n_classes])\n",
    "\n",
    "x_flat = tf.reshape(x, [-1, n_input])\n",
    "\n",
    "# Hidden layer with RELU activation\n",
    "layer_1 = tf.add(tf.matmul(x_flat, weights['hidden_layer']), biases['hidden_layer'])\n",
    "layer_1 = tf.nn.relu(layer_1)\n",
    "# Output layer with linear activation\n",
    "logits = tf.matmul(layer_1, weights['out']) + biases['out']\n",
    "\n",
    "# Define loss and optimizer\n",
    "cost = tf.reduce_mean(tf.nn.softmax_cross_entropy_with_logits(logits=logits, labels=y))\n",
    "optimizer = tf.train.GradientDescentOptimizer(learning_rate=learning_rate).minimize(cost)\n",
    "\n",
    "# Initializing the variables\n",
    "init = tf.global_variables_initializer()\n",
    "\n",
    "# Launch the graph\n",
    "with tf.Session() as sess:\n",
    "    sess.run(init)\n",
    "    # Training cycle\n",
    "    for epoch in range(training_epochs):\n",
    "        total_batch = int(mnist.train.num_examples/batch_size)\n",
    "        # Loop over all batches\n",
    "        for i in range(total_batch):\n",
    "            batch_x, batch_y = mnist.train.next_batch(batch_size)\n",
    "            # Run optimization op (backprop) and cost op (to get loss value)\n",
    "            sess.run(optimizer, feed_dict={x: batch_x, y: batch_y})\n",
    "        # Display logs per epoch step\n",
    "        if epoch % display_step == 0:\n",
    "            c = sess.run(cost, feed_dict={x: batch_x, y: batch_y})\n",
    "            print(\"Epoch:\", '%04d' % (epoch+1), \"cost=\", \\\n",
    "                \"{:.9f}\".format(c))\n",
    "    print(\"Optimization Finished!\")\n",
    "\n",
    "    # Test model\n",
    "    correct_prediction = tf.equal(tf.argmax(logits, 1), tf.argmax(y, 1))\n",
    "    # Calculate accuracy\n",
    "    accuracy = tf.reduce_mean(tf.cast(correct_prediction, \"float\"))\n",
    "    # Decrease test_size if you don't have enough memory\n",
    "    test_size = 256\n",
    "    print(\"Accuracy:\", accuracy.eval({x: mnist.test.images[:test_size], y: mnist.test.labels[:test_size]}))"
   ]
  },
  {
   "cell_type": "markdown",
   "metadata": {},
   "source": [
    "## 可选资源\n",
    "\n",
    "如果你想在神经网络中更加系统地检索超参数，请查阅这篇 [博文](https://machinelearningmastery.com/grid-search-hyperparameters-deep-learning-models-python-keras/)。"
   ]
  },
  {
   "cell_type": "code",
   "execution_count": null,
   "metadata": {},
   "outputs": [],
   "source": []
  }
 ],
 "metadata": {
  "kernelspec": {
   "display_name": "Python 3",
   "language": "python",
   "name": "python3"
  },
  "language_info": {
   "codemirror_mode": {
    "name": "ipython",
    "version": 3
   },
   "file_extension": ".py",
   "mimetype": "text/x-python",
   "name": "python",
   "nbconvert_exporter": "python",
   "pygments_lexer": "ipython3",
   "version": "3.6.4"
  }
 },
 "nbformat": 4,
 "nbformat_minor": 2
}
