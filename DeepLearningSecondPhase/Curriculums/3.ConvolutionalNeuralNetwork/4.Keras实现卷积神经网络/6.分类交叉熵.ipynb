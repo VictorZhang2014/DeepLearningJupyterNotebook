{
 "cells": [
  {
   "cell_type": "markdown",
   "metadata": {},
   "source": [
    "# 分类交叉熵"
   ]
  },
  {
   "cell_type": "code",
   "execution_count": 1,
   "metadata": {},
   "outputs": [
    {
     "data": {
      "text/html": [
       "<iframe src=\"https://www.youtube.com/embed/3sDYifgjFck\" width=\"900\" height=\"600\" frameborder=\"0\" allow=\"autoplay; encrypted-media\" allowfullscreen></iframe>"
      ],
      "text/plain": [
       "<IPython.core.display.HTML object>"
      ]
     },
     "execution_count": 1,
     "metadata": {},
     "output_type": "execute_result"
    }
   ],
   "source": [
    "from IPython.display import HTML\n",
    "\n",
    "HTML('<iframe src=\"https://www.youtube.com/embed/3sDYifgjFck\" width=\"900\" height=\"600\" frameborder=\"0\" allow=\"autoplay; encrypted-media\" allowfullscreen></iframe>')\n"
   ]
  },
  {
   "cell_type": "markdown",
   "metadata": {},
   "source": [
    "## 课外资料\n",
    "\n",
    "- 如果你想详细了解 Keras 中的完全连接层，请阅读这篇关于密集层的[文档](https://keras.io/layers/core/)。你可以通过为 `kernel_initializer` 和 `bias_initializer` 参数提供值更改权重的初始化方法。注意默认值分别为 `'glorot_uniform'` 和 `'zeros'`。你可以在相应的 Keras [文档](https://keras.io/initializers/)中详细了解每种初始化程序的工作方法。\n",
    "- Keras 中有很多不同的[损失函数](https://keras.io/losses/)。对于这节课来说，我们将仅使用 categorical_crossentropy。\n",
    "- 参阅 Keras 中可用的优化程序列表。当你编译模型（在记事本的第 7 步）时就会[指定优化程序](https://keras.io/optimizers/)。\n",
    "  - `'sgd'` : SGD\n",
    "  - `'rmsprop'` : RMSprop\n",
    "  - `'adagrad'` : Adagrad\n",
    "  - `'adadelta'` : Adadelta\n",
    "  - `'adam'` : Adam\n",
    "  - `'adamax'` : Adamax\n",
    "  - `'nadam'` : Nadam\n",
    "  - `'tfoptimizer'` : TFOptimizer\n",
    "\n"
   ]
  },
  {
   "cell_type": "code",
   "execution_count": null,
   "metadata": {},
   "outputs": [],
   "source": []
  }
 ],
 "metadata": {
  "kernelspec": {
   "display_name": "Python 3",
   "language": "python",
   "name": "python3"
  },
  "language_info": {
   "codemirror_mode": {
    "name": "ipython",
    "version": 3
   },
   "file_extension": ".py",
   "mimetype": "text/x-python",
   "name": "python",
   "nbconvert_exporter": "python",
   "pygments_lexer": "ipython3",
   "version": "3.6.4"
  }
 },
 "nbformat": 4,
 "nbformat_minor": 2
}
