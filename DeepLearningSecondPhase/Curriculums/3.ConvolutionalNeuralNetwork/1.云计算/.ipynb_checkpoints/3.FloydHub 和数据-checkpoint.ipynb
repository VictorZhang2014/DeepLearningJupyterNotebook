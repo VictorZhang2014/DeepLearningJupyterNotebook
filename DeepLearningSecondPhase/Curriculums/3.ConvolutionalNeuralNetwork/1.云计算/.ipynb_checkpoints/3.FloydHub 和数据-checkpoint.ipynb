{
 "cells": [
  {
   "cell_type": "markdown",
   "metadata": {},
   "source": [
    "# FloydHub 和数据\n",
    "\n",
    "对于 FloydHub，你是从你的机器上将数据上传到 FloydHub 的远程实例上。强烈建议不要在脚本中上传大型数据集，例如 CIFAR。你应该始终下载 FloydHub 实例上的数据，而不是从你自己的机器上上传。\n",
    "\n",
    "\n",
    "## 公共数据集\n",
    "\n",
    "FloydHub 提供了公共数据集，所以你不用每次运行时都下载大型数据集。你可以在此处找到公共数据集列表。例如，如果你使用的是 CIFAR10 数据集，你可以使用 --data 标记将其附加到你的实例上：\n",
    "\n",
    "`floyd run \"python train.py\" --data diSgciLH4WA7HpcHNasP9j`\n",
    "\n",
    "这里，`diSgciLH4WA7HpcHNasP9j` 是该数据集的 ID，你可以从上述列表中获取其他数据集的 ID。数据集将位于 /input 文件夹下，所以 CIFAR10 数据集将位于 `/input/CIFAR10` 下。\n",
    "\n",
    "\n",
    "## 输出\n",
    "\n",
    "你经常会写出数据，例如 TensorFlow 检查点，或者更新 notebook。要获取这些文件，你可以使用以下命令来获取数据链接：\n",
    "\n",
    "`floyd output run_ID`\n",
    "\n",
    "该命令将打开一个 HTML 页面，其中包含实例存储空间的 `/output` 目录下的内容。要向文件中写入数据，并稍后能够获取这些数据，你需要将其保存到 `/output` 目录下。例如，你应该将 TensorFlow 检查点保存到 `/output/checkpoints` 下。Notebook 及你上传到实例的所有其他文件将自动保存到 `/output` 下。\n",
    "\n",
    "即使实例被终止，这个方法仍然有用。所以你可以训练网络、保存检查点，并停止示例，然后稍后下载检查点。\n",
    "\n",
    "你还可以通过控制面板将整个 /output 文件夹下载为 TAR 文件。在左侧侧栏中选择“模块 (Modules)”，然后选择你要从中获取数据的模块。在右侧侧栏中点击蓝色向右箭头即可获取模块信息。你将看到“代码 (Code)”，下方是下载 TAR 文件的链接。\n",
    "\n",
    "<img src=\"../../../sources/img/cnn/floyd-data.png\" alt=\"\" />\n",
    "\n",
    "\n",
    "## 更多资源\n",
    "\n",
    "这篇文章应该可以帮助你顺利使用 FloydHub 了。如果你想进一步了解 FloydHub，请参阅他们的入门指南。你还可以查看一些其他相关指南，了解如何训练有趣的模型，例如风格迁移模型。希望你能喜欢 FloydHub！\n"
   ]
  },
  {
   "cell_type": "code",
   "execution_count": null,
   "metadata": {},
   "outputs": [],
   "source": []
  }
 ],
 "metadata": {
  "kernelspec": {
   "display_name": "Python 3",
   "language": "python",
   "name": "python3"
  },
  "language_info": {
   "codemirror_mode": {
    "name": "ipython",
    "version": 3
   },
   "file_extension": ".py",
   "mimetype": "text/x-python",
   "name": "python",
   "nbconvert_exporter": "python",
   "pygments_lexer": "ipython3",
   "version": "3.6.4"
  }
 },
 "nbformat": 4,
 "nbformat_minor": 2
}
