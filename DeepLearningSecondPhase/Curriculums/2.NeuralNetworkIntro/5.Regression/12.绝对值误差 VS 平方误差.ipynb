{
 "cells": [
  {
   "cell_type": "markdown",
   "metadata": {},
   "source": [
    "# 绝对值误差 VS 平方误差"
   ]
  },
  {
   "cell_type": "code",
   "execution_count": 1,
   "metadata": {},
   "outputs": [
    {
     "data": {
      "text/html": [
       "<iframe src=\"https://www.youtube.com/embed/TpEl-YR8T4g\" width=\"800\" height=\"450\" frameborder=\"0\" allowfullscreen></iframe>"
      ],
      "text/plain": [
       "<IPython.core.display.HTML object>"
      ]
     },
     "execution_count": 1,
     "metadata": {},
     "output_type": "execute_result"
    }
   ],
   "source": [
    "from IPython.display import HTML\n",
    "\n",
    "HTML('<iframe src=\"https://www.youtube.com/embed/TpEl-YR8T4g\" width=\"800\" height=\"450\" frameborder=\"0\" allowfullscreen></iframe>')\n"
   ]
  },
  {
   "cell_type": "markdown",
   "metadata": {},
   "source": [
    "\n",
    "<img src=\"../../../sources/img/NeuralNetworkIntro/Regression/mean-absolute-errors.png\" alt=\"\" />\n",
    "\n",
    "### 练习题\n",
    "\n",
    "图中哪一直线会给出一个较小的平均绝对值误差？\n",
    "\n",
    "- 直线A\n",
    "- 直线B\n",
    "- 直线C\n",
    "- 它们都给了一个相同的误差\n",
    "\n",
    "\n",
    "\n",
    "# 平方误差"
   ]
  },
  {
   "cell_type": "code",
   "execution_count": 2,
   "metadata": {},
   "outputs": [
    {
     "data": {
      "text/html": [
       "<iframe src=\"https://www.youtube.com/embed/hJzMEnw72SQ\" width=\"800\" height=\"450\" frameborder=\"0\" allowfullscreen></iframe>"
      ],
      "text/plain": [
       "<IPython.core.display.HTML object>"
      ]
     },
     "execution_count": 2,
     "metadata": {},
     "output_type": "execute_result"
    }
   ],
   "source": [
    "\n",
    "HTML('<iframe src=\"https://www.youtube.com/embed/hJzMEnw72SQ\" width=\"800\" height=\"450\" frameborder=\"0\" allowfullscreen></iframe>')\n"
   ]
  },
  {
   "cell_type": "markdown",
   "metadata": {},
   "source": [
    "\n",
    "<img src=\"../../../sources/img/NeuralNetworkIntro/Regression/mean-absolute-errors.png\" alt=\"\" />\n",
    "\n",
    "### 练习题\n",
    "\n",
    "图中哪一直线会给出一个较小的平均平方误差？\n",
    "\n",
    "- 直线A\n",
    "- 直线B\n",
    "- 直线C\n",
    "- 它们都给了一个相同的误差"
   ]
  },
  {
   "cell_type": "code",
   "execution_count": 3,
   "metadata": {},
   "outputs": [
    {
     "data": {
      "text/html": [
       "<iframe src=\"https://www.youtube.com/embed/hv00huWQu-8\" width=\"800\" height=\"450\" frameborder=\"0\" allowfullscreen></iframe>"
      ],
      "text/plain": [
       "<IPython.core.display.HTML object>"
      ]
     },
     "execution_count": 3,
     "metadata": {},
     "output_type": "execute_result"
    }
   ],
   "source": [
    "\n",
    "HTML('<iframe src=\"https://www.youtube.com/embed/hv00huWQu-8\" width=\"800\" height=\"450\" frameborder=\"0\" allowfullscreen></iframe>')\n"
   ]
  },
  {
   "cell_type": "code",
   "execution_count": null,
   "metadata": {},
   "outputs": [],
   "source": []
  }
 ],
 "metadata": {
  "kernelspec": {
   "display_name": "Python 2",
   "language": "python",
   "name": "python2"
  },
  "language_info": {
   "codemirror_mode": {
    "name": "ipython",
    "version": 2
   },
   "file_extension": ".py",
   "mimetype": "text/x-python",
   "name": "python",
   "nbconvert_exporter": "python",
   "pygments_lexer": "ipython2",
   "version": "2.7.14"
  }
 },
 "nbformat": 4,
 "nbformat_minor": 2
}
