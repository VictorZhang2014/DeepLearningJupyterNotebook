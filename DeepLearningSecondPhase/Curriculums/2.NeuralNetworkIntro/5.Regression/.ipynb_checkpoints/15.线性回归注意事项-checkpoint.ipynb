{
 "cells": [
  {
   "cell_type": "markdown",
   "metadata": {},
   "source": [
    "# 线性回归注意事项\n",
    "\n",
    "线性回归隐含一系列前提假设，并非适合所有情形，因此应当注意以下两个问题。\n",
    "\n",
    "### 最适用于线性数据\n",
    "\n",
    "线性回归会根据训练数据生成直线模型。如果训练数据包含非线性关系，你需要选择：调整数据（进行数据转换）、增加特征数量（参考下节内容）或改用其他模型。\n",
    "\n",
    "<img src=\"../../../sources/img/NeuralNetworkIntro/Regression/quadraticlinearregression.png\" alt=\"\" />\n",
    "\n",
    "### 容易受到异常值影响\n",
    "\n",
    "线性回归的目标是求取对训练数据而言的 “最优拟合” 直线。如果数据集中存在不符合总体规律的异常值，最终结果将会存在不小偏差。\n",
    "\n",
    "在第一个图表中，模型与数据相当拟合。\n",
    "\n",
    "<img src=\"../../../sources/img/NeuralNetworkIntro/Regression/lin-reg-no-outliers.png\" alt=\"\" />\n",
    "\n",
    "但若添加若干不符合规律的异常值，会明显改变模型的预测结果。\n",
    "\n",
    "<img src=\"../../../sources/img/NeuralNetworkIntro/Regression/lin-reg-w-outliers.png\" alt=\"\" />\n",
    "\n",
    "在大多数情况下，模型需要基本上能与大部分数据拟合，所以要小心异常值！\n"
   ]
  },
  {
   "cell_type": "code",
   "execution_count": null,
   "metadata": {},
   "outputs": [],
   "source": []
  }
 ],
 "metadata": {
  "kernelspec": {
   "display_name": "Python 2",
   "language": "python",
   "name": "python2"
  },
  "language_info": {
   "codemirror_mode": {
    "name": "ipython",
    "version": 2
   },
   "file_extension": ".py",
   "mimetype": "text/x-python",
   "name": "python",
   "nbconvert_exporter": "python",
   "pygments_lexer": "ipython2",
   "version": "2.7.14"
  }
 },
 "nbformat": 4,
 "nbformat_minor": 2
}
