{
 "cells": [
  {
   "cell_type": "markdown",
   "metadata": {},
   "source": [
    "# 用线性回归预测预期寿命\n",
    "\n",
    "在该实验室中，你将使用关于出生时的平均预期寿命以及全世界男性的平均BMI的数据。 数据来自[Gapminder](https://www.gapminder.org/)。\n",
    "\n",
    "\n",
    "## 工作区\n",
    "\n",
    "Notebook 将在课堂内打开。 但是，如果您想单独打开它，可以从 [GitHub仓库](https://github.com/VictorZhang2014/deep-learning/tree/master/linear-regression) 中克隆这些资料。\n",
    "\n",
    "在这个实验中，导航到主分支，然后打开 `Regression.ipynb` 。 像往常一样，如果你需要任何提示，请随时打开 `RegressionSolutions.ipynb` 。\n",
    "\n",
    "数据文件可以在文件夹中的 `bmi_and_life_expectancy.csv` 标签下找到。 它包括三列，包含以下数据：\n",
    "\n",
    "- `国家(Country)` - 该个体出生的国家。\n",
    "- `预期寿命(Life expectancy)` - 该国人的平均预期寿命。\n",
    "- `BMI` - 该国男性的平均BMI。\n",
    "\n",
    "\n",
    "## 你需要完成以下每个步骤：\n",
    "\n",
    "### 1. 加载数据\n",
    "\n",
    "- 数据位于名为 `bmi_and_life_expectancy.csv` 的文件中。\n",
    "- 使用熊猫 `read_csv` 将数据加载到 `dataframe` 中。\n",
    "- 将 `dataframe` 分配给变量 `bmi_life_data`。\n",
    "\n",
    "### 2. 建立一个线性回归模型\n",
    "\n",
    "- 使用 `scikit-learn` 的 线性回归 创建回归模型并将其分配给 `bmi_life_model`。\n",
    "- 将模型拟合到数据中。\n",
    "\n",
    "### 3. 预测使用模型\n",
    "\n",
    "- 使用BMI 21.07931预测并将其分配给变量 `laos_life_exp`。\n"
   ]
  },
  {
   "cell_type": "markdown",
   "metadata": {},
   "source": [
    "# Lab: Predicting Life Expectancy(预期寿命) from BMI in Countries using Linear Regression\n",
    "\n",
    "\n",
    "In this lab, you'll be working with data on the average life expectancy at birth and the average BMI for males across the world. The data comes from [Gapminder](https://www.gapminder.org/).\n",
    "\n",
    "The data file can be found in the `bmi_and_life_expectancy.csv` file. It includes three columns, containing the following data:\n",
    "* **Country** – The country the person was born in.  \n",
    "* **Life expectancy** – The average life expectancy at birth for a person in that country.\n",
    "* **BMI** – The mean BMI of males in that country.\n",
    "\n",
    "### You'll need to complete each of the following steps:\n",
    "\n",
    "**1. Load the data**\n",
    "\n",
    "**2. Build a linear regression model**\n",
    "\n",
    "**3. Predict using the model**\n"
   ]
  },
  {
   "cell_type": "markdown",
   "metadata": {},
   "source": [
    "# 1. Load and plot the data\n",
    "* The data is in the file called \"bmi_and_life_expectancy.csv\".\n",
    "* Use pandas [`read_csv`](http://pandas.pydata.org/pandas-docs/stable/generated/pandas.read_csv.html) to load the data into a dataframe.\n",
    "* Assign the dataframe to the variable `bmi_life_data`.\n"
   ]
  },
  {
   "cell_type": "code",
   "execution_count": 3,
   "metadata": {},
   "outputs": [],
   "source": [
    "import numpy as np\n",
    "import pandas as pd"
   ]
  },
  {
   "cell_type": "code",
   "execution_count": 8,
   "metadata": {},
   "outputs": [
    {
     "data": {
      "text/html": [
       "<div>\n",
       "<style scoped>\n",
       "    .dataframe tbody tr th:only-of-type {\n",
       "        vertical-align: middle;\n",
       "    }\n",
       "\n",
       "    .dataframe tbody tr th {\n",
       "        vertical-align: top;\n",
       "    }\n",
       "\n",
       "    .dataframe thead th {\n",
       "        text-align: right;\n",
       "    }\n",
       "</style>\n",
       "<table border=\"1\" class=\"dataframe\">\n",
       "  <thead>\n",
       "    <tr style=\"text-align: right;\">\n",
       "      <th></th>\n",
       "      <th>Country</th>\n",
       "      <th>Life expectancy</th>\n",
       "      <th>BMI</th>\n",
       "    </tr>\n",
       "  </thead>\n",
       "  <tbody>\n",
       "    <tr>\n",
       "      <th>0</th>\n",
       "      <td>Afghanistan</td>\n",
       "      <td>52.8</td>\n",
       "      <td>20.62058</td>\n",
       "    </tr>\n",
       "    <tr>\n",
       "      <th>1</th>\n",
       "      <td>Albania</td>\n",
       "      <td>76.8</td>\n",
       "      <td>26.44657</td>\n",
       "    </tr>\n",
       "    <tr>\n",
       "      <th>2</th>\n",
       "      <td>Algeria</td>\n",
       "      <td>75.5</td>\n",
       "      <td>24.59620</td>\n",
       "    </tr>\n",
       "    <tr>\n",
       "      <th>3</th>\n",
       "      <td>Andorra</td>\n",
       "      <td>84.6</td>\n",
       "      <td>27.63048</td>\n",
       "    </tr>\n",
       "    <tr>\n",
       "      <th>4</th>\n",
       "      <td>Angola</td>\n",
       "      <td>56.7</td>\n",
       "      <td>22.25083</td>\n",
       "    </tr>\n",
       "  </tbody>\n",
       "</table>\n",
       "</div>"
      ],
      "text/plain": [
       "       Country  Life expectancy       BMI\n",
       "0  Afghanistan             52.8  20.62058\n",
       "1      Albania             76.8  26.44657\n",
       "2      Algeria             75.5  24.59620\n",
       "3      Andorra             84.6  27.63048\n",
       "4       Angola             56.7  22.25083"
      ]
     },
     "execution_count": 8,
     "metadata": {},
     "output_type": "execute_result"
    }
   ],
   "source": [
    "# TODO: Load the data in Pandas\n",
    "\n",
    "bmi_life_data = pd.read_csv('../../../sources/files/NeuralNetworkIntro/Regression/bmi_and_life_expectancy.csv')\n",
    "\n",
    "# Print the data\n",
    "bmi_life_data.head()"
   ]
  },
  {
   "cell_type": "markdown",
   "metadata": {},
   "source": [
    "Some helper functions:\n",
    "- One to plot the data.\n",
    "- One to plot any line, given the slope $m$ and the y-intercept $b$."
   ]
  },
  {
   "cell_type": "code",
   "execution_count": 10,
   "metadata": {},
   "outputs": [],
   "source": [
    "%matplotlib inline\n",
    "\n",
    "import matplotlib.pyplot as plt\n",
    "\n",
    "x = np.array(bmi_life_data[[\"BMI\"]])\n",
    "y = np.array(bmi_life_data[\"Life expectancy\"])\n",
    "\n",
    "def draw_data(x, y):\n",
    "    for i in range(len(x)):\n",
    "        plt.scatter(x[i], y[i], color='blue', edgecolor='k')\n",
    "    plt.xlabel('BMI')\n",
    "    plt.ylabel('Life expectancy')\n",
    "\n",
    "def display(m, b, color='g'):\n",
    "    r = np.arange(min(x), max(x), 0.1)\n",
    "    plt.plot(r, m*r+b, color)"
   ]
  },
  {
   "cell_type": "markdown",
   "metadata": {},
   "source": [
    "Plotting the data"
   ]
  },
  {
   "cell_type": "code",
   "execution_count": 11,
   "metadata": {},
   "outputs": [
    {
     "data": {
      "image/png": "[encoded data removed]",
      "text/plain": [
       "<Figure size 432x288 with 1 Axes>"
      ]
     },
     "metadata": {},
     "output_type": "display_data"
    }
   ],
   "source": [
    "draw_data(x, y)\n",
    "plt.show()"
   ]
  },
  {
   "cell_type": "markdown",
   "metadata": {},
   "source": [
    "# 2. Build a Linear Regression Model\n",
    "* Create a regression model and assign the weights to the array `bmi_life_model`.\n",
    "* Fit the model to the data.\n",
    "\n",
    "_Note:_"
   ]
  },
  {
   "cell_type": "code",
   "execution_count": 13,
   "metadata": {},
   "outputs": [],
   "source": [
    "epochs = 1000\n",
    "learning_rate = 0.001\n",
    "\n",
    "# TODO: Finish the code for this function\n",
    "def linear_regression(x, y):\n",
    "    # Initialize m and b\n",
    "    m=1\n",
    "    b=0\n",
    "    # TODO: Use the square trick to update the weights\n",
    "    # and run it for a number of epochs\n",
    "    for epoch in range(epochs):\n",
    "        for i in range(len(x)):\n",
    "            pred = m*x[i] + b\n",
    "            diff = y[i] - pred\n",
    "            m += m*diff*learning_rate\n",
    "            b += diff*learning_rate\n",
    "    return m, b\n",
    "m, b = linear_regression(x, y)"
   ]
  },
  {
   "cell_type": "code",
   "execution_count": 14,
   "metadata": {},
   "outputs": [
    {
     "data": {
      "image/png": "[encoded data removed]",
      "text/plain": [
       "<Figure size 432x288 with 1 Axes>"
      ]
     },
     "metadata": {},
     "output_type": "display_data"
    }
   ],
   "source": [
    "linear_regression(x,y)\n",
    "draw_data(x, y)\n",
    "display(m[0], b[0])\n",
    "plt.show()"
   ]
  },
  {
   "cell_type": "markdown",
   "metadata": {},
   "source": [
    "# 3. Predict using the Model\n",
    "* Predict using a BMI of 21.07931 and assign it to the variable `laos_life_exp`."
   ]
  },
  {
   "cell_type": "code",
   "execution_count": 15,
   "metadata": {},
   "outputs": [
    {
     "data": {
      "text/plain": [
       "58.53432141755397"
      ]
     },
     "execution_count": 15,
     "metadata": {},
     "output_type": "execute_result"
    }
   ],
   "source": [
    "# TODO: Write the prediction function\n",
    "\n",
    "def predict(m, b, bmi):\n",
    "    return m[0]*bmi + b[0]\n",
    "\n",
    "m, b = linear_regression(x, y)\n",
    "predict(m, b, 21.07931)"
   ]
  },
  {
   "cell_type": "code",
   "execution_count": null,
   "metadata": {},
   "outputs": [],
   "source": []
  }
 ],
 "metadata": {
  "kernelspec": {
   "display_name": "Python 2",
   "language": "python",
   "name": "python2"
  },
  "language_info": {
   "codemirror_mode": {
    "name": "ipython",
    "version": 2
   },
   "file_extension": ".py",
   "mimetype": "text/x-python",
   "name": "python",
   "nbconvert_exporter": "python",
   "pygments_lexer": "ipython2",
   "version": "2.7.14"
  }
 },
 "nbformat": 4,
 "nbformat_minor": 2
}
