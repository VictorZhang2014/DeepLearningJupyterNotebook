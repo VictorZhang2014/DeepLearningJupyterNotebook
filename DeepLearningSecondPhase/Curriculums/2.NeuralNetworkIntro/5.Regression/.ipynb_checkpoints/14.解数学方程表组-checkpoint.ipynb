{
 "cells": [
  {
   "cell_type": "markdown",
   "metadata": {},
   "source": [
    "# 解数学方程表组"
   ]
  },
  {
   "cell_type": "code",
   "execution_count": 1,
   "metadata": {},
   "outputs": [
    {
     "data": {
      "text/html": [
       "<iframe src=\"https://www.youtube.com/embed/NljeslY1sZ0\" width=\"800\" height=\"450\" frameborder=\"0\" allowfullscreen></iframe>"
      ],
      "text/plain": [
       "<IPython.core.display.HTML object>"
      ]
     },
     "execution_count": 1,
     "metadata": {},
     "output_type": "execute_result"
    }
   ],
   "source": [
    "from IPython.display import HTML\n",
    "\n",
    "HTML('<iframe src=\"https://www.youtube.com/embed/NljeslY1sZ0\" width=\"800\" height=\"450\" frameborder=\"0\" allowfullscreen></iframe>')\n"
   ]
  },
  {
   "cell_type": "markdown",
   "metadata": {},
   "source": [
    "<img src=\"../../../sources/img/NeuralNetworkIntro/Regression/answer-equation-group-1.png\" alt=\"\" />\n",
    "<img src=\"../../../sources/img/NeuralNetworkIntro/Regression/answer-equation-group-2.png\" alt=\"\" />\n",
    "<img src=\"../../../sources/img/NeuralNetworkIntro/Regression/answer-equation-group-3.png\" alt=\"\" />\n",
    "<img src=\"../../../sources/img/NeuralNetworkIntro/Regression/answer-equation-group-4.png\" alt=\"\" />\n",
    "<img src=\"../../../sources/img/NeuralNetworkIntro/Regression/answer-equation-group-5.png\" alt=\"\" />\n",
    "\n"
   ]
  },
  {
   "cell_type": "code",
   "execution_count": null,
   "metadata": {},
   "outputs": [],
   "source": []
  }
 ],
 "metadata": {
  "kernelspec": {
   "display_name": "Python 2",
   "language": "python",
   "name": "python2"
  },
  "language_info": {
   "codemirror_mode": {
    "name": "ipython",
    "version": 2
   },
   "file_extension": ".py",
   "mimetype": "text/x-python",
   "name": "python",
   "nbconvert_exporter": "python",
   "pygments_lexer": "ipython2",
   "version": "2.7.14"
  }
 },
 "nbformat": 4,
 "nbformat_minor": 2
}
