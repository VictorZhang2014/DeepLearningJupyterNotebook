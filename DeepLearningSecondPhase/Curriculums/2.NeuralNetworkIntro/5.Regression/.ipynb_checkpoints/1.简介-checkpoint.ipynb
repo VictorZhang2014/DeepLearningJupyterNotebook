{
 "cells": [
  {
   "cell_type": "markdown",
   "metadata": {},
   "source": [
    "\n",
    "<img src=\"../../../sources/img/NeuralNetworkIntro/Regression/meme.png\" alt=\"\" />\n",
    "\n",
    "Hi，我是 Luis ！在本节课中，我们将研究回归。 `分类`和`回归`的主要`区别`在于：在`分类中`，我们`预测一个状态`，在`回归中`，我们`预测一个值`。 我们将从线性回归开始，然后我们将学习一些处理非线性问题的方法。我们准备开始学习吧！\n",
    "\n"
   ]
  },
  {
   "cell_type": "code",
   "execution_count": null,
   "metadata": {},
   "outputs": [],
   "source": []
  }
 ],
 "metadata": {
  "kernelspec": {
   "display_name": "Python 2",
   "language": "python",
   "name": "python2"
  },
  "language_info": {
   "codemirror_mode": {
    "name": "ipython",
    "version": 2
   },
   "file_extension": ".py",
   "mimetype": "text/x-python",
   "name": "python",
   "nbconvert_exporter": "python",
   "pygments_lexer": "ipython2",
   "version": "2.7.14"
  }
 },
 "nbformat": 4,
 "nbformat_minor": 2
}
