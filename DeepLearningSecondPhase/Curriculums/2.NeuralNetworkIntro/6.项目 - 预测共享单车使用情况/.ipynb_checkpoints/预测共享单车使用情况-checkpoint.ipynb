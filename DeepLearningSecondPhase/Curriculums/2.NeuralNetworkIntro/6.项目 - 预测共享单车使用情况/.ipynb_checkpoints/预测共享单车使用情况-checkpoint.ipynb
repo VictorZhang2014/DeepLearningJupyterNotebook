{
 "cells": [
  {
   "cell_type": "code",
   "execution_count": 1,
   "metadata": {},
   "outputs": [
    {
     "data": {
      "text/html": [
       "<iframe src=\"https://www.youtube.com/embed/dOwEDeJp8yw\" width=\"800\" height=\"450\" frameborder=\"0\" allowfullscreen></iframe>"
      ],
      "text/plain": [
       "<IPython.core.display.HTML object>"
      ]
     },
     "execution_count": 1,
     "metadata": {},
     "output_type": "execute_result"
    }
   ],
   "source": [
    "from IPython.display import HTML\n",
    "\n",
    "HTML('<iframe src=\"https://www.youtube.com/embed/dOwEDeJp8yw\" width=\"800\" height=\"450\" frameborder=\"0\" allowfullscreen></iframe>')\n"
   ]
  },
  {
   "cell_type": "markdown",
   "metadata": {},
   "source": [
    "# 你的第一个神经网络\n",
    "\n",
    "## 介绍\n",
    "\n",
    "在这一项目中，你将会从头开始构建一个神经网络，基于真实的数据集来进行预测！通过从零开始搭建神经网络，你将更好地理解梯度下降、反向传播等概念。这些都是我们以后接触更高级工具（如 Tensorflow）前必须掌握的重要概念。在这一项目中，你也将看到，如何运用这些网络来完成实际生活中的预测问题！\n",
    "\n",
    "数据来自 [UCI 机器学习数据库](https://archive.ics.uci.edu/ml/datasets/Bike+Sharing+Dataset)。\n",
    "\n",
    "### 说明\n",
    "\n",
    "- 1.从我们的 [GitHub 代码库](https://github.com/VictorZhang2014/cn-deep-learning) 下载项目相关资料。\n",
    "- 2.进入 `first-neural-network` 文件夹。\n",
    "- 3.下载 anaconda 或 miniconda，你可以参考我们的 Anaconda 课程。\n",
    "- 4.创建一个新的 conda 环境：\n",
    "    - `conda create --name dlnd python=3`\n",
    " \n",
    "- 5.进入新环境：\n",
    "    - Mac/Linux 系统：>> `source activate dlnd`\n",
    "    - Windows 系统：>> `activate dlnd`\n",
    "    \n",
    "- 6.输入以下命令，检查你是否已经安装了 numpy ，matplotlib， pandas ，和 jupyter notebook：\n",
    "    - `conda install numpy matplotlib pandas jupyter notebook`\n",
    "    \n",
    "- 7.运行以下命令，打开 notebook ：\n",
    "    - `jupyter notebook dlnd-your-first-neural-network.ipynb`\n",
    "    \n",
    "- 8.请按照 notebook 上的引导说明来完成本项目。\n",
    "- 9.请确保你已经通过了 notebook 上的单元测试！\n",
    "\n",
    "如果在运行 `notebook` 文件过程中，你需要帮助，请查看我们的 `Jupyter notebook` 课程。\n",
    "\n",
    "这里有一个 [很棒的来自 Frank Chen 的视频](https://s3.cn-north-1.amazonaws.com.cn/static-documents/nd101/AI%2C+Deep+Learning%2C+and+Machine+Learning_+A+Primer.mp4)，介绍深度学习的历史。视频时长45分钟，有点像一部短纪录片，它从20世纪50年代开始讲起，直到带我们进入当下的深度学习和人工智能热潮。\n",
    "\n",
    "\n",
    "[跳转到项目 - 准备答题](../../../projects/first-neural-network/Your_first_neural_network.ipynb)"
   ]
  },
  {
   "cell_type": "code",
   "execution_count": null,
   "metadata": {},
   "outputs": [],
   "source": []
  }
 ],
 "metadata": {
  "kernelspec": {
   "display_name": "Python 2",
   "language": "python",
   "name": "python2"
  },
  "language_info": {
   "codemirror_mode": {
    "name": "ipython",
    "version": 2
   },
   "file_extension": ".py",
   "mimetype": "text/x-python",
   "name": "python",
   "nbconvert_exporter": "python",
   "pygments_lexer": "ipython2",
   "version": "2.7.14"
  }
 },
 "nbformat": 4,
 "nbformat_minor": 2
}
