{
 "cells": [
  {
   "cell_type": "markdown",
   "metadata": {},
   "source": [
    "# Hello, TensorFlow World!\n",
    "\n",
    "让我们来分析一下你刚才运行的 Hello World 的代码。代码如下：\n",
    "\n",
    "```\n",
    "import tensorflow as tf\n",
    "\n",
    "# Create TensorFlow object called hello_constant\n",
    "hello_constant = tf.constant('Hello World!')\n",
    "\n",
    "with tf.Session() as sess:\n",
    "    # Run the tf.constant operation in the session\n",
    "    output = sess.run(hello_constant)\n",
    "    print(output)\n",
    "```\n",
    "\n",
    "\n",
    "## Tensor\n",
    "\n",
    "在 TensorFlow 中，数据不是以整数、浮点数或者字符串形式存储的。这些值被封装在一个叫做 tensor 的对象中。在 `hello_constant = tf.constant('Hello World!')` 代码中，`hello_constant` 是一个 0 维度的字符串 tensor，tensor 还有很多不同大小：\n",
    "\n",
    "```\n",
    "# A is a 0-dimensional int32 tensor\n",
    "A = tf.constant(1234) \n",
    "# B is a 1-dimensional int32 tensor\n",
    "B = tf.constant([123,456,789]) \n",
    " # C is a 2-dimensional int32 tensor\n",
    "C = tf.constant([ [123,456,789], [222,333,444] ])\n",
    "```\n",
    "\n",
    "\n",
    "`tf.constant() `是你在本课中即将使用的多个 `TensorFlow` 运算之一。`tf.constant()` 返回的 tensor 是一个常量 `tensor`，因为这个 `tensor` 的值不会变。\n",
    "\n",
    "\n",
    "\n",
    "## Session\n",
    "\n",
    "`TensorFlow` 的 api 构建在 `computational graph` 的概念上，它是一种对数学运算过程进行可视化的方法（在 MiniFlow 这节课中学过）。让我们把你刚才运行的 TensorFlow 代码变成一个图：\n",
    "\n",
    "<img src=\"../../../sources/img/NeuralNetworkIntro/tensorflow/tensorflow-session.png\" alt=\"\" />\n",
    "\n",
    "如上图所示，一个 \"TensorFlow Session\" 是用来运行图的环境。这个 session 负责分配 GPU(s) 和／或 CPU(s)，包括远程计算机的运算。让我们看看如何使用它：\n",
    "\n",
    "```\n",
    "with tf.Session() as sess:\n",
    "    output = sess.run(hello_constant)\n",
    "```\n",
    "\n",
    "代码已经从之前的一行中创建了 `tensor hello_constant`。接下来是在 `session` 里对 tensor 求值。\n",
    "\n",
    "这段代码用 `tf.Session` 创建了一个 sess 的 session 实例。然后 sess.run() 函数对 tensor 求值，并返回结果。\n"
   ]
  },
  {
   "cell_type": "code",
   "execution_count": null,
   "metadata": {},
   "outputs": [],
   "source": []
  }
 ],
 "metadata": {
  "kernelspec": {
   "display_name": "Python 3",
   "language": "python",
   "name": "python3"
  },
  "language_info": {
   "codemirror_mode": {
    "name": "ipython",
    "version": 3
   },
   "file_extension": ".py",
   "mimetype": "text/x-python",
   "name": "python",
   "nbconvert_exporter": "python",
   "pygments_lexer": "ipython3",
   "version": "3.6.4"
  }
 },
 "nbformat": 4,
 "nbformat_minor": 2
}
