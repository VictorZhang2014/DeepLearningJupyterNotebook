{
 "cells": [
  {
   "cell_type": "markdown",
   "metadata": {},
   "source": [
    "# TensforFlow实验：NotMNIST\n",
    "\n",
    "<img src=\"../../../sources/img/NeuralNetworkIntro/tensorflow/nmn.png\" />\n",
    "\n",
    "## TensorFlow 实验室\n",
    "\n",
    "我们准备了一个 Jupyter Notebook，它将引导你完成在 TensorFlow 中创建单层神经网络。 你将实现数据规范化，然后使用 TensorFlow 构建和训练网络。\n",
    "\n",
    "\n",
    "## Notebook\n",
    "\n",
    "Notebook 和相关文件都可以从 我们的 [Github 仓库](https://github.com/VictorZhang2014/deep-learning) 获得。 你可以克隆这一 Github 仓库，或者直接下载为其 Zip 压缩文件。\n",
    "使用 Git 克隆仓库。\n",
    "```\n",
    "git clone https://github.com/VictorZhang2014/deep-learning.git\n",
    "```\n",
    "\n",
    "如果你对 Git 和 GitHub 不熟悉，我强烈建议你查看我们的课程。 如果你不想使用 Git，则可以将该仓库以Zip文件形式下载下来。 你可以在这里找到这个 [仓库](https://github.com/VictorZhang2014/deep-learning)。\n",
    "\n",
    "\n",
    "## 查看 Notebook\n",
    "\n",
    "在 notebook 文件目录中，启动你的 Jupyter notebook 服务器\n",
    "\n",
    "```\n",
    "jupyter notebook\n",
    "```\n",
    "\n",
    "你的页面应该会跳转到一个浏览器窗口。如果没有，请转到 `http://localhost:8888/tree`。如果你的其他 Notebook 服务器正在运行，端口号可能会有所不同。如果你找不到合适的服务器，请尝试8889而不是8888。\n",
    "\n",
    "你应该会看到 [intro_to_tensorflow.ipynb](../../../projects/intro-to-tensorflow/intro_to_tensorflow.ipynb)，这是你即将要工作的 notebook。notebook有3个问题要解决：\n",
    "\n",
    "- 问题1：标准化功能\n",
    "- 问题2：使用TensorFlow操作来创建特征，标签，重量和偏差张量\n",
    "- 问题3：调整学习速度，步数和批大小以获得最佳准确性\n",
    "\n",
    "这是一个自我评估的实验室。你可以将你的答案和解决方案在这里进行比较。如果你在完成实验时遇到任何困难，优达学城 会提供一些服务来回答你可能遇到的任何问题。\n",
    "\n",
    "## 帮助指南\n",
    "\n",
    "请记住，你可以从导师，论坛（单击教室左侧的链接）或 Slack 频道获得学习帮助。你还可以查看以前课程中的页面来回顾学习到的知识。\n",
    "\n",
    "\n",
    "## 开始作答项目\n",
    "\n",
    "[跳转到intro_to_tensorflow.ipynb](../../../projects/intro-to-tensorflow/intro_to_tensorflow.ipynb)\n",
    "\n",
    "[跳转到intro_to_tensorflow_solution.ipynb](../../../projects/intro-to-tensorflow/intro_to_tensorflow_solution.ipynb)\n"
   ]
  },
  {
   "cell_type": "code",
   "execution_count": null,
   "metadata": {},
   "outputs": [],
   "source": []
  }
 ],
 "metadata": {
  "kernelspec": {
   "display_name": "Python 3",
   "language": "python",
   "name": "python3"
  },
  "language_info": {
   "codemirror_mode": {
    "name": "ipython",
    "version": 3
   },
   "file_extension": ".py",
   "mimetype": "text/x-python",
   "name": "python",
   "nbconvert_exporter": "python",
   "pygments_lexer": "ipython3",
   "version": "3.6.4"
  }
 },
 "nbformat": 4,
 "nbformat_minor": 2
}
