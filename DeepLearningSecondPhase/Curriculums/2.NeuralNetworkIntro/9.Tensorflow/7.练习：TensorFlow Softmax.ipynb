{
 "cells": [
  {
   "cell_type": "markdown",
   "metadata": {},
   "source": [
    "# TensorFlow Softmax\n",
    "\n",
    "Softmax 函数可以把它的输入，通常被称为 logits 或者 logit scores，处理成 0 到 1 之间，并且能够把输出归一化到和为 1。这意味着 softmax 函数与分类的概率分布等价。它是一个网络预测`多分类`问题的`最佳输出激活函数`。\n",
    "\n",
    "<img src=\"../../../sources/img/NeuralNetworkIntro/tensorflow/softmax-input-output.png\" alt=\"\" />\n",
    "\n",
    "\n",
    "## TensorFlow Softmax\n",
    "\n",
    "当我们用 TensorFlow 来构建一个神经网络时，相应地，它有一个计算 softmax 的函数。\n",
    "\n",
    "```\n",
    "x = tf.nn.softmax([2.0, 1.0, 0.2])\n",
    "```\n",
    "\n",
    "就是这么简单，`tf.nn.softmax()` 直接为你实现了 `softmax` 函数，它输入 `logits`，返回 `softmax` 激活函数。\n",
    "\n",
    "\n",
    "## 练习\n",
    "\n",
    "在下面使用 softmax 函数返回 logits 的 softmax。"
   ]
  },
  {
   "cell_type": "code",
   "execution_count": 1,
   "metadata": {},
   "outputs": [
    {
     "name": "stdout",
     "output_type": "stream",
     "text": [
      "[ 0.65900117  0.24243298  0.09856589]\n"
     ]
    }
   ],
   "source": [
    "# Solution is available in the other \"solution.py\" tab\n",
    "import tensorflow as tf\n",
    "\n",
    "\n",
    "def run():\n",
    "    output = None\n",
    "    logit_data = [2.0, 1.0, 0.1]\n",
    "    logits = tf.placeholder(tf.float32)\n",
    "    \n",
    "    # TODO: Calculate the softmax of the logits\n",
    "    softmax = tf.nn.softmax(logits)  \n",
    "    \n",
    "    with tf.Session() as sess:\n",
    "        # TODO: Feed in the logit data\n",
    "        output = sess.run(softmax, feed_dict={logits: logit_data})\n",
    "\n",
    "    return output\n",
    "\n",
    "print(run())"
   ]
  },
  {
   "cell_type": "code",
   "execution_count": null,
   "metadata": {},
   "outputs": [],
   "source": []
  }
 ],
 "metadata": {
  "kernelspec": {
   "display_name": "Python 2",
   "language": "python",
   "name": "python2"
  },
  "language_info": {
   "codemirror_mode": {
    "name": "ipython",
    "version": 2
   },
   "file_extension": ".py",
   "mimetype": "text/x-python",
   "name": "python",
   "nbconvert_exporter": "python",
   "pygments_lexer": "ipython2",
   "version": "2.7.14"
  }
 },
 "nbformat": 4,
 "nbformat_minor": 2
}
