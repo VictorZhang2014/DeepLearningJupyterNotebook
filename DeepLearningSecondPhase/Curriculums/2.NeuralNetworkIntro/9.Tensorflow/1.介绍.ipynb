{
 "cells": [
  {
   "cell_type": "markdown",
   "metadata": {},
   "source": [
    "# 简介\n",
    "\n",
    "现在你已经是 Kera s神经网络的专家，那么你已经准备好学习 TensorFlow 了。 在这一纳米学位的以下部分，你将交替使用 Keras 和 TensorFlow。 Keras 非常适合于快速建立神经网络，但是它提取了很多细节。 TensorFlow 非常适合于理解神经网络如何在较低层次上运行。 在该课程中，你将了解什么是 TensorFlow，并做一些相关练习。\n",
    "\n",
    "祝你学习愉快!"
   ]
  },
  {
   "cell_type": "code",
   "execution_count": null,
   "metadata": {},
   "outputs": [],
   "source": []
  }
 ],
 "metadata": {
  "kernelspec": {
   "display_name": "Python 3",
   "language": "python",
   "name": "python3"
  },
  "language_info": {
   "codemirror_mode": {
    "name": "ipython",
    "version": 3
   },
   "file_extension": ".py",
   "mimetype": "text/x-python",
   "name": "python",
   "nbconvert_exporter": "python",
   "pygments_lexer": "ipython3",
   "version": "3.6.4"
  }
 },
 "nbformat": 4,
 "nbformat_minor": 2
}
