{
 "cells": [
  {
   "cell_type": "markdown",
   "metadata": {},
   "source": [
    "# TensorFlow 数学\n",
    "\n",
    "获取输入很棒，但是现在你需要使用它。你将使用每个人都懂的基础数学运算，加、减、乘、除，来处理 tensor。（更多数学函数请 [查看文档](https://www.tensorflow.org/api_guides/python/math_ops) ）。\n",
    "\n",
    "\n",
    "## 加法\n",
    "\n",
    "```\n",
    "x = tf.add(5, 2)  # 7\n",
    "```\n",
    "\n",
    "从加法开始，`tf.add()` 函数如你所想，它传入两个数字、两个 `tensor`、或数字和 `tensor` 各一个，以 tensor 的形式返回它们的和。\n",
    "\n",
    "\n",
    "## 减法和乘法\n",
    "\n",
    "这是减法和乘法的例子：\n",
    "\n",
    "```\n",
    "x = tf.subtract(10, 4) # 6\n",
    "y = tf.multiply(2, 5)  # 10\n",
    "```\n",
    "\n",
    "`x` tensor 求值结果是 `6`，因为 `10 - 4 = 6`。`y` tensor 求值结果是 `10`，因为 `2 * 5 = 10`。是不是很简单！\n",
    "\n",
    "\n",
    "## 类型转换\n",
    "\n",
    "为了让特定运算能运行，有时会对类型进行转换。例如，你尝试下列代码，会报错：\n",
    "\n",
    "```\n",
    "tf.subtract(tf.constant(2.0),tf.constant(1))  # Fails with ValueError: Tensor conversion requested dtype float32 for Tensor with dtype int32:\n",
    "```\n",
    "\n",
    "这是因为常量 `1` 是整数，但是常量 `2.0` 是浮点数，`subtract` 需要它们的类型匹配。\n",
    "\n",
    "在这种情况下，你可以确保数据都是同一类型，或者强制转换一个值为另一个类型。这里，我们可以把 2.0 转换成整数再相减，这样就能得出正确的结果：\n",
    "\n",
    "```\n",
    "tf.subtract(tf.cast(tf.constant(2.0), tf.int32), tf.constant(1))   # 1\n",
    "```\n",
    "\n",
    "\n",
    "## 练习\n",
    "\n",
    "让我们应用所学到的内容，转换一个算法到 `TensorFlow`。下面是一段简单的用除和减的算法。把这个算法从 `Python` 转换到 `TensorFlow` 并把结果打印出来。你可以用 `tf.constant()` 来对 `10`、`2` 和 `1` 赋值。"
   ]
  },
  {
   "cell_type": "code",
   "execution_count": 1,
   "metadata": {},
   "outputs": [
    {
     "name": "stdout",
     "output_type": "stream",
     "text": [
      "4.0\n"
     ]
    }
   ],
   "source": [
    "# Solution is available in the other \"solution.py\" tab\n",
    "import tensorflow as tf\n",
    "\n",
    "# TODO: Convert the following to TensorFlow:\n",
    "# x = 10\n",
    "# y = 2\n",
    "# z = x/y - 1\n",
    "\n",
    "x = tf.constant(10)\n",
    "y = tf.constant(2)\n",
    "z = tf.subtract(tf.divide(x, y), tf.cast(tf.constant(1), tf.float64))\n",
    "\n",
    "# TODO: Print z from a session\n",
    "with tf.Session() as sess:\n",
    "    output = sess.run(z)\n",
    "    print(output)\n"
   ]
  },
  {
   "cell_type": "code",
   "execution_count": null,
   "metadata": {},
   "outputs": [],
   "source": []
  }
 ],
 "metadata": {
  "kernelspec": {
   "display_name": "Python 3",
   "language": "python",
   "name": "python3"
  },
  "language_info": {
   "codemirror_mode": {
    "name": "ipython",
    "version": 3
   },
   "file_extension": ".py",
   "mimetype": "text/x-python",
   "name": "python",
   "nbconvert_exporter": "python",
   "pygments_lexer": "ipython3",
   "version": "3.6.4"
  }
 },
 "nbformat": 4,
 "nbformat_minor": 2
}
