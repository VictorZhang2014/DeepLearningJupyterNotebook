{
 "cells": [
  {
   "cell_type": "markdown",
   "metadata": {},
   "source": [
    "# 两层神经网络\n",
    "\n",
    "<img src=\"../../../sources/img/NeuralNetworkIntro/tensorflow/two-layer-network.png\" />\n",
    "\n",
    "在之前的课程和实验室中，你已经学会了如何建立一层神经网络。现在，你将学习如何使用TensorFlow构建多层神经网络。添加一个隐藏层到网络让它建模更复杂的功能。而且，在隐藏层上使用非线性激活函数可以模拟非线性函数。\n",
    "\n",
    "我们将学习在TensorFlow中实现的第一件事是ReLU隐藏层。 `ReLU`是一个`非线性函数`，又称`修正线性单元`。`ReLU`函数对于所有`负的输入`，`返回`为 `0`， `ReLU` 函数对所有负的输入，返回 0；`所有 x >0x>0` 的输入，返回 `xx`。\n",
    "\n",
    "和之前一样，下面的节点将建立在深度神经网络课程基础上。如果你需要重新理清思绪，你可以回顾一遍。\n",
    "\n",
    "- ReLU\n",
    "- Feedforward\n",
    "- Dropout\n"
   ]
  },
  {
   "cell_type": "code",
   "execution_count": null,
   "metadata": {},
   "outputs": [],
   "source": []
  }
 ],
 "metadata": {
  "kernelspec": {
   "display_name": "Python 3",
   "language": "python",
   "name": "python3"
  },
  "language_info": {
   "codemirror_mode": {
    "name": "ipython",
    "version": 3
   },
   "file_extension": ".py",
   "mimetype": "text/x-python",
   "name": "python",
   "nbconvert_exporter": "python",
   "pygments_lexer": "ipython3",
   "version": "3.6.4"
  }
 },
 "nbformat": 4,
 "nbformat_minor": 2
}
