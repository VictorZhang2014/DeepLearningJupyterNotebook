{
 "cells": [
  {
   "cell_type": "markdown",
   "metadata": {},
   "source": [
    "# 假阳性和假阴性"
   ]
  },
  {
   "cell_type": "code",
   "execution_count": 1,
   "metadata": {},
   "outputs": [
    {
     "data": {
      "text/html": [
       "<iframe src=\"https://www.youtube.com/embed/kLLpV3qkLBU\" width=\"800\" height=\"450\" frameborder=\"0\" allowfullscreen></iframe>"
      ],
      "text/plain": [
       "<IPython.core.display.HTML object>"
      ]
     },
     "execution_count": 1,
     "metadata": {},
     "output_type": "execute_result"
    }
   ],
   "source": [
    "from IPython.display import HTML\n",
    "\n",
    "HTML('<iframe src=\"https://www.youtube.com/embed/kLLpV3qkLBU\" width=\"800\" height=\"450\" frameborder=\"0\" allowfullscreen></iframe>')\n"
   ]
  },
  {
   "cell_type": "markdown",
   "metadata": {},
   "source": [
    "# 练习 1：医疗模型\n",
    "\n",
    "<img src=\"../../../sources/img/NeuralNetworkIntro/EvaluationMetrics/false-positive-medical.png\" alt=\"\" />\n",
    "\n",
    "### 在上述医疗示例中，哪种情况更糟，假阳性或假阴性？\n",
    "\n",
    "- 假阳性\n",
    "- 假阴性\n"
   ]
  },
  {
   "cell_type": "markdown",
   "metadata": {},
   "source": [
    "# 练习 2：垃圾邮件模型\n",
    "\n",
    "<img src=\"../../../sources/img/NeuralNetworkIntro/EvaluationMetrics/false-positive-email.png\" alt=\"\" />\n",
    "\n",
    "### 在上述垃圾邮件检测器中，哪个更糟糕，假阳性或假阴性？\n",
    "\n",
    "- 假阳性\n",
    "- 假阴性\n"
   ]
  },
  {
   "cell_type": "code",
   "execution_count": null,
   "metadata": {},
   "outputs": [],
   "source": []
  }
 ],
 "metadata": {
  "kernelspec": {
   "display_name": "Python 2",
   "language": "python",
   "name": "python2"
  },
  "language_info": {
   "codemirror_mode": {
    "name": "ipython",
    "version": 2
   },
   "file_extension": ".py",
   "mimetype": "text/x-python",
   "name": "python",
   "nbconvert_exporter": "python",
   "pygments_lexer": "ipython2",
   "version": "2.7.14"
  }
 },
 "nbformat": 4,
 "nbformat_minor": 2
}
