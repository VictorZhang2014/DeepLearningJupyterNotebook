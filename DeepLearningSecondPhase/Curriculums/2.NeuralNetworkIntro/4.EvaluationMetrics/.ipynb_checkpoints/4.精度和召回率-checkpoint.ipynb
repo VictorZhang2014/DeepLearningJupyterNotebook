{
 "cells": [
  {
   "cell_type": "markdown",
   "metadata": {},
   "source": [
    "# 精度和召回率"
   ]
  },
  {
   "cell_type": "code",
   "execution_count": 1,
   "metadata": {},
   "outputs": [
    {
     "data": {
      "text/html": [
       "<iframe src=\"https://www.youtube.com/embed/GhDV1WUFXRg\" width=\"800\" height=\"450\" frameborder=\"0\" allowfullscreen></iframe>"
      ],
      "text/plain": [
       "<IPython.core.display.HTML object>"
      ]
     },
     "execution_count": 1,
     "metadata": {},
     "output_type": "execute_result"
    }
   ],
   "source": [
    "from IPython.display import HTML\n",
    "\n",
    "HTML('<iframe src=\"https://www.youtube.com/embed/GhDV1WUFXRg\" width=\"800\" height=\"450\" frameborder=\"0\" allowfullscreen></iframe>')\n"
   ]
  },
  {
   "cell_type": "markdown",
   "metadata": {},
   "source": [
    "- 电子邮件模型需要的是高精度模型（High Precision）\n",
    "- 医疗模型需要的是高召回率模型 （High Recall）"
   ]
  },
  {
   "cell_type": "markdown",
   "metadata": {},
   "source": [
    "# 精度"
   ]
  },
  {
   "cell_type": "code",
   "execution_count": 2,
   "metadata": {},
   "outputs": [
    {
     "data": {
      "text/html": [
       "<iframe src=\"https://www.youtube.com/embed/tTanI2ikYIs\" width=\"800\" height=\"450\" frameborder=\"0\" allowfullscreen></iframe>"
      ],
      "text/plain": [
       "<IPython.core.display.HTML object>"
      ]
     },
     "execution_count": 2,
     "metadata": {},
     "output_type": "execute_result"
    }
   ],
   "source": [
    "\n",
    "HTML('<iframe src=\"https://www.youtube.com/embed/tTanI2ikYIs\" width=\"800\" height=\"450\" frameborder=\"0\" allowfullscreen></iframe>')\n"
   ]
  },
  {
   "cell_type": "markdown",
   "metadata": {},
   "source": [
    "** 精度率公式：正确诊断有病的人数(True Positive)  / （正确诊断有病的人数(True Positive) + 正确诊断没有病的人数(False Positive)） **\n",
    "\n",
    "### 练习题：\n",
    "\n",
    "<img src=\"../../../sources/img/NeuralNetworkIntro/EvaluationMetrics/precision-quiz.png\" alt=\"\" />\n",
    "\n",
    "上述线性模型的精度是多少？答案可以是百分比，例如 45%，或小数，例如 0.45。\n",
    "\n",
    "### 正确答案是：\n",
    "\n",
    "<img src=\"../../../sources/img/NeuralNetworkIntro/EvaluationMetrics/precision-answer.png\" alt=\"\" />\n"
   ]
  },
  {
   "cell_type": "markdown",
   "metadata": {},
   "source": [
    "# 召回率"
   ]
  },
  {
   "cell_type": "code",
   "execution_count": 3,
   "metadata": {},
   "outputs": [
    {
     "data": {
      "text/html": [
       "<iframe src=\"https://www.youtube.com/embed/rNWAriJqZ9w\" width=\"800\" height=\"450\" frameborder=\"0\" allowfullscreen></iframe>"
      ],
      "text/plain": [
       "<IPython.core.display.HTML object>"
      ]
     },
     "execution_count": 3,
     "metadata": {},
     "output_type": "execute_result"
    }
   ],
   "source": [
    "\n",
    "HTML('<iframe src=\"https://www.youtube.com/embed/rNWAriJqZ9w\" width=\"800\" height=\"450\" frameborder=\"0\" allowfullscreen></iframe>')\n"
   ]
  },
  {
   "cell_type": "markdown",
   "metadata": {},
   "source": [
    "** 召回率 = 真正生病的人（True Positive） / （真正生病的人（True Positive） + 被误诊断为健康的人（False Negative））**\n",
    "\n",
    "\n",
    "### 练习题\n",
    "\n",
    "<img src=\"../../../sources/img/NeuralNetworkIntro/EvaluationMetrics/recall-quiz.png\" alt=\"\" />\n",
    "\n",
    "上述线性模型的召回率是多少？答案可以是百分比，例如 45%，或小数，例如 0.45。\n",
    "\n",
    "### 正确答案\n",
    "\n",
    "<img src=\"../../../sources/img/NeuralNetworkIntro/EvaluationMetrics/recall-answer.png\" alt=\"\" />"
   ]
  },
  {
   "cell_type": "code",
   "execution_count": 4,
   "metadata": {
    "scrolled": false
   },
   "outputs": [
    {
     "data": {
      "text/html": [
       "<iframe src=\"https://www.youtube.com/embed/2ydri2Cu1_8\" width=\"800\" height=\"450\" frameborder=\"0\" allowfullscreen></iframe>"
      ],
      "text/plain": [
       "<IPython.core.display.HTML object>"
      ]
     },
     "execution_count": 4,
     "metadata": {},
     "output_type": "execute_result"
    }
   ],
   "source": [
    "\n",
    "HTML('<iframe src=\"https://www.youtube.com/embed/2ydri2Cu1_8\" width=\"800\" height=\"450\" frameborder=\"0\" allowfullscreen></iframe>')\n"
   ]
  },
  {
   "cell_type": "markdown",
   "metadata": {},
   "source": [
    "## 另一个评估模型的技巧\n",
    "\n",
    "- Receiver Operating Characteristic Curve = 受试者工作特征曲线 = ROC曲线\n",
    "- ROC曲线下的面积越接近1，模型就越好\n"
   ]
  },
  {
   "cell_type": "markdown",
   "metadata": {},
   "source": [
    "## 总结\n",
    "\n",
    "- 精确率公式：True Positive / (True Positive + False Positive)\n",
    "- 召回率公式：True Positive / (True Positive + False Negative)"
   ]
  },
  {
   "cell_type": "code",
   "execution_count": null,
   "metadata": {},
   "outputs": [],
   "source": []
  }
 ],
 "metadata": {
  "kernelspec": {
   "display_name": "Python 2",
   "language": "python",
   "name": "python2"
  },
  "language_info": {
   "codemirror_mode": {
    "name": "ipython",
    "version": 2
   },
   "file_extension": ".py",
   "mimetype": "text/x-python",
   "name": "python",
   "nbconvert_exporter": "python",
   "pygments_lexer": "ipython2",
   "version": "2.7.14"
  }
 },
 "nbformat": 4,
 "nbformat_minor": 2
}
