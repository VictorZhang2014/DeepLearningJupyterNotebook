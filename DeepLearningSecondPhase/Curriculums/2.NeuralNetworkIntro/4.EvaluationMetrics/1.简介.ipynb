{
 "cells": [
  {
   "cell_type": "markdown",
   "metadata": {},
   "source": [
    "# 简介\n",
    "\n",
    "<img src=\"../../../sources/img/NeuralNetworkIntro/EvaluationMetrics/meme.png\" alt=\"\" width=\"500\" height=\"500\" />\n",
    "\n",
    "Hi again!\n",
    "\n",
    "Now that we know how to train neural networks, and how to optimize their training,, we need to know how to evaluate their behavior properly. For this, we use certain very useful metrics. In this section, we'll learn some of the most common metrics used in deep learning, and also in machine learning in general."
   ]
  },
  {
   "cell_type": "code",
   "execution_count": null,
   "metadata": {},
   "outputs": [],
   "source": []
  },
  {
   "cell_type": "code",
   "execution_count": null,
   "metadata": {},
   "outputs": [],
   "source": []
  }
 ],
 "metadata": {
  "kernelspec": {
   "display_name": "Python 2",
   "language": "python",
   "name": "python2"
  },
  "language_info": {
   "codemirror_mode": {
    "name": "ipython",
    "version": 2
   },
   "file_extension": ".py",
   "mimetype": "text/x-python",
   "name": "python",
   "nbconvert_exporter": "python",
   "pygments_lexer": "ipython2",
   "version": "2.7.14"
  }
 },
 "nbformat": 4,
 "nbformat_minor": 2
}
