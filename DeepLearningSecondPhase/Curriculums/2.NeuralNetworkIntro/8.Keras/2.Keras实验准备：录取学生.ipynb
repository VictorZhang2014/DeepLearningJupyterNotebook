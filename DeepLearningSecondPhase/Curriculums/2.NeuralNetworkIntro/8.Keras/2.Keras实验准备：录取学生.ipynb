{
 "cells": [
  {
   "cell_type": "markdown",
   "metadata": {},
   "source": [
    "# 迷你项目之 Keras 实验准备: 录取学生\n",
    "\n",
    "现在我们准备分析 Keras 上的整个数据集。我们将分析以下加州大学洛杉矶分校的学生录取数据集： \n",
    "\n",
    "[http://www.ats.ucla.edu/stat/data/binary.csv](http://www.ats.ucla.edu/stat/data/binary.csv)\n",
    "\n",
    "在本课的学习过程中，我们鼓励你在页面末尾参考 Jupyter Notebook。我们将为你提供一个解决方案，但请尝试创建自己的深度学习模型！这种体验的价值很大程度上在于，用你自己的方式玩转代码。\n",
    "\n",
    "## 克隆 repo 并打开 Notebook\n",
    " \n",
    "通过在终端中执行以下命令，从 [GitHub存储库](https://github.com/udacity/aind2-dl) 中克隆这些资料：\n",
    "\n",
    "按照仓库中的说明设置 Conda 环境并安装必要的依赖项。\n",
    "\n",
    "在本实验中，导航到主分支，然后打开 \n",
    "\n",
    "- [Student_Admissions.ipynb](../../../projects/keras-miniproject-acceptance-students-aind2-dl/Student_Admissions.ipynb)\n",
    "- [student_data.csv](../../../projects/keras-miniproject-acceptance-students-aind2-dl/student_data.csv)\n",
    "- [README.md](../../../projects/keras-miniproject-acceptance-students-aind2-dl/README.md)\n",
    "\n",
    "\n",
    "## 研究数据\n",
    "\n",
    "数据集包含以下列：\n",
    "\n",
    "- 学生 GPA（成绩）\n",
    "- GRE 考试成绩（考试）\n",
    "- 级别（1-4）\n",
    "\n",
    "首先，我们来看看数据。为此，我们将在 `pandas` 中使用 `read_csv` 函数。"
   ]
  },
  {
   "cell_type": "code",
   "execution_count": null,
   "metadata": {},
   "outputs": [],
   "source": [
    "import pandas as pd\n",
    "data = pd.read_csv('http://www.ats.ucla.edu/stat/data/binary.csv')\n",
    "print(data)"
   ]
  },
  {
   "cell_type": "markdown",
   "metadata": {},
   "source": [
    "<img src=\"../../../sources/img/NeuralNetworkIntro/Keras/keras-lab-acceptance-student.png\" alt=\"\" />\n",
    "\n",
    "在这里我们可以看到第一列是标签 y，它对应于接受/拒绝。 即标签 1 表示学生被录取，标签 0 表示学生被录取。\n",
    "\n",
    "当我们绘制数据时，会得到如下图表，不幸的是，数据并不像我们希望的那么整洁得一目了然：\n",
    "\n",
    "<img src=\"../../../sources/img/NeuralNetworkIntro/Keras/keras-lab-student-acceptance-1.png\" alt=\"\" />\n",
    "\n",
    "接下来，我们可以做的一件事就是为每一四个等级制作一张图。 在这种情况下，我们得到这个：\n",
    "\n",
    "<img src=\"../../../sources/img/NeuralNetworkIntro/Keras/keras-lab-student-acceptance-rank-1.png\" alt=\"\" />\n",
    "\n",
    "\n",
    "# 预处理数据\n",
    "\n",
    "从这里，我们看到更多的希望。 因为看起来的情况是学生的考试成绩越好，他们越有可能被录取。 等级与此有关。 所以我们要做的是，对排名等级进行一次性编码，我们的6个输入变量是：\n",
    "\n",
    "- 考试 (GPA)\n",
    "- 成绩 (GRE)\n",
    "- 等级 1\n",
    "- 等级 2\n",
    "- 等级 3\n",
    "- 等级 4.\n",
    "\n",
    "最后4个输入将是二进制变量，如果学生具有该等级，则其值为1，否则为0。\n",
    "\n",
    "首先要注意的是，考试分数的范围是800，而成绩范围是4，这是一个巨大的差异，这会影响我们的训练。 通常情况下，`最好`的`办法`是将分数`归一化`，使其`在0和1之间`。我们可以这样做：\n",
    "\n",
    "```\n",
    " data[\"gre\"] = data[\"gre\"]/800\n",
    " data[\"gpa\"] = data[\"gpa\"]/4\n",
    "```\n",
    "\n",
    "现在，我们将数据输入分成 X和标签 y，并对输出进行单热编码，因此它显示为两类（录取和不录取）。\n",
    "\n",
    "```\n",
    " X = np.array(data)[:,1:]\n",
    " y = np_utils.to_categorical(np.array(data[\"admit\"]))\n",
    "```\n",
    "\n",
    "### 构建模型架构\n",
    "\n",
    "最后，我们定义模型架构。 我们可以使用不同的架构，不过这里有一个例子："
   ]
  },
  {
   "cell_type": "code",
   "execution_count": null,
   "metadata": {},
   "outputs": [],
   "source": [
    " model = Sequential()\n",
    " model.add(Dense(128, input_dim=6))\n",
    " model.add(Activation('sigmoid'))\n",
    " model.add(Dense(32))\n",
    " model.add(Activation('sigmoid'))\n",
    " model.add(Dense(2))\n",
    " model.add(Activation('sigmoid'))\n",
    " model.compile(loss = 'categorical_crossentropy', optimizer='adam', metrics=['accuracy'])\n",
    " model.summary()"
   ]
  },
  {
   "cell_type": "markdown",
   "metadata": {},
   "source": [
    "`categorical_crossentropy` 会给出错误函数，我们一直在使用，但还有其他选项。 有几个优化器可供你选择，以改善你的训练。 在这里我们会使用`adam`，但像`rmsprop`也很有用。 它们使用了我们在下面的课程中即将介绍的各种技巧。\n",
    "\n",
    "模型总结将告诉我们以下内容：\n",
    "\n",
    "<img src=\"../../../sources/img/NeuralNetworkIntro/Keras/keras-lab-student-acceptance-summary.png\" alt=\"\" />\n",
    "\n",
    "### 训练模型\n",
    "\n",
    "现在，我们用 1000 个 epho 训练模型。 不用担心遇到batch_size，我们很快就会学到它。\n",
    "\n",
    "```\n",
    " model.fit（X_train，y_train，epochs = 1000，batch_size = 100，verbose = 0）\n",
    "```\n",
    "\n",
    "### 评估模型\n",
    "\n",
    "最后，我们可以评估我们的模型。\n",
    "\n",
    "```\n",
    "  score = model.evaluate（X_train，y_train）\n",
    "```\n",
    "\n",
    "结果可能会有所不同，但你应该可以获得超过70％的准确度。\n",
    "\n",
    "现在，你已经训练了你的第一个神经网络来分析一个数据集。 在接下来的节点中，你将学习许多技巧来改进训练过程。\n"
   ]
  },
  {
   "cell_type": "code",
   "execution_count": null,
   "metadata": {},
   "outputs": [],
   "source": []
  }
 ],
 "metadata": {
  "kernelspec": {
   "display_name": "Python 2",
   "language": "python",
   "name": "python2"
  },
  "language_info": {
   "codemirror_mode": {
    "name": "ipython",
    "version": 2
   },
   "file_extension": ".py",
   "mimetype": "text/x-python",
   "name": "python",
   "nbconvert_exporter": "python",
   "pygments_lexer": "ipython2",
   "version": "2.7.14"
  }
 },
 "nbformat": 4,
 "nbformat_minor": 2
}
