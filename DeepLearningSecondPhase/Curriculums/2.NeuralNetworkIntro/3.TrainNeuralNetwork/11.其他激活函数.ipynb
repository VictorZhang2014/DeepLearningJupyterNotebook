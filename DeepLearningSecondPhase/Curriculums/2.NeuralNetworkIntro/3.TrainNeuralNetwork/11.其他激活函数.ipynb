{
 "cells": [
  {
   "cell_type": "markdown",
   "metadata": {},
   "source": [
    "# 其他激活函数"
   ]
  },
  {
   "cell_type": "code",
   "execution_count": 1,
   "metadata": {},
   "outputs": [
    {
     "data": {
      "text/html": [
       "<iframe src=\"https://www.youtube.com/embed/VzGOR5SlFSw\" width=\"800\" height=\"450\" frameborder=\"0\" allowfullscreen></iframe>"
      ],
      "text/plain": [
       "<IPython.core.display.HTML object>"
      ]
     },
     "execution_count": 1,
     "metadata": {},
     "output_type": "execute_result"
    }
   ],
   "source": [
    "from IPython.display import HTML\n",
    "\n",
    "HTML('<iframe src=\"https://www.youtube.com/embed/VzGOR5SlFSw\" width=\"800\" height=\"450\" frameborder=\"0\" allowfullscreen></iframe>')\n"
   ]
  },
  {
   "cell_type": "markdown",
   "metadata": {},
   "source": [
    "# Keras 中的其他激活函数\n",
    "\n",
    "更改激活函数很简单。到目前为止，我们一直在使用 s 型函数（如果有多个类别，则使用 softmax，例如我们对输出进行一位热码编码时），并按以下方式添加到层级中：\n",
    "\n",
    "`model.add(Activation('sigmoid'))` 或 `model.add(Activation('softmax'))`\n",
    "\n",
    "如果我们要使用 relu 或 tanh，则直接将层级名称指定为 relu 或 tanh：\n",
    "\n",
    "`model.add(Activation('relu'))` 或 `model.add(Activation('tanh'))`\n",
    "\n",
    "\n"
   ]
  },
  {
   "cell_type": "code",
   "execution_count": null,
   "metadata": {},
   "outputs": [],
   "source": []
  }
 ],
 "metadata": {
  "kernelspec": {
   "display_name": "Python 2",
   "language": "python",
   "name": "python2"
  },
  "language_info": {
   "codemirror_mode": {
    "name": "ipython",
    "version": 2
   },
   "file_extension": ".py",
   "mimetype": "text/x-python",
   "name": "python",
   "nbconvert_exporter": "python",
   "pygments_lexer": "ipython2",
   "version": "2.7.14"
  }
 },
 "nbformat": 4,
 "nbformat_minor": 2
}
