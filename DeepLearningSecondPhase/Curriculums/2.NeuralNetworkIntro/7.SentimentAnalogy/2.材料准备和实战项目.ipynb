{
 "cells": [
  {
   "cell_type": "markdown",
   "metadata": {},
   "source": [
    "# 材料\n",
    "\n",
    "在你学习该课程中，打开Jupyter Notebook 并尝试练习是非常重要的。 这种学习体验的价值很大程度上在于，将你的解决方案与Andrew的答案对比，发现其中的不同之处。你会学会用自己的方式玩转代码。这样你会从课程中受益匪浅！\n",
    "\n",
    "\n",
    "## 工作区\n",
    "\n",
    "如果你希望将 `Notebook` 下载下来，你可以从我们的 Github 仓库 下载下来. 你既可以使用 `git clone https://github.com/VictorZhang2014/deep-learning.git` 下载该仓库，也可以从这一链接中以存档文件的形式 [下载](https://github.com/VictorZhang2014/deep-learning/archive/master.zip) 下来。\n",
    "\n",
    "在该课程中，你会使用到如下文件：\n",
    "\n",
    "- `Sentiment_Classification_Projects.ipynb` - 一个Notebook，你将用它来学习并演练迷你项目。\n",
    "- `Sentiment_Classification_Solutions.ipynb` - 一个Notebook，包括Andrew课程项目的解决方案，供你参考\n",
    "- 每个迷你项目的解决方案的Notebook\n",
    "- `reviews.txt` - 包含了2.5万个电影评论\n",
    "- `labels.txt` - 在reviews.txt中包含相关评论的正面/负面情绪标签\n",
    "\n",
    "\n",
    "[跳转到项目练习页 Sentiment_Classification_Projects.ipynb](../../../projects/sentiment-classification/Sentiment_Classification_Projects.ipynb)\n",
    "\n",
    "[跳转到项目练习的解决方案页 Sentiment_Classification_Projects.ipynb](../../../projects/sentiment-classification/Sentiment_Classification_Solutions.ipynb)\n"
   ]
  },
  {
   "cell_type": "markdown",
   "metadata": {},
   "source": [
    "\n",
    "## 总结\n",
    "\n",
    "- 1.神经网络本身不能做任何事情；\n",
    "- 2.神经网络唯一能做的事情是：搜索两个数据集之间直接的或者间接的相关性\n",
    "- 3.为了让神经网络来做训练，我们需要提供两个有意义的数据集；第一个数据集代表我们已知的信息，第二个数据集代表我们想要知道的信息。"
   ]
  },
  {
   "cell_type": "code",
   "execution_count": null,
   "metadata": {},
   "outputs": [],
   "source": []
  }
 ],
 "metadata": {
  "kernelspec": {
   "display_name": "Python 3",
   "language": "python",
   "name": "python3"
  },
  "language_info": {
   "codemirror_mode": {
    "name": "ipython",
    "version": 3
   },
   "file_extension": ".py",
   "mimetype": "text/x-python",
   "name": "python",
   "nbconvert_exporter": "python",
   "pygments_lexer": "ipython3",
   "version": "3.6.4"
  }
 },
 "nbformat": 4,
 "nbformat_minor": 2
}
