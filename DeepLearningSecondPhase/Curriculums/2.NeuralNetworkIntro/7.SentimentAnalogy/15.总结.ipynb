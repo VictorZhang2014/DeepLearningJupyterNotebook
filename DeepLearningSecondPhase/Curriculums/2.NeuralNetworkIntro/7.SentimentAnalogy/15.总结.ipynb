{
 "cells": [
  {
   "cell_type": "markdown",
   "metadata": {},
   "source": [
    "# 总结"
   ]
  },
  {
   "cell_type": "code",
   "execution_count": 1,
   "metadata": {},
   "outputs": [
    {
     "data": {
      "text/html": [
       "<iframe src=\"https://www.youtube.com/embed/nIF0GLOQglQ\" width=\"800\" height=\"450\" frameborder=\"0\" allowfullscreen></iframe>"
      ],
      "text/plain": [
       "<IPython.core.display.HTML object>"
      ]
     },
     "execution_count": 1,
     "metadata": {},
     "output_type": "execute_result"
    }
   ],
   "source": [
    "from IPython.display import HTML\n",
    "\n",
    "HTML('<iframe src=\"https://www.youtube.com/embed/nIF0GLOQglQ\" width=\"800\" height=\"450\" frameborder=\"0\" allowfullscreen></iframe>')\n"
   ]
  },
  {
   "cell_type": "markdown",
   "metadata": {},
   "source": [
    "# 总结 \n",
    "\n",
    "- 1.梳理数据集\n",
    "    - 电影的评论(reviews)\n",
    "    - 这些评论（reviews）的正面或者负面的评价（labels）\n",
    "- 2.训练神经网络\n",
    "    - 精确每秒达到100 reviews，精确度为60%\n",
    "- 3.对数据集增加信号量，减少噪音\n",
    "    - 精确每秒达到每秒7000 reviews， 精确度达到86%\n",
    "    \n",
    "    \n",
    "\n",
    "[跳转到项目练习页 Sentiment_Classification_Projects.ipynb](../../../projects/sentiment-classification/Sentiment_Classification_Projects.ipynb)\n",
    "\n",
    "[跳转到项目练习的解决方案页 Sentiment_Classification_Projects.ipynb](../../../projects/sentiment-classification/Sentiment_Classification_Solutions.ipynb)\n",
    "    \n"
   ]
  },
  {
   "cell_type": "code",
   "execution_count": null,
   "metadata": {},
   "outputs": [],
   "source": []
  }
 ],
 "metadata": {
  "kernelspec": {
   "display_name": "Python 3",
   "language": "python",
   "name": "python3"
  },
  "language_info": {
   "codemirror_mode": {
    "name": "ipython",
    "version": 3
   },
   "file_extension": ".py",
   "mimetype": "text/x-python",
   "name": "python",
   "nbconvert_exporter": "python",
   "pygments_lexer": "ipython3",
   "version": "3.6.4"
  }
 },
 "nbformat": 4,
 "nbformat_minor": 2
}
