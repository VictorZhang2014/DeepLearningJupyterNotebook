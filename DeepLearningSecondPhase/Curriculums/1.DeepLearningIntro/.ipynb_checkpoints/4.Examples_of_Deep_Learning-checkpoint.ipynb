{
 "cells": [
  {
   "cell_type": "markdown",
   "metadata": {
    "slideshow": {
     "slide_type": "slide"
    }
   },
   "source": [
    "# 简介\n",
    "\n",
    "在这节课，我们将研究几个非常有趣的深度学习应用，这些应用是其他人已经在 Github 上提供的预先训练过的模型。如果你对具体情况不明白，也没关系！我们只是希望你能从几个不同的应用中了解深度学习的强大用处，并研究一下这些模型。你将在课程的后续部分深入了解这些模型。暂时先找些乐趣，并在适用时应用到自己的示例中！\n",
    "\n",
    "注意，这节课完全是可选内容，如果你想跳过，完全可以！"
   ]
  },
  {
   "cell_type": "markdown",
   "metadata": {
    "slideshow": {
     "slide_type": "slide"
    }
   },
   "source": [
    "# 1.风格迁移\n",
    "\n",
    "为了展示深度学习模型可以实现的各种功能，我们现在来研究一个非常有趣的项目，叫做快速风格迁移。通过 [风格迁移](https://github.com/lengstrom/fast-style-transfer)，你可以按照著名的画作重新创建风格一样的图片！神经网络会学习这些画作采用的技巧，并学会如何自己应用这些绘画技巧。此模型根据著名画作的风格进行了训练，能够将这些风格迁移到其他图片上，[甚至视频上](https://www.youtube.com/watch?v=xVJwwWQlQ1o) ！\n",
    "\n",
    "我用该模型对我的猫咪 Chihiro 的图片进行了风格迁移，采用的是 [Hokusai](https://en.wikipedia.org/wiki/Hokusai) (一位日本艺术家) 的 [The Great Wave Off Kanagawa](https://en.wikipedia.org/wiki/The_Great_Wave_off_Kanagawa) （一副作品，叫做神奈川的大浪）。\n",
    "\n",
    "<img src=\"../../sources/img/chi-waves.png\" alt=\"\" width=\"500\" height=\"1300\" />\n",
    "\n",
    "\n",
    "要自己试一下，你可以在 [fast-style-transfer GitHub 资源库](https://github.com/lengstrom/fast-style-transfer) 中找到相关代码。你可以使用 `git` 克隆该资源库，或将整个资源库下载为 Zip 归档文件，并解压。\n",
    "\n",
    "该神经网络按照( [此处](https://github.com/lengstrom/fast-style-transfer/tree/master/examples/style) )的几种不同风格进行了训练，并保存在 [检查点文件](https://drive.google.com/drive/folders/0B9jhaT37ydSyRk9UX0wwX3BpMzQ) 中。检查点文件包含了关于已训练神经网络的所有信息，可以将风格应用到新的图片上。\n",
    "\n",
    "\n",
    "### 依赖项\n",
    "\n",
    "安装运行该代码所需的所有程序包的最简单方式是使用 [Miniconda](https://conda.io/miniconda.html)，它是更简版本的 [Anaconda](https://www.continuum.io/downloads) 。 Miniconda 自带了 Conda，后者是专门用于数据科学的程序包和环境管理器。请安装适合你的操作系统的 Python 3 版本的 Miniconda。\n",
    "\n",
    "如果你之前没有使用过 Conda，请快速阅读我们在上一课的教程。\n",
    "\n",
    "\n",
    "#### Windows\n",
    "\n",
    "对于 Windows，你需要安装 TensorFlow 0.12.1、Python 3.5、Pillow 3.4.2、scipy 0.18.1 和 numpy 1.11.2。安装 Miniconda 后，打开你的命令提示符窗口。然后逐行输入以下命令：\n",
    "\n",
    "> ```\n",
    "conda create -n style-transfer python=3.5\n",
    "activate style-transfer\n",
    "pip install tensorflow\n",
    "conda install scipy pillow\n",
    "```\n",
    "\n",
    "第一行创建一个新的环境，其中存储了格式迁移代码所需的程序包。第二行 (`activate style-transfer`) 会进入该环境，你应该会在提示符窗口的开头看到环境名称。接下来的两行负责安装 TensorFlow、Scipy 和 Pillow（一种图像处理库）。\n",
    "\n",
    "\n",
    "#### OS X 和 Linux\n",
    "\n",
    "对于 OS X 和 Linux，你需要安装 TensorFlow 1.6.0、Python 2.7.9、Pillow 3.4.2、scipy 0.18.1 和 numpy 1.11.2.\n",
    "\n",
    "在终端里，逐行输入以下命令：\n",
    "\n",
    "> ``` \n",
    "conda create -n style-transfer python=2.7.9\n",
    "source activate style-transfer\n",
    "pip install tensorflow\n",
    "conda install scipy pillow\n",
    "```\n",
    "\n",
    "第一行创建一个新的环境，其中存储了格式迁移代码所需的程序包。第二行 (`source activate style-transfer`) 进入该环境，你应该会在提示符窗口的开头看到环境名称。接下来的两行负责安装 TensorFlow、Scipy 和 Pillow（一种图像处理库）。\n",
    "\n",
    "[conda的基本命令向导](https://conda.io/docs/commands.html)\n",
    "\n",
    "\n",
    "## 迁移风格\n",
    "- 1.从[fast-style-transfer](https://github.com/lengstrom/fast-style-transfer)资源库中下载 Zip 归档文件并解压。你可以通过点击右侧的亮绿色按钮进行下载。\n",
    "- 2.从 [此处](sources/files/) </a>下载 Rain Princess 检查点，将其放在 fast-style-transfer 文件夹中。检查点文件是已经调谐参数的模型。使用此检查点文件后我们不需要再训练该模型，可以直接使用。\n",
    "- 3.将你要调整格式的图片放到 fast-style-transfer 文件夹。\n",
    "- 4.进入你之前创建的 Conda 环境（如果不在里面的话）。\n",
    "- 5.在终端里，转到 fast-style-transfer 文件夹并输入\n",
    "\n",
    "`python evaluate.py --checkpoint ./rain-princess.ckpt --in-path <path_to_input_file> --out-path ./output_image.jpg`\n",
    "\n",
    "\n",
    "> 注意：你的检查点文件可能名称为 `rain_princess.ckpt`，注意是下划线，而不是上面的连字符。\n",
    "\n",
    "\n",
    "你可以在此页面的底部获得更多检查点文件，都试试吧！\n",
    "\n",
    "请在论坛（[中文论坛](https://discussions.youdaxue.com/)，[英文论坛](https://discussions.udacity.com/)）中或 [Slack](https://nd101.slack.com/) 频道 `#l-applying-dl` 上分享你创建的内容。我们非常希望能够看到你的成果。此外，你也可以去训练你自己的图片上的网络，你可以在资源库中找到说明（但是需要足够的硬件支持）。\n",
    "\n",
    "> 注意：要留意输入图片的大小，风格迁移在运行大型文件时，会花费很长的时间。\n",
    "\n",
    "\n",
    "\n",
    "Checkpoint 按照以下画作进行了训练：\n",
    "\n",
    "- [Rain Princesss checkpoint](sources/files/rain-princess.ckpt)，作者：[Leonid Afremov](https://afremov.com/Leonid-Afremov-bio.html)\n",
    "\n",
    "- [La Muse checkpoint](sources/files/la-muse.ckpt)，作者：[Pablo Picasso](https://en.wikipedia.org/wiki/Pablo_Picasso)\n",
    "\n",
    "- [Udnie checkpoint](sources/files/udnie.ckpt)，作者：[Francis Picabia](https://en.wikipedia.org/wiki/Francis_Picabia)\n",
    "\n",
    "- [Scream checkpoint](sources/files/scream.ckpt)，作者：[Edvard Munch](https://en.wikipedia.org/wiki/Edvard_Munch)\n",
    "\n",
    "- [The Great Wave off Kanagawa checkpoint](sources/files/wave.ckpt)，作者：[Hokusai](https://en.wikipedia.org/wiki/Hokusai)\n",
    "\n",
    "- [The Shipwreck of the Minotaur checkpoint](sources/files/wreck.ckpt)，作者：[J.M.W. Turner](https://en.wikipedia.org/wiki/J._M._W._Turner)\n",
    "\n",
    "\n",
    "\n"
   ]
  },
  {
   "cell_type": "code",
   "execution_count": null,
   "metadata": {
    "slideshow": {
     "slide_type": "slide"
    }
   },
   "outputs": [],
   "source": []
  },
  {
   "cell_type": "markdown",
   "metadata": {
    "slideshow": {
     "slide_type": "slide"
    }
   },
   "source": [
    "# 2.DeepTraffic\n",
    "\n",
    "你可以在 [此处](https://selfdrivingcars.mit.edu/deeptrafficjs/) 找到 DeepTraffic 模拟器。该神经网络尝试学习一种驾驶策略，使汽车能够通过 [强化学习](https://en.wikipedia.org/wiki/Reinforcement_learning) 以尽量最快的速度驾驶。当汽车选择的操作使汽车能快速移动时，该神经网络会受到奖励。正是这种反馈使得该网络能够找到实现最佳速度的操作策略。\n",
    "\n",
    "要详细了解如何设置参数和训练该网络，请阅读 [此处的概述](https://selfdrivingcars.mit.edu/deeptraffic/)。\n",
    "\n",
    "请在 `Slack #deeptraffic` 频道上与其他学员讨论你的网络构建方法和结果。"
   ]
  },
  {
   "cell_type": "code",
   "execution_count": 1,
   "metadata": {
    "slideshow": {
     "slide_type": "slide"
    }
   },
   "outputs": [
    {
     "data": {
      "text/html": [
       "<iframe src=\"https://www.youtube.com/embed/az5ElmV4DhY\" width=\"560\" height=\"315\"  frameborder=\"0\" allowfullscreen></iframe>"
      ],
      "text/plain": [
       "<IPython.core.display.HTML object>"
      ]
     },
     "execution_count": 1,
     "metadata": {},
     "output_type": "execute_result"
    }
   ],
   "source": [
    "from IPython.display import HTML\n",
    "\n",
    "HTML('<iframe src=\"https://www.youtube.com/embed/az5ElmV4DhY\" width=\"560\" height=\"315\"  frameborder=\"0\" allowfullscreen></iframe>')"
   ]
  },
  {
   "cell_type": "code",
   "execution_count": null,
   "metadata": {
    "slideshow": {
     "slide_type": "slide"
    }
   },
   "outputs": [],
   "source": []
  },
  {
   "cell_type": "markdown",
   "metadata": {
    "slideshow": {
     "slide_type": "slide"
    }
   },
   "source": [
    "# 3.Flappy Bird\n",
    "\n",
    "在此示例中，你将看到一个深度学习代理在玩 Flappy Bird！你可以自己训练该代理，但是现在我们先开始使用作者提供的预先训练好的网络。注意，下面的代理能够直接玩游戏，不用告诉它关于游戏结构或规则的任何信息。它会通过查看每次循环时的操作流程，自动发现游戏规则。\n",
    "\n",
    "我们将使用此 [GitHub 代码库](https://github.com/yenchenlin/DeepLearningFlappyBird)（作者：Yenchen Lin）\n",
    "\n",
    "<img src=\"../../sources/img/flappy-bird.jpg\" alt=\"\" width=\"700\" height=\"400\" />\n",
    "\n",
    "\n",
    "#### 说明\n",
    "\n",
    "- 1.安装 `miniconda` 或 `anaconda`（如果尚未安装的话）。你可以按照我们在前一课的教程操作。\n",
    "- 2.为 `flappybird` 创建一个环境\n",
    "    - Mac/Linux：`conda create --name=flappybird python=2.7`\n",
    "    - Windows：`conda create --name=flappybird python=3.5`\n",
    "- 3.进入你的 conda 环境\n",
    "    - Mac/Linux：`source activate flappybird`\n",
    "    - Windows：`activate flappybird`\n",
    "- 4.`conda install -c menpo opencv3`\n",
    "- 5.`pip install pygame`\n",
    "- 6.`pip install tensorflow`\n",
    "- 7.`git clone https://github.com/yenchenlin/DeepLearningFlappyBird.git`\n",
    "- 8.`cd DeepLearningFlappyBird`\n",
    "- 9.`python deep_q_network.py`\n",
    "\n",
    "如果一切正常，你应该会看到一个基于深度学习的代理在玩 Flappy Bird！资源库中包含了训练你自己的代理的说明，如果你感兴趣的话！\n",
    "\n",
    "\n"
   ]
  },
  {
   "cell_type": "code",
   "execution_count": null,
   "metadata": {},
   "outputs": [],
   "source": []
  },
  {
   "cell_type": "markdown",
   "metadata": {
    "slideshow": {
     "slide_type": "slide"
    }
   },
   "source": [
    "# 课外读书\n",
    "\n",
    "<img src=\"../../sources/img/grokking-deep-learning.jpg\" alt=\"\" width=\"400\" height=\"600\" />\n",
    "\n",
    "### 课外图书\n",
    "我们认为最佳学习方法是了解不同人对同一概念提出的不同见解。因此，我们建议你阅读以下几本图书，进一步了解深度学习。\n",
    "\n",
    "- [Grokking Deep Learning](https://www.manning.com/books/grokking-deep-learning)，作者：Andrew Trask。使用我们的专属折扣码 traskud17 可以享受六折优惠。这本书对深度学习进行了基本介绍，更加直观，而不是只介绍抽象理论。\n",
    "\n",
    "- [Neural Networks And Deep Learning](http://neuralnetworksanddeeplearning.com/)，作者：Michael Nielsen。这本书比《Grokking Deep Learning》更严密，包含大量的互动性有趣图表。\n",
    "\n",
    "- [The Deep Learning Textbook](http://www.deeplearningbook.org/)，作者：Ian Goodfellow、Yoshua Bengio 和 Aaron Courville。这本在线图书包含了大量的资料，是三本书中最严密的一本。\n"
   ]
  },
  {
   "cell_type": "code",
   "execution_count": null,
   "metadata": {},
   "outputs": [],
   "source": []
  }
 ],
 "metadata": {
  "kernelspec": {
   "display_name": "Python 2",
   "language": "python",
   "name": "python2"
  },
  "language_info": {
   "codemirror_mode": {
    "name": "ipython",
    "version": 2
   },
   "file_extension": ".py",
   "mimetype": "text/x-python",
   "name": "python",
   "nbconvert_exporter": "python",
   "pygments_lexer": "ipython2",
   "version": "2.7.14"
  }
 },
 "nbformat": 4,
 "nbformat_minor": 2
}
