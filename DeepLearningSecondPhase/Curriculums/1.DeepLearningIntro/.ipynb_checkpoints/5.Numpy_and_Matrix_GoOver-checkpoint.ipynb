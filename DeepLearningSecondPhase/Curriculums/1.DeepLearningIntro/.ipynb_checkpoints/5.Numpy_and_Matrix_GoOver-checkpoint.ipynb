{
 "cells": [
  {
   "cell_type": "markdown",
   "metadata": {},
   "source": [
    "# 矩阵数学和NumPy的复习\n",
    "\n",
    "### 简介\n",
    "\n",
    "深度学习涉及很多矩阵数学，在开始构建你自己的神经网络之前，了解这方面的基础知识非常重要。这些课程简单复习了你需要知道的知识，并提供了如何将 [NumPy](http://www.numpy.org/) 库与 Python 中的矩阵高效搭配的指导建议。\n"
   ]
  },
  {
   "cell_type": "markdown",
   "metadata": {},
   "source": [
    "## 1.数据维度\n",
    "\n",
    "- `标量（Scalar）` 就是单个的数字，我们称为：`零维张量（0 Dimensional）`\n",
    "- `向量（Vector）` 就是一个一维的数组，分别有`行向量（Row Vectors）`和`列向量（Column Vectors）`，我们称为：`一维张量（1 Dimensional）`\n",
    "- `矩阵（Matrix）` 就是一个二维的数组，比如：几行几列的表格/矩阵，我们称为：`二维张量（2 Dimensional）`\n",
    "- `张量（Tensor）` 就是n维度的矩阵，任何大于二维的对象，我们称为：`张量`"
   ]
  },
  {
   "cell_type": "code",
   "execution_count": 6,
   "metadata": {},
   "outputs": [
    {
     "data": {
      "text/html": [
       "<iframe src=\"https://www.youtube.com/embed/F4NSv776X0c\" width=\"600\" height=\"400\"  frameborder=\"0\" allowfullscreen></iframe>"
      ],
      "text/plain": [
       "<IPython.core.display.HTML object>"
      ]
     },
     "execution_count": 6,
     "metadata": {},
     "output_type": "execute_result"
    }
   ],
   "source": [
    "from IPython.display import HTML\n",
    "\n",
    "HTML('<iframe src=\"https://www.youtube.com/embed/F4NSv776X0c\" width=\"600\" height=\"400\"  frameborder=\"0\" allowfullscreen></iframe>')"
   ]
  },
  {
   "cell_type": "markdown",
   "metadata": {},
   "source": [
    "** 1). 对于三维，你可以想象成矩阵堆栈 **\n",
    "\n",
    "<img src=\"../../sources/img/three-dimensional.png\" alt=\"\" width=\"600\" height=\"500\" />\n",
    "\n",
    "** 2). 也可以想象成矩阵列表 **\n",
    "<img src=\"../../sources/img/three-dimensional-list.png\" alt=\"\" width=\"600\" height=\"500\" />\n",
    "\n",
    "** 3). 或者向量矩阵 **\n",
    "<img src=\"../../sources/img/vector-matrix.png\" alt=\"\" width=\"600\" height=\"500\" />\n",
    "\n",
    "** 4). 对于四维，你可以想象成一种矩阵其中每个项目本身都是一个矩阵，或者一个矩阵列表的列表 **\n",
    "<img src=\"../../sources/img/four-dimensional.png\" alt=\"\" width=\"600\" height=\"500\" />\n"
   ]
  },
  {
   "cell_type": "code",
   "execution_count": null,
   "metadata": {},
   "outputs": [],
   "source": []
  },
  {
   "cell_type": "markdown",
   "metadata": {},
   "source": [
    "# 2.元素级矩阵运算 \n",
    "\n",
    "## Element-Wise Matrix Operations"
   ]
  },
  {
   "cell_type": "code",
   "execution_count": 7,
   "metadata": {},
   "outputs": [
    {
     "data": {
      "text/html": [
       "<iframe src=\"https://www.youtube.com/embed/vjUykZyzko4\" width=\"600\" height=\"400\"  frameborder=\"0\" allowfullscreen></iframe>"
      ],
      "text/plain": [
       "<IPython.core.display.HTML object>"
      ]
     },
     "execution_count": 7,
     "metadata": {},
     "output_type": "execute_result"
    }
   ],
   "source": [
    "\n",
    "HTML('<iframe src=\"https://www.youtube.com/embed/vjUykZyzko4\" width=\"600\" height=\"400\"  frameborder=\"0\" allowfullscreen></iframe>')\n"
   ]
  },
  {
   "cell_type": "code",
   "execution_count": null,
   "metadata": {},
   "outputs": [],
   "source": []
  },
  {
   "cell_type": "markdown",
   "metadata": {},
   "source": [
    "# 3.矩阵乘法"
   ]
  },
  {
   "cell_type": "code",
   "execution_count": 8,
   "metadata": {},
   "outputs": [
    {
     "data": {
      "text/html": [
       "<iframe src=\"https://www.youtube.com/embed/JRoCFQRP4B0\" width=\"600\" height=\"400\"  frameborder=\"0\" allowfullscreen></iframe>"
      ],
      "text/plain": [
       "<IPython.core.display.HTML object>"
      ]
     },
     "execution_count": 8,
     "metadata": {},
     "output_type": "execute_result"
    }
   ],
   "source": [
    "\n",
    "HTML('<iframe src=\"https://www.youtube.com/embed/JRoCFQRP4B0\" width=\"600\" height=\"400\"  frameborder=\"0\" allowfullscreen></iframe>')\n"
   ]
  },
  {
   "cell_type": "markdown",
   "metadata": {},
   "source": [
    "### 3.1 矩阵乘法\n",
    "<img src=\"../../sources/img/matrix_mulplication.png\" alt=\"\" width=\"600\" height=\"450\" />\n",
    "\n",
    "### 3.2 矩阵乘积，也称为 [点积](https://en.wikipedia.org/wiki/Dot_product)\n",
    "<img src=\"../../sources/img/matrix_product_instruction.png\" alt=\"\" width=\"600\" height=\"450\" />\n",
    "\n",
    "### 3.3 点积的运算过程演练\n",
    "<img src=\"../../sources/img/matrix_product_step1.png\" alt=\"\" width=\"300\" height=\"250\" />\n",
    "<img src=\"../../sources/img/matrix_product_step2.png\" alt=\"\" width=\"300\" height=\"250\" />\n",
    "<img src=\"../../sources/img/matrix_product_step3.png\" alt=\"\" width=\"300\" height=\"250\" />\n",
    "<img src=\"../../sources/img/matrix_product_step4.png\" alt=\"\" width=\"300\" height=\"250\" />\n",
    "<img src=\"../../sources/img/matrix_product_step5.png\" alt=\"\" width=\"300\" height=\"250\" />\n",
    "<img src=\"../../sources/img/matrix_product_step6.png\" alt=\"\" width=\"300\" height=\"250\" />\n",
    "\n"
   ]
  },
  {
   "cell_type": "markdown",
   "metadata": {},
   "source": [
    "## 矩阵乘法要素"
   ]
  },
  {
   "cell_type": "code",
   "execution_count": 9,
   "metadata": {},
   "outputs": [
    {
     "data": {
      "text/html": [
       "<iframe src=\"https://www.youtube.com/embed/8jtk8BzBdj8\" width=\"600\" height=\"400\"  frameborder=\"0\" allowfullscreen></iframe>"
      ],
      "text/plain": [
       "<IPython.core.display.HTML object>"
      ]
     },
     "execution_count": 9,
     "metadata": {},
     "output_type": "execute_result"
    }
   ],
   "source": [
    "\n",
    "HTML('<iframe src=\"https://www.youtube.com/embed/8jtk8BzBdj8\" width=\"600\" height=\"400\"  frameborder=\"0\" allowfullscreen></iframe>')\n"
   ]
  },
  {
   "cell_type": "markdown",
   "metadata": {},
   "source": [
    "#### 关于矩阵乘法的重要提醒\n",
    "\n",
    "- 1.`左侧`矩阵的`列数`必须`等`于`右侧`矩阵的`行数`。\n",
    "- 2.`答案`矩阵始终与`左侧`矩阵有`相同的行数`，与`右侧`矩阵有相同的`列数`\n",
    "- 3.`顺序很重要`：乘法`A•B`不等于乘法`B•A`。\n",
    "- 4.`左侧`矩阵中的数据应排列为`行`，而`右侧`矩阵中的数据应排列为`列`。\n",
    "\n",
    "记住这四点，你在构建神经网络时，就能搞清楚如何正确排列矩阵乘法了。\n",
    "\n",
    "\n",
    "\n"
   ]
  },
  {
   "cell_type": "markdown",
   "metadata": {},
   "source": [
    "# 4.NumPy 矩阵乘法 案例\n",
    "\n",
    "在前面几个视频中，你已经听了很多关于矩阵乘法的知识 – 现在，你将看到如何使用 NumPy 进行矩阵乘法运算。然而，了解 NumPy 支持的几类矩阵乘法也很重要。\n",
    "\n",
    "#### 4.1 元素级乘法\n",
    "\n",
    "你已看过了一些元素级乘法。你可以使用 `multiply` 函数或 `*` 运算符来实现。回顾一下，它看起来是这样的：\n",
    "\n",
    "```\n",
    "m = np.array([[1,2,3],[4,5,6]])\n",
    "m\n",
    "# 显示以下结果：\n",
    "# array([[1, 2, 3],\n",
    "#        [4, 5, 6]])\n",
    "\n",
    "n = m * 0.25\n",
    "n\n",
    "# 显示以下结果：\n",
    "# array([[ 0.25,  0.5 ,  0.75],\n",
    "#        [ 1.  ,  1.25,  1.5 ]])\n",
    "\n",
    "m * n\n",
    "# 显示以下结果：\n",
    "# array([[ 0.25,  1.  ,  2.25],\n",
    "#        [ 4.  ,  6.25,  9.  ]])\n",
    "\n",
    "np.multiply(m, n)   # 相当于 m * n\n",
    "# 显示以下结果：\n",
    "# array([[ 0.25,  1.  ,  2.25],\n",
    "#        [ 4.  ,  6.25,  9.  ]])\n",
    "```\n",
    "\n",
    "#### 4.2 矩阵乘积\n",
    "\n",
    "要获得矩阵乘积，你可以使用 `NumPy` 的 `matmul` 函数。\n",
    "\n",
    "如果你有兼容的形状，那就像这样简单：\n",
    "\n",
    "```\n",
    "a = np.array([[1,2,3,4],[5,6,7,8]])\n",
    "a\n",
    "# 显示以下结果：\n",
    "# array([[1, 2, 3, 4],\n",
    "#        [5, 6, 7, 8]])\n",
    "a.shape\n",
    "# 显示以下结果：\n",
    "# (2, 4)\n",
    "\n",
    "b = np.array([[1,2,3],[4,5,6],[7,8,9],[10,11,12]])\n",
    "b\n",
    "# 显示以下结果：\n",
    "# array([[ 1,  2,  3],\n",
    "#        [ 4,  5,  6],\n",
    "#        [ 7,  8,  9],\n",
    "#        [10, 11, 12]])\n",
    "b.shape\n",
    "# 显示以下结果：\n",
    "# (4, 3)\n",
    "\n",
    "c = np.matmul(a, b)\n",
    "c\n",
    "# 显示以下结果：\n",
    "# array([[ 70,  80,  90],\n",
    "#        [158, 184, 210]])\n",
    "c.shape\n",
    "# 显示以下结果：\n",
    "# (2, 3)\n",
    "```\n",
    "\n",
    "如果你的矩阵具有不兼容的形状，则会出现以下错误：\n",
    "\n",
    "```\n",
    "np.matmul(b, a)\n",
    "# 显示以下错误：\n",
    "# ValueError: shapes (4,3) and (2,4) not aligned: 3 (dim 1) != 2 (dim 0)\n",
    "```\n",
    "\n",
    "\n",
    "#### 4.3 `NumPy` 的 `dot` 函数\n",
    "\n",
    "有时候，在你以为要用 `matmul` 函数的地方，你可能会看到 `NumPy` 的 `dot` 函数。事实证明，如果矩阵是二维的，那么 `dot` 和 `matmul` 函数的结果是相同的。\n",
    "\n",
    "所以这两个结果是等价的：\n",
    "\n",
    "```\n",
    "a = np.array([[1,2],[3,4]])\n",
    "a\n",
    "# 显示以下结果：\n",
    "# array([[1, 2],\n",
    "#        [3, 4]])\n",
    "\n",
    "np.dot(a,a)\n",
    "# 显示以下结果：\n",
    "# array([[ 7, 10],\n",
    "#        [15, 22]])\n",
    "\n",
    "a.dot(a)  # you can call你可以直接对 `ndarray` 调用 `dot` \n",
    "# 显示以下结果：\n",
    "# array([[ 7, 10],\n",
    "#        [15, 22]])\n",
    "\n",
    "np.matmul(a,a)\n",
    "# array([[ 7, 10],\n",
    "#        [15, 22]])\n",
    "```\n",
    "\n",
    "虽然这两个函数对于二维数据返回相同的结果，但在用于其他数据形状时，你应该谨慎选择。你可以在 `matmul` 和 `dot` 文档中详细了解它们的`差异`，并找到其他 `NumPy` 函数的链接。\n"
   ]
  },
  {
   "cell_type": "code",
   "execution_count": null,
   "metadata": {},
   "outputs": [],
   "source": []
  },
  {
   "cell_type": "markdown",
   "metadata": {},
   "source": [
    "# 5.矩阵转置"
   ]
  },
  {
   "cell_type": "code",
   "execution_count": 10,
   "metadata": {},
   "outputs": [
    {
     "data": {
      "text/html": [
       "<iframe src=\"https://www.youtube.com/embed/NVK5xCY3CZE\" width=\"600\" height=\"400\"  frameborder=\"0\" allowfullscreen></iframe>"
      ],
      "text/plain": [
       "<IPython.core.display.HTML object>"
      ]
     },
     "execution_count": 10,
     "metadata": {},
     "output_type": "execute_result"
    }
   ],
   "source": [
    "\n",
    "HTML('<iframe src=\"https://www.youtube.com/embed/NVK5xCY3CZE\" width=\"600\" height=\"400\"  frameborder=\"0\" allowfullscreen></iframe>')\n"
   ]
  },
  {
   "cell_type": "markdown",
   "metadata": {},
   "source": [
    "\n",
    "可以矩阵转置的两个矩阵，并且可以得到正确的结果\n",
    "<img src=\"../../sources/img/matrix_transpose.png\" alt=\"\" width=\"500\" height=\"450\" />\n",
    "<img src=\"../../sources/img/matrix_transpose_use_occasion.png\" alt=\"\" width=\"500\" height=\"450\" />\n",
    "\n",
    "可以矩阵转置的两个矩阵，但是会得到错误的结果\n",
    "<img src=\"../../sources/img/matrix_transpose_inregularity.png\" alt=\"\" width=\"500\" height=\"450\" />"
   ]
  },
  {
   "cell_type": "markdown",
   "metadata": {},
   "source": [
    "### 转置的使用\n",
    "\n",
    "在 `NumPy` 中获得矩阵的转置非常容易。只需访问其 `T` 属性即可。还有一个 `transpose()` 函数也可以返回同样的结果，但是你很少看到它的使用，因为输入 `T` 的方法要简单得多。:)\n",
    "\n",
    "例如：\n",
    "\n",
    "```\n",
    "m = np.array([[1,2,3,4], [5,6,7,8], [9,10,11,12]])\n",
    "m\n",
    "# 显示以下结果：\n",
    "# array([[ 1,  2,  3,  4],\n",
    "#        [ 5,  6,  7,  8],\n",
    "#        [ 9, 10, 11, 12]])\n",
    "\n",
    "m.T\n",
    "# 显示以下结果：\n",
    "# array([[ 1,  5,  9],\n",
    "#        [ 2,  6, 10],\n",
    "#        [ 3,  7, 11],\n",
    "#        [ 4,  8, 12]])\n",
    "```\n",
    "\n",
    "`NumPy` 在进行转置时不会实际移动内存中的任何数据 - 只是改变对原始矩阵的索引方式 - 所以是非常高效的。\n",
    "\n",
    "但是，这也意味着你要特别注意修改对象的方式，因为它们共享相同的数据。例如，对于上面同一个矩阵 `m`，我们来创建一个新的变量 `m_t` 来存储 `m` 的转置。然后看看如果我们修改 `m_t` 中的值，会发生什么：\n",
    "\n",
    "```\n",
    "m_t = m.T\n",
    "m_t[3][1] = 200\n",
    "m_t\n",
    "# 显示以下结果：\n",
    "# array([[ 1,   5, 9],\n",
    "#        [ 2,   6, 10],\n",
    "#        [ 3,   7, 11],\n",
    "#        [ 4, 200, 12]])\n",
    "\n",
    "m\n",
    "# 显示以下结果：\n",
    "# array([[ 1,  2,  3,   4],\n",
    "#        [ 5,  6,  7, 200],\n",
    "#        [ 9, 10, 11,  12]])\n",
    "```\n",
    "\n",
    "注意它是如何同时修改转置和原始矩阵的！这是因为它们共享相同的数据副本。所以记住，将转置视为矩阵的不同视图，而不是完全不同的矩阵。\n",
    "\n",
    "#### 实际用例\n",
    "\n",
    "我不想过多讲解关于神经网络的细节，因为你还没有学到它们，但是有一个地方你差不多肯定会用到转置，或者至少考虑使用转置。\n",
    "\n",
    "假设你有以下两个矩阵，称为 `inputs` 和 `weights`，\n",
    "\n",
    "```\n",
    "inputs = np.array([[-0.27,  0.45,  0.64, 0.31]])\n",
    "inputs\n",
    "# 显示以下结果：\n",
    "# array([[-0.27,  0.45,  0.64,  0.31]])\n",
    "\n",
    "inputs.shape\n",
    "# 显示以下结果：\n",
    "# (1, 4)\n",
    "\n",
    "weights = np.array([[0.02, 0.001, -0.03, 0.036], \\\n",
    "    [0.04, -0.003, 0.025, 0.009], [0.012, -0.045, 0.28, -0.067]])\n",
    "\n",
    "weights\n",
    "# 显示以下结果：\n",
    "# array([[ 0.02 ,  0.001, -0.03 ,  0.036],\n",
    "#        [ 0.04 , -0.003,  0.025,  0.009],\n",
    "#        [ 0.012, -0.045,  0.28 , -0.067]])\n",
    "\n",
    "weights.shape\n",
    "# displays the following result:\n",
    "# (3, 4)\n",
    "```\n",
    "\n",
    "我在这里不会讲解它们的用途，因为你稍后都会学到，但是最终你会想要获得这两个矩阵的矩阵乘积。\n",
    "\n",
    "如果你像现在这样去尝试，会获得一个错误：\n",
    "\n",
    "```\n",
    "np.matmul(inputs, weights)\n",
    "# 显示以下错误：\n",
    "# ValueError: shapes (1,4) and (3,4) not aligned: 4 (dim 1) != 3 (dim 0)\n",
    "```\n",
    "\n",
    "如果你学了矩阵乘法课，那应该见过这个错误。它报告说形状不兼容，因为左边矩阵的列数 `4` 不等于右边矩阵的行数 `3`。\n",
    "\n",
    "所以这不可行，但是注意，如果你获取 `weights` 矩阵的转置，它会：\n",
    "\n",
    "```\n",
    "np.matmul(inputs, weights.T)\n",
    "# 显示以下结果：\n",
    "# array([[-0.01299,  0.00664,  0.13494]])\n",
    "```\n",
    "\n",
    "如果你获取 `inputs` 的转置，并调换它们的顺序也可以，就像我们在视频中展示的那样：\n",
    "\n",
    "```\n",
    "np.matmul(weights, inputs.T)\n",
    "# 显示以下结果：\n",
    "# array([[-0.01299],# \n",
    "#        [ 0.00664],\n",
    "#        [ 0.13494]])\n",
    "```\n",
    "\n",
    "这两个答案是彼此的转置，所以你使用的乘法只取决于你想要的输出的形状。\n"
   ]
  },
  {
   "cell_type": "code",
   "execution_count": null,
   "metadata": {},
   "outputs": [],
   "source": []
  },
  {
   "cell_type": "markdown",
   "metadata": {},
   "source": [
    "# 练习题"
   ]
  },
  {
   "cell_type": "code",
   "execution_count": 27,
   "metadata": {},
   "outputs": [
    {
     "name": "stdout",
     "output_type": "stream",
     "text": [
      "Input as Array: None\n",
      "Input minus min: None\n",
      "Input  Array: None\n",
      "Multiply 1:\n",
      "None\n",
      "Multiply 2:\n",
      "None\n",
      "Multiply 3:\n",
      "None\n",
      "Mean == None\n"
     ]
    }
   ],
   "source": [
    "# Use the numpy library\n",
    "import numpy as np\n",
    "\n",
    "\n",
    "def prepare_inputs(inputs):\n",
    "    # TODO: create a 2-dimensional ndarray from the given 1-dimensional list;\n",
    "    #       assign it to input_array\n",
    "    input_array = None\n",
    "    \n",
    "    # TODO: find the minimum value in input_array and subtract that\n",
    "    #       value from all the elements of input_array. Store the\n",
    "    #       result in inputs_minus_min\n",
    "    # https://docs.scipy.org/doc/numpy/reference/generated/numpy.amin.html\n",
    "    inputs_minus_min = None\n",
    "\n",
    "    # TODO: find the maximum value in inputs_minus_min and divide\n",
    "    #       all of the values in inputs_minus_min by the maximum value.\n",
    "    #       Store the results in inputs_div_max.\n",
    "    # https://docs.scipy.org/doc/numpy/reference/generated/numpy.amax.html\n",
    "    inputs_div_max = None\n",
    "\n",
    "    # return the three arrays we've created\n",
    "    return input_array, inputs_minus_min, inputs_div_max\n",
    "    \n",
    "\n",
    "def multiply_inputs(m1, m2):\n",
    "    # TODO: Check the shapes of the matrices m1 and m2. \n",
    "    #       m1 and m2 will be ndarray objects.\n",
    "    #\n",
    "    #       Return False if the shapes cannot be used for matrix\n",
    "    #       multiplication. You may not use a transpose\n",
    "    pass\n",
    "\n",
    "\n",
    "    # TODO: If you have not returned False, then calculate the matrix product\n",
    "    #       of m1 and m2 and return it. Do not use a transpose,\n",
    "    #       but you swap their order if necessary\n",
    "    pass\n",
    "    \n",
    "\n",
    "def find_mean(values):\n",
    "    # TODO: Return the average of the values in the given Python list\n",
    "    pass\n",
    "\n",
    "\n",
    "input_array, inputs_minus_min, inputs_div_max = prepare_inputs([-1,2,7])\n",
    "print(\"Input as Array: {}\".format(input_array))\n",
    "print(\"Input minus min: {}\".format(inputs_minus_min))\n",
    "print(\"Input  Array: {}\".format(inputs_div_max))\n",
    "\n",
    "print(\"Multiply 1:\\n{}\".format(multiply_inputs(np.array([[1,2,3],[4,5,6]]), np.array([[1],[2],[3],[4]]))))\n",
    "print(\"Multiply 2:\\n{}\".format(multiply_inputs(np.array([[1,2,3],[4,5,6]]), np.array([[1],[2],[3]]))))\n",
    "print(\"Multiply 3:\\n{}\".format(multiply_inputs(np.array([[1,2,3],[4,5,6]]), np.array([[1,2]]))))\n",
    "\n",
    "print(\"Mean == {}\".format(find_mean([1,3,4])))"
   ]
  },
  {
   "cell_type": "markdown",
   "metadata": {},
   "source": [
    "## 解决方案"
   ]
  },
  {
   "cell_type": "code",
   "execution_count": 29,
   "metadata": {},
   "outputs": [
    {
     "name": "stdout",
     "output_type": "stream",
     "text": [
      "Input as Array: [[-1  2  7]]\n",
      "Input minus min: [[0 3 8]]\n",
      "Input  Array: [[0 0 1]]\n",
      "Multiply 1:\n",
      "False\n",
      "Multiply 2:\n",
      "[[14]\n",
      " [32]]\n",
      "Multiply 3:\n",
      "[[ 9 12 15]]\n",
      "Mean == 2.66666666667\n"
     ]
    }
   ],
   "source": [
    "# Use the numpy library\n",
    "import numpy as np\n",
    "\n",
    "\n",
    "######################################################\n",
    "#\n",
    "#      MESSAGE TO STUDENTS:\n",
    "#\n",
    "#  This file contains a solution to the coding quiz. Feel free\n",
    "#  to look at it when you are stuck, but try to solve the\n",
    "#   problem on your own first.\n",
    "#\n",
    "######################################################\n",
    "\n",
    "\n",
    "def prepare_inputs(inputs):\n",
    "    # TODO: create a 2-dimensional ndarray from the given 1-dimensional list;\n",
    "    #       assign it to input_array\n",
    "    input_array = np.array([inputs])\n",
    "    \n",
    "    # TODO: find the minimum value in input_array and subtract that\n",
    "    #       value from all the elements of input_array. Store the\n",
    "    #       result in inputs_minus_min\n",
    "    # We can use NumPy's min function and element-wise division\n",
    "    inputs_minus_min = input_array - np.min(input_array)\n",
    "\n",
    "    # TODO: find the maximum value in inputs_minus_min and divide\n",
    "    #       all of the values in inputs_minus_min by the maximum value.\n",
    "    #       Store the results in inputs_div_max.\n",
    "    # We can use NumPy's max function and element-wise division\n",
    "    inputs_div_max = inputs_minus_min / np.max(inputs_minus_min)\n",
    "\n",
    "    return input_array, inputs_minus_min, inputs_div_max\n",
    "    \n",
    "\n",
    "def multiply_inputs(m1, m2):\n",
    "    # Check the shapes of the matrices m1 and m2. \n",
    "    # m1 and m2 will be ndarray objects.\n",
    "    #\n",
    "    # Return False if the shapes cannot be used for matrix\n",
    "    # multiplication. You may not use a transpose\n",
    "    if m1.shape[0] != m2.shape[1] and m1.shape[1] != m2.shape[0]:     \n",
    "        return False\n",
    "\n",
    "    # Have not returned False, so calculate the matrix product\n",
    "    # of m1 and m2 and return it. Do not use a transpose,\n",
    "    #       but you swap their order if necessary\n",
    "    if m1.shape[1] == m2.shape[0]:\n",
    "        return np.matmul(m1, m2)        \n",
    "    else:\n",
    "        return np.matmul(m2, m1)        \n",
    "\n",
    "\n",
    "def find_mean(values):\n",
    "    # Return the average of the values in the given Python list\n",
    "    # NumPy has a lot of helpful methods like this.\n",
    "    return np.mean(values)\n",
    "\n",
    "input_array, inputs_minus_min, inputs_div_max = prepare_inputs([-1,2,7])\n",
    "print(\"Input as Array: {}\".format(input_array))\n",
    "print(\"Input minus min: {}\".format(inputs_minus_min))\n",
    "print(\"Input  Array: {}\".format(inputs_div_max))\n",
    "\n",
    "print(\"Multiply 1:\\n{}\".format(multiply_inputs(np.array([[1,2,3],[4,5,6]]), np.array([[1],[2],[3],[4]]))))\n",
    "print(\"Multiply 2:\\n{}\".format(multiply_inputs(np.array([[1,2,3],[4,5,6]]), np.array([[1],[2],[3]]))))\n",
    "print(\"Multiply 3:\\n{}\".format(multiply_inputs(np.array([[1,2,3],[4,5,6]]), np.array([[1,2]]))))\n",
    "\n",
    "print(\"Mean == {}\".format(find_mean([1,3,4])))\n"
   ]
  },
  {
   "cell_type": "code",
   "execution_count": null,
   "metadata": {},
   "outputs": [],
   "source": []
  }
 ],
 "metadata": {
  "kernelspec": {
   "display_name": "Python 2",
   "language": "python",
   "name": "python2"
  },
  "language_info": {
   "codemirror_mode": {
    "name": "ipython",
    "version": 2
   },
   "file_extension": ".py",
   "mimetype": "text/x-python",
   "name": "python",
   "nbconvert_exporter": "python",
   "pygments_lexer": "ipython2",
   "version": "2.7.14"
  }
 },
 "nbformat": 4,
 "nbformat_minor": 2
}
