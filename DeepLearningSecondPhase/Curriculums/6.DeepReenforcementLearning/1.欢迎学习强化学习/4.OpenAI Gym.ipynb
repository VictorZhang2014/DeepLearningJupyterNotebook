{
 "cells": [
  {
   "cell_type": "code",
   "execution_count": 1,
   "metadata": {
    "collapsed": false
   },
   "outputs": [
    {
     "data": {
      "text/html": [
       "<iframe width=\"1000\" height=\"550\" src=\"https://www.youtube.com/embed/MktEOWp3QLg\" frameborder=\"0\" allow=\"autoplay; encrypted-media\" allowfullscreen></iframe>"
      ],
      "text/plain": [
       "<IPython.core.display.HTML object>"
      ]
     },
     "execution_count": 1,
     "metadata": {},
     "output_type": "execute_result"
    }
   ],
   "source": [
    "from IPython.display import HTML\n",
    "\n",
    "HTML('<iframe width=\"1000\" height=\"550\" src=\"https://www.youtube.com/embed/MktEOWp3QLg\" frameborder=\"0\" allow=\"autoplay; encrypted-media\" allowfullscreen></iframe>')\n"
   ]
  },
  {
   "cell_type": "markdown",
   "metadata": {},
   "source": [
    "你不需要在你的计算机上安装 OpenAI Gym，你可以在课堂里完成所有的编程实现过程。你可以通过查看该 [GitHub 代码库](https://github.com/openai/gym.git) 详细了解 OpenAI Gym。\n",
    "\n",
    "建议你花时间查看 [leaderboard](https://github.com/openai/gym/wiki/Leaderboard)，其中包含每个任务的最佳解决方案。\n",
    "\n",
    "请参阅此 [博客帖子](https://blog.openai.com/openai-gym-beta/)，详细了解如何使用 OpenAI Gym 加速强化学习研究。\n",
    "\n",
    "# 安装说明 （可选）\n",
    "\n",
    "如果你想在你的计算机上安装 OpenAI Gym，建议你完成以下简单安装过程：\n",
    "\n",
    "```\n",
    "git clone https://github.com/openai/gym.git\n",
    "cd gym\n",
    "pip install -e .\n",
    "```\n",
    "\n",
    "安装 OpenAI Gym 后，请获取经典控制任务（例如“CartPole-v0”)的代码：\n",
    "\n",
    "```\n",
    "pip install -e '.[classic_control]'\n",
    "```\n",
    "\n",
    "最后，通过运行在 examples 目录中提供的 [简单的随机智能体](https://github.com/openai/gym/blob/master/examples/agents/random_agent.py) 检查你的安装情况。\n",
    "\n",
    "```\n",
    "cd examples/agents\n",
    "python random_agent.py\n",
    "```\n",
    "\n",
    "（这些说明摘自该 [GitHub 代码库](https://github.com/openai/gym) 中的自述文件。）\n"
   ]
  },
  {
   "cell_type": "code",
   "execution_count": null,
   "metadata": {
    "collapsed": true
   },
   "outputs": [],
   "source": []
  }
 ],
 "metadata": {
  "kernelspec": {
   "display_name": "Python 3",
   "language": "python",
   "name": "python3"
  },
  "language_info": {
   "codemirror_mode": {
    "name": "ipython",
    "version": 3
   },
   "file_extension": ".py",
   "mimetype": "text/x-python",
   "name": "python",
   "nbconvert_exporter": "python",
   "pygments_lexer": "ipython3",
   "version": "3.6.5"
  }
 },
 "nbformat": 4,
 "nbformat_minor": 2
}
