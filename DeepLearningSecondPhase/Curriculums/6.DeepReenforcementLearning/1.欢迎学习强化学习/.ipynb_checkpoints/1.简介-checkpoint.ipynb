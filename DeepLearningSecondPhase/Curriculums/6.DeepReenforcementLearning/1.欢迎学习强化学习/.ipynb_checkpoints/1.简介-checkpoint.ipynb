{
 "cells": [
  {
   "cell_type": "code",
   "execution_count": 2,
   "metadata": {
    "collapsed": false
   },
   "outputs": [
    {
     "data": {
      "text/html": [
       "<iframe width=\"1000\" height=\"550\" src=\"https://www.youtube.com/embed/6jSFl5kxIBs\" frameborder=\"0\" allow=\"autoplay; encrypted-media\" allowfullscreen></iframe>"
      ],
      "text/plain": [
       "<IPython.core.display.HTML object>"
      ]
     },
     "execution_count": 2,
     "metadata": {},
     "output_type": "execute_result"
    }
   ],
   "source": [
    "from IPython.display import HTML\n",
    "\n",
    "HTML('<iframe width=\"1000\" height=\"550\" src=\"https://www.youtube.com/embed/6jSFl5kxIBs\" frameborder=\"0\" allow=\"autoplay; encrypted-media\" allowfullscreen></iframe>')\n"
   ]
  },
  {
   "cell_type": "markdown",
   "metadata": {},
   "source": [
    "你是否在 Google 图片搜索中搜索过 Atari Breakout？如果没有，[请搜索一下吧！](https://www.google.com/search?q=atari+breakout&client=firefox-b-ab&source=lnms&tbm=isch&sa=X&ved=0ahUKEwjVnpqaid_VAhUN4GMKHRUJAkYQ_AUICigB&biw=1101&bih=732&dpr=2):)"
   ]
  },
  {
   "cell_type": "code",
   "execution_count": null,
   "metadata": {
    "collapsed": true
   },
   "outputs": [],
   "source": []
  }
 ],
 "metadata": {
  "kernelspec": {
   "display_name": "Python 3",
   "language": "python",
   "name": "python3"
  },
  "language_info": {
   "codemirror_mode": {
    "name": "ipython",
    "version": 3
   },
   "file_extension": ".py",
   "mimetype": "text/x-python",
   "name": "python",
   "nbconvert_exporter": "python",
   "pygments_lexer": "ipython3",
   "version": "3.6.5"
  }
 },
 "nbformat": 4,
 "nbformat_minor": 2
}
