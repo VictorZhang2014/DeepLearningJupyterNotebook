{
 "cells": [
  {
   "cell_type": "code",
   "execution_count": 1,
   "metadata": {
    "collapsed": false
   },
   "outputs": [
    {
     "data": {
      "text/html": [
       "<iframe width=\"1000\" height=\"550\" src=\"https://www.youtube.com/embed/CV6B84mKRNM\" frameborder=\"0\" allow=\"autoplay; encrypted-media\" allowfullscreen></iframe>"
      ],
      "text/plain": [
       "<IPython.core.display.HTML object>"
      ]
     },
     "execution_count": 1,
     "metadata": {},
     "output_type": "execute_result"
    }
   ],
   "source": [
    "from IPython.display import HTML\n",
    "\n",
    "HTML('<iframe width=\"1000\" height=\"550\" src=\"https://www.youtube.com/embed/CV6B84mKRNM\" frameborder=\"0\" allow=\"autoplay; encrypted-media\" allowfullscreen></iframe>')\n"
   ]
  },
  {
   "cell_type": "markdown",
   "metadata": {},
   "source": [
    "# 可选资源\n",
    "\n",
    "- 了解 [TD-Gammon](https://courses.cs.washington.edu/courses/cse590hk/01sp/Readings/tesauro95cacm.pdf)，神经网络在强化学习领域的第一个成功应用之一。\n",
    "\n",
    "- 了解 [AlphaGo Zero](https://deepmind.com/blog/alphago-zero-learning-scratch/)，一款先进的计算机程序，打败了专业人类围棋手。\n",
    "\n",
    "- 了解如何使用强化学习 (RL) 玩 [Atari 游戏](https://deepmind.com/research/dqn/)。\n",
    "\n",
    "- 了解打败全世界的顶级 [Dota 2](http://www.dota2.com/play/) 玩家的 [OpenAI 机器人](https://blog.openai.com/dota-2/)。\n",
    "\n",
    "- 了解指导仿真机器人如何行走的 [研究](https://classroom.udacity.com/nanodegrees/nd101-cn/parts/ead4579b-dc98-4646-8c9f-6d1dd0ddafc0/modules/426ff413-d0d4-4dba-99dc-4955626bb960/lessons/2942b8b9-76c1-451d-879c-3d31d3ac00c8/concepts/(https://deepmind.com/blog/producing-flexible-behaviours-simulated-environments/)。\n",
    "\n",
    "- 了解 [无人驾驶车](http://selfdrivingcars.mit.edu/) 强化学习。\n",
    "\n",
    "- 要了解应用于金融领域的强化学习示例，请参阅这个 [最终项目](https://github.com/ucaiado/QLearning_Trading)，该项目的作者是一位毕业于[机器学习工程师纳米学位](https://www.udacity.com/course/machine-learning-engineer-nanodegree--nd009)的学员。\n",
    "\n",
    "- 了解 [电信](https://papers.nips.cc/paper/1740-low-power-wireless-communication-via-reinforcement-learning.pdf) 强化学习。\n",
    "\n",
    "- 阅读这篇介绍库存管理强化学习的[论文]：https://s3.cn-north-1.amazonaws.com.cn/static-documents/nd101/MLND+documents/04051310570412465(1).pdf"
   ]
  },
  {
   "cell_type": "code",
   "execution_count": null,
   "metadata": {
    "collapsed": true
   },
   "outputs": [],
   "source": []
  }
 ],
 "metadata": {
  "kernelspec": {
   "display_name": "Python 3",
   "language": "python",
   "name": "python3"
  },
  "language_info": {
   "codemirror_mode": {
    "name": "ipython",
    "version": 3
   },
   "file_extension": ".py",
   "mimetype": "text/x-python",
   "name": "python",
   "nbconvert_exporter": "python",
   "pygments_lexer": "ipython3",
   "version": "3.6.5"
  }
 },
 "nbformat": 4,
 "nbformat_minor": 2
}
