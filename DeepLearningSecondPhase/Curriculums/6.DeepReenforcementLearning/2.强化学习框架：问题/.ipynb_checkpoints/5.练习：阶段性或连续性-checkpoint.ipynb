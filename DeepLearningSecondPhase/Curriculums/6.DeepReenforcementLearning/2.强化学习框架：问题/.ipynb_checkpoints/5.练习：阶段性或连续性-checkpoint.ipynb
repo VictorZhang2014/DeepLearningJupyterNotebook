{
 "cells": [
  {
   "cell_type": "markdown",
   "metadata": {},
   "source": [
    "# 练习：阶段性或连续性？\n",
    "\n",
    "注意：\n",
    "\n",
    "- `任务`是一种强化学习问题。\n",
    "- `连续性任务`是一直持续下去、没有结束点的任务。\n",
    "- `阶段性任务`是起始点和结束点明确的任务。\n",
    "- 在这种情况下，我们将一个完整的互动系列（从开始到结束）称为一个`阶段`。\n",
    "- 每当智能体抵达`最终状态`，阶段性任务都会结束。\n",
    "\n",
    "了解以上这些信息后，请在下面的练习中将这些任务划分为连续性任务或阶段性任务。\n",
    "\n",
    "<img src=\"../../../sources/img/RL/weiqi.jpg\">\n",
    "\n",
    "\n",
    "## 练习题\n",
    "\n",
    "假设有一个强化学习智能体想要 [玩围棋](https://en.wikipedia.org/wiki/AlphaGo)。这是连续性任务还是阶段性任务？\n",
    "\n",
    "- 连续性任务\n",
    "- 阶段性任务\n",
    "\n",
    "正确！游戏开始表示一个阶段的开始，游戏结束后，该阶段就结束了。\n",
    "\n",
    "<img src=\"../../../sources/img/RL/pup.jpg\">\n",
    "\n",
    "假设有一个永生的小狗智能体，它想要从（永生的）主人那获得很多的奖赏。这是连续性任务还是阶段性任务？\n",
    "\n",
    "- 连续性任务\n",
    "- 阶段性任务\n",
    "\n",
    "正确！智能体环境互动将一直继续下去，没有终点，因此肯定是连续性任务。"
   ]
  },
  {
   "cell_type": "code",
   "execution_count": null,
   "metadata": {
    "collapsed": true
   },
   "outputs": [],
   "source": []
  }
 ],
 "metadata": {
  "kernelspec": {
   "display_name": "Python 3",
   "language": "python",
   "name": "python3"
  },
  "language_info": {
   "codemirror_mode": {
    "name": "ipython",
    "version": 3
   },
   "file_extension": ".py",
   "mimetype": "text/x-python",
   "name": "python",
   "nbconvert_exporter": "python",
   "pygments_lexer": "ipython3",
   "version": "3.6.5"
  }
 },
 "nbformat": 4,
 "nbformat_minor": 2
}
