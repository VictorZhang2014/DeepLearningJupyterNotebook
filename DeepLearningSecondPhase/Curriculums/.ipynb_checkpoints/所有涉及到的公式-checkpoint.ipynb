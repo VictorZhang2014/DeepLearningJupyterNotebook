{
 "cells": [
  {
   "cell_type": "markdown",
   "metadata": {},
   "source": [
    "\n",
    "\n",
    "# 公式 1：卷积层中的参数数量\n",
    "\n",
    "卷积层中的参数数量取决于 `filters`、`kernel_size` 和 `input_shape` 的值。我们定义几个变量：\n",
    "\n",
    "- `K`     - 卷积层中的过滤器数量\n",
    "- `F`     - 卷积过滤器的高度 `F_W` 和宽度 `F_H`\n",
    "- `D_in`  - 上一层级的深度\n",
    "\n",
    "** 注意 ** ：`K` = `filters`，`F` = `kernel_size`。类似地，`D_in` 是 `input_shape` 元祖中的最后一个值。\n",
    "\n",
    "因为每个过滤器有 `F*F*D_in` 个权重，卷积层由 `K` 个过滤器组成，因此卷积层中的权重总数是 `K*F*F*D_in`。因为每个过滤器有 `1` 个偏差项，卷积层有 `K` 个偏差。因此，卷积层中的参数数量是 `K*F_W*F_H*D_in + K`。\n"
   ]
  },
  {
   "cell_type": "markdown",
   "metadata": {},
   "source": [
    "\n",
    "# 公式 2：卷积层的形状\n",
    "\n",
    "卷积层的形状取决于 `kernel_size`、`input_shape`、`padding` 和 `stride` 的值。我们定义几个变量：\n",
    "\n",
    "- `K`    - 卷积层中的过滤器数量\n",
    "- `F`    - 卷积过滤器的高度和宽度\n",
    "- `H_in` - 上一层级的高度\n",
    "- `W_in` - 上一层级的宽度\n",
    "\n",
    "** 注意 **：`K` = `filters`、`F` = `kernel_size`，以及 `S` = `stride`。类似地，`H_in` 和 `W_in` 分别是 `input_shape` 元祖的第一个和第二个值。\n",
    "\n",
    "<b>`卷积层`的`深度始终为过滤器数量` `K`。</b>\n",
    "\n",
    "如果 `padding = 'same'`，那么卷积层的空间维度如下：\n",
    "\n",
    "- height = ceil(float(`H_in`) / float(`S`))\n",
    "- width = ceil(float(`W_in`) / float(`S`))\n",
    "\n",
    "如果 `padding = 'valid'`，那么卷积层的空间维度如下:\n",
    "\n",
    "- height = ceil(float(`H_in` - `F` + 1) / float(`S`))\n",
    "- width = ceil(float(`W_in` - `F` + 1) / float(`S`))\n"
   ]
  },
  {
   "cell_type": "code",
   "execution_count": null,
   "metadata": {},
   "outputs": [],
   "source": []
  }
 ],
 "metadata": {
  "kernelspec": {
   "display_name": "Python 3",
   "language": "python",
   "name": "python3"
  },
  "language_info": {
   "codemirror_mode": {
    "name": "ipython",
    "version": 3
   },
   "file_extension": ".py",
   "mimetype": "text/x-python",
   "name": "python",
   "nbconvert_exporter": "python",
   "pygments_lexer": "ipython3",
   "version": "3.6.4"
  }
 },
 "nbformat": 4,
 "nbformat_minor": 2
}
