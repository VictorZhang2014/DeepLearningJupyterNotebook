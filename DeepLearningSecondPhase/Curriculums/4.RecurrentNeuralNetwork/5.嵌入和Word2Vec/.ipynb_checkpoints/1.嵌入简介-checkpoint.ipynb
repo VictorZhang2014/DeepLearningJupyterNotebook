{
 "cells": [
  {
   "cell_type": "markdown",
   "metadata": {},
   "source": [
    "# 单词嵌入\n",
    "\n",
    "本周，我们将介绍嵌入。这是一种深度神经网络方法，可以用大量的类更高效地表示数据。嵌入通过用更低维的向量表示数据，显著提高了网络从数据中学习规律的能力。\n",
    "\n",
    "单词嵌入尤其有意思，因为网络能够学习单词之间的语义关系。例如，嵌入将知道女王的男性对等单词是国王。\n",
    "\n",
    "<img src=\"../../../sources/img/RNN/linear-relationships.png\">\n",
    "\n",
    "神经网络通过 [Word2vec](https://en.wikipedia.org/wiki/Word2vec) 模型学习这些单词嵌入。在这节课，你将自己实施 Word2vec。\n",
    "\n",
    "我们构建了一个记事本，其中包含练习和解决方案。你可以在我们的 GitHub 代码库中找到这些记事本。接下来，我将介绍 Word2vec 并介绍你将完成的练习。然后我将展示我是如何实施 Word2vec 的。\n"
   ]
  },
  {
   "cell_type": "code",
   "execution_count": null,
   "metadata": {},
   "outputs": [],
   "source": []
  }
 ],
 "metadata": {
  "kernelspec": {
   "display_name": "Python 2",
   "language": "python",
   "name": "python2"
  },
  "language_info": {
   "codemirror_mode": {
    "name": "ipython",
    "version": 2
   },
   "file_extension": ".py",
   "mimetype": "text/x-python",
   "name": "python",
   "nbconvert_exporter": "python",
   "pygments_lexer": "ipython2",
   "version": "2.7.14"
  }
 },
 "nbformat": 4,
 "nbformat_minor": 2
}
