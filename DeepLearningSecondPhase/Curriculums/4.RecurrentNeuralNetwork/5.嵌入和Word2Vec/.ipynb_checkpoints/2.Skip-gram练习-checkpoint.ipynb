{
 "cells": [
  {
   "cell_type": "markdown",
   "metadata": {},
   "source": [
    "# Skip-gram 练习\n",
    "\n",
    "下面我介绍下记事本。你可以在我们的 [GitHub 资源库](https://github.com/VictorZhang2014/deep-learning/tree/master/embeddings) 中找到该记事本。你可以下载下来，或将其克隆到你的计算机上。\n",
    "\n",
    "> 要求：你需要 Numpy、Matplotlib、Scikit-learn、tqdm 和 TensorFlow 1.0 才能运行此代码。\n",
    "\n",
    "下面是完整的介绍视频。然后，我将提供视频每个部分的时间戳链接。\n"
   ]
  },
  {
   "cell_type": "code",
   "execution_count": 1,
   "metadata": {},
   "outputs": [
    {
     "data": {
      "text/html": [
       "<iframe width=\"900\" height=\"550\" src=\"https://www.youtube.com/embed/D-xK6gu1ohE\" frameborder=\"0\" allow=\"autoplay; encrypted-media\" allowfullscreen></iframe>"
      ],
      "text/plain": [
       "<IPython.core.display.HTML object>"
      ]
     },
     "execution_count": 1,
     "metadata": {},
     "output_type": "execute_result"
    }
   ],
   "source": [
    "from IPython.display import HTML\n",
    "\n",
    "HTML('<iframe width=\"900\" height=\"550\" src=\"https://www.youtube.com/embed/D-xK6gu1ohE\" frameborder=\"0\" allow=\"autoplay; encrypted-media\" allowfullscreen></iframe>')\n"
   ]
  },
  {
   "cell_type": "markdown",
   "metadata": {},
   "source": [
    "# 解决方案：视频时间戳：\n",
    "\n",
    "- [预处理](https://youtu.be/D-xK6gu1ohE?t=5m08s)\n",
    "- [二次抽样](https://youtu.be/D-xK6gu1ohE?t=6m28s)\n",
    "- [进行分批](https://youtu.be/D-xK6gu1ohE?t=7m47s)\n",
    "- [绘制图表](https://youtu.be/D-xK6gu1ohE?t=10m23s)\n",
    "- [嵌入](https://youtu.be/D-xK6gu1ohE?t=12m17s)\n",
    "- [负例抽样](https://youtu.be/D-xK6gu1ohE?t=14m20s)\n",
    "- [验证和训练](https://youtu.be/D-xK6gu1ohE?t=15m46s)\n",
    "- [绘制单词向量图表](https://youtu.be/D-xK6gu1ohE?t=17m19s)\n"
   ]
  },
  {
   "cell_type": "code",
   "execution_count": null,
   "metadata": {},
   "outputs": [],
   "source": []
  }
 ],
 "metadata": {
  "kernelspec": {
   "display_name": "Python 2",
   "language": "python",
   "name": "python2"
  },
  "language_info": {
   "codemirror_mode": {
    "name": "ipython",
    "version": 2
   },
   "file_extension": ".py",
   "mimetype": "text/x-python",
   "name": "python",
   "nbconvert_exporter": "python",
   "pygments_lexer": "ipython2",
   "version": "2.7.14"
  }
 },
 "nbformat": 4,
 "nbformat_minor": 2
}
