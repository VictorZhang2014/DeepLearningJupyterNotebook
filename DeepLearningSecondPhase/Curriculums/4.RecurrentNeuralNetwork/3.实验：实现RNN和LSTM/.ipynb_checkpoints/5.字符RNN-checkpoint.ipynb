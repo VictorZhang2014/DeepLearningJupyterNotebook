{
 "cells": [
  {
   "cell_type": "markdown",
   "metadata": {},
   "source": [
    "# 字符 RNN\n",
    "\n",
    "你可以从我们的 [公共 GitHub](https://github.com/udacity/deep-learning/tree/master/intro-to-rnns) 代码库 获得字母型 RNN 的 notebook。\n",
    "\n",
    "要将整个代码库克隆到你的计算机:\n",
    "\n",
    "```\n",
    "git clone https://github.com/udacity/deep-learning.git\n",
    "```\n",
    "\n",
    "此代码要求 TensorFlow 1.0，如果你使用的是旧版本，请确保升级。 尝试此网络，改进它并用你自己的文本训练它。我们将其交由你来构建。\n",
    "\n",
    "如果你找到改进的方法，请提出请求，我们会将其添加进来。"
   ]
  },
  {
   "cell_type": "code",
   "execution_count": null,
   "metadata": {},
   "outputs": [],
   "source": []
  }
 ],
 "metadata": {
  "kernelspec": {
   "display_name": "Python 2",
   "language": "python",
   "name": "python2"
  },
  "language_info": {
   "codemirror_mode": {
    "name": "ipython",
    "version": 2
   },
   "file_extension": ".py",
   "mimetype": "text/x-python",
   "name": "python",
   "nbconvert_exporter": "python",
   "pygments_lexer": "ipython2",
   "version": "2.7.14"
  }
 },
 "nbformat": 4,
 "nbformat_minor": 2
}
