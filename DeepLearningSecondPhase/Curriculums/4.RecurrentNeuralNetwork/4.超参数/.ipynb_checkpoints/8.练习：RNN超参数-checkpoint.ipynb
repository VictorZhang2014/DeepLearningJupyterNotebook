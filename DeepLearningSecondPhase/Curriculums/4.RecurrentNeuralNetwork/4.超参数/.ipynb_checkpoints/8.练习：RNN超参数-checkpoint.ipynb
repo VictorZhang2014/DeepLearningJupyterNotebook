{
 "cells": [
  {
   "cell_type": "markdown",
   "metadata": {},
   "source": [
    "## 长短时记忆 (LSTM) cells 和门控循环单元 (GRU) cells 相比没有什么不同？\n",
    "\n",
    "- LSTM 各方面均优于 GRU\n",
    "- GRU 各方面均优于 LSTM\n",
    "- 这取决于实际情况，我需要在我的任务和我的数据集上比较两者\n",
    "\n",
    "答：第三个\n",
    "\n",
    "\n",
    "## 大多数情况下哪个嵌入大小看起来更合理？\n",
    "\n",
    "- 500\n",
    "- 50,000\n",
    "\n",
    "答：恭喜！你选出了正确的答案。虽然一些任务在 50 至 200 嵌入大小之间表现出合理的性能，但有时在 500 甚至 1000 时性能会更高。\n",
    "\n",
    "\n",
    "\n"
   ]
  },
  {
   "cell_type": "code",
   "execution_count": null,
   "metadata": {},
   "outputs": [],
   "source": []
  }
 ],
 "metadata": {
  "kernelspec": {
   "display_name": "Python 2",
   "language": "python",
   "name": "python2"
  },
  "language_info": {
   "codemirror_mode": {
    "name": "ipython",
    "version": 2
   },
   "file_extension": ".py",
   "mimetype": "text/x-python",
   "name": "python",
   "nbconvert_exporter": "python",
   "pygments_lexer": "ipython2",
   "version": "2.7.14"
  }
 },
 "nbformat": 4,
 "nbformat_minor": 2
}
