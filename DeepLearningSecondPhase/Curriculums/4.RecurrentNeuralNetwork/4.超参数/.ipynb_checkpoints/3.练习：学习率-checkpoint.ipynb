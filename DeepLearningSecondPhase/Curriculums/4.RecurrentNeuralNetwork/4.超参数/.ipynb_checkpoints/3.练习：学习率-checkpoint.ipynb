{
 "cells": [
  {
   "cell_type": "markdown",
   "metadata": {},
   "source": [
    "# 练习题\n",
    "\n",
    "假设你在训练一个模型。如果训练过程的输出如下所示，你将如何调整学习率来提高训练性能？\n",
    "\n",
    "```\n",
    "Epoch 1, Batch 1, Training Error: 8.4181\n",
    "Epoch 1, Batch 2, Training Error: 8.4177\n",
    "Epoch 1, Batch 3, Training Error: 8.4177\n",
    "Epoch 1, Batch 4, Training Error: 8.4173\n",
    "Epoch 1, Batch 5, Training Error: 8.4169\n",
    "```\n",
    "\n",
    "- 降低学习率\n",
    "- 使用相同的学习率再次尝试\n",
    "- 提高学习率 \n",
    "\n",
    "正确答案：提高学习率，原因是根据训练误差来看，误差降低的太慢了，此时考虑的就是学习率太低的问题。\n",
    "\n",
    "\n",
    "假设你在训练一个模型。如果训练过程的输出如下所示，你将如何调整学习率来提高训练性能？\n",
    "\n",
    "```\n",
    "Epoch 1, Batch 1, Training Error: 8.71\n",
    "Epoch 1, Batch 2, Training Error: 3.25\n",
    "Epoch 1, Batch 3, Training Error: 4.93\n",
    "Epoch 1, Batch 4, Training Error: 3.30\n",
    "Epoch 1, Batch 5, Training Error: 4.82\n",
    "```\n",
    "\n",
    "- 降低学习率\n",
    "- 使用自适应学习率\n",
    "- 提高学习率\n",
    "\n",
    "正确答案：降低学习率，或者使用自适应学习率。我们从训练误差看，误差在两个值的范围间内震荡，这表明，学习率太大了，无法降到误差最小最佳值，此时最好的做法就是降低学习率，或者使用自适应学习率也可。\n"
   ]
  },
  {
   "cell_type": "code",
   "execution_count": null,
   "metadata": {},
   "outputs": [],
   "source": []
  }
 ],
 "metadata": {
  "kernelspec": {
   "display_name": "Python 2",
   "language": "python",
   "name": "python2"
  },
  "language_info": {
   "codemirror_mode": {
    "name": "ipython",
    "version": 2
   },
   "file_extension": ".py",
   "mimetype": "text/x-python",
   "name": "python",
   "nbconvert_exporter": "python",
   "pygments_lexer": "ipython2",
   "version": "2.7.14"
  }
 },
 "nbformat": 4,
 "nbformat_minor": 2
}
