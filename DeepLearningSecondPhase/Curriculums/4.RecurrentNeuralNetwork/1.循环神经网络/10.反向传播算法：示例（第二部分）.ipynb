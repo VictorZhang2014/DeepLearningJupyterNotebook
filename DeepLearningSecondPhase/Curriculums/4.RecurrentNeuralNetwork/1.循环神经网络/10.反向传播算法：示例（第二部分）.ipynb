{
 "cells": [
  {
   "cell_type": "markdown",
   "metadata": {},
   "source": [
    "# 反向传播算法：示例(第二部分)\n",
    "\n",
    "既然我们已经理解了链式法则，我们可以继续用 `反向传播算法` 示例，计算梯度"
   ]
  },
  {
   "cell_type": "code",
   "execution_count": 1,
   "metadata": {},
   "outputs": [
    {
     "data": {
      "text/html": [
       "<iframe width=\"900\" height=\"550\" src=\"https://www.youtube.com/embed/yiSwuMP2UIA\" frameborder=\"0\" allow=\"autoplay; encrypted-media\" allowfullscreen></iframe>"
      ],
      "text/plain": [
       "<IPython.core.display.HTML object>"
      ]
     },
     "execution_count": 1,
     "metadata": {},
     "output_type": "execute_result"
    }
   ],
   "source": [
    "from IPython.display import HTML\n",
    "\n",
    "HTML('<iframe width=\"900\" height=\"550\" src=\"https://www.youtube.com/embed/yiSwuMP2UIA\" frameborder=\"0\" allow=\"autoplay; encrypted-media\" allowfullscreen></iframe>')\n"
   ]
  },
  {
   "cell_type": "markdown",
   "metadata": {},
   "source": [
    "\n",
    "<img src=\"../../../sources/img/RNN/backpropagation-5.png\">\n",
    "<img src=\"../../../sources/img/RNN/backpropagation-6.png\">\n",
    "<img src=\"../../../sources/img/RNN/backpropagation-7.png\">\n",
    "<img src=\"../../../sources/img/RNN/backpropagation-8.png\">\n",
    "<img src=\"../../../sources/img/RNN/backpropagation-9.png\">"
   ]
  },
  {
   "cell_type": "code",
   "execution_count": null,
   "metadata": {},
   "outputs": [],
   "source": []
  }
 ],
 "metadata": {
  "kernelspec": {
   "display_name": "Python 2",
   "language": "python",
   "name": "python2"
  },
  "language_info": {
   "codemirror_mode": {
    "name": "ipython",
    "version": 2
   },
   "file_extension": ".py",
   "mimetype": "text/x-python",
   "name": "python",
   "nbconvert_exporter": "python",
   "pygments_lexer": "ipython2",
   "version": "2.7.14"
  }
 },
 "nbformat": 4,
 "nbformat_minor": 2
}
