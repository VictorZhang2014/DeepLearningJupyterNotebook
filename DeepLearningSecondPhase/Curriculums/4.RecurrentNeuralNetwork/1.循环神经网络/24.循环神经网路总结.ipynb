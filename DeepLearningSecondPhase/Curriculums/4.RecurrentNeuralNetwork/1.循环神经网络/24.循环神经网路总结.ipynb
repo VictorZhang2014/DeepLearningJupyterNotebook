{
 "cells": [
  {
   "cell_type": "markdown",
   "metadata": {},
   "source": [
    "我们来总结一下目前为止了解的知识：\n",
    "\n",
    "循环神经网络：\n",
    "\n",
    "- 1.当前状态取决于输入，也取决于之前的状态\n",
    "- 2.使用激活函数，如双曲正切，sigmoid或ReLu函数\n",
    "- 3.当前输出等于当前状态要素及其对应权重矩阵的线性组合\n",
    "\n",
    "我们也可以用softmax函数计算输出，这就是循环神经网络框架的折叠形式\n"
   ]
  },
  {
   "cell_type": "code",
   "execution_count": 1,
   "metadata": {},
   "outputs": [
    {
     "data": {
      "text/html": [
       "<iframe width=\"900\" height=\"550\" src=\"https://www.youtube.com/embed/Itnt-DkDeHU\" frameborder=\"0\" allow=\"autoplay; encrypted-media\" allowfullscreen></iframe>"
      ],
      "text/plain": [
       "<IPython.core.display.HTML object>"
      ]
     },
     "execution_count": 1,
     "metadata": {},
     "output_type": "execute_result"
    }
   ],
   "source": [
    "from IPython.display import HTML\n",
    "\n",
    "HTML('<iframe width=\"900\" height=\"550\" src=\"https://www.youtube.com/embed/Itnt-DkDeHU\" frameborder=\"0\" allow=\"autoplay; encrypted-media\" allowfullscreen></iframe>')\n"
   ]
  },
  {
   "cell_type": "markdown",
   "metadata": {},
   "source": [
    "<img src=\"../../../sources/img/RNN/rnn-summary-1.png\">\n",
    "<img src=\"../../../sources/img/RNN/rnn-summary-2.png\">\n",
    "<img src=\"../../../sources/img/RNN/rnn-summary-3.png\">\n",
    "<img src=\"../../../sources/img/RNN/rnn-summary-4.png\">\n",
    "\n",
    "如果反向传播超过10个时间步长，梯度会变得非常小。这种现象称为梯度消失问题，其中信息的贡献随着时间的推移呈几何衰减。因此，网络会忽视多个时间步长的时间依赖。长短期记忆网络单元专门解决该问题。\n",
    "\n",
    "在循环神经网络中，我们可能也有相反的问题，称为梯度膨胀问题，其中梯度数值失去控制一样增长。梯度裁剪是解决梯度膨胀问题的简便方法。\n",
    "\n",
    "更多梯度裁剪的信息可参考[此处](https://arxiv.org/abs/1211.5063)。\n",
    "\n",
    "你可以关注简要描述梯度裁剪思想的算法1。"
   ]
  },
  {
   "cell_type": "code",
   "execution_count": null,
   "metadata": {},
   "outputs": [],
   "source": []
  }
 ],
 "metadata": {
  "kernelspec": {
   "display_name": "Python 2",
   "language": "python",
   "name": "python2"
  },
  "language_info": {
   "codemirror_mode": {
    "name": "ipython",
    "version": 2
   },
   "file_extension": ".py",
   "mimetype": "text/x-python",
   "name": "python",
   "nbconvert_exporter": "python",
   "pygments_lexer": "ipython2",
   "version": "2.7.14"
  }
 },
 "nbformat": 4,
 "nbformat_minor": 2
}
