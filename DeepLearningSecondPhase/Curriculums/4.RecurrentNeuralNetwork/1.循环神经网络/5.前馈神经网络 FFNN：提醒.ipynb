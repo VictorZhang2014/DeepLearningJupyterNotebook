{
 "cells": [
  {
   "cell_type": "markdown",
   "metadata": {},
   "source": [
    "# 前馈神经网络：提醒\n",
    "\n",
    "训练循环神经网络系统所需的数学计算非常有趣。为了深入了解这个过程，我们首先需要有信心使用 vanilla 前馈神经网络（FFNN）系统。我们需要全面了解在训练这些系统中使用的前馈过程和反向传播过程。 接下来几个视频将涵盖这些你已经了解的话题。我们将使用具体例子，解决前馈过程和反向传播算法。这些例子将作为额外内容，帮助你进一步理解随后课程中的循环神经网络。\n",
    "\n",
    "以下几个视频将向你简要介绍前馈神经网络(FFNN)。"
   ]
  },
  {
   "cell_type": "code",
   "execution_count": 1,
   "metadata": {},
   "outputs": [
    {
     "data": {
      "text/html": [
       "<iframe width=\"900\" height=\"550\" src=\"https://www.youtube.com/embed/_vrp2lZjXf0\" frameborder=\"0\" allow=\"autoplay; encrypted-media\" allowfullscreen></iframe>"
      ],
      "text/plain": [
       "<IPython.core.display.HTML object>"
      ]
     },
     "execution_count": 1,
     "metadata": {},
     "output_type": "execute_result"
    }
   ],
   "source": [
    "from IPython.display import HTML\n",
    "\n",
    "HTML('<iframe width=\"900\" height=\"550\" src=\"https://www.youtube.com/embed/_vrp2lZjXf0\" frameborder=\"0\" allow=\"autoplay; encrypted-media\" allowfullscreen></iframe>')\n"
   ]
  },
  {
   "cell_type": "markdown",
   "metadata": {},
   "source": [
    "好的，休息一下。休息结束后，我们将继续学习前馈神经网络！"
   ]
  },
  {
   "cell_type": "code",
   "execution_count": 2,
   "metadata": {},
   "outputs": [
    {
     "data": {
      "text/html": [
       "<iframe width=\"900\" height=\"550\" src=\"https://www.youtube.com/embed/FfPjaGcZODc\" frameborder=\"0\" allow=\"autoplay; encrypted-media\" allowfullscreen></iframe>"
      ],
      "text/plain": [
       "<IPython.core.display.HTML object>"
      ]
     },
     "execution_count": 2,
     "metadata": {},
     "output_type": "execute_result"
    }
   ],
   "source": [
    "from IPython.display import HTML\n",
    "\n",
    "HTML('<iframe width=\"900\" height=\"550\" src=\"https://www.youtube.com/embed/FfPjaGcZODc\" frameborder=\"0\" allow=\"autoplay; encrypted-media\" allowfullscreen></iframe>')\n"
   ]
  },
  {
   "cell_type": "markdown",
   "metadata": {},
   "source": [
    "如前所述，处理神经网络时包括两个主要阶段：\n",
    "\n",
    "`训练`\n",
    "\n",
    "和\n",
    "\n",
    "`估计`。\n",
    "\n",
    "在训练阶段，我们采取包含多对输入及其相应目标（输出）的数据集(又称训练集)，我们的目标是找到一组权重，可以从输入到理想输出实现最佳映射。 在估计阶段，我们使用在训练阶段创建的网络，应用新的输入，得到理想的输出。\n",
    "\n",
    "训练阶段包括两个步骤：\n",
    "\n",
    "`前馈`\n",
    "\n",
    "和\n",
    "\n",
    "`反向传播`\n",
    "\n",
    "根据需要，我们会多次重复这些步骤，直到我们确定的系统得到一组最佳权重，可以得到最优输出。\n",
    "\n",
    "接下来两个视频将探讨前馈过程。\n",
    "\n",
    "你会发现，在这些视频中，我使用下标和上标作为权重矩阵的数字符号。\n",
    "\n",
    "<img src=\"../../../sources/img/RNN/rnn-certain-formula-1.png\">"
   ]
  },
  {
   "cell_type": "code",
   "execution_count": null,
   "metadata": {},
   "outputs": [],
   "source": []
  }
 ],
 "metadata": {
  "kernelspec": {
   "display_name": "Python 2",
   "language": "python",
   "name": "python2"
  },
  "language_info": {
   "codemirror_mode": {
    "name": "ipython",
    "version": 2
   },
   "file_extension": ".py",
   "mimetype": "text/x-python",
   "name": "python",
   "nbconvert_exporter": "python",
   "pygments_lexer": "ipython2",
   "version": "2.7.14"
  }
 },
 "nbformat": 4,
 "nbformat_minor": 2
}
