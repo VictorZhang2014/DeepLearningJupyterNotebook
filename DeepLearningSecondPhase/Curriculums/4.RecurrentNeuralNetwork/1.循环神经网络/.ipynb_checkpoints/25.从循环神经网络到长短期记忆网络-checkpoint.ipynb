{
 "cells": [
  {
   "cell_type": "markdown",
   "metadata": {},
   "source": [
    "我们深入探究 `长短期记忆网络（LSTM）` 单元前，先观看下面的视频："
   ]
  },
  {
   "cell_type": "code",
   "execution_count": 1,
   "metadata": {},
   "outputs": [
    {
     "data": {
      "text/html": [
       "<iframe width=\"900\" height=\"550\" src=\"https://www.youtube.com/embed/MsqybcWmzGY\" frameborder=\"0\" allow=\"autoplay; encrypted-media\" allowfullscreen></iframe>"
      ],
      "text/plain": [
       "<IPython.core.display.HTML object>"
      ]
     },
     "execution_count": 1,
     "metadata": {},
     "output_type": "execute_result"
    }
   ],
   "source": [
    "from IPython.display import HTML\n",
    "\n",
    "HTML('<iframe width=\"900\" height=\"550\" src=\"https://www.youtube.com/embed/MsqybcWmzGY\" frameborder=\"0\" allow=\"autoplay; encrypted-media\" allowfullscreen></iframe>')\n"
   ]
  },
  {
   "cell_type": "markdown",
   "metadata": {},
   "source": [
    "长短期记忆单元，[(LSTM)](http://www.bioinf.jku.at/publications/older/2604.pdf) 通过帮助我们应用时间依赖的网络，提供消失梯度问题的解决方案。这是1997年由 [Sepp Hochreiter](https://en.wikipedia.org/wiki/Sepp_Hochreiter) 和 [Jürgen Schmidhuber](http://people.idsia.ch/~juergen/) 共同提出的\n",
    "\n",
    "如果我们仔细研究循环神经网络（RNN）神经元，我们会发现简单的线性组合（不管是否使用激活函数）。我们也会发现只有一个递增数值。\n",
    "\n",
    "放大神经元，我们可以在下列配置中看到这样的图示：\n",
    "\n",
    "<img src=\"../../../sources/img/RNN/rnn-lstm-1.png\">\n",
    "\n",
    "长短期记忆单元可以使循环系统学习多个时间步长，避免因梯度消失问题而丢失信息。这是可以充分区分的，因此更新权重时，我们可以很轻松地使用反向传播算法。\n",
    "\n",
    "在接下来一组视频中，路易斯将帮助你进一步了解长短期记忆网络。\n"
   ]
  },
  {
   "cell_type": "code",
   "execution_count": null,
   "metadata": {},
   "outputs": [],
   "source": []
  }
 ],
 "metadata": {
  "kernelspec": {
   "display_name": "Python 2",
   "language": "python",
   "name": "python2"
  },
  "language_info": {
   "codemirror_mode": {
    "name": "ipython",
    "version": 2
   },
   "file_extension": ".py",
   "mimetype": "text/x-python",
   "name": "python",
   "nbconvert_exporter": "python",
   "pygments_lexer": "ipython2",
   "version": "2.7.14"
  }
 },
 "nbformat": 4,
 "nbformat_minor": 2
}
