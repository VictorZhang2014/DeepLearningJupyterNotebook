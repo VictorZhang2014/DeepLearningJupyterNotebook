{
 "cells": [
  {
   "cell_type": "markdown",
   "metadata": {},
   "source": [
    "<img src=\"../../../sources/img/RNN/rnn-backpropagation-practice-7.png\">\n",
    "<img src=\"../../../sources/img/RNN/rnn-backpropagation-practice-8.png\">\n",
    "<img src=\"../../../sources/img/RNN/rnn-backpropagation-practice-9.png\">\n",
    "<img src=\"../../../sources/img/RNN/rnn-backpropagation-practice-10.png\">\n",
    "<img src=\"../../../sources/img/RNN/rnn-backpropagation-practice-11.png\">\n",
    "<img src=\"../../../sources/img/RNN/rnn-backpropagation-practice-12.png\">\n",
    "<img src=\"../../../sources/img/RNN/rnn-backpropagation-practice-13.png\">"
   ]
  },
  {
   "cell_type": "code",
   "execution_count": null,
   "metadata": {},
   "outputs": [],
   "source": []
  }
 ],
 "metadata": {
  "kernelspec": {
   "display_name": "Python 2",
   "language": "python",
   "name": "python2"
  },
  "language_info": {
   "codemirror_mode": {
    "name": "ipython",
    "version": 2
   },
   "file_extension": ".py",
   "mimetype": "text/x-python",
   "name": "python",
   "nbconvert_exporter": "python",
   "pygments_lexer": "ipython2",
   "version": "2.7.14"
  }
 },
 "nbformat": 4,
 "nbformat_minor": 2
}
