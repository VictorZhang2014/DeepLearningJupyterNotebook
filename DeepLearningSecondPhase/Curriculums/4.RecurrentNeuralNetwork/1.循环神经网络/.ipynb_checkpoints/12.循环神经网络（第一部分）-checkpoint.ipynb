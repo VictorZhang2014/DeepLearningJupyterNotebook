{
 "cells": [
  {
   "cell_type": "markdown",
   "metadata": {},
   "source": [
    "我们终于要探讨循环神经网络，打开进入新内容的大门！"
   ]
  },
  {
   "cell_type": "code",
   "execution_count": 1,
   "metadata": {},
   "outputs": [
    {
     "data": {
      "text/html": [
       "<iframe width=\"900\" height=\"550\" src=\"https://www.youtube.com/embed/ofbnDxGSUcg\" frameborder=\"0\" allow=\"autoplay; encrypted-media\" allowfullscreen></iframe>"
      ],
      "text/plain": [
       "<IPython.core.display.HTML object>"
      ]
     },
     "execution_count": 1,
     "metadata": {},
     "output_type": "execute_result"
    }
   ],
   "source": [
    "from IPython.display import HTML\n",
    "\n",
    "HTML('<iframe width=\"900\" height=\"550\" src=\"https://www.youtube.com/embed/ofbnDxGSUcg\" frameborder=\"0\" allow=\"autoplay; encrypted-media\" allowfullscreen></iframe>')\n"
   ]
  },
  {
   "cell_type": "markdown",
   "metadata": {},
   "source": [
    "循环神经网络的原则与前馈神经网络相同，这正是我们花费大量时间提醒自己在训练阶段使用前馈和反向传播算法步骤的原因。\n",
    "\n",
    "前馈神经网络和循环神经网络之间存在两个主要区别。循环神经网络使用：\n",
    "\n",
    "- 序列作为训练阶段的输入，且\n",
    "- 存储要素\n",
    "\n",
    "存储是隐藏层神经元的输出，在接下来训练步骤中将作为网络的额外输入。\n",
    "\n",
    "三层基本神经网络的反馈作为存储输入，叫做Elman网络，如下图所示：\n",
    "\n",
    "<img src=\"../../../sources/img/RNN/rnn-part-1.png\">\n",
    "\n",
    "正如历史一瞥页面中提到的， 这是1990年[Elman网络](http://onlinelibrary.wiley.com/doi/10.1207/s15516709cog1402_1/abstract)的论文原稿。此处提供链接，因为这是全球循环神经网络的重要里程碑。为了简便，你可以查阅下列[额外信息](https://en.wikipedia.org/wiki/Recurrent_neural_network#Elman_networks_and_Jordan_networks)。\n",
    "\n",
    "现在继续学习下一个视频，了解循环神经网络更多信息。"
   ]
  },
  {
   "cell_type": "code",
   "execution_count": null,
   "metadata": {},
   "outputs": [],
   "source": []
  }
 ],
 "metadata": {
  "kernelspec": {
   "display_name": "Python 2",
   "language": "python",
   "name": "python2"
  },
  "language_info": {
   "codemirror_mode": {
    "name": "ipython",
    "version": 2
   },
   "file_extension": ".py",
   "mimetype": "text/x-python",
   "name": "python",
   "nbconvert_exporter": "python",
   "pygments_lexer": "ipython2",
   "version": "2.7.14"
  }
 },
 "nbformat": 4,
 "nbformat_minor": 2
}
