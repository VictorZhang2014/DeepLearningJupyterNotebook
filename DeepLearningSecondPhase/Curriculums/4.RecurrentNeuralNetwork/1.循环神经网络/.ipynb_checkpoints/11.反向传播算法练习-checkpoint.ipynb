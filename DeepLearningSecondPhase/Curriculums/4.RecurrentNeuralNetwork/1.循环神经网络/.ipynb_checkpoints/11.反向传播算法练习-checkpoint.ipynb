{
 "cells": [
  {
   "cell_type": "markdown",
   "metadata": {},
   "source": [
    "下图是一个前馈网络，包含\n",
    "\n",
    "- 一个输入 x\n",
    "- 两个隐藏层，每层包括两个神经元\n",
    "- 一个输出\n",
    "\n",
    "<img src=\"../../../sources/img/RNN/backpropagation-practice-1.png\">\n",
    "\n",
    "## 练习题\n",
    "\n",
    "权重矩阵W1的更新规则是什么？\n",
    "\n",
    "(换句话说，y相对于W1的偏导数是多少？)\n",
    "\n",
    "提示：使用链式法则\n",
    "\n",
    "答：方程A\n",
    "\n",
    "<img src=\"../../../sources/img/RNN/backpropagation-practice-2.png\">\n",
    "\n",
    "\n",
    "## 解决方法\n",
    "\n",
    "以下两个路径W1有利于得到输出：\n",
    "\n",
    "- 路径 A\n",
    "- 路径 B\n",
    "\n",
    "(下图展示了这两个路径)\n",
    "\n",
    "<img src=\"../../../sources/img/RNN/backpropagation-practice-3.png\">\n",
    "<img src=\"../../../sources/img/RNN/backpropagation-practice-4.png\">\n",
    "\n"
   ]
  },
  {
   "cell_type": "code",
   "execution_count": null,
   "metadata": {},
   "outputs": [],
   "source": []
  }
 ],
 "metadata": {
  "kernelspec": {
   "display_name": "Python 2",
   "language": "python",
   "name": "python2"
  },
  "language_info": {
   "codemirror_mode": {
    "name": "ipython",
    "version": 2
   },
   "file_extension": ".py",
   "mimetype": "text/x-python",
   "name": "python",
   "nbconvert_exporter": "python",
   "pygments_lexer": "ipython2",
   "version": "2.7.14"
  }
 },
 "nbformat": 4,
 "nbformat_minor": 2
}
