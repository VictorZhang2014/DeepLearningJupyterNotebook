{
 "cells": [
  {
   "cell_type": "markdown",
   "metadata": {},
   "source": [
    "# 反向传播算法理论\n",
    "\n",
    "由于偏导数是反向传播算法中非常关键的数学概念，所以你要有把握具备计算这些偏导数的能力，这很重要。一旦你知道如何计算基本的导数，计算偏导数就容易理解了。 关于偏导数的更多信息，请使用以下[链接](http://www.columbia.edu/itc/sipa/math/calc_rules_multivar.html)\n",
    "\n",
    "在这节课以后练习中，为了进行计算，你可以使用该链接了解[常义导数](http://tutorial.math.lamar.edu/pdf/Common_Derivatives_Integrals.pdf)。\n",
    "\n",
    "在反向传播算法过程中，我们通过调整权重，利用每次迭代使网络误差最小化。以下视频可以帮助你理解我们计算这些调整所使用的数学过程。"
   ]
  },
  {
   "cell_type": "code",
   "execution_count": 1,
   "metadata": {},
   "outputs": [
    {
     "data": {
      "text/html": [
       "<iframe width=\"900\" height=\"550\" src=\"https://www.youtube.com/embed/Xlgd8I3TWUg\" frameborder=\"0\" allow=\"autoplay; encrypted-media\" allowfullscreen></iframe>"
      ],
      "text/plain": [
       "<IPython.core.display.HTML object>"
      ]
     },
     "execution_count": 1,
     "metadata": {},
     "output_type": "execute_result"
    }
   ],
   "source": [
    "from IPython.display import HTML\n",
    "\n",
    "HTML('<iframe width=\"900\" height=\"550\" src=\"https://www.youtube.com/embed/Xlgd8I3TWUg\" frameborder=\"0\" allow=\"autoplay; encrypted-media\" allowfullscreen></iframe>')\n"
   ]
  },
  {
   "cell_type": "markdown",
   "metadata": {},
   "source": [
    "<img src=\"../../../sources/img/RNN/feedforward-6-6.png\">\n",
    "\n",
    "在这里你可以找到其他理解和调优学习率的良好资源：\n",
    "\n",
    "- [资源 1](http://blog.datumbox.com/tuning-the-learning-rate-in-gradient-descent/)\n",
    "- [资源 2](http://cs231n.github.io/neural-networks-3/#loss)\n",
    "\n",
    "以下视频是复习过拟合。你已经在训练神经网络课程中了解过这个概念。你可以跳过这个内容，直接进入下一个视频。\n"
   ]
  },
  {
   "cell_type": "code",
   "execution_count": 2,
   "metadata": {},
   "outputs": [
    {
     "data": {
      "text/html": [
       "<iframe width=\"900\" height=\"550\" src=\"https://www.youtube.com/embed/rmBLnVbFfFY\" frameborder=\"0\" allow=\"autoplay; encrypted-media\" allowfullscreen></iframe>"
      ],
      "text/plain": [
       "<IPython.core.display.HTML object>"
      ]
     },
     "execution_count": 2,
     "metadata": {},
     "output_type": "execute_result"
    }
   ],
   "source": [
    "from IPython.display import HTML\n",
    "\n",
    "HTML('<iframe width=\"900\" height=\"550\" src=\"https://www.youtube.com/embed/rmBLnVbFfFY\" frameborder=\"0\" allow=\"autoplay; encrypted-media\" allowfullscreen></iframe>')\n"
   ]
  },
  {
   "cell_type": "code",
   "execution_count": null,
   "metadata": {},
   "outputs": [],
   "source": []
  }
 ],
 "metadata": {
  "kernelspec": {
   "display_name": "Python 2",
   "language": "python",
   "name": "python2"
  },
  "language_info": {
   "codemirror_mode": {
    "name": "ipython",
    "version": 2
   },
   "file_extension": ".py",
   "mimetype": "text/x-python",
   "name": "python",
   "nbconvert_exporter": "python",
   "pygments_lexer": "ipython2",
   "version": "2.7.14"
  }
 },
 "nbformat": 4,
 "nbformat_minor": 2
}
