{
 "cells": [
  {
   "cell_type": "markdown",
   "metadata": {},
   "source": [
    "<img src=\"../../../sources/img/RNN/rnn-more-formula-1.png\">\n",
    "<img src=\"../../../sources/img/RNN/rnn-more-formula-2.png\">\n",
    "<img src=\"../../../sources/img/RNN/rnn-more-formula-3.png\">\n",
    "<img src=\"../../../sources/img/RNN/rnn-more-formula-4.png\">\n",
    "<img src=\"../../../sources/img/RNN/rnn-more-formula-5.png\">"
   ]
  },
  {
   "cell_type": "code",
   "execution_count": null,
   "metadata": {},
   "outputs": [],
   "source": []
  }
 ],
 "metadata": {
  "kernelspec": {
   "display_name": "Python 2",
   "language": "python",
   "name": "python2"
  },
  "language_info": {
   "codemirror_mode": {
    "name": "ipython",
    "version": 2
   },
   "file_extension": ".py",
   "mimetype": "text/x-python",
   "name": "python",
   "nbconvert_exporter": "python",
   "pygments_lexer": "ipython2",
   "version": "2.7.14"
  }
 },
 "nbformat": 4,
 "nbformat_minor": 2
}
