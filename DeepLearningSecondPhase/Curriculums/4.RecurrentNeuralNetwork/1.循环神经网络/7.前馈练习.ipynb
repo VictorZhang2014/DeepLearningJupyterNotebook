{
 "cells": [
  {
   "cell_type": "markdown",
   "metadata": {},
   "source": [
    "下图是一个前馈网络，包含\n",
    "\n",
    "- 一个输入 x\n",
    "- 两个隐藏层\n",
    "- 一个输出\n",
    "\n",
    "第一个隐藏层有M个神经元。\n",
    "\n",
    "第二个隐藏层有N个神经元。\n",
    "\n",
    "<img src=\"../../../sources/img/RNN/feedforward-6-5.png\">\n",
    "\n",
    "## 练习题\n",
    "\n",
    "单个前馈传导需要乘法运算的总次数是多少？\n",
    "\n",
    "- 答：M + MN + N\n",
    "\n",
    "\n",
    "## 解决方法：\n",
    "\n",
    "为了计算单个前馈所需的乘法次数，我们可以将网络分成三个步骤： -第1步：从单个输入到第一个隐藏层 -第2步：从第一个隐藏层到第二个隐藏层 -第3步：从第二个隐藏层到单个输出\n",
    "\n",
    "#### 第 1 步\n",
    "\n",
    "单个输入乘以包含M值的向量。向量中的每个值都将表示连接输入和第一个隐藏层的权重。因此，我们将有M个乘法运算。\n",
    "\n",
    "#### 第 2 步\n",
    "\n",
    "第一个隐藏层（总共M个）中每个值乘以包含N个数值的向量。向量中的每个值表示将第一个隐藏层神经元连接到第二个隐藏层神经元的权重。因此，我们在这里将有M乘以N次计算，即MN次乘法运算。\n",
    "\n",
    "#### 第 3 步\n",
    "\n",
    "第二个隐藏层每个数值(共N个)都会乘以连接该数值和单个输出的权重要素。因此我们将有N个乘法运算。\n",
    "\n",
    "总之，我们会在每步中增加运算次数：`M+MN+N`。\n",
    "\n"
   ]
  },
  {
   "cell_type": "code",
   "execution_count": null,
   "metadata": {},
   "outputs": [],
   "source": []
  }
 ],
 "metadata": {
  "kernelspec": {
   "display_name": "Python 2",
   "language": "python",
   "name": "python2"
  },
  "language_info": {
   "codemirror_mode": {
    "name": "ipython",
    "version": 2
   },
   "file_extension": ".py",
   "mimetype": "text/x-python",
   "name": "python",
   "nbconvert_exporter": "python",
   "pygments_lexer": "ipython2",
   "version": "2.7.14"
  }
 },
 "nbformat": 4,
 "nbformat_minor": 2
}
