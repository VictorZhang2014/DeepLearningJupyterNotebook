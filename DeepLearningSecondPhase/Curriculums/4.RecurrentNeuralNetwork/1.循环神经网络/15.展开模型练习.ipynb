{
 "cells": [
  {
   "cell_type": "markdown",
   "metadata": {},
   "source": [
    "<img src=\"../../../sources/img/RNN/rnn-part-5.png\">\n",
    "\n",
    "## 练习题\n",
    "\n",
    "观察上面循环神经网络折叠模型的图片。下面哪个图片代表相同网络的展开模型？\n",
    "\n",
    "- 答：A 和 B 都是正确的\n",
    "\n",
    "<img src=\"../../../sources/img/RNN/rnn-part-6.png\">\n",
    "<img src=\"../../../sources/img/RNN/rnn-part-7.png\">"
   ]
  },
  {
   "cell_type": "code",
   "execution_count": null,
   "metadata": {},
   "outputs": [],
   "source": []
  }
 ],
 "metadata": {
  "kernelspec": {
   "display_name": "Python 2",
   "language": "python",
   "name": "python2"
  },
  "language_info": {
   "codemirror_mode": {
    "name": "ipython",
    "version": 2
   },
   "file_extension": ".py",
   "mimetype": "text/x-python",
   "name": "python",
   "nbconvert_exporter": "python",
   "pygments_lexer": "ipython2",
   "version": "2.7.14"
  }
 },
 "nbformat": 4,
 "nbformat_minor": 2
}
