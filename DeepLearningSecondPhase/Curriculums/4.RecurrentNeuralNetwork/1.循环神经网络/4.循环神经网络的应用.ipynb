{
 "cells": [
  {
   "cell_type": "markdown",
   "metadata": {},
   "source": [
    "# 应用\n",
    "\n",
    "世界上领先科技公司都使用循环神经网络，尤其是长短期记忆网络。我们来看几个例子。"
   ]
  },
  {
   "cell_type": "code",
   "execution_count": 1,
   "metadata": {},
   "outputs": [
    {
     "data": {
      "text/html": [
       "<iframe width=\"900\" height=\"550\" src=\"https://www.youtube.com/embed/6JbTNARuKII\" frameborder=\"0\" allow=\"autoplay; encrypted-media\" allowfullscreen></iframe>"
      ],
      "text/plain": [
       "<IPython.core.display.HTML object>"
      ]
     },
     "execution_count": 1,
     "metadata": {},
     "output_type": "execute_result"
    }
   ],
   "source": [
    "from IPython.display import HTML\n",
    "\n",
    "HTML('<iframe width=\"900\" height=\"550\" src=\"https://www.youtube.com/embed/6JbTNARuKII\" frameborder=\"0\" allow=\"autoplay; encrypted-media\" allowfullscreen></iframe>')\n"
   ]
  },
  {
   "cell_type": "markdown",
   "metadata": {},
   "source": [
    "这么多有趣的应用，我们来一探究竟！\n",
    "\n",
    "- 你喜欢玩游戏和机器人吗？查看[Open AI 制造的 DotA 2机器人](https://blog.openai.com/dota-2/)。\n",
    "\n",
    "- [为无声电影自动添加声音](https://www.youtube.com/watch?time_continue=1&v=0FW99AQmMc8)如何？\n",
    "\n",
    "- 这个酷炫工具是用来[自动手写生成](http://www.cs.toronto.edu/~graves/handwriting.cgi?text=My+name+is+Luka&style=&bias=0.15&samples=3)。\n",
    "\n",
    "- Amazon 的语音转文本使用高质量的语音识别[Amazon Lex](https://aws.amazon.com/lex/faqs/)。\n",
    "\n",
    "- Facebook 使用循环神经网络和长短期记忆网络技术构[建语言模型](https://code.facebook.com/posts/1827693967466780/building-an-efficient-neural-language-model-over-a-billion-words/)。\n",
    "\n",
    "- Netflix也使用循环神经网络模型：[这是个很有趣的阅读材料](https://arxiv.org/pdf/1511.06939.pdf)。\n"
   ]
  },
  {
   "cell_type": "code",
   "execution_count": null,
   "metadata": {},
   "outputs": [],
   "source": []
  }
 ],
 "metadata": {
  "kernelspec": {
   "display_name": "Python 2",
   "language": "python",
   "name": "python2"
  },
  "language_info": {
   "codemirror_mode": {
    "name": "ipython",
    "version": 2
   },
   "file_extension": ".py",
   "mimetype": "text/x-python",
   "name": "python",
   "nbconvert_exporter": "python",
   "pygments_lexer": "ipython2",
   "version": "2.7.14"
  }
 },
 "nbformat": 4,
 "nbformat_minor": 2
}
