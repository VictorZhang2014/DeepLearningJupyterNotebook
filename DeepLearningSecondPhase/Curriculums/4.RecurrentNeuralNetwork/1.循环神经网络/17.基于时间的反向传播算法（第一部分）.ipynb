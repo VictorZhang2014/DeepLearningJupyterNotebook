{
 "cells": [
  {
   "cell_type": "markdown",
   "metadata": {},
   "source": [
    "现在我们已经充分了解如何训练循环神经网络。\n",
    "\n",
    "我们训练循环神经网络时，也使用反向传播算法，不过概念上发生了变化。这个过程与前馈神经网络(FFNN)类似，不过我们需要考虑以前的时间步长，因为系统包括存储。这个过程称为基于时间的反向传播算法，是接下来三个视频的主题。\n",
    "\n",
    "与之前一样，不要忘记做笔记。\n",
    "在以下视频中，我们将使用损失函数来计算误差。损失函数是理想输出和计算得到输出之间差距的平方。损失函数包括一些变体，例如使用标量进行分解。在反向传播算法示例中，为了方便计算，我们使用1/2的因子标量。\n",
    "\n",
    "如前所述，最常用的两个误差函数是[平方误差(MSE)](https://en.wikipedia.org/wiki/Mean_squared_error)(通常用于回归问题)和[交叉熵](https://www.ics.uci.edu/~pjsadows/notes.pdf)(通常用于分类问题)。\n",
    "\n",
    "这里我们使用平方误差的变体。\n"
   ]
  },
  {
   "cell_type": "code",
   "execution_count": 1,
   "metadata": {},
   "outputs": [
    {
     "data": {
      "text/html": [
       "<iframe width=\"900\" height=\"550\" src=\"https://www.youtube.com/embed/eE2L3-2wKac\" frameborder=\"0\" allow=\"autoplay; encrypted-media\" allowfullscreen></iframe>"
      ],
      "text/plain": [
       "<IPython.core.display.HTML object>"
      ]
     },
     "execution_count": 1,
     "metadata": {},
     "output_type": "execute_result"
    }
   ],
   "source": [
    "from IPython.display import HTML\n",
    "\n",
    "HTML('<iframe width=\"900\" height=\"550\" src=\"https://www.youtube.com/embed/eE2L3-2wKac\" frameborder=\"0\" allow=\"autoplay; encrypted-media\" allowfullscreen></iframe>')\n"
   ]
  },
  {
   "cell_type": "markdown",
   "metadata": {},
   "source": [
    "<img src=\"../../../sources/img/RNN/rnn-backpropagation-part-1.png\">\n",
    "<img src=\"../../../sources/img/RNN/rnn-backpropagation-part-2.png\">\n",
    "<img src=\"../../../sources/img/RNN/rnn-backpropagation-part-3.png\">"
   ]
  },
  {
   "cell_type": "code",
   "execution_count": null,
   "metadata": {},
   "outputs": [],
   "source": []
  }
 ],
 "metadata": {
  "kernelspec": {
   "display_name": "Python 2",
   "language": "python",
   "name": "python2"
  },
  "language_info": {
   "codemirror_mode": {
    "name": "ipython",
    "version": 2
   },
   "file_extension": ".py",
   "mimetype": "text/x-python",
   "name": "python",
   "nbconvert_exporter": "python",
   "pygments_lexer": "ipython2",
   "version": "2.7.14"
  }
 },
 "nbformat": 4,
 "nbformat_minor": 2
}
