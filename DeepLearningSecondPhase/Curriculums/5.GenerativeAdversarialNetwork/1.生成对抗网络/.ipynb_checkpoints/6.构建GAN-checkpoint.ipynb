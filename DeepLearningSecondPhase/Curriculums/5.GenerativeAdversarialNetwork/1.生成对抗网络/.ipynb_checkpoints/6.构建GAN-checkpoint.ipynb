{
 "cells": [
  {
   "cell_type": "markdown",
   "metadata": {},
   "source": [
    "# 构建 GAN\n",
    "\n",
    "我们和 Ian 一起构建了一个 notebook，以指引你构建你自己的 GAN 并使用 MNIST 训练它。你将构建生成器和辨别器网络，并设置损失和优化器，这将用到一些新东西，因为我们要并行训练这两个网络。我们包含了一个 notebook，其中有让你实现网络的练习，以及另一个包含解决方案的 notebook。\n",
    "\n",
    "# 获取 Notebook\n",
    "\n",
    "跟往常一样，你可以从我们的 [公共 GitHub 仓库](https://github.com/udacity/cn-deep-learning) 中获取 notebook，它位于 `tutorials/gan_mnist` 目录下。要获取最新的 notebook，在你克隆的代码库中运行 `git pull`。\n",
    "\n",
    "如果你还没有克隆代码库，请使用 Git 克隆：\n",
    "\n",
    "```\n",
    "git clone https://github.com/udacity/cn-deep-learning.git\n",
    "```"
   ]
  },
  {
   "cell_type": "code",
   "execution_count": null,
   "metadata": {
    "collapsed": true
   },
   "outputs": [],
   "source": []
  }
 ],
 "metadata": {
  "kernelspec": {
   "display_name": "Python 3",
   "language": "python",
   "name": "python3"
  },
  "language_info": {
   "codemirror_mode": {
    "name": "ipython",
    "version": 3
   },
   "file_extension": ".py",
   "mimetype": "text/x-python",
   "name": "python",
   "nbconvert_exporter": "python",
   "pygments_lexer": "ipython3",
   "version": "3.6.5"
  }
 },
 "nbformat": 4,
 "nbformat_minor": 2
}
