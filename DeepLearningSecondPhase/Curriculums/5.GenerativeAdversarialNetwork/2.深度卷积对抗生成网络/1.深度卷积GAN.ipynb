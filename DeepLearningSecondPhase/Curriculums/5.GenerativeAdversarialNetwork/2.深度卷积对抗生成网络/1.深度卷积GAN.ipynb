{
 "cells": [
  {
   "cell_type": "markdown",
   "metadata": {},
   "source": [
    "# 深度卷积 GAN\n",
    "\n",
    "在这节课中，你将实现一个深度卷积 GAN 模型，来生成全彩色图像。这些图像有些复杂，所以需要在生成器和辨别器中使用卷积层。你还需要使用一个叫作“批归一化”的技术来使 GAN 顺利进行训练。\n",
    "\n",
    "<img src=\"../../../sources/img/GAN/svhn-examples.png\">\n",
    "\n",
    "\n",
    "你将使用“街景门牌号”数据集来训练你的 GAN，上面有一个小示例。训练后，生成器将能够产生几乎与这些图像一模一样的图像。\n",
    "\n",
    "注意： 此课程最后将讲到 GAN 的半监督学习。\n",
    "\n"
   ]
  },
  {
   "cell_type": "code",
   "execution_count": null,
   "metadata": {},
   "outputs": [],
   "source": []
  }
 ],
 "metadata": {
  "kernelspec": {
   "display_name": "Python 3",
   "language": "python",
   "name": "python3"
  },
  "language_info": {
   "codemirror_mode": {
    "name": "ipython",
    "version": 2
   },
   "file_extension": ".py",
   "mimetype": "text/x-python",
   "name": "python",
   "nbconvert_exporter": "python",
   "pygments_lexer": "ipython2",
   "version": "2.7.14"
  }
 },
 "nbformat": 4,
 "nbformat_minor": 2
}
