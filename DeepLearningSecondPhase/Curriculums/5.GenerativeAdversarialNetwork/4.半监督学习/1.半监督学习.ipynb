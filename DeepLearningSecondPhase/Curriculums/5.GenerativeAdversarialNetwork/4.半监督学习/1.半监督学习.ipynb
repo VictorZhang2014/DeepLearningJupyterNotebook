{
 "cells": [
  {
   "cell_type": "markdown",
   "metadata": {},
   "source": [
    "# 半监督学习\n",
    "\n",
    "在本课中，Ian Goodfellow 将带你在 TensorFlow 中实现一个半监督 GAN 模型。当数据集中只有少量已标记数据时，使用半监督模型也能取得相当好的效果。\n",
    "\n",
    "我们将再次使用 SVHN 数据集，并尝试在去掉大部分数据标签后对图像进行分类。\n",
    "\n",
    "首先声明，该内容比较前沿，相较于之前的内容也更难理解和实现。但你会学到更多，并了解一些非常酷的内容。\n",
    "\n",
    "\n",
    "# 获取 notebooks 文件\n",
    "\n",
    "Ian 会利用两个 notebooks 帮你学习，一个里用于练习部署模型，另一个用于查看参考答案。这些 Notebooks 可以在该课程 [公共 GitHub 代码库](https://github.com/udacity/cn-deep-learning) 的 `tutorials/semi-supervised` 文件夹下找到。你可以直接下载或通过 `git pull` 更新你已有的代码库。"
   ]
  },
  {
   "cell_type": "code",
   "execution_count": null,
   "metadata": {
    "collapsed": true
   },
   "outputs": [],
   "source": []
  }
 ],
 "metadata": {
  "kernelspec": {
   "display_name": "Python 3",
   "language": "python",
   "name": "python3"
  },
  "language_info": {
   "codemirror_mode": {
    "name": "ipython",
    "version": 3
   },
   "file_extension": ".py",
   "mimetype": "text/x-python",
   "name": "python",
   "nbconvert_exporter": "python",
   "pygments_lexer": "ipython3",
   "version": "3.6.5"
  }
 },
 "nbformat": 4,
 "nbformat_minor": 2
}
