{
 "cells": [
  {
   "cell_type": "markdown",
   "metadata": {},
   "source": [
    "# 1.深度学习技术的广泛应用场景"
   ]
  },
  {
   "cell_type": "code",
   "execution_count": 1,
   "metadata": {},
   "outputs": [
    {
     "data": {
      "text/html": [
       "<iframe src=\"https://www.youtube.com/embed/PdPdogFHnvE\" width=\"560\" height=\"315\"  frameborder=\"0\" allowfullscreen></iframe>"
      ],
      "text/plain": [
       "<IPython.core.display.HTML object>"
      ]
     },
     "execution_count": 1,
     "metadata": {},
     "output_type": "execute_result"
    }
   ],
   "source": [
    "from IPython.display import HTML\n",
    "\n",
    "HTML('<iframe src=\"https://www.youtube.com/embed/PdPdogFHnvE\" width=\"560\" height=\"315\"  frameborder=\"0\" allowfullscreen></iframe>')"
   ]
  },
  {
   "cell_type": "code",
   "execution_count": null,
   "metadata": {},
   "outputs": [],
   "source": []
  },
  {
   "cell_type": "markdown",
   "metadata": {},
   "source": [
    "# 2.你将构建哪些项目"
   ]
  },
  {
   "cell_type": "code",
   "execution_count": 2,
   "metadata": {},
   "outputs": [
    {
     "data": {
      "text/html": [
       "<iframe src=\"https://www.youtube.com/embed/sUgmccvOhjU\" width=\"560\" height=\"315\"  frameborder=\"0\" allowfullscreen></iframe>"
      ],
      "text/plain": [
       "<IPython.core.display.HTML object>"
      ]
     },
     "execution_count": 2,
     "metadata": {},
     "output_type": "execute_result"
    }
   ],
   "source": [
    "from IPython.display import HTML\n",
    "\n",
    "HTML('<iframe src=\"https://www.youtube.com/embed/sUgmccvOhjU\" width=\"560\" height=\"315\"  frameborder=\"0\" allowfullscreen></iframe>')"
   ]
  },
  {
   "cell_type": "markdown",
   "metadata": {},
   "source": [
    "## 术语\n",
    "\n",
    "如果你不熟悉某些术语，也没关系。学完这门课程后，你将牢记这些术语。在此期间，请参阅以下链接，详细了解这些术语：\n",
    "\n",
    "- [卷积神经网络](http://neuralnetworksanddeeplearning.com/chap6.html)\n",
    "- [递归神经网络](http://colah.github.io/posts/2015-08-Understanding-LSTMs/)\n",
    "- [生成对抗网络](https://channel9.msdn.com/Events/Neural-Information-Processing-Systems-Conference/Neural-Information-Processing-Systems-Conference-NIPS-2016/Generative-Adversarial-Networks)\n",
    "\n",
    "\n",
    "** 项目 1 - 你的第一个神经网络 **\n",
    "- 构建一个简单的网络，帮助预测共享单车使用情况。\n",
    "\n",
    "** 项目 2 - 图像识别 **\n",
    "- 利用卷积神经网络对 CIFAR-10 数据库中的图像进行分类\n",
    "\n",
    "** 项目 3 - 生成电视剧台词 **\n",
    "- 利用循环神经网络生成新的电视剧台词。\n",
    "\n",
    "** 项目 4 - 生成对抗网络项目 **\n",
    "- 一个关于生成对抗网络 (GAN) 的项目。\n",
    "\n",
    "** 项目 5 - 深度强化学习项目 **\n",
    "- 设计一个可以在模拟环境中进行决策的系统。把强化学习应用到电子游戏和机器人开发等复杂的领域中。\n",
    "\n",
    "\n",
    "\n",
    "\n",
    "\n",
    "\n"
   ]
  },
  {
   "cell_type": "code",
   "execution_count": null,
   "metadata": {},
   "outputs": [],
   "source": []
  },
  {
   "cell_type": "markdown",
   "metadata": {},
   "source": [
    "# 3.认识Mat和Siraj"
   ]
  },
  {
   "cell_type": "code",
   "execution_count": 3,
   "metadata": {},
   "outputs": [
    {
     "data": {
      "text/html": [
       "<iframe src=\"https://www.youtube.com/embed/EcP0U4720sA\" width=\"560\" height=\"315\"  frameborder=\"0\" allowfullscreen></iframe>"
      ],
      "text/plain": [
       "<IPython.core.display.HTML object>"
      ]
     },
     "execution_count": 3,
     "metadata": {},
     "output_type": "execute_result"
    }
   ],
   "source": [
    "HTML('<iframe src=\"https://www.youtube.com/embed/EcP0U4720sA\" width=\"560\" height=\"315\"  frameborder=\"0\" allowfullscreen></iframe>')"
   ]
  },
  {
   "cell_type": "markdown",
   "metadata": {},
   "source": [
    "- [Sampyl - 用 Python 编写的 MCMC Samplers](http://matatat.org/sampyl/index.html) （由 Mat Leonard 创建）。\n",
    "- [Siraj Raval ](http://www.sirajraval.com/) 的个人网站主页。"
   ]
  },
  {
   "cell_type": "code",
   "execution_count": null,
   "metadata": {},
   "outputs": [],
   "source": []
  }
 ],
 "metadata": {
  "kernelspec": {
   "display_name": "Python 2",
   "language": "python",
   "name": "python2"
  },
  "language_info": {
   "codemirror_mode": {
    "name": "ipython",
    "version": 2
   },
   "file_extension": ".py",
   "mimetype": "text/x-python",
   "name": "python",
   "nbconvert_exporter": "python",
   "pygments_lexer": "ipython2",
   "version": "2.7.14"
  }
 },
 "nbformat": 4,
 "nbformat_minor": 2
}
