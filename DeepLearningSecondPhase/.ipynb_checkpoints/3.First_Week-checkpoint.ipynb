{
 "cells": [
  {
   "cell_type": "markdown",
   "metadata": {},
   "source": [
    "# 第一周"
   ]
  },
  {
   "cell_type": "code",
   "execution_count": 1,
   "metadata": {},
   "outputs": [
    {
     "data": {
      "text/html": [
       "<iframe src=\"https://www.youtube.com/embed/krK-TcGoYUI\" width=\"560\" height=\"315\"  frameborder=\"0\" allowfullscreen></iframe>"
      ],
      "text/plain": [
       "<IPython.core.display.HTML object>"
      ]
     },
     "execution_count": 1,
     "metadata": {},
     "output_type": "execute_result"
    }
   ],
   "source": [
    "from IPython.display import HTML\n",
    "\n",
    "HTML('<iframe src=\"https://www.youtube.com/embed/krK-TcGoYUI\" width=\"560\" height=\"315\"  frameborder=\"0\" allowfullscreen></iframe>')"
   ]
  },
  {
   "cell_type": "markdown",
   "metadata": {},
   "source": [
    "如果你对我们提到的一些术语不太明白，没有关系！下面你想了解更多知识，可以参阅以下链接：\n",
    "\n",
    "- [Scikit-learn](http://scikit-learn.org/stable/)\n",
    "  - 一种非常热门的 Python 机器学习库。\n",
    "  \n",
    "- [感知器](https://en.wikipedia.org/wiki/Perceptron)\n",
    "  - 神经网络最简单的形式。\n",
    "  \n",
    "- [梯度下降](https://en.wikipedia.org/wiki/Gradient_descent)\n",
    "  - 机器学习算法根据预测结果的准确度进行自我改进的流程。你将在后续课程中详细了解这一概念。\n",
    "  \n",
    "- [反向传播](http://neuralnetworksanddeeplearning.com/chap2.html)\n",
    "  - 神经网络学习如何改善单个参数的流程。你将在后续课程中详细了解这一概念。\n",
    "  \n",
    "- [Numpy](http://www.numpy.org/)\n",
    "  - 一种非常热门的 Python 科学计算库。\n",
    "  \n",
    "- [TensorFlow](http://www.tensorflow.org/)\n",
    "  - 当下最热门的 Python 神经网络创建库之一，由 Google 维护。"
   ]
  },
  {
   "cell_type": "code",
   "execution_count": null,
   "metadata": {},
   "outputs": [],
   "source": []
  },
  {
   "cell_type": "markdown",
   "metadata": {},
   "source": [
    "# Anaconda 和 Jupyter 简介"
   ]
  },
  {
   "cell_type": "code",
   "execution_count": 3,
   "metadata": {},
   "outputs": [
    {
     "data": {
      "text/html": [
       "<iframe src=\"https://www.youtube.com/embed/L0PYjlEtEpc\" width=\"560\" height=\"315\"  frameborder=\"0\" allowfullscreen></iframe>"
      ],
      "text/plain": [
       "<IPython.core.display.HTML object>"
      ]
     },
     "execution_count": 3,
     "metadata": {},
     "output_type": "execute_result"
    }
   ],
   "source": [
    "from IPython.display import HTML\n",
    "\n",
    "HTML('<iframe src=\"https://www.youtube.com/embed/L0PYjlEtEpc\" width=\"560\" height=\"315\"  frameborder=\"0\" allowfullscreen></iframe>')\n"
   ]
  },
  {
   "cell_type": "markdown",
   "metadata": {},
   "source": [
    "如果你之前没有使用过 Numpy、Pandas 或 Matplotlib，可以学习我们免费的 [数据分析入门课程](https://cn.udacity.com/course/intro-to-data-analysis--ud170) 。这些是用 Python 处理和数据可视化用到的几个主要工具，所以你需要具备一定的经验。\n",
    "\n",
    "我们在这节课之后就会介绍 Anaconda 和 Jupyter notebook 的内容。"
   ]
  },
  {
   "cell_type": "markdown",
   "metadata": {},
   "source": [
    "## Python 2 和 3 的差异\n",
    "\n",
    "在填空小测验应用和创建电影网站的课程中我们是以 Python 2 教授，而在最新的深度学习课程中我们已更新为以 Python 3 教授。Python 2 与 3 的差异并不大，可以阅读以下文档了解二者间的差异:\n",
    "\n",
    "- Python官方文档 - [What’s New In Python 3.0](https://docs.python.org/3.0/whatsnew/3.0.html) (英文)\n",
    "- [Python 2.7.x 和 3.x 版本的重要区别](http://www.techug.com/post/the-difference-of-python2-and-python3.html) (中文)"
   ]
  },
  {
   "cell_type": "code",
   "execution_count": null,
   "metadata": {},
   "outputs": [],
   "source": []
  }
 ],
 "metadata": {
  "kernelspec": {
   "display_name": "Python 2",
   "language": "python",
   "name": "python2"
  },
  "language_info": {
   "codemirror_mode": {
    "name": "ipython",
    "version": 2
   },
   "file_extension": ".py",
   "mimetype": "text/x-python",
   "name": "python",
   "nbconvert_exporter": "python",
   "pygments_lexer": "ipython2",
   "version": "2.7.14"
  }
 },
 "nbformat": 4,
 "nbformat_minor": 2
}
