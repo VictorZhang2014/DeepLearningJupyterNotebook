{
 "cells": [
  {
   "cell_type": "markdown",
   "metadata": {},
   "source": [
    "# 统计学知识复习\n",
    "\n",
    "在这节课，我们将假设你熟悉以下统计学概念，例如`均值`、`中值`、`方差`等。如果你觉得学习这些知识已经有一段时间了，需要复习下，建议你查看课外部分的一些视频和练习。\n",
    "\n",
    "- 居中趋势测量：均值、中值、众数。\n",
    "- 数据的离散性：四分位距法、异常值、标准偏差、贝塞尔修正。\n"
   ]
  },
  {
   "cell_type": "code",
   "execution_count": null,
   "metadata": {},
   "outputs": [],
   "source": []
  }
 ],
 "metadata": {
  "kernelspec": {
   "display_name": "Python 2",
   "language": "python",
   "name": "python2"
  },
  "language_info": {
   "codemirror_mode": {
    "name": "ipython",
    "version": 2
   },
   "file_extension": ".py",
   "mimetype": "text/x-python",
   "name": "python",
   "nbconvert_exporter": "python",
   "pygments_lexer": "ipython2",
   "version": "2.7.14"
  }
 },
 "nbformat": 4,
 "nbformat_minor": 2
}
