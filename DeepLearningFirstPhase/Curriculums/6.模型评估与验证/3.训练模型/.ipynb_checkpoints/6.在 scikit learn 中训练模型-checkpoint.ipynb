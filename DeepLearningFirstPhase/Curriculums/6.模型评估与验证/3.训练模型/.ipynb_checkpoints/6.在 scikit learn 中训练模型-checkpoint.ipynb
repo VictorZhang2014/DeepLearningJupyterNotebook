{
 "cells": [
  {
   "cell_type": "markdown",
   "metadata": {},
   "source": [
    "# 在 scikit learn 中训练模型\n",
    "\n",
    "在此部分，我们依然使用在前几个部分使用的数据集。\n",
    "\n",
    "<img src=\"../../../files/img/model/points.png\">\n",
    "\n",
    "在上一部分，我们学习了机器学习领域的一些最重要的分类算法，包括以下算法：\n",
    "\n",
    "- 逻辑回归\n",
    "- 神经网络\n",
    "- 决策树\n",
    "- 支持向量机\n",
    "\n",
    "现在我们将有机会在实际数据中运用它们！在 sklearn 中非常简单，只需定义分类器，然后使用下面这行代码使分类器与数据拟合（称为 X, y）：\n",
    "\n",
    "```\n",
    "classifier.fit(X,y)\n",
    "```\n",
    "\n",
    "以下是我们定义的主分类器，以及必须导入的文件包：\n",
    "\n",
    "## 逻辑回归\n",
    "\n",
    "```\n",
    "from sklearn.linear_model import LogisticRegression\n",
    "classifier = LogisticRegression()\n",
    "```\n",
    "\n",
    "## 神经网络\n",
    "\n",
    "（注意：仅适用于 0.18 或更高版本的 scikit-learn）\n",
    "```\n",
    "from sklearn.neural_network import MLPClassifier\n",
    "classifier = MLPClassifier()\n",
    "```\n",
    "\n",
    "## 决策树\n",
    "\n",
    "```\n",
    "from sklearn.ensemble import GradientBoostingClassifier\n",
    "classifier = GradientBoostingClassifier()\n",
    "```\n",
    "\n",
    "## 支持向量机\n",
    "\n",
    "```\n",
    "from sklearn.svm import SVC\n",
    "classifier = SVC()\n",
    "```\n",
    "\n",
    "## 示例：逻辑回归\n",
    "\n",
    "我们从头到尾地看看如何读取数据和训练分类器。假设使用上一部分的 X 和 y。然后，以下命令将训练逻辑回归分类器：\n",
    "\n",
    "```\n",
    "from sklearn.linear_model import LogisticRegression\n",
    "classifier = LogisticRegression()\n",
    "classifier.fit(X,y)\n",
    "```\n",
    "\n",
    "得出以下界线：\n",
    "\n",
    "<img src=\"../../../files/img/model/linear-boundary.png\">\n",
    "\n",
    "\n",
    "## 练习：训练你自己的模型\n",
    "\n",
    "现在该你来发挥作用了！在下面的练习中，我们将使用以下数据集：\n",
    "\n",
    "<img src=\"../../../files/img/model/circle-data.png\">\n",
    "\n",
    "你的目标是使用上述其中一个分类器（逻辑回归、决策树或支持向量机，抱歉，此版本的 sklearn 依然无法使用神经网络，但是我们即将更新！），看看哪个分类器能够更好地拟合数据。点击测试答案看看分类器的图形输出，然后在下面的练习中，输入你认为能更好地拟合数据的分类器！\n"
   ]
  },
  {
   "cell_type": "markdown",
   "metadata": {},
   "source": [
    "# 练习题"
   ]
  },
  {
   "cell_type": "code",
   "execution_count": 2,
   "metadata": {},
   "outputs": [
    {
     "data": {
      "text/plain": [
       "LogisticRegression(C=1.0, class_weight=None, dual=False, fit_intercept=True,\n",
       "          intercept_scaling=1, max_iter=100, multi_class='ovr', n_jobs=1,\n",
       "          penalty='l2', random_state=None, solver='liblinear', tol=0.0001,\n",
       "          verbose=0, warm_start=False)"
      ]
     },
     "execution_count": 2,
     "metadata": {},
     "output_type": "execute_result"
    }
   ],
   "source": [
    "import pandas\n",
    "import numpy\n",
    "\n",
    "# Read the data\n",
    "data = pandas.read_csv('../../../files/data/test_model/sklearn_classifier_test_model_data.csv')\n",
    "\n",
    "# Split the data into X and y\n",
    "X = numpy.array(data[['x1', 'x2']])\n",
    "y = numpy.array(data['y'])\n",
    "\n",
    "# import statements for the classification algorithms\n",
    "from sklearn.linear_model import LogisticRegression\n",
    "from sklearn.ensemble import GradientBoostingClassifier\n",
    "from sklearn.svm import SVC\n",
    "\n",
    "# TODO: Pick an algorithm from the list:\n",
    "# - Logistic Regression\n",
    "# - Decision Trees\n",
    "# - Support Vector Machines\n",
    "# Define a classifier (bonus: Specify some parameters!)\n",
    "# and use it to fit the data\n",
    "# Click on `Test Run` to see how your algorithm fit the data!\n",
    "\n",
    "classifier = LogisticRegression()\n",
    "classifier.fit(X, y)\n",
    "\n",
    "# classifier = GradientBoostingClassifier()\n",
    "# classifier.fit(X, y)\n",
    "\n",
    "# classifier = SVC()\n",
    "# classifier.fit(X, y)\n",
    "\n",
    "\n"
   ]
  },
  {
   "cell_type": "code",
   "execution_count": null,
   "metadata": {},
   "outputs": [],
   "source": []
  },
  {
   "cell_type": "code",
   "execution_count": null,
   "metadata": {},
   "outputs": [],
   "source": []
  },
  {
   "cell_type": "code",
   "execution_count": null,
   "metadata": {},
   "outputs": [],
   "source": []
  },
  {
   "cell_type": "markdown",
   "metadata": {},
   "source": [
    "# 解决方案"
   ]
  },
  {
   "cell_type": "code",
   "execution_count": null,
   "metadata": {},
   "outputs": [],
   "source": [
    "# import statements for the classification algorithms\n",
    "from sklearn.linear_model import LogisticRegression\n",
    "from sklearn.tree import DecisionTreeClassifier\n",
    "from sklearn.svm import SVC\n",
    "\n",
    "# Logistic Regression Classifier\n",
    "classifier = LogisticRegression()\n",
    "classifier.fit(X,y)\n",
    "\n",
    "# Decision Tree Classifier\n",
    "classifier = DecisionTreeClassifier()\n",
    "classifier.fit(X,y)\n",
    "\n",
    "# Support Vector Machine Classifier\n",
    "classifier = SVC()\n",
    "classifier.fit(X,y)\n",
    "\n",
    "\n"
   ]
  },
  {
   "cell_type": "markdown",
   "metadata": {},
   "source": [
    "上述哪个算法能够很好地拟合数据？\n",
    "\n",
    "- 逻辑回归\n",
    "- 决策树\n",
    "- 支持向量机\n"
   ]
  },
  {
   "cell_type": "code",
   "execution_count": null,
   "metadata": {},
   "outputs": [],
   "source": []
  }
 ],
 "metadata": {
  "kernelspec": {
   "display_name": "Python 2",
   "language": "python",
   "name": "python2"
  },
  "language_info": {
   "codemirror_mode": {
    "name": "ipython",
    "version": 2
   },
   "file_extension": ".py",
   "mimetype": "text/x-python",
   "name": "python",
   "nbconvert_exporter": "python",
   "pygments_lexer": "ipython2",
   "version": "2.7.14"
  }
 },
 "nbformat": 4,
 "nbformat_minor": 2
}
