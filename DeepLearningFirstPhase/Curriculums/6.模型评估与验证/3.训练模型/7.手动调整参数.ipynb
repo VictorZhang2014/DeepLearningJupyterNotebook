{
 "cells": [
  {
   "cell_type": "markdown",
   "metadata": {},
   "source": [
    "# 调整参数\n",
    "\n",
    "似乎上次的 3 个算法当中，有 2 个效果不错，对吧？以下是你可能会获得的图形：\n",
    "\n",
    "<img src=\"../../../files/img/model/curves.png\">\n",
    "\n",
    "似乎逻辑回归的效果不太理想，因为它是线性算法。决策树能够很好地划分数据（问题：决策树的界限区域为何是那样的？），SVM 的效果非常棒。现在我们试试稍微复杂些的数据集，如下所示：\n",
    "\n",
    "<img src=\"../../../files/img/model/eggsdata.png\">\n",
    "\n",
    "\n",
    "我们试着用 SVM 分类器拟合此数据，如下所示：\n",
    "\n",
    "```\n",
    " classifier = SVC()\n",
    " classifier.fit(X,y)\n",
    "```\n",
    "\n",
    "如果输入上述内容，将失败（你将有机会在下面试试）。但是，也许我们没有充分利用 SVM 分类器。首先，我们使用了正确的内核吗？例如，我们可以使用 2 次多项式内容，如下所示：\n",
    "\n",
    "```\n",
    "classifier = SVC(kernel = 'poly', degree = 2)\n",
    "```\n",
    "\n",
    "我们自己试试，看看这些参数。稍后我们将深入了解这些参数，但是你可以设定以下这些值（我们稍后将学习这些参数。暂时可以直接使用它们。）：\n",
    "\n",
    "- kernel: linear (线性)， poly（多项式）, rbf（高斯核）\n",
    "- degree（整型）：多项式内核的次数（如果选择了多项式内核）\n",
    "- gamma （浮点型）：γ 参数\n",
    "- C（浮点型）：C 参数\n",
    "\n",
    "在下面的练习中，你可以试试这些参数。试着调整这些参数并使它们能够画出期望的界限区域！\n",
    "\n",
    "注意：这道练习不会打分，但是如果你想查看可行的解决方案，请点击“提交”。\n",
    "\n"
   ]
  },
  {
   "cell_type": "markdown",
   "metadata": {},
   "source": [
    "# 练习题"
   ]
  },
  {
   "cell_type": "code",
   "execution_count": 1,
   "metadata": {},
   "outputs": [
    {
     "data": {
      "text/plain": [
       "SVC(C=1.0, cache_size=200, class_weight=None, coef0=0.0,\n",
       "  decision_function_shape='ovr', degree=2, gamma='auto', kernel='poly',\n",
       "  max_iter=-1, probability=False, random_state=None, shrinking=True,\n",
       "  tol=0.001, verbose=False)"
      ]
     },
     "execution_count": 1,
     "metadata": {},
     "output_type": "execute_result"
    }
   ],
   "source": [
    "import pandas\n",
    "import numpy\n",
    "\n",
    "# Read the data\n",
    "data = pandas.read_csv('../../../files/data/test_model/sklearn_modified_test_model_parameter.csv')\n",
    "\n",
    "# Split the data into X and y\n",
    "X = numpy.array(data[['x1', 'x2']])\n",
    "y = numpy.array(data['y'])\n",
    "\n",
    "# Import the SVM Classifier\n",
    "from sklearn.svm import SVC\n",
    "\n",
    "# TODO: Define your classifier.\n",
    "# Play with different values for these, from the options above.\n",
    "# Hit 'Test Run' to see how the classifier fit your data.\n",
    "# Once you can correctly classify all the points, hit 'Submit'.\n",
    "classifier = SVC(kernel = 'poly', degree = 2)\n",
    "\n",
    "# Fit the classifier\n",
    "classifier.fit(X,y)"
   ]
  },
  {
   "cell_type": "code",
   "execution_count": null,
   "metadata": {},
   "outputs": [],
   "source": []
  },
  {
   "cell_type": "markdown",
   "metadata": {},
   "source": [
    "# 解决方案"
   ]
  },
  {
   "cell_type": "code",
   "execution_count": null,
   "metadata": {},
   "outputs": [],
   "source": [
    "# The kernel that works best here is rbf, with large values of gamma.\n",
    "# For example, this one:\n",
    "\n",
    "classifier = SVC(kernel = 'rbf', gamma = 200)\n"
   ]
  }
 ],
 "metadata": {
  "kernelspec": {
   "display_name": "Python 2",
   "language": "python",
   "name": "python2"
  },
  "language_info": {
   "codemirror_mode": {
    "name": "ipython",
    "version": 2
   },
   "file_extension": ".py",
   "mimetype": "text/x-python",
   "name": "python",
   "nbconvert_exporter": "python",
   "pygments_lexer": "ipython2",
   "version": "2.7.14"
  }
 },
 "nbformat": 4,
 "nbformat_minor": 2
}
