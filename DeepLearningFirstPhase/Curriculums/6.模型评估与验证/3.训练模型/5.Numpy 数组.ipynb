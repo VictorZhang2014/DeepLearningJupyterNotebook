{
 "cells": [
  {
   "cell_type": "markdown",
   "metadata": {},
   "source": [
    "我们已经在 Pandas 中加载数据，现在需要将输入和输出拆分为 numpy 数组，以便在 scikit-learn 中应用分类器。方法如下：假设有个 pandas 数据框 df，如下所示，有四个列，分别标为 A、B、C、D：\n",
    "\n",
    "<img src=\"../../../files/img/model/dataframe.png\">\n",
    "\n",
    "如果我们想要提取列 A，则执行以下操作：\n",
    "\n",
    "```\n",
    ">> df['A']\n",
    "    0    1\n",
    "    1    5\n",
    "    2    9\n",
    "    Name: A, dtype: int64\n",
    "```\n",
    "\n",
    "现在，如果我们希望获取更多的列(columns)，则执行以下操作：\n",
    "\n",
    "```\n",
    ">> df[['B', 'D']]\n",
    "```\n",
    "\n",
    "<img src=\"../../../files/img/model/smalldf.png\">\n",
    "\n",
    "最后，我们将这些 pandas DataFrames 转变为 NumPy 数组。这个操作的命令语句很简单：\n",
    "\n",
    "```\n",
    ">> numpy.array(df)\n",
    "```\n",
    "\n",
    "现在你自己试试！使用我们之前在 pandas 中加载的同一数据框，将其拆分为特征 X 和标签 y，并将它们转变为NumPy数组。\n",
    "\n"
   ]
  },
  {
   "cell_type": "code",
   "execution_count": 1,
   "metadata": {},
   "outputs": [],
   "source": [
    "import pandas as pd\n",
    "import numpy as np\n",
    "\n",
    "data = pd.read_csv(\"../../../files/data/test_model/sklearn_test_model_data.csv\")\n",
    "\n",
    "# TODO: Separate the features and the labels into arrays called X and y\n",
    "X = np.array(data[[\"x1\", \"x2\"]])\n",
    "y = np.array(data[\"y\"])"
   ]
  },
  {
   "cell_type": "code",
   "execution_count": null,
   "metadata": {},
   "outputs": [],
   "source": []
  }
 ],
 "metadata": {
  "kernelspec": {
   "display_name": "Python 2",
   "language": "python",
   "name": "python2"
  },
  "language_info": {
   "codemirror_mode": {
    "name": "ipython",
    "version": 2
   },
   "file_extension": ".py",
   "mimetype": "text/x-python",
   "name": "python",
   "nbconvert_exporter": "python",
   "pygments_lexer": "ipython2",
   "version": "2.7.14"
  }
 },
 "nbformat": 4,
 "nbformat_minor": 2
}
