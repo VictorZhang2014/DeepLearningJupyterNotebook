{
 "cells": [
  {
   "cell_type": "markdown",
   "metadata": {},
   "source": [
    "# 项目：构建垃圾邮件分类器\n",
    "\n",
    "## 简介\n",
    "\n",
    "垃圾邮件检测是现今网络中最重要的机器学习应用案例领。几乎所有的大型邮箱服务提供商都内置了垃圾邮件检测系统，并自动将此类邮件归类为“垃圾邮件”。\n",
    "\n",
    "* 在此项目中，我们将使用朴素贝叶斯算法来创建一个模型，并根据我们对模型展开的训练将数据集文本分类为是否为垃圾文本。* 你需要直观地了解哪些文本信息属于垃圾信息。\n",
    "\n",
    "## 垃圾邮件是什么？\n",
    "\n",
    "通常包含字眼“免费（'free'）”、“赢取（'win'）”、“获奖者（'winner'）”、“现金（'cash'）”、“奖品（'prize）”等，因为这些字眼专门用于吸引你的注意，诱惑你打开邮件。此外，垃圾邮件喜欢让所有单词都大写，并使用大量的感叹号。对收件人来说，通常很容易就判断出是否为垃圾邮件，我们的目标是训练模型来帮助我们识别垃圾邮件！\n",
    "\n",
    "* 识别垃圾邮件是二元分类问题，因为邮件要么“是垃圾邮件（'Spam'）”，要么“不是垃圾邮件（'Not Spam'）”，不会再有第三种情况。此外，这是监督学习问题，因为我们知道要预测什么。我们将向模型提供带有标签的数据集，使其从中学习规律并作出未来预测。*"
   ]
  },
  {
   "cell_type": "code",
   "execution_count": null,
   "metadata": {},
   "outputs": [],
   "source": []
  }
 ],
 "metadata": {
  "kernelspec": {
   "display_name": "Python 2",
   "language": "python",
   "name": "python2"
  },
  "language_info": {
   "codemirror_mode": {
    "name": "ipython",
    "version": 2
   },
   "file_extension": ".py",
   "mimetype": "text/x-python",
   "name": "python",
   "nbconvert_exporter": "python",
   "pygments_lexer": "ipython2",
   "version": "2.7.14"
  }
 },
 "nbformat": 4,
 "nbformat_minor": 2
}
