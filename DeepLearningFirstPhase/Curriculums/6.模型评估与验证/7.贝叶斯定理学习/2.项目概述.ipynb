{
 "cells": [
  {
   "cell_type": "markdown",
   "metadata": {},
   "source": [
    "## 概述\n",
    "\n",
    "此项目分为以下步骤：\n",
    "\n",
    "- 第 0 步: 朴素贝叶斯定理简介\n",
    "- 第 1.1 步: 了解我们的数据集\n",
    "- 第 1.2 步: 数据预处理\n",
    "- 第 2.1 步: Bag of Words(BoW)\n",
    "- 第 2.2 步: 从头实现 BoW\n",
    "- 第 2.3 步: 在 scikit-learn 中实现 Bag of Words\n",
    "- 第 3.1 步: 训练和测试数据集\n",
    "- 第 3.2 步: 向我们的数据集中应用 Bag of Words 处理流程\n",
    "- 第 4.1 步: 从头实现贝叶斯定理\n",
    "- 第 4.2 步: 从头实现朴素贝叶斯定理\n",
    "- 第 5 步: 使用 scikit-learn 实现朴素贝叶斯定理\n",
    "- 第 6 步: 评估模型\n",
    "- 第 7 步: 结论\n",
    "\n",
    "你可以通过转到[此链接](https://github.com/udacity/machine-learning/tree/master/projects/practice_projects/naive_bayes_tutorial)跟着我们一起操作。"
   ]
  },
  {
   "cell_type": "code",
   "execution_count": null,
   "metadata": {},
   "outputs": [],
   "source": []
  }
 ],
 "metadata": {
  "kernelspec": {
   "display_name": "Python 2",
   "language": "python",
   "name": "python2"
  },
  "language_info": {
   "codemirror_mode": {
    "name": "ipython",
    "version": 2
   },
   "file_extension": ".py",
   "mimetype": "text/x-python",
   "name": "python",
   "nbconvert_exporter": "python",
   "pygments_lexer": "ipython2",
   "version": "2.7.14"
  }
 },
 "nbformat": 4,
 "nbformat_minor": 2
}
