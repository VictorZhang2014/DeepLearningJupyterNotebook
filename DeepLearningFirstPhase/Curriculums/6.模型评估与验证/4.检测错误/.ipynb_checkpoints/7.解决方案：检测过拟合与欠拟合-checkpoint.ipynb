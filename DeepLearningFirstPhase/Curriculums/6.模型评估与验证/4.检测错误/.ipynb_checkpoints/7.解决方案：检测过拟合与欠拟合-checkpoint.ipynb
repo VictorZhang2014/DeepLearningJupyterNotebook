{
 "cells": [
  {
   "cell_type": "markdown",
   "metadata": {},
   "source": [
    "解决方案：检测过拟合与欠拟合\n",
    "恭喜你！这道练习并不简单。以下是你应该获得的曲线：\n",
    "\n",
    "<img src=\"../../../files/img/model/learning-curves1.png\">\n",
    "\n",
    "我们可以根据这些曲线得出结论：\n",
    "\n",
    "- 对数几率回归模型的训练和测试得分很低。\n",
    "- 决策树模型的训练和测试得分很高。\n",
    "- 支持向量机模型的训练得分很高，测试得分很低。\n",
    "\n",
    "由此可以判断，逻辑回归模型欠拟合，支持向量机模型过拟合，决策树正常。\n",
    "\n",
    "同样，我们可以翻转这些曲线（因为它们测量的是得分，而原始曲线测量的是错误），并将它们与下面的三条曲线对比，可以看出它们与我们之前看到的三条曲线很像。（注意：我们需要翻转曲线并不意味着错误是 1 减去得分。只是表示模型越来越好的话，错误会降低，得分会升高。）\n",
    "\n",
    "<img src=\"../../../files/img/model/learning-curves2.png\">\n",
    "\n",
    "现在我们应该检测在实际模型中是否这样。当我们绘制每个模型的界限曲线时，结果如下所示：\n",
    "\n",
    "<img src=\"../../../files/img/model/models.png\">\n",
    "\n",
    "当我们查看上述模型时，第一个模型欠拟合，第二个正常，第三个过拟合，这种现象合理吗？合理吧？我们看到数据由圆圈或方框正确地划分出来。我们的模型按以下形式划分数据：\n",
    "\n",
    "- 逻辑回归模型使用一条直线，这太简单了。在训练集上的效果不太好，因此欠拟合。\n",
    "- 决策树模型使用一个方形，拟合的很好，并能够泛化。因此，该模型效果很好。\n",
    "- 支持向量机模型实际上在每个点周围都画了一个小圆圈。它实际上是在记住训练集，无法泛化。因此 过拟合。\n",
    "\n",
    "最好尽可能进行实际检查，确保模型的确具有指标所指示的行为。\n",
    "\n",
    "\n",
    "\n"
   ]
  },
  {
   "cell_type": "code",
   "execution_count": null,
   "metadata": {},
   "outputs": [],
   "source": []
  }
 ],
 "metadata": {
  "kernelspec": {
   "display_name": "Python 2",
   "language": "python",
   "name": "python2"
  },
  "language_info": {
   "codemirror_mode": {
    "name": "ipython",
    "version": 2
   },
   "file_extension": ".py",
   "mimetype": "text/x-python",
   "name": "python",
   "nbconvert_exporter": "python",
   "pygments_lexer": "ipython2",
   "version": "2.7.14"
  }
 },
 "nbformat": 4,
 "nbformat_minor": 2
}
