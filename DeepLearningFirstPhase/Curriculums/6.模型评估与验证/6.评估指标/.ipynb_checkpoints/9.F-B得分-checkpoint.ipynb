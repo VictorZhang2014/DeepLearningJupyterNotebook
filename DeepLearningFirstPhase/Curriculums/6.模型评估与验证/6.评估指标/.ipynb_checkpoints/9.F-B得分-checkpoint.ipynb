{
 "cells": [
  {
   "cell_type": "code",
   "execution_count": 1,
   "metadata": {},
   "outputs": [
    {
     "data": {
      "text/html": [
       "<iframe width=\"900\" height=\"608\" src=\"https://www.youtube.com/embed/jX-W8QtbJ6E\" frameborder=\"0\" allow=\"autoplay; encrypted-media\" allowfullscreen></iframe>"
      ],
      "text/plain": [
       "<IPython.core.display.HTML object>"
      ]
     },
     "execution_count": 1,
     "metadata": {},
     "output_type": "execute_result"
    }
   ],
   "source": [
    "from IPython.display import HTML\n",
    "\n",
    "HTML('<iframe width=\"900\" height=\"608\" src=\"https://www.youtube.com/embed/jX-W8QtbJ6E\" frameborder=\"0\" allow=\"autoplay; encrypted-media\" allowfullscreen></iframe>')\n"
   ]
  },
  {
   "cell_type": "markdown",
   "metadata": {},
   "source": [
    "\n",
    "<img src=\"../../../files/img/model/fbeta-score-quiz.png\">\n",
    "\n",
    "## 练习题\n",
    "\n",
    "在下面的三个模型中，哪个的 F-β 得分应该是 of 2、1 和 0.5？将每个模型与相应的得分连到一起。\n",
    "\n",
    "- 检测宇宙飞船的故障零件\n",
    "- 向手机中发送关于用户可能喜欢的视频的通知\n",
    "- 向潜在客户寄送免费样品\n",
    "\n",
    "<img src=\"../../../files/img/model/f-beta-practice-1.png\">\n",
    "\n",
    "<img src=\"../../../files/img/model/f-beta-formula-conclusion.png\">\n",
    "\n"
   ]
  },
  {
   "cell_type": "code",
   "execution_count": null,
   "metadata": {},
   "outputs": [],
   "source": []
  }
 ],
 "metadata": {
  "kernelspec": {
   "display_name": "Python 2",
   "language": "python",
   "name": "python2"
  },
  "language_info": {
   "codemirror_mode": {
    "name": "ipython",
    "version": 2
   },
   "file_extension": ".py",
   "mimetype": "text/x-python",
   "name": "python",
   "nbconvert_exporter": "python",
   "pygments_lexer": "ipython2",
   "version": "2.7.14"
  }
 },
 "nbformat": 4,
 "nbformat_minor": 2
}
