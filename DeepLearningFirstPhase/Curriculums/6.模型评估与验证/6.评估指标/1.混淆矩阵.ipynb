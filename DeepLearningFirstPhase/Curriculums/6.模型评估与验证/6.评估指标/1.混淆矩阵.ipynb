{
 "cells": [
  {
   "cell_type": "code",
   "execution_count": 1,
   "metadata": {},
   "outputs": [
    {
     "data": {
      "text/html": [
       "<iframe width=\"900\" height=\"608\" src=\"https://www.youtube.com/embed/9GLNjmMUB_4\" frameborder=\"0\" allow=\"autoplay; encrypted-media\" allowfullscreen></iframe>"
      ],
      "text/plain": [
       "<IPython.core.display.HTML object>"
      ]
     },
     "execution_count": 1,
     "metadata": {},
     "output_type": "execute_result"
    }
   ],
   "source": [
    "from IPython.display import HTML\n",
    "\n",
    "HTML('<iframe width=\"900\" height=\"608\" src=\"https://www.youtube.com/embed/9GLNjmMUB_4\" frameborder=\"0\" allow=\"autoplay; encrypted-media\" allowfullscreen></iframe>')\n"
   ]
  },
  {
   "cell_type": "markdown",
   "metadata": {},
   "source": [
    "<img src=\"../../../files/img/model/matrix_confusion.png\">\n",
    "\n",
    "混淆矩阵练习\n",
    "上述模型有多少真正例、真负例、假正例、假负例？ 请按照上述顺序填写答案，共有四个数字，并用英文逗号和空格分隔。例如，如果答案是 1, 2, 3, 和 4，则输入字符串 1, 2, 3, 4。\n",
    "\n",
    "注意，在上图中，蓝点是阳性，红点是阴性。\n",
    "\n",
    "答：6,5,2,1\n"
   ]
  },
  {
   "cell_type": "code",
   "execution_count": null,
   "metadata": {},
   "outputs": [],
   "source": []
  }
 ],
 "metadata": {
  "kernelspec": {
   "display_name": "Python 2",
   "language": "python",
   "name": "python2"
  },
  "language_info": {
   "codemirror_mode": {
    "name": "ipython",
    "version": 2
   },
   "file_extension": ".py",
   "mimetype": "text/x-python",
   "name": "python",
   "nbconvert_exporter": "python",
   "pygments_lexer": "ipython2",
   "version": "2.7.14"
  }
 },
 "nbformat": 4,
 "nbformat_minor": 2
}
