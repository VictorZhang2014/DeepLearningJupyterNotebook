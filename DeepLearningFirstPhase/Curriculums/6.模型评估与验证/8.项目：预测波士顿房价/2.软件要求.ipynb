{
 "cells": [
  {
   "cell_type": "markdown",
   "metadata": {},
   "source": [
    "\n",
    "# 项目描述\n",
    "\n",
    "波士顿房屋市场竞争异常激烈，你想成为当地最好的房地产中介。为了与同行竞争，你决定使用几个基本的机器学习概念来帮助你和客户找到其房屋的最佳销售价格。幸运的是，你遇到了波士顿房屋数据集，其中包含大波士顿社区的房屋的各种特征的累积数据，包括其中各个地区的房屋价格的中值。你的任务是利用可用工具基于统计分析来构建一个最佳模型。然后使用该模型估算客户房屋的最佳销售价格。\n",
    "\n",
    "## 软件和库\n",
    "\n",
    "对于此项目，你需要安装以下软件和 Python 库：\n",
    "\n",
    "- [Python 2.7](https://www.python.org/download/releases/2.7/)\n",
    "- [NumPy](http://www.numpy.org/)\n",
    "- [pandas](http://pandas.pydata.org/)\n",
    "- [scikit-learn](http://scikit-learn.org/)\n",
    "- [matplotlib](http://matplotlib.org/)\n",
    "- [Jupyter Notebook](http://jupyter.org/)\n",
    "\n",
    "对jupyter不熟悉的同学可以看一下这两个链接：\n",
    "\n",
    "- [Jupyter使用视频教程](http://cn-static.udacity.com/mlnd/how_to_use_jupyter.mp4)\n",
    "- [为什么使用jupyter？](https://www.zhihu.com/question/37490497)\n",
    "\n",
    "如果你还没有安装 Python，我们建议你安装 Python 的发行版 [Anaconda](http://continuum.io/downloads) 他包括了我们所有上面提到的工具。安装时选择 Python 2.7 的安装包，不要选择 Python 3.x 的。\n"
   ]
  },
  {
   "cell_type": "code",
   "execution_count": null,
   "metadata": {},
   "outputs": [],
   "source": []
  }
 ],
 "metadata": {
  "kernelspec": {
   "display_name": "Python 2",
   "language": "python",
   "name": "python2"
  },
  "language_info": {
   "codemirror_mode": {
    "name": "ipython",
    "version": 2
   },
   "file_extension": ".py",
   "mimetype": "text/x-python",
   "name": "python",
   "nbconvert_exporter": "python",
   "pygments_lexer": "ipython2",
   "version": "2.7.14"
  }
 },
 "nbformat": 4,
 "nbformat_minor": 2
}
