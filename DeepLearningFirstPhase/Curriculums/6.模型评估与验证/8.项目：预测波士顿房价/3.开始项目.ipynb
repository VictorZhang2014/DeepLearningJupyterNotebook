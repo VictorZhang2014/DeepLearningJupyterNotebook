{
 "cells": [
  {
   "cell_type": "markdown",
   "metadata": {},
   "source": [
    "# 开始项目\n",
    "\n",
    "要开始这个项目，你可以访问我们的 [GitHub 页面](https://github.com/nd009/boston_housing)，或者点击[这里](https://github.com/nd009/boston_housing/archive/master.zip)直接下载最新的项目所需文件。\n",
    "\n",
    "包含三个文件：\n",
    "\n",
    "- boston_housing.ipynb: 这是你需要完成项目的主文件。\n",
    "- housing.csv: 这是项目数据集，你需要加载到 notebook 里。\n",
    "- visuals.py: 这是帮你创建数据可视化的 python 脚本。\n",
    "\n",
    "在包含项目文件的命令行或终端下，输入命令 `jupyter notebook boston_housing.ipynb` 打开一个浏览器来开始你的项目。根据 notebook 中的项目说明来回答每一个问题。你还可以在 README 文件中看到更多项目相关的信息。\n"
   ]
  },
  {
   "cell_type": "code",
   "execution_count": null,
   "metadata": {},
   "outputs": [],
   "source": []
  }
 ],
 "metadata": {
  "kernelspec": {
   "display_name": "Python 2",
   "language": "python",
   "name": "python2"
  },
  "language_info": {
   "codemirror_mode": {
    "name": "ipython",
    "version": 2
   },
   "file_extension": ".py",
   "mimetype": "text/x-python",
   "name": "python",
   "nbconvert_exporter": "python",
   "pygments_lexer": "ipython2",
   "version": "2.7.14"
  }
 },
 "nbformat": 4,
 "nbformat_minor": 2
}
