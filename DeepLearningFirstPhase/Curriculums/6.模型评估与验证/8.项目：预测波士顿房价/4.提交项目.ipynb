{
 "cells": [
  {
   "cell_type": "markdown",
   "metadata": {},
   "source": [
    "# 提交项目\n",
    "\n",
    "## 评审\n",
    "\n",
    "优达学城的项目评审师会依据此[预测波士顿房价项目要求](https://review.udacity.com/#!/rubrics/268/view)来评审您的提交。提交前请务必确保你已经仔细查看该要求，自己也依此对照检查过了所做的项目。所有要求必须被标注为“合格”，项目才能通过。\n",
    "\n",
    "## 须提交文件\n",
    "提交的文件中应包含以下文件并且可以打包为单个 .zip 文件：\n",
    "\n",
    "包含完整实现且可正常运行的代码的 “boston_housing.ipynb” 文件，并已执行所有代码块和显示了输出。\n",
    "一个由jupyter notebook 导出的 HTML 文件，重命名为 report.html。此文件需同 ipynb 文件一起提交才能被审阅。\n",
    "如果你已经核对过了，就可以在下一页提交项目了。\n",
    "\n",
    "注意\n",
    "所提交文件的文件名名，包括zip压缩包内的文件名，都不能含有中文及任何ASCII之外的字符，否则会造成提交失败。\n",
    "\n",
    "如果你是第一次在优达学城提交项目，点击提交之后，要等1分钟左右才能打开提交页面。如果长时间打不开，可以刷新。如果依然无法打开项目提交页面，可以联系客服微信或者邮件至 support@youdaxue.com。我们正在努力修复这个问题。"
   ]
  },
  {
   "cell_type": "code",
   "execution_count": null,
   "metadata": {},
   "outputs": [],
   "source": []
  }
 ],
 "metadata": {
  "kernelspec": {
   "display_name": "Python 2",
   "language": "python",
   "name": "python2"
  },
  "language_info": {
   "codemirror_mode": {
    "name": "ipython",
    "version": 2
   },
   "file_extension": ".py",
   "mimetype": "text/x-python",
   "name": "python",
   "nbconvert_exporter": "python",
   "pygments_lexer": "ipython2",
   "version": "2.7.14"
  }
 },
 "nbformat": 4,
 "nbformat_minor": 2
}
