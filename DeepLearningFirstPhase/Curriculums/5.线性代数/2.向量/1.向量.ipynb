{
 "cells": [
  {
   "cell_type": "markdown",
   "metadata": {},
   "source": [
    "这节课的目标\n",
    "\n",
    "就像数字一样，我们也可以使用点和向量进行算术运算。在下面的几个部分，我们将介绍在学习线性代数时经常会遇到的一些运算。提醒下，这节课会出现几个公式。\n",
    "\n",
    "虽然将这些公式记在脑海中可以帮助你以后解决线性代数问题，但是我们认为这门迷你课程的目标是为你提供可以立即运用到 OMS 问题中的工具。因此，在学习这节课时，我们在给出公式时不会要求你背下来。相反，学完这节课后，你将编写几个函数并放入库中，帮助你解决二维或三维空间里的几何问题：例如，算出两个点的中点或算出点和线之间的最短距离。\n",
    "\n",
    "你可以使用任何语言编写代码库。在这节课里，我将用 Python 进行演示。在下个视频中，我将演示 Python 模块的一些功能。如果你选择了其他语言，可以跳过该视频。"
   ]
  },
  {
   "cell_type": "code",
   "execution_count": null,
   "metadata": {},
   "outputs": [],
   "source": []
  }
 ],
 "metadata": {
  "kernelspec": {
   "display_name": "Python 2",
   "language": "python",
   "name": "python2"
  },
  "language_info": {
   "codemirror_mode": {
    "name": "ipython",
    "version": 2
   },
   "file_extension": ".py",
   "mimetype": "text/x-python",
   "name": "python",
   "nbconvert_exporter": "python",
   "pygments_lexer": "ipython2",
   "version": "2.7.14"
  }
 },
 "nbformat": 4,
 "nbformat_minor": 2
}
