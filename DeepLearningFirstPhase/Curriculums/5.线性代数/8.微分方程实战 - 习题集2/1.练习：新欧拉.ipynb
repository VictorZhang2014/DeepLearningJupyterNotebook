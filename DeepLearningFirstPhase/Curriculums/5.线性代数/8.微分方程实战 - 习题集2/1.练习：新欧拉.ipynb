{
 "cells": [
  {
   "cell_type": "code",
   "execution_count": 1,
   "metadata": {},
   "outputs": [
    {
     "data": {
      "text/html": [
       "<iframe width=\"960\" height=\"540\" src=\"https://www.youtube.com/embed/45qcpa0FUZo\" frameborder=\"0\" allow=\"autoplay; encrypted-media\" allowfullscreen></iframe>"
      ],
      "text/plain": [
       "<IPython.core.display.HTML object>"
      ]
     },
     "execution_count": 1,
     "metadata": {},
     "output_type": "execute_result"
    }
   ],
   "source": [
    "from IPython.display import HTML\n",
    "\n",
    "HTML('<iframe width=\"960\" height=\"540\" src=\"https://www.youtube.com/embed/45qcpa0FUZo\" frameborder=\"0\" allow=\"autoplay; encrypted-media\" allowfullscreen></iframe>')\n"
   ]
  },
  {
   "cell_type": "markdown",
   "metadata": {},
   "source": [
    "# 练习题"
   ]
  },
  {
   "cell_type": "code",
   "execution_count": null,
   "metadata": {},
   "outputs": [],
   "source": [
    "# PROBLEM 1\n",
    "#\n",
    "# This problem involves two tasks. \n",
    "# First, modify the acceleration function \n",
    "# to compute the acceleration of the \n",
    "# pendulum depending on its position.\n",
    "# \n",
    "# Second, introduce the initial conditions\n",
    "# described in the video. We want the initial conditions\n",
    "# to form an ellipse in phase space. The center of\n",
    "# that ellipse is at x = 2 m and v = 0 m/s. Its semiaxis\n",
    "# in x direction has a length of 0.25 m, its semiaxis\n",
    "# in v direction has a length of 2 m/s.\n",
    "#\n",
    "# Third, execute the Symplectic Euler Method.\n",
    "#\n",
    "# Please note that the order in which you \n",
    "# generate your initial conditions matters\n",
    "# for grading purposes.  Have your first \n",
    "# (x, v) coordinate pair be the right-most\n",
    "# point on the green ellipse, and progress\n",
    "# counter-clockwise from there.\n",
    "#\n",
    "\n",
    "import math\n",
    "from udacityplots import *\n",
    "\n",
    "h = 0.05 # s\n",
    "g = 9.81 # m / s2\n",
    "length = 1. # m\n",
    "\n",
    "def acceleration(position):\n",
    "    # Your code here\n",
    "    \n",
    "# Hint: Use the following lines of code somewhere in your program (with the ??? replaced)    \n",
    "phi = ???\n",
    "x[0] = ??? math.cos(phi)\n",
    "v[0] = ??? math.sin(phi)\n",
    "\n",
    "@show_plot\n",
    "def symplectic_euler(): \n",
    "    axes_x = matplotlib.pyplot.subplot(311)\n",
    "    axes_x.set_ylabel('x in m')\n",
    "    axes_v = matplotlib.pyplot.subplot(312)\n",
    "    axes_v.set_ylabel('v in m/s')\n",
    "    axes_v.set_xlabel('t in s')\n",
    "    axes_phase_space = matplotlib.pyplot.subplot(313)\n",
    "    axes_phase_space.set_xlabel('x in m')\n",
    "    axes_phase_space.set_ylabel('v in m/s')\n",
    "    num_steps = 80\n",
    "    x = numpy.zeros(num_steps + 1) # m around circumference\n",
    "    v = numpy.zeros(num_steps + 1) # m / s\n",
    "    colors = [(0, 'g'), (3, 'c'), (10, 'b'), (30, 'm'), (79, 'r')]\n",
    "    times = h * numpy.arange(num_steps + 1)\n",
    "\n",
    "    num_initial_conditions = 50\n",
    "\n",
    "    for i in range(num_initial_conditions):\n",
    "        # Your code here\n",
    "        \n",
    "        # Don't worry about this part of the function. It's just for making \n",
    "        # the plot look a bit nicer.\n",
    "        axes_x.plot(times, x, c = 'k', alpha = 0.1)\n",
    "        axes_v.plot(times, v, c = 'k', alpha = 0.1)        \n",
    "        for step, color in colors:\n",
    "            # matplotlib.pyplot.hold(True)\n",
    "            axes_x.scatter(times[step], x[step], c = color, edgecolors = 'none')\n",
    "            axes_v.scatter(times[step], v[step], c = color, edgecolors = 'none')        \n",
    "            axes_phase_space.scatter(x[step], v[step], c = color, edgecolors = 'none', s = 4)\n",
    "\n",
    "    return x, v\n",
    "\n",
    "symplectic_euler()\n",
    "\n",
    "\n"
   ]
  },
  {
   "cell_type": "markdown",
   "metadata": {},
   "source": [
    "# 答案"
   ]
  },
  {
   "cell_type": "code",
   "execution_count": 2,
   "metadata": {},
   "outputs": [
    {
     "data": {
      "text/html": [
       "<iframe width=\"960\" height=\"540\" src=\"https://www.youtube.com/embed/eCpy0CnJbck\" frameborder=\"0\" allow=\"autoplay; encrypted-media\" allowfullscreen></iframe>"
      ],
      "text/plain": [
       "<IPython.core.display.HTML object>"
      ]
     },
     "execution_count": 2,
     "metadata": {},
     "output_type": "execute_result"
    }
   ],
   "source": [
    "from IPython.display import HTML\n",
    "\n",
    "HTML('<iframe width=\"960\" height=\"540\" src=\"https://www.youtube.com/embed/eCpy0CnJbck\" frameborder=\"0\" allow=\"autoplay; encrypted-media\" allowfullscreen></iframe>')\n"
   ]
  },
  {
   "cell_type": "code",
   "execution_count": null,
   "metadata": {},
   "outputs": [],
   "source": []
  }
 ],
 "metadata": {
  "kernelspec": {
   "display_name": "Python 2",
   "language": "python",
   "name": "python2"
  },
  "language_info": {
   "codemirror_mode": {
    "name": "ipython",
    "version": 2
   },
   "file_extension": ".py",
   "mimetype": "text/x-python",
   "name": "python",
   "nbconvert_exporter": "python",
   "pygments_lexer": "ipython2",
   "version": "2.7.14"
  }
 },
 "nbformat": 4,
 "nbformat_minor": 2
}
