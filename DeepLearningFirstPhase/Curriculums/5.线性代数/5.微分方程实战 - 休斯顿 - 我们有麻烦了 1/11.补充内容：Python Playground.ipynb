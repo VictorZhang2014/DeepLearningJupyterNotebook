{
 "cells": [
  {
   "cell_type": "code",
   "execution_count": 1,
   "metadata": {},
   "outputs": [
    {
     "data": {
      "text/html": [
       "<iframe width=\"900\" height=\"608\" src=\"https://www.youtube.com/embed/hMw63rnGc1o\" frameborder=\"0\" allow=\"autoplay; encrypted-media\" allowfullscreen></iframe>"
      ],
      "text/plain": [
       "<IPython.core.display.HTML object>"
      ]
     },
     "execution_count": 1,
     "metadata": {},
     "output_type": "execute_result"
    }
   ],
   "source": [
    "from IPython.display import HTML\n",
    "\n",
    "HTML('<iframe width=\"900\" height=\"608\" src=\"https://www.youtube.com/embed/hMw63rnGc1o\" frameborder=\"0\" allow=\"autoplay; encrypted-media\" allowfullscreen></iframe>')\n"
   ]
  },
  {
   "cell_type": "markdown",
   "metadata": {},
   "source": [
    "这节课是可选内容！如果你有 Python 编程经验，请跳到“表面重力”这一部分。\n",
    "\n",
    "关于 Numpy 数组：\n",
    "\n",
    "Numpy 数组属于 Python 对象，有时候具有惊人的作用，例如：\n",
    "\n",
    "import numpy\n",
    "\n",
    "a = numpy.zeros([3, 2]) a[1, 0] = 42 b = a[1] # b 指的是子数组（不是数组副本！） c = a[1, 0] # c 指的是一个数字，是不可变的 print b, c # outputs [ 42. 0.] 42.0 a[1, 0] = 13 print b, c # outputs [ 13. (Yes, 13!) 0.] 42.0\n",
    "\n",
    "d = numpy.zeros([3, 2]) e = d # e 和此时 d 指代的对象一样 f = numpy.ones([3, 2]) d = d + f # 从和中创建新的对象，将引用对象存储在 d 中 print e # 所有的零，和预期的一样\n",
    "\n",
    "d = numpy.zeros([3, 2]) e = d # e 和此时 d 指代的对象一样 f = numpy.ones([3, 2]) d += f # 将 f 添加到 d 引用的对象上 print e # 输出所有内容，这很惊人\n",
    "\n",
    "通过每个 Numpy 数组都可用的函数 copy(a) 和方法 a.copy()，可以解决很多问题。二者都创建了具有相同内容的第二个数组。\n"
   ]
  },
  {
   "cell_type": "code",
   "execution_count": null,
   "metadata": {},
   "outputs": [],
   "source": []
  }
 ],
 "metadata": {
  "kernelspec": {
   "display_name": "Python 2",
   "language": "python",
   "name": "python2"
  },
  "language_info": {
   "codemirror_mode": {
    "name": "ipython",
    "version": 2
   },
   "file_extension": ".py",
   "mimetype": "text/x-python",
   "name": "python",
   "nbconvert_exporter": "python",
   "pygments_lexer": "ipython2",
   "version": "2.7.14"
  }
 },
 "nbformat": 4,
 "nbformat_minor": 2
}
