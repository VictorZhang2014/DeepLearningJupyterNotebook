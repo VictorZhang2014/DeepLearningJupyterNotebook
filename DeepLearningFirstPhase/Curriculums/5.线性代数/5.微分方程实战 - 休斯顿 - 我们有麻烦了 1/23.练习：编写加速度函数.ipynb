{
 "cells": [
  {
   "cell_type": "code",
   "execution_count": 1,
   "metadata": {},
   "outputs": [
    {
     "data": {
      "text/html": [
       "<iframe width=\"900\" height=\"608\" src=\"https://www.youtube.com/embed/SWScfBIUN1o\" frameborder=\"0\" allow=\"autoplay; encrypted-media\" allowfullscreen></iframe>"
      ],
      "text/plain": [
       "<IPython.core.display.HTML object>"
      ]
     },
     "execution_count": 1,
     "metadata": {},
     "output_type": "execute_result"
    }
   ],
   "source": [
    "from IPython.display import HTML\n",
    "\n",
    "HTML('<iframe width=\"900\" height=\"608\" src=\"https://www.youtube.com/embed/SWScfBIUN1o\" frameborder=\"0\" allow=\"autoplay; encrypted-media\" allowfullscreen></iframe>')\n"
   ]
  },
  {
   "cell_type": "markdown",
   "metadata": {},
   "source": [
    "# 练习"
   ]
  },
  {
   "cell_type": "code",
   "execution_count": null,
   "metadata": {},
   "outputs": [],
   "source": [
    "# QUIZ\n",
    "#\n",
    "# Modify the acceleration function so that it returns \n",
    "# the acceleration vector of the spacecraft.\n",
    "#\n",
    "# A sample of how to use the numpy.linalg.norm function\n",
    "# is given. This computes the length of the vector, and \n",
    "# it should be the only outside function you need to \n",
    "# use in your answer.\n",
    "\n",
    "import numpy\n",
    "\n",
    "earth_mass = 5.97e24 # kg\n",
    "moon_mass = 7.35e22 # kg\n",
    "gravitational_constant = 6.67e-11 # N m2 / kg2\n",
    "\n",
    "# The origin, or (0,0), is at the center of the earth \n",
    "# in this example, so it doesn't make any sense to \n",
    "# set either the moon_position or spaceship_position\n",
    "# equal to (0,0). Depending on your solution, doing this\n",
    "# may throw an error!  Please note that moon_position and \n",
    "# spaceship_position are both numpy arrays, and the \n",
    "# returned value should also be a numpy array.\n",
    "\n",
    "def acceleration(moon_position, spaceship_position):\n",
    "    nonsense = numpy.linalg.norm(moon_position) * spaceship_position\n",
    "    return nonsense\n",
    "\n"
   ]
  },
  {
   "cell_type": "markdown",
   "metadata": {},
   "source": [
    "# 查看答案"
   ]
  },
  {
   "cell_type": "code",
   "execution_count": 2,
   "metadata": {},
   "outputs": [
    {
     "data": {
      "text/html": [
       "<iframe width=\"900\" height=\"608\" src=\"https://www.youtube.com/embed/VlZYFfURgXE\" frameborder=\"0\" allow=\"autoplay; encrypted-media\" allowfullscreen></iframe>"
      ],
      "text/plain": [
       "<IPython.core.display.HTML object>"
      ]
     },
     "execution_count": 2,
     "metadata": {},
     "output_type": "execute_result"
    }
   ],
   "source": [
    "from IPython.display import HTML\n",
    "\n",
    "HTML('<iframe width=\"900\" height=\"608\" src=\"https://www.youtube.com/embed/VlZYFfURgXE\" frameborder=\"0\" allow=\"autoplay; encrypted-media\" allowfullscreen></iframe>')\n"
   ]
  },
  {
   "cell_type": "markdown",
   "metadata": {},
   "source": [
    "请参阅以下论坛帖子，获取非常实用的 Python 初学者电子书：http://forums.udacity.com/cs222/questions/1914/free-e-book-python-scripting-for-computational-science\n"
   ]
  },
  {
   "cell_type": "code",
   "execution_count": null,
   "metadata": {},
   "outputs": [],
   "source": []
  }
 ],
 "metadata": {
  "kernelspec": {
   "display_name": "Python 2",
   "language": "python",
   "name": "python2"
  },
  "language_info": {
   "codemirror_mode": {
    "name": "ipython",
    "version": 2
   },
   "file_extension": ".py",
   "mimetype": "text/x-python",
   "name": "python",
   "nbconvert_exporter": "python",
   "pygments_lexer": "ipython2",
   "version": "2.7.14"
  }
 },
 "nbformat": 4,
 "nbformat_minor": 2
}
