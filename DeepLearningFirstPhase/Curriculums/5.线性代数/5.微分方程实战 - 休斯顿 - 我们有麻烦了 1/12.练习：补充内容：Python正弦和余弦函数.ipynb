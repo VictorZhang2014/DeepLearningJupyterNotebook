{
 "cells": [
  {
   "cell_type": "code",
   "execution_count": 1,
   "metadata": {},
   "outputs": [
    {
     "data": {
      "text/html": [
       "<iframe width=\"900\" height=\"608\" src=\"https://www.youtube.com/embed/yWqY76dA9II\" frameborder=\"0\" allow=\"autoplay; encrypted-media\" allowfullscreen></iframe>"
      ],
      "text/plain": [
       "<IPython.core.display.HTML object>"
      ]
     },
     "execution_count": 1,
     "metadata": {},
     "output_type": "execute_result"
    }
   ],
   "source": [
    "from IPython.display import HTML\n",
    "\n",
    "HTML('<iframe width=\"900\" height=\"608\" src=\"https://www.youtube.com/embed/yWqY76dA9II\" frameborder=\"0\" allow=\"autoplay; encrypted-media\" allowfullscreen></iframe>')\n"
   ]
  },
  {
   "cell_type": "code",
   "execution_count": null,
   "metadata": {},
   "outputs": [],
   "source": [
    "# QUIZ\n",
    "# \n",
    "# Fill in the for loop below to set \n",
    "# the x, y1, and y2 arrays to the \n",
    "# following values:\n",
    "#\n",
    "# - The x array should contain \n",
    "#   num_points many points evenly \n",
    "#   spaced between 0 and 2*pi.\n",
    "#   0 and 2*pi should be included.\n",
    "#\n",
    "# - The y1 array should contain \n",
    "#   the corresponding sine values \n",
    "#   of the values in the x array.\n",
    "#\n",
    "# - The y2 array should contain \n",
    "#   the corresponding cosine values\n",
    "#   of the values in the x array.\n",
    "\n",
    "import math\n",
    "from udacityplots import *\n",
    "\n",
    "\n",
    "def sin_cos():\n",
    "    num_points = 50\n",
    "\n",
    "    x = numpy.zeros(num_points)\n",
    "    sin_x = numpy.zeros(num_points)\n",
    "    cos_x = numpy.zeros(num_points)\n",
    "\n",
    "    for i in range(num_points):\n",
    "        x[i] = ###Your code here\n",
    "        sin_x[i] = ###Your code here\n",
    "        cos_x[i] = ###Your code here\n",
    "    return x, sin_x, cos_x\n",
    "\n",
    "x, sin_x, cos_x = sin_cos()\n",
    "\n",
    "# These lines call the matplotlib package\n",
    "# to plot the values you input on a graph.\n",
    "@show_plot\n",
    "def plot_me():\n",
    "    matplotlib.pyplot.plot(x, sin_x)\n",
    "    matplotlib.pyplot.plot(x, cos_x)\n",
    "plot_me()\n",
    "\n"
   ]
  },
  {
   "cell_type": "markdown",
   "metadata": {},
   "source": [
    "Another note: 对于这个问题，对于 i 的所有值，i/(num_points-1) 都等于 0，但 49 除外，因为分子和分母都定义为整数，并且在 Python 中（3.x 版除外），整数相除结果是整数。如果我们想要获得浮点型，则需要让分数的分子或分母变成浮点型数字。例如，我们可以写成 i/(num_points-1.) 或 float(i)/(num_points-1)。\n",
    "\n",
    "这道测验是可选测验！如果你很熟悉 Python，可以不做这道练习。\n"
   ]
  },
  {
   "cell_type": "code",
   "execution_count": 1,
   "metadata": {},
   "outputs": [
    {
     "data": {
      "text/html": [
       "<iframe width=\"900\" height=\"608\" src=\"https://www.youtube.com/embed/jiwEPVHuQo4\" frameborder=\"0\" allow=\"autoplay; encrypted-media\" allowfullscreen></iframe>"
      ],
      "text/plain": [
       "<IPython.core.display.HTML object>"
      ]
     },
     "execution_count": 1,
     "metadata": {},
     "output_type": "execute_result"
    }
   ],
   "source": [
    "from IPython.display import HTML\n",
    "\n",
    "HTML('<iframe width=\"900\" height=\"608\" src=\"https://www.youtube.com/embed/jiwEPVHuQo4\" frameborder=\"0\" allow=\"autoplay; encrypted-media\" allowfullscreen></iframe>')\n"
   ]
  },
  {
   "cell_type": "code",
   "execution_count": null,
   "metadata": {},
   "outputs": [],
   "source": []
  }
 ],
 "metadata": {
  "kernelspec": {
   "display_name": "Python 2",
   "language": "python",
   "name": "python2"
  },
  "language_info": {
   "codemirror_mode": {
    "name": "ipython",
    "version": 2
   },
   "file_extension": ".py",
   "mimetype": "text/x-python",
   "name": "python",
   "nbconvert_exporter": "python",
   "pygments_lexer": "ipython2",
   "version": "2.7.14"
  }
 },
 "nbformat": 4,
 "nbformat_minor": 2
}
