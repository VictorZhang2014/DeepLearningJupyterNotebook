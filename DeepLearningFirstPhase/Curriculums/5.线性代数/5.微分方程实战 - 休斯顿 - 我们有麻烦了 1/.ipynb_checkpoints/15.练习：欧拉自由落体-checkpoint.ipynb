{
 "cells": [
  {
   "cell_type": "code",
   "execution_count": 1,
   "metadata": {},
   "outputs": [
    {
     "data": {
      "text/html": [
       "<iframe width=\"900\" height=\"608\" src=\"https://www.youtube.com/embed/MtkJt3DwSNI\" frameborder=\"0\" allow=\"autoplay; encrypted-media\" allowfullscreen></iframe>"
      ],
      "text/plain": [
       "<IPython.core.display.HTML object>"
      ]
     },
     "execution_count": 1,
     "metadata": {},
     "output_type": "execute_result"
    }
   ],
   "source": [
    "from IPython.display import HTML\n",
    "\n",
    "HTML('<iframe width=\"900\" height=\"608\" src=\"https://www.youtube.com/embed/MtkJt3DwSNI\" frameborder=\"0\" allow=\"autoplay; encrypted-media\" allowfullscreen></iframe>')\n"
   ]
  },
  {
   "cell_type": "code",
   "execution_count": null,
   "metadata": {},
   "outputs": [],
   "source": [
    "# QUIZ\n",
    "# \n",
    "# Modify the for loop below to \n",
    "# set the values of the t, x, and v\n",
    "# arrays to implement the Forward \n",
    "# Euler Method for num_steps many steps.\n",
    "\n",
    "# To see plots on your own computer, uncomment the two lines below...\n",
    "# import numpy\n",
    "# import matplotlib.pyplot\n",
    "\n",
    "from udacityplots import * # ...and comment out this line\n",
    "\n",
    "def forward_euler():\n",
    "    h = 0.1 # s\n",
    "    g = 9.81 # m / s2\n",
    "\n",
    "    num_steps = 50\n",
    "\n",
    "    t = numpy.zeros(num_steps + 1)\n",
    "    x = numpy.zeros(num_steps + 1)\n",
    "    v = numpy.zeros(num_steps + 1)\n",
    "\n",
    "    for step in range(num_steps):\n",
    "        t[step + 1] = ###Your code here.\n",
    "        x[step + 1] = ###Your code here.\n",
    "        v[step + 1] = ###Your code here.\n",
    "    return t, x, v\n",
    "\n",
    "t, x, v = forward_euler()\n",
    "\n",
    "@show_plot # Remove this line when running locally\n",
    "def plot_me():\n",
    "    axes_height = matplotlib.pyplot.subplot(211)\n",
    "    matplotlib.pyplot.plot(t, x)\n",
    "    axes_velocity = matplotlib.pyplot.subplot(212)\n",
    "    matplotlib.pyplot.plot(t, v)\n",
    "    axes_height.set_ylabel('Height in m')\n",
    "    axes_velocity.set_ylabel('Velocity in m/s')\n",
    "    axes_velocity.set_xlabel('Time in s')\n",
    "    # Uncomment the line below when running locally.\n",
    "    # matplotlib.pyplot.show() \n",
    "\n",
    "plot_me()\n"
   ]
  },
  {
   "cell_type": "code",
   "execution_count": 2,
   "metadata": {},
   "outputs": [
    {
     "data": {
      "text/html": [
       "<iframe width=\"900\" height=\"608\" src=\"https://www.youtube.com/embed/9QJ1ZQQGhPU\" frameborder=\"0\" allow=\"autoplay; encrypted-media\" allowfullscreen></iframe>"
      ],
      "text/plain": [
       "<IPython.core.display.HTML object>"
      ]
     },
     "execution_count": 2,
     "metadata": {},
     "output_type": "execute_result"
    }
   ],
   "source": [
    "from IPython.display import HTML\n",
    "\n",
    "HTML('<iframe width=\"900\" height=\"608\" src=\"https://www.youtube.com/embed/9QJ1ZQQGhPU\" frameborder=\"0\" allow=\"autoplay; encrypted-media\" allowfullscreen></iframe>')\n"
   ]
  },
  {
   "cell_type": "code",
   "execution_count": null,
   "metadata": {},
   "outputs": [],
   "source": []
  }
 ],
 "metadata": {
  "kernelspec": {
   "display_name": "Python 2",
   "language": "python",
   "name": "python2"
  },
  "language_info": {
   "codemirror_mode": {
    "name": "ipython",
    "version": 2
   },
   "file_extension": ".py",
   "mimetype": "text/x-python",
   "name": "python",
   "nbconvert_exporter": "python",
   "pygments_lexer": "ipython2",
   "version": "2.7.14"
  }
 },
 "nbformat": 4,
 "nbformat_minor": 2
}
