{
 "cells": [
  {
   "cell_type": "code",
   "execution_count": 1,
   "metadata": {},
   "outputs": [
    {
     "data": {
      "text/html": [
       "<iframe width=\"900\" height=\"608\" src=\"https://www.youtube.com/embed/0dAm0wdAuhc\" frameborder=\"0\" allow=\"autoplay; encrypted-media\" allowfullscreen></iframe>"
      ],
      "text/plain": [
       "<IPython.core.display.HTML object>"
      ]
     },
     "execution_count": 1,
     "metadata": {},
     "output_type": "execute_result"
    }
   ],
   "source": [
    "from IPython.display import HTML\n",
    "\n",
    "HTML('<iframe width=\"900\" height=\"608\" src=\"https://www.youtube.com/embed/0dAm0wdAuhc\" frameborder=\"0\" allow=\"autoplay; encrypted-media\" allowfullscreen></iframe>')\n"
   ]
  },
  {
   "cell_type": "markdown",
   "metadata": {},
   "source": [
    "# 练习题"
   ]
  },
  {
   "cell_type": "code",
   "execution_count": null,
   "metadata": {},
   "outputs": [],
   "source": [
    "# PROBLEM 2\n",
    "#\n",
    "# Modify the trajectory function below to \n",
    "# plot the trajectory of several particles. \n",
    "# Each trajectory starts at the point (0,0) \n",
    "# given initial speed in the direction \n",
    "# specified by the angle. Use the Forward \n",
    "# Euler Method to accomplish this.\n",
    "\n",
    "import math\n",
    "from udacityplots import *\n",
    "\n",
    "h = 0.1 # s\n",
    "g = 9.81 # m / s2\n",
    "acceleration = numpy.array([0., -g])\n",
    "initial_speed = 20. # m / s\n",
    "\n",
    "@show_plot\n",
    "def trajectory():\n",
    "    angles = numpy.linspace(20., 70., 6)\n",
    "\n",
    "    num_steps = 30\n",
    "    x = numpy.zeros([num_steps + 1, 2])\n",
    "    v = numpy.zeros([num_steps + 1, 2])\n",
    "\n",
    "    for angle in angles:\n",
    "        ###Your code here.\n",
    "\n",
    "        matplotlib.pyplot.plot(x[:, 0], x[:, 1])\n",
    "    matplotlib.pyplot.axis('equal')\n",
    "    axes = matplotlib.pyplot.gca()\n",
    "    axes.set_xlabel('Horizontal position in m')\n",
    "    axes.set_ylabel('Vertical position in m')\n",
    "    return x, v\n",
    "\n",
    "trajectory()\n",
    "\n",
    "\n"
   ]
  },
  {
   "cell_type": "markdown",
   "metadata": {},
   "source": [
    "# 答案"
   ]
  },
  {
   "cell_type": "code",
   "execution_count": 2,
   "metadata": {},
   "outputs": [
    {
     "data": {
      "text/html": [
       "<iframe width=\"900\" height=\"608\" src=\"https://www.youtube.com/embed/4cFoVzU-Xqk\" frameborder=\"0\" allow=\"autoplay; encrypted-media\" allowfullscreen></iframe>"
      ],
      "text/plain": [
       "<IPython.core.display.HTML object>"
      ]
     },
     "execution_count": 2,
     "metadata": {},
     "output_type": "execute_result"
    }
   ],
   "source": [
    "from IPython.display import HTML\n",
    "\n",
    "HTML('<iframe width=\"900\" height=\"608\" src=\"https://www.youtube.com/embed/4cFoVzU-Xqk\" frameborder=\"0\" allow=\"autoplay; encrypted-media\" allowfullscreen></iframe>')\n"
   ]
  },
  {
   "cell_type": "code",
   "execution_count": null,
   "metadata": {},
   "outputs": [],
   "source": []
  }
 ],
 "metadata": {
  "kernelspec": {
   "display_name": "Python 2",
   "language": "python",
   "name": "python2"
  },
  "language_info": {
   "codemirror_mode": {
    "name": "ipython",
    "version": 2
   },
   "file_extension": ".py",
   "mimetype": "text/x-python",
   "name": "python",
   "nbconvert_exporter": "python",
   "pygments_lexer": "ipython2",
   "version": "2.7.14"
  }
 },
 "nbformat": 4,
 "nbformat_minor": 2
}
