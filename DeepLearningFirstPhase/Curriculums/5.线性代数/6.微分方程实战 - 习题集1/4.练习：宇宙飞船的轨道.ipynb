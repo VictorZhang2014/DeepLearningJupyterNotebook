{
 "cells": [
  {
   "cell_type": "code",
   "execution_count": 1,
   "metadata": {},
   "outputs": [
    {
     "data": {
      "text/html": [
       "<iframe width=\"900\" height=\"608\" src=\"https://www.youtube.com/embed/TD300xjBqvY\" frameborder=\"0\" allow=\"autoplay; encrypted-media\" allowfullscreen></iframe>"
      ],
      "text/plain": [
       "<IPython.core.display.HTML object>"
      ]
     },
     "execution_count": 1,
     "metadata": {},
     "output_type": "execute_result"
    }
   ],
   "source": [
    "from IPython.display import HTML\n",
    "\n",
    "HTML('<iframe width=\"900\" height=\"608\" src=\"https://www.youtube.com/embed/TD300xjBqvY\" frameborder=\"0\" allow=\"autoplay; encrypted-media\" allowfullscreen></iframe>')\n"
   ]
  },
  {
   "cell_type": "markdown",
   "metadata": {},
   "source": [
    "# 练习题"
   ]
  },
  {
   "cell_type": "code",
   "execution_count": null,
   "metadata": {},
   "outputs": [],
   "source": [
    "# PROBLEM 3\n",
    "#\n",
    "# Modify the below functions acceleration and \n",
    "# ship_trajectory to plot the trajectory of a \n",
    "# spacecraft with the given initial position \n",
    "# and velocity. Use the Forward Euler Method \n",
    "# to accomplish this.\n",
    "\n",
    "from udacityplots import *\n",
    "\n",
    "h = 1.0 # s\n",
    "earth_mass = 5.97e24 # kg\n",
    "gravitational_constant = 6.67e-11 # N m2 / kg2\n",
    "\n",
    "def acceleration(spaceship_position):\n",
    "    ###Your code here.\n",
    "\n",
    "def ship_trajectory():\n",
    "    num_steps = 13000\n",
    "    x = numpy.zeros([num_steps + 1, 2]) # m\n",
    "    v = numpy.zeros([num_steps + 1, 2]) # m / s\n",
    "\n",
    "    x[0, 0] = 15e6\n",
    "    x[0, 1] = 1e6\n",
    "    v[0, 0] = 2e3\n",
    "    v[0, 1] = 4e3\n",
    "\n",
    "\t###Your code here. This code should call the above \n",
    "\t###acceleration function.\n",
    "\n",
    "    return x, v\n",
    "\n",
    "x, v = ship_trajectory()\n",
    "\n",
    "@show_plot\n",
    "def plot_me():\n",
    "    matplotlib.pyplot.plot(x[:, 0], x[:, 1])\n",
    "    matplotlib.pyplot.scatter(0, 0)\n",
    "    matplotlib.pyplot.axis('equal')\n",
    "    axes = matplotlib.pyplot.gca()\n",
    "    axes.set_xlabel('Longitudinal position in m')\n",
    "    axes.set_ylabel('Lateral position in m')\n",
    "plot_me()\n",
    "    \n",
    "\n",
    "\n"
   ]
  },
  {
   "cell_type": "markdown",
   "metadata": {},
   "source": [
    "# 答案"
   ]
  },
  {
   "cell_type": "code",
   "execution_count": 2,
   "metadata": {},
   "outputs": [
    {
     "data": {
      "text/html": [
       "<iframe width=\"900\" height=\"608\" src=\"https://www.youtube.com/embed/OUWBcRBTPFw\" frameborder=\"0\" allow=\"autoplay; encrypted-media\" allowfullscreen></iframe>"
      ],
      "text/plain": [
       "<IPython.core.display.HTML object>"
      ]
     },
     "execution_count": 2,
     "metadata": {},
     "output_type": "execute_result"
    }
   ],
   "source": [
    "from IPython.display import HTML\n",
    "\n",
    "HTML('<iframe width=\"900\" height=\"608\" src=\"https://www.youtube.com/embed/OUWBcRBTPFw\" frameborder=\"0\" allow=\"autoplay; encrypted-media\" allowfullscreen></iframe>')\n"
   ]
  },
  {
   "cell_type": "code",
   "execution_count": null,
   "metadata": {},
   "outputs": [],
   "source": []
  }
 ],
 "metadata": {
  "kernelspec": {
   "display_name": "Python 2",
   "language": "python",
   "name": "python2"
  },
  "language_info": {
   "codemirror_mode": {
    "name": "ipython",
    "version": 2
   },
   "file_extension": ".py",
   "mimetype": "text/x-python",
   "name": "python",
   "nbconvert_exporter": "python",
   "pygments_lexer": "ipython2",
   "version": "2.7.14"
  }
 },
 "nbformat": 4,
 "nbformat_minor": 2
}
