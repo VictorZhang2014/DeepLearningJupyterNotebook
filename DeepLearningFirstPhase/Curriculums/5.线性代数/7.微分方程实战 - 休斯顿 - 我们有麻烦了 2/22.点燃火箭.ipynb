{
 "cells": [
  {
   "cell_type": "code",
   "execution_count": 1,
   "metadata": {},
   "outputs": [
    {
     "data": {
      "text/html": [
       "<iframe width=\"900\" height=\"600\" src=\"https://www.youtube.com/embed/hqNf59h79wo\" frameborder=\"0\" allow=\"autoplay; encrypted-media\" allowfullscreen></iframe>"
      ],
      "text/plain": [
       "<IPython.core.display.HTML object>"
      ]
     },
     "execution_count": 1,
     "metadata": {},
     "output_type": "execute_result"
    }
   ],
   "source": [
    "from IPython.display import HTML\n",
    "\n",
    "HTML('<iframe width=\"900\" height=\"600\" src=\"https://www.youtube.com/embed/hqNf59h79wo\" frameborder=\"0\" allow=\"autoplay; encrypted-media\" allowfullscreen></iframe>')\n"
   ]
  },
  {
   "cell_type": "markdown",
   "metadata": {},
   "source": [
    "# 练习题"
   ]
  },
  {
   "cell_type": "code",
   "execution_count": null,
   "metadata": {},
   "outputs": [],
   "source": [
    "# QUIZ\n",
    "#\n",
    "# We need to demonstrate firing the \n",
    "# boost rocket at the appropriate \n",
    "# time, and show how that alters the \n",
    "# trajectory of the capsule! Modify \n",
    "# the apply_boost function below to \n",
    "# fire the boost rocket 2 hours \n",
    "# after start, increasing the speed \n",
    "# by 300 m / s in the current \n",
    "# direction of travel when you do.\n",
    "#\n",
    "# HINT: Use the boolean variable \n",
    "# boost_done to store whether or not \n",
    "# this boost has occurred.\n",
    "\n",
    "from udacityplots import *\n",
    "\n",
    "h = 3.0 # s\n",
    "earth_mass = 5.97e24 # kg\n",
    "spacecraft_mass = 30000. # kg\n",
    "gravitational_constant = 6.67e-11 # N m2 / kg2\n",
    "\n",
    "# This is used to keep track of the data that we want to plot.\n",
    "data = []\n",
    "\n",
    "def acceleration(spaceship_position):\n",
    "    vector_to_earth = - spaceship_position # earth located at origin\n",
    "    return gravitational_constant * earth_mass / numpy.linalg.norm(vector_to_earth)**3 * vector_to_earth\n",
    "\n",
    "def apply_boost():\n",
    "    num_steps = 7000\n",
    "    x = numpy.zeros([num_steps + 1, 2]) # m\n",
    "    v = numpy.zeros([num_steps + 1, 2]) # m / s\n",
    "\n",
    "    x[0, 0] = 15e6\n",
    "    x[0, 1] = 1e6    \n",
    "    v[0, 0] = 2e3\n",
    "    v[0, 1] = 4e3\n",
    "\n",
    "    boost_done = False\n",
    "\n",
    "    for step in range(num_steps):\n",
    "        if ###Input condition for firing the boost here:\n",
    "            ###Your code here.\n",
    "\n",
    "            data.append((x[step, 0], x[step, 1]))\n",
    "\n",
    "        acceleration0 = acceleration(x[step])\n",
    "        xE = x[step] + h * v[step]\n",
    "        vE = v[step] + h * acceleration0\n",
    "        x[step + 1] = x[step] + h * 0.5 * (v[step] + vE)\n",
    "        v[step + 1] = v[step] + h * 0.5 * (acceleration0 + acceleration(xE))\n",
    "\n",
    "    return x, v\n",
    "\n",
    "x, v = apply_boost()\n",
    "\n",
    "@show_plot\n",
    "def plot_me():\n",
    "    for (x_0, x_1) in data:\n",
    "        matplotlib.pyplot.scatter(x_0, x_1, c = 'r')\n",
    "    matplotlib.pyplot.plot(x[:, 0], x[:, 1])\n",
    "    matplotlib.pyplot.scatter(0, 0)\n",
    "    matplotlib.pyplot.axis('equal')\n",
    "    axes = matplotlib.pyplot.gca()\n",
    "    axes.set_xlabel('Longitudinal position in m')\n",
    "    axes.set_ylabel('Lateral position in m')\n",
    "\n",
    "plot_me()\n",
    "\n"
   ]
  },
  {
   "cell_type": "markdown",
   "metadata": {},
   "source": [
    "# 答案"
   ]
  },
  {
   "cell_type": "code",
   "execution_count": 2,
   "metadata": {},
   "outputs": [
    {
     "data": {
      "text/html": [
       "<iframe width=\"900\" height=\"600\" src=\"https://www.youtube.com/embed/WqCmvqRCJeM\" frameborder=\"0\" allow=\"autoplay; encrypted-media\" allowfullscreen></iframe>"
      ],
      "text/plain": [
       "<IPython.core.display.HTML object>"
      ]
     },
     "execution_count": 2,
     "metadata": {},
     "output_type": "execute_result"
    }
   ],
   "source": [
    "from IPython.display import HTML\n",
    "\n",
    "HTML('<iframe width=\"900\" height=\"600\" src=\"https://www.youtube.com/embed/WqCmvqRCJeM\" frameborder=\"0\" allow=\"autoplay; encrypted-media\" allowfullscreen></iframe>')\n"
   ]
  },
  {
   "cell_type": "code",
   "execution_count": null,
   "metadata": {},
   "outputs": [],
   "source": []
  }
 ],
 "metadata": {
  "kernelspec": {
   "display_name": "Python 2",
   "language": "python",
   "name": "python2"
  },
  "language_info": {
   "codemirror_mode": {
    "name": "ipython",
    "version": 2
   },
   "file_extension": ".py",
   "mimetype": "text/x-python",
   "name": "python",
   "nbconvert_exporter": "python",
   "pygments_lexer": "ipython2",
   "version": "2.7.14"
  }
 },
 "nbformat": 4,
 "nbformat_minor": 2
}
