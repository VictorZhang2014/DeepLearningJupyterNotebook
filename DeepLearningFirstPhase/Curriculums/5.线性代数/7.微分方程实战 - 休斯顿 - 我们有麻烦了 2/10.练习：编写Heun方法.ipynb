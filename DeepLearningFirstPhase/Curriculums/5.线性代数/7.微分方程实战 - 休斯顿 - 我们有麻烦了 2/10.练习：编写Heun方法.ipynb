{
 "cells": [
  {
   "cell_type": "code",
   "execution_count": 2,
   "metadata": {},
   "outputs": [
    {
     "data": {
      "text/html": [
       "<iframe width=\"900\" height=\"600\" src=\"https://www.youtube.com/embed/4OHPuiVvCwo\" frameborder=\"0\" allow=\"autoplay; encrypted-media\" allowfullscreen></iframe>"
      ],
      "text/plain": [
       "<IPython.core.display.HTML object>"
      ]
     },
     "execution_count": 2,
     "metadata": {},
     "output_type": "execute_result"
    }
   ],
   "source": [
    "from IPython.display import HTML\n",
    "\n",
    "HTML('<iframe width=\"900\" height=\"600\" src=\"https://www.youtube.com/embed/4OHPuiVvCwo\" frameborder=\"0\" allow=\"autoplay; encrypted-media\" allowfullscreen></iframe>')\n"
   ]
  },
  {
   "cell_type": "markdown",
   "metadata": {},
   "source": [
    "# 练习题\n"
   ]
  },
  {
   "cell_type": "code",
   "execution_count": null,
   "metadata": {},
   "outputs": [],
   "source": [
    "# QUIZ\n",
    "#\n",
    "# Implement Heun's Method in the function below, \n",
    "# building off of the Forward Euler method as a \n",
    "# base. The resulting diagram will show the \n",
    "# errors in comparison.\n",
    "\n",
    "import math\n",
    "from udacityplots import *\n",
    "\n",
    "total_time = 24. * 3600. # s\n",
    "g = 9.81 # m / s2\n",
    "earth_mass = 5.97e24 # kg\n",
    "gravitational_constant = 6.67e-11 # N m2 / kg2\n",
    "radius = (gravitational_constant * earth_mass * total_time**2. / 4. / math.pi ** 2.) ** (1. / 3.)\n",
    "speed = 2.0 * math.pi * radius / total_time\n",
    "\n",
    "# These are used to keep track of the data we want to plot\n",
    "h_array = []\n",
    "euler_error_array = []\n",
    "heuns_error_array = []\n",
    "\n",
    "def acceleration(spaceship_position):\n",
    "    vector_to_earth = - spaceship_position # earth located at origin\n",
    "    return gravitational_constant * earth_mass / numpy.linalg.norm(vector_to_earth)**3 * vector_to_earth\n",
    "\n",
    "def heuns_method(num_steps):\n",
    "    ###Original Euler Method\n",
    "    h = total_time / num_steps\n",
    "\n",
    "    x = numpy.zeros([num_steps + 1, 2]) # m\n",
    "    v = numpy.zeros([num_steps + 1, 2]) # m / s\n",
    "\n",
    "    x[0, 0] = radius\n",
    "    v[0, 1] = speed\n",
    "\n",
    "    for step in range(num_steps):\n",
    "        x[step + 1] = x[step] + h * v[step]\n",
    "        v[step + 1] = v[step] + h * acceleration(x[step])\n",
    "\n",
    "    error = numpy.linalg.norm(x[-1] - x[0])\n",
    "    h_array.append(h)\n",
    "    euler_error_array.append(error)\n",
    "    ###End Original Euler Method\n",
    "\n",
    "    ###Heun's Method\n",
    "    for step in range(num_steps):\n",
    "        pass # replace this and fill in your code here\n",
    "\n",
    "    error = numpy.linalg.norm(x[-1] - x[0])\n",
    "    heuns_error_array.append(error)\n",
    "\n",
    "    ###End Heun's Method\n",
    "\n",
    "    return x, v, error\n",
    "\n",
    "for num_steps in [50, 100, 200, 500, 1000]:\n",
    "    x, v, error = heuns_method(num_steps) #Check x, v, error\n",
    "\n",
    "\n",
    "@show_plot\n",
    "def plot_me():\n",
    "    matplotlib.pyplot.scatter(h_array, euler_error_array, c = 'g')\n",
    "    matplotlib.pyplot.scatter(h_array, heuns_error_array, c = 'b')\n",
    "    matplotlib.pyplot.xlim(xmin = 0.)\n",
    "    matplotlib.pyplot.ylim(ymin = 0.)\n",
    "    axes = matplotlib.pyplot.gca()\n",
    "    axes.set_xlabel('Step size in s')\n",
    "    axes.set_ylabel('Error in m')\n",
    "    \n",
    "plot_me()"
   ]
  },
  {
   "cell_type": "markdown",
   "metadata": {},
   "source": [
    "# 答案"
   ]
  },
  {
   "cell_type": "code",
   "execution_count": 3,
   "metadata": {},
   "outputs": [
    {
     "data": {
      "text/html": [
       "<iframe width=\"900\" height=\"600\" src=\"https://www.youtube.com/embed/aDk31jOrS4o\" frameborder=\"0\" allow=\"autoplay; encrypted-media\" allowfullscreen></iframe>"
      ],
      "text/plain": [
       "<IPython.core.display.HTML object>"
      ]
     },
     "execution_count": 3,
     "metadata": {},
     "output_type": "execute_result"
    }
   ],
   "source": [
    "from IPython.display import HTML\n",
    "\n",
    "HTML('<iframe width=\"900\" height=\"600\" src=\"https://www.youtube.com/embed/aDk31jOrS4o\" frameborder=\"0\" allow=\"autoplay; encrypted-media\" allowfullscreen></iframe>')\n"
   ]
  },
  {
   "cell_type": "code",
   "execution_count": null,
   "metadata": {},
   "outputs": [],
   "source": []
  }
 ],
 "metadata": {
  "kernelspec": {
   "display_name": "Python 2",
   "language": "python",
   "name": "python2"
  },
  "language_info": {
   "codemirror_mode": {
    "name": "ipython",
    "version": 2
   },
   "file_extension": ".py",
   "mimetype": "text/x-python",
   "name": "python",
   "nbconvert_exporter": "python",
   "pygments_lexer": "ipython2",
   "version": "2.7.14"
  }
 },
 "nbformat": 4,
 "nbformat_minor": 2
}
