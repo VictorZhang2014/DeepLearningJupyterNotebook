{
 "cells": [
  {
   "cell_type": "code",
   "execution_count": 1,
   "metadata": {},
   "outputs": [
    {
     "data": {
      "text/html": [
       "<iframe width=\"900\" height=\"600\" src=\"https://www.youtube.com/embed/CrtR2Nflf18\" frameborder=\"0\" allow=\"autoplay; encrypted-media\" allowfullscreen></iframe>"
      ],
      "text/plain": [
       "<IPython.core.display.HTML object>"
      ]
     },
     "execution_count": 1,
     "metadata": {},
     "output_type": "execute_result"
    }
   ],
   "source": [
    "from IPython.display import HTML\n",
    "\n",
    "HTML('<iframe width=\"900\" height=\"600\" src=\"https://www.youtube.com/embed/CrtR2Nflf18\" frameborder=\"0\" allow=\"autoplay; encrypted-media\" allowfullscreen></iframe>')\n"
   ]
  },
  {
   "cell_type": "markdown",
   "metadata": {},
   "source": [
    "要详细了解偶对/几何方法，请参阅 David F. Griffiths、Desmond J. Higham 合著的 《Numerical Methods for Ordinary Differential Equations》（Springer ，2010 年）的第 15 章（第 207-223 页）。 http://www.springerlink.com/content/978-0-85729-148-6\n",
    "\n",
    "下面我们演示了一个可能的欧拉折线法偶对变量。为了使你熟悉内容，我们继续采用典型的顺序 x v：\n",
    "\n",
    "x_2 = x_1 + h * v_1\n",
    "\n",
    "v_2 = v_1 + h * F(x_2)/m\n",
    "\n",
    "但是可以通过多种方式创建欧拉折线法的偶对变量，尤其是以下方法 (Euler-Cromer)：\n",
    "\n",
    "v_2 = v_1 + h * F(x_1)/m\n",
    "\n",
    "x_2 = x_1 + h * v_2,\n",
    "\n",
    "该方法使用新的速度来计算下个位置。这个可能是典型方法（虽然看起来不熟悉），而不是视频中展示的方法。\n",
    "\n",
    "第三种选择是按照另一种方式同时使用上面提到的两种方法\n",
    "\n",
    "x_2 = x_1 + h * v_1\n",
    "\n",
    "v_2 = v_1 + h * F(x_2)/m\n",
    "\n",
    "v_3 = v_2 + h * F(x_2)/m\n",
    "\n",
    "x_3 = x_2 + h * v_3\n",
    "\n",
    "x_4 = x_3 + h * v_3\n",
    "\n",
    "v_4 = v_3 + h * F(x_4)/m\n",
    "\n",
    "等等\n",
    "\n",
    "变成\n",
    "\n",
    "x_2 = x_1 + h * v_1\n",
    "\n",
    "v_3 = v_2 + 2h * F(x_2)/m\n",
    "\n",
    "x_4 = x_2 + 2h * v_3\n",
    "\n",
    "等等\n",
    "\n",
    "所以实际上我们可以在每步不用计算 x 或 v。这就是为何该方法叫做“蛙跳法” 。它是一种偶对 (!) 二阶 (!) 方法，计算代价是欧拉折线法的一半。通过替代方式，一步几乎正好消去上一步产生的误差。\n",
    "\n",
    "通常，你将发现此蛙跳法写成一半步长和一半的步数（作为索引）。它的代价和欧拉折线法的一样，但是准确度高很多。\n"
   ]
  },
  {
   "cell_type": "code",
   "execution_count": null,
   "metadata": {},
   "outputs": [],
   "source": []
  }
 ],
 "metadata": {
  "kernelspec": {
   "display_name": "Python 2",
   "language": "python",
   "name": "python2"
  },
  "language_info": {
   "codemirror_mode": {
    "name": "ipython",
    "version": 2
   },
   "file_extension": ".py",
   "mimetype": "text/x-python",
   "name": "python",
   "nbconvert_exporter": "python",
   "pygments_lexer": "ipython2",
   "version": "2.7.14"
  }
 },
 "nbformat": 4,
 "nbformat_minor": 2
}
