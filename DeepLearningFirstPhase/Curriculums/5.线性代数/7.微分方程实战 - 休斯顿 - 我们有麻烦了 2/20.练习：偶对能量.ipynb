{
 "cells": [
  {
   "cell_type": "code",
   "execution_count": 1,
   "metadata": {},
   "outputs": [
    {
     "data": {
      "text/html": [
       "<iframe width=\"900\" height=\"600\" src=\"https://www.youtube.com/embed/wJQeR4j6sKY\" frameborder=\"0\" allow=\"autoplay; encrypted-media\" allowfullscreen></iframe>"
      ],
      "text/plain": [
       "<IPython.core.display.HTML object>"
      ]
     },
     "execution_count": 1,
     "metadata": {},
     "output_type": "execute_result"
    }
   ],
   "source": [
    "from IPython.display import HTML\n",
    "\n",
    "HTML('<iframe width=\"900\" height=\"600\" src=\"https://www.youtube.com/embed/wJQeR4j6sKY\" frameborder=\"0\" allow=\"autoplay; encrypted-media\" allowfullscreen></iframe>')\n"
   ]
  },
  {
   "cell_type": "markdown",
   "metadata": {},
   "source": [
    "# 练习题"
   ]
  },
  {
   "cell_type": "code",
   "execution_count": null,
   "metadata": {},
   "outputs": [],
   "source": [
    "# QUIZ\n",
    "#\n",
    "# Modify the symplectic_euler function \n",
    "# below to correctly implement the \n",
    "# Symplectic Euler Method\n",
    "\n",
    "from udacityplots import *\n",
    "\n",
    "h = 5.0 # s\n",
    "earth_mass = 5.97e24 # kg\n",
    "spacecraft_mass = 30000. # kg\n",
    "gravitational_constant = 6.67e-11 # N m2 / kg2\n",
    "\n",
    "def acceleration(spaceship_position):\n",
    "    vector_to_earth = - spaceship_position # earth located at origin\n",
    "    return gravitational_constant * earth_mass / numpy.linalg.norm(vector_to_earth)**3 * vector_to_earth\n",
    "\n",
    "def symplectic_euler():\n",
    "    num_steps = 20000\n",
    "    x = numpy.zeros([num_steps + 1, 2]) # m\n",
    "    v = numpy.zeros([num_steps + 1, 2]) # m / s\n",
    "    energy = numpy.zeros(num_steps + 1) # J = kg m2 / s2\n",
    "\n",
    "    x[0, 0] = 15e6\n",
    "    x[0, 1] = 1e6    \n",
    "    v[0, 0] = 2e3\n",
    "    v[0, 1] = 4e3\n",
    "\n",
    "    ############ Modify the below code\n",
    "    for step in range(num_steps):\n",
    "        x[step + 1] = x[step] + h * v[step] \n",
    "        v[step + 1] = v[step] + h * acceleration(x[step])\n",
    "    ############ End code to modify\n",
    "\n",
    "    for step in range(num_steps + 1):\n",
    "        energy[step] = 0.5 * spacecraft_mass * numpy.linalg.norm(v[step])**2 \\\n",
    "                         - gravitational_constant * earth_mass * spacecraft_mass / numpy.linalg.norm(x[step])\n",
    "\n",
    "    return x, energy\n",
    "\n",
    "x, energy = symplectic_euler()\n",
    "\n",
    "@show_plot\n",
    "def plot_me():\n",
    "    axes_positions = matplotlib.pyplot.subplot(211)\n",
    "    matplotlib.pyplot.plot(x[:, 0], x[:, 1])\n",
    "    matplotlib.pyplot.scatter(0, 0)\n",
    "    matplotlib.pyplot.axis('equal')\n",
    "    axes_positions.set_xlabel('Longitudinal position in m')\n",
    "    axes_positions.set_ylabel('Lateral position in m')\n",
    "    axes_energy = matplotlib.pyplot.subplot(212)\n",
    "    matplotlib.pyplot.plot(energy)\n",
    "    axes_energy.set_xlabel('Step number')\n",
    "    axes_energy.set_ylabel('Energy in J') # 1 Joule = 1 N m = 1 kg m2 / s2\n",
    "    \n",
    "plot_me()\n"
   ]
  },
  {
   "cell_type": "markdown",
   "metadata": {},
   "source": [
    "# 答案"
   ]
  },
  {
   "cell_type": "code",
   "execution_count": 2,
   "metadata": {},
   "outputs": [
    {
     "data": {
      "text/html": [
       "<iframe width=\"900\" height=\"600\" src=\"https://www.youtube.com/embed/wcoODlyKHQc\" frameborder=\"0\" allow=\"autoplay; encrypted-media\" allowfullscreen></iframe>"
      ],
      "text/plain": [
       "<IPython.core.display.HTML object>"
      ]
     },
     "execution_count": 2,
     "metadata": {},
     "output_type": "execute_result"
    }
   ],
   "source": [
    "from IPython.display import HTML\n",
    "\n",
    "HTML('<iframe width=\"900\" height=\"600\" src=\"https://www.youtube.com/embed/wcoODlyKHQc\" frameborder=\"0\" allow=\"autoplay; encrypted-media\" allowfullscreen></iframe>')\n"
   ]
  },
  {
   "cell_type": "code",
   "execution_count": null,
   "metadata": {},
   "outputs": [],
   "source": []
  }
 ],
 "metadata": {
  "kernelspec": {
   "display_name": "Python 2",
   "language": "python",
   "name": "python2"
  },
  "language_info": {
   "codemirror_mode": {
    "name": "ipython",
    "version": 2
   },
   "file_extension": ".py",
   "mimetype": "text/x-python",
   "name": "python",
   "nbconvert_exporter": "python",
   "pygments_lexer": "ipython2",
   "version": "2.7.14"
  }
 },
 "nbformat": 4,
 "nbformat_minor": 2
}
