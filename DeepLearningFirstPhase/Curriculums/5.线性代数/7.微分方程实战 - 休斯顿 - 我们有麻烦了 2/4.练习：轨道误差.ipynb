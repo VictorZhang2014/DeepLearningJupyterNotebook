{
 "cells": [
  {
   "cell_type": "code",
   "execution_count": 1,
   "metadata": {},
   "outputs": [
    {
     "data": {
      "text/html": [
       "<iframe width=\"900\" height=\"608\" src=\"https://www.youtube.com/embed/PpPK66XbJqk\" frameborder=\"0\" allow=\"autoplay; encrypted-media\" allowfullscreen></iframe>"
      ],
      "text/plain": [
       "<IPython.core.display.HTML object>"
      ]
     },
     "execution_count": 1,
     "metadata": {},
     "output_type": "execute_result"
    }
   ],
   "source": [
    "from IPython.display import HTML\n",
    "\n",
    "HTML('<iframe width=\"900\" height=\"608\" src=\"https://www.youtube.com/embed/PpPK66XbJqk\" frameborder=\"0\" allow=\"autoplay; encrypted-media\" allowfullscreen></iframe>')\n"
   ]
  },
  {
   "cell_type": "markdown",
   "metadata": {},
   "source": [
    "# 练习题"
   ]
  },
  {
   "cell_type": "code",
   "execution_count": null,
   "metadata": {},
   "outputs": [],
   "source": [
    "# QUIZ\n",
    "#\n",
    "# Determine the step size h so that after \n",
    "# num_points the time total_times has passed.\n",
    "# Compute the trajectory of the spacecraft \n",
    "# starting from a point a distance r from \n",
    "# the origin with a velocity of magnitude \n",
    "# equal to the speed. Use the Forward Euler \n",
    "# Method. Return the distance between the final \n",
    "# and the initial position in the variable \n",
    "# error.\n",
    "\n",
    "import math\n",
    "from udacityplots import *\n",
    "\n",
    "# These are used to keep track of the data we want to plot\n",
    "h_array = []\n",
    "error_array = []\n",
    "\n",
    "total_time = 24. * 3600. # s\n",
    "g = 9.81 # m / s2\n",
    "earth_mass = 5.97e24 # kg\n",
    "gravitational_constant = 6.67e-11 # N m2 / kg2\n",
    "radius = (gravitational_constant * earth_mass * total_time**2. / 4. / math.pi ** 2.) ** (1. / 3.)\n",
    "speed = 2.0 * math.pi * radius / total_time\n",
    "\n",
    "def acceleration(spaceship_position):\n",
    "    vector_to_earth = - spaceship_position # earth located at origin\n",
    "    return gravitational_constant * earth_mass / numpy.linalg.norm(vector_to_earth)**3 * vector_to_earth\n",
    "\n",
    "def calculate_error(num_steps):\n",
    "    ###Your code here.\n",
    "    \n",
    "    \n",
    "    # This is used for plotting\n",
    "    h_array.append(h)\n",
    "    error_array.append(error)\n",
    "    return error\n",
    "    \n",
    "h_array=[]\n",
    "error_array=[]\n",
    "for num_steps in [200, 500, 1000, 2000, 5000, 10000]:\n",
    "    error = calculate_error(num_steps)\n",
    "\n",
    "@show_plot\n",
    "def plot_me():\n",
    "    axes = matplotlib.pyplot.gca()\n",
    "    axes.set_xlabel('Step size in s')\n",
    "    axes.set_ylabel('Error in m')\n",
    "    matplotlib.pyplot.scatter(h_array, error_array)\n",
    "    matplotlib.pyplot.xlim(xmin = 0.)\n",
    "    matplotlib.pyplot.ylim(ymin = 0.)\n",
    "\n",
    "plot_me()\n",
    "\n"
   ]
  },
  {
   "cell_type": "markdown",
   "metadata": {},
   "source": [
    "# 答案"
   ]
  },
  {
   "cell_type": "code",
   "execution_count": 2,
   "metadata": {},
   "outputs": [
    {
     "data": {
      "text/html": [
       "<iframe width=\"900\" height=\"608\" src=\"https://www.youtube.com/embed/bMcWa8C295Y\" frameborder=\"0\" allow=\"autoplay; encrypted-media\" allowfullscreen></iframe>"
      ],
      "text/plain": [
       "<IPython.core.display.HTML object>"
      ]
     },
     "execution_count": 2,
     "metadata": {},
     "output_type": "execute_result"
    }
   ],
   "source": [
    "from IPython.display import HTML\n",
    "\n",
    "HTML('<iframe width=\"900\" height=\"608\" src=\"https://www.youtube.com/embed/bMcWa8C295Y\" frameborder=\"0\" allow=\"autoplay; encrypted-media\" allowfullscreen></iframe>')\n"
   ]
  },
  {
   "cell_type": "code",
   "execution_count": null,
   "metadata": {},
   "outputs": [],
   "source": []
  }
 ],
 "metadata": {
  "kernelspec": {
   "display_name": "Python 2",
   "language": "python",
   "name": "python2"
  },
  "language_info": {
   "codemirror_mode": {
    "name": "ipython",
    "version": 2
   },
   "file_extension": ".py",
   "mimetype": "text/x-python",
   "name": "python",
   "nbconvert_exporter": "python",
   "pygments_lexer": "ipython2",
   "version": "2.7.14"
  }
 },
 "nbformat": 4,
 "nbformat_minor": 2
}
