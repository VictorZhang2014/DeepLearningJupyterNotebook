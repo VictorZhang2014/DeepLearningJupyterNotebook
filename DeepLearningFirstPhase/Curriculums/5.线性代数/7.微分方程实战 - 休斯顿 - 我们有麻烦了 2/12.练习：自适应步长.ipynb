{
 "cells": [
  {
   "cell_type": "code",
   "execution_count": 1,
   "metadata": {},
   "outputs": [
    {
     "data": {
      "text/html": [
       "<iframe width=\"900\" height=\"600\" src=\"https://www.youtube.com/embed/pQbThr57n2c\" frameborder=\"0\" allow=\"autoplay; encrypted-media\" allowfullscreen></iframe>"
      ],
      "text/plain": [
       "<IPython.core.display.HTML object>"
      ]
     },
     "execution_count": 1,
     "metadata": {},
     "output_type": "execute_result"
    }
   ],
   "source": [
    "from IPython.display import HTML\n",
    "\n",
    "HTML('<iframe width=\"900\" height=\"600\" src=\"https://www.youtube.com/embed/pQbThr57n2c\" frameborder=\"0\" allow=\"autoplay; encrypted-media\" allowfullscreen></iframe>')\n"
   ]
  },
  {
   "cell_type": "markdown",
   "metadata": {},
   "source": [
    "# 练习题"
   ]
  },
  {
   "cell_type": "code",
   "execution_count": null,
   "metadata": {},
   "outputs": [],
   "source": [
    "# QUIZ\n",
    "#\n",
    "# Implement adaptive step size in the \n",
    "# below function.\n",
    "\n",
    "import math\n",
    "from udacityplots import *\n",
    "\n",
    "total_time = 12500. # s\n",
    "g = 9.81 # m / s2\n",
    "earth_mass = 5.97e24 # kg\n",
    "gravitational_constant = 6.67e-11 # N m2 / kg2\n",
    "\n",
    "def acceleration(spaceship_position):\n",
    "    vector_to_earth = - spaceship_position # earth located at origin\n",
    "    return gravitational_constant * earth_mass / numpy.linalg.norm(vector_to_earth)**3 * vector_to_earth\n",
    "\n",
    "@show_plot\n",
    "def orbit():\n",
    "    x = numpy.zeros(2) # m\n",
    "    v = numpy.zeros(2) # m / s\n",
    "    x[0] = 15e6\n",
    "    x[1] = 1e6    \n",
    "    v[0] = 2e3\n",
    "    v[1] = 4e3\n",
    "    matplotlib.pyplot.scatter(x[0], x[1], s = 4)\n",
    "\n",
    "    current_time = 0. # s\n",
    "    h = 100. # s\n",
    "    h_new = h # s, will store the adaptive step size of the next step\n",
    "    tolerance = 5e5 # m\n",
    "\n",
    "    while current_time < total_time:\n",
    "        acceleration0 = acceleration(x)    \n",
    "        xE = x + h * v\n",
    "        vE = v + h * acceleration0\n",
    "        xH = x + h * 0.5 * (v + vE)\n",
    "        vH = v + h * 0.5 * (acceleration0 + acceleration(xE))\n",
    "        x = xH\n",
    "        v = vH\n",
    "\n",
    "        ###Your code here.\n",
    "        \n",
    "        matplotlib.pyplot.scatter(x[0], x[1], s = 1)\n",
    "        current_time += h\n",
    "        h = h_new\n",
    "    matplotlib.pyplot.axis('equal')\n",
    "    matplotlib.pyplot.scatter(0., 0.) \n",
    "    axes = matplotlib.pyplot.gca()\n",
    "    axes.set_xlabel('Longitudinal position in m')\n",
    "    axes.set_ylabel('Lateral position in m')\n",
    "    return x, v\n",
    "\n",
    "x, v = orbit()\n",
    "\n"
   ]
  },
  {
   "cell_type": "markdown",
   "metadata": {},
   "source": [
    "# 答案"
   ]
  },
  {
   "cell_type": "code",
   "execution_count": 2,
   "metadata": {},
   "outputs": [
    {
     "data": {
      "text/html": [
       "<iframe width=\"900\" height=\"600\" src=\"https://www.youtube.com/embed/IcteybNCeIc\" frameborder=\"0\" allow=\"autoplay; encrypted-media\" allowfullscreen></iframe>"
      ],
      "text/plain": [
       "<IPython.core.display.HTML object>"
      ]
     },
     "execution_count": 2,
     "metadata": {},
     "output_type": "execute_result"
    }
   ],
   "source": [
    "from IPython.display import HTML\n",
    "\n",
    "HTML('<iframe width=\"900\" height=\"600\" src=\"https://www.youtube.com/embed/IcteybNCeIc\" frameborder=\"0\" allow=\"autoplay; encrypted-media\" allowfullscreen></iframe>')\n"
   ]
  },
  {
   "cell_type": "code",
   "execution_count": null,
   "metadata": {},
   "outputs": [],
   "source": []
  }
 ],
 "metadata": {
  "kernelspec": {
   "display_name": "Python 2",
   "language": "python",
   "name": "python2"
  },
  "language_info": {
   "codemirror_mode": {
    "name": "ipython",
    "version": 2
   },
   "file_extension": ".py",
   "mimetype": "text/x-python",
   "name": "python",
   "nbconvert_exporter": "python",
   "pygments_lexer": "ipython2",
   "version": "2.7.14"
  }
 },
 "nbformat": 4,
 "nbformat_minor": 2
}
