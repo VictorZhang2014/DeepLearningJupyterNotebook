{
 "cells": [
  {
   "cell_type": "markdown",
   "metadata": {},
   "source": [
    "# 预测波士顿房屋价格\n",
    "\n",
    "## 项目概述\n",
    "\n",
    "在此项目中，我们将对为马萨诸塞州波士顿地区的房屋价格收集的数据应用基本机器学习概念，以预测新房屋的销售价格。您首先将探索这些数据以获取数据集的重要特征和描述性统计信息。接下来，您要正确地将数据拆分为测试数据集和训练数据集，并确定适用于此问题的性能指标。然后，您将使用不同的参数和训练集大小分析学习算法的性能图表。这让您能够挑选最好地泛化到未见过的数据的最佳模型。最后，您将根据一个新样本测试此最佳模型并将预测的销售价格与您的统计数据进行比较。\n",
    "\n",
    "\n",
    "## 项目亮点\n",
    "\n",
    "此项目旨在让您熟练地在 Python 中处理数据集并使用 NumPy 和 Scikit-Learn 应用基本机器学习技术。在使用 sklearn 库中的许多可用算法之前，先练习分析和解释您模型的表现可能有所帮助。\n",
    "\n",
    "通过完成此项目您将会学习（并最终知道）以下知识：\n",
    "- 如何使用 NumPy 调查数据集的潜在特征。\n",
    "- 如何分析各种学习性能图以了解方差和偏差。\n",
    "- 如何确定用于从未看见的数据进行预测的最佳猜测模型。\n",
    "- 如何评估模型使用之前的数据处理未看见数据的表现\n",
    "\n",
    "\n",
    "## 项目描述\n",
    "\n",
    "波士顿房屋市场竞争异常激烈，你想成为当地最好的房地产中介。为了与同行竞争，你决定使用几个基本的机器学习概念来帮助你和客户找到其房屋的最佳销售价格。幸运的是，你遇到了波士顿房屋数据集，其中包含大波士顿社区的房屋的各种特征的累积数据，包括其中各个地区的房屋价格的中值。你的任务是利用可用工具基于统计分析来构建一个最佳模型。然后使用该模型估算客户房屋的最佳销售价格。\n",
    "\n",
    "## 软件和库\n",
    "\n",
    "对于此项目，你需要安装以下软件和 Python 库：\n",
    "- [Python 2.7](https://www.python.org/download/releases/2.7/)\n",
    "- [NumPy](http://www.numpy.org/)\n",
    "- [pandas](http://pandas.pydata.org/)\n",
    "- [scikit-learn](http://scikit-learn.org/)\n",
    "- [matplotlib](https://matplotlib.org/)\n",
    "- [Jupyter Notebook](http://jupyter.org/)\n",
    "\n",
    "对jupyter不熟悉的同学可以看一下这个链接：\n",
    "- [为什么使用jupyter？](https://www.zhihu.com/question/37490497)\n",
    "\n",
    "如果你还没有安装 Python，我们建议你安装 Python 的发行版 [Anaconda](https://www.anaconda.com/download/#macos) 他包括了我们所有上面提到的工具。安装时选择 Python 2.7 的安装包，不要选择 Python 3.x 的。\n"
   ]
  },
  {
   "cell_type": "markdown",
   "metadata": {},
   "source": [
    "## 开始项目\n",
    "\n",
    "要开始这个项目，你可以访问我们的 [GitHub](https://github.com/VictorZhang2014/boston_housing) 页面，或者点击 [这里](https://github.com/VictorZhang2014/boston_housing/archive/master.zip) 直接下载最新的项目所需文件。\n",
    "\n",
    "包含三个文件：\n",
    "- boston_housing.ipynb: 这是你需要完成项目的主文件。\n",
    "- housing.csv: 这是项目数据集，你需要加载到 notebook 里。\n",
    "- visuals.py: 这是帮你创建数据可视化的 python 脚本。\n",
    "\n",
    "在包含项目文件的命令行或终端下，输入命令 `jupyter notebook boston_housing.ipynb` 打开一个浏览器来开始你的项目。根据 `notebook` 中的项目说明来回答每一个问题。你还可以在 `README` 文件中看到更多项目相关的信息"
   ]
  },
  {
   "cell_type": "markdown",
   "metadata": {},
   "source": [
    "** [跳转到项目在线作答页](2.Project_Predict_Boston_Housing_Price/boston_housing.ipynb) **"
   ]
  },
  {
   "cell_type": "code",
   "execution_count": null,
   "metadata": {},
   "outputs": [],
   "source": []
  }
 ],
 "metadata": {
  "kernelspec": {
   "display_name": "Python 2",
   "language": "python",
   "name": "python2"
  },
  "language_info": {
   "codemirror_mode": {
    "name": "ipython",
    "version": 2
   },
   "file_extension": ".py",
   "mimetype": "text/x-python",
   "name": "python",
   "nbconvert_exporter": "python",
   "pygments_lexer": "ipython2",
   "version": "2.7.14"
  }
 },
 "nbformat": 4,
 "nbformat_minor": 2
}
