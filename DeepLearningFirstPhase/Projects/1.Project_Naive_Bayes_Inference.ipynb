{
 "cells": [
  {
   "cell_type": "markdown",
   "metadata": {},
   "source": [
    "# 实践项目：构建垃圾邮件分类器\n",
    "\n",
    "## 简介\n",
    "垃圾邮件检测是现今网络中最重要的机器学习应用案例领。几乎所有的大型邮箱服务提供商都内置了垃圾邮件检测系统，并自动将此类邮件归类为“垃圾邮件”。\n",
    "\n",
    "在此项目中，我们<b>将使用朴素贝叶斯算法来创建一个模型，并根据我们对模型展开的训练将数据集短信分类为是否为垃圾短信。</b>你需要直观地了解哪些短信属于垃圾短信。\n",
    "\n",
    "\n",
    "## 垃圾邮件是什么？\n",
    "通常包含字眼\n",
    "- <b>“免费（'free'）”</b>\n",
    "- <b>“赢取（'win'）”</b>\n",
    "- <b>“获奖者（'winner'）”</b>\n",
    "- <b>“现金（'cash'）”</b>\n",
    "- <b>“奖品（'prize）”</b>\n",
    "\n",
    "等，因为这些字眼专门用于吸引你的注意，诱惑你打开邮件。此外，垃圾邮件喜欢让所有单词都大写，并使用大量的感叹号。对收件人来说，通常很容易就判断出是否为垃圾邮件，我们的目标是训练模型来帮助我们识别垃圾邮件！\n",
    "\n",
    "<b>识别垃圾邮件是二元分类问题，因为邮件要么“是垃圾邮件（'Spam'）”，要么“不是垃圾邮件（'Not Spam'）”，不会再有第三种情况。此外，这是监督学习问题，因为我们知道要预测什么。我们将向模型提供带有标签的数据集，使其从中学习规律并作出未来预测。</b>\n"
   ]
  },
  {
   "cell_type": "markdown",
   "metadata": {},
   "source": [
    "## 项目概述\n",
    "\n",
    "\n",
    "此项目分为以下步骤：\n",
    "\n",
    "- 第 0 步: 朴素贝叶斯定理简介\n",
    "- 第 1.1 步: 了解我们的数据集\n",
    "- 第 1.2 步: 数据预处理\n",
    "- 第 2.1 步: Bag of Words(BoW)\n",
    "- 第 2.2 步: 从头实现 BoW\n",
    "- 第 2.3 步: 在 scikit-learn 中实现 Bag of Words\n",
    "- 第 3.1 步: 训练和测试数据集\n",
    "- 第 3.2 步: 向我们的数据集中应用 Bag of Words 处理流程。\n",
    "- 第 4.1 步: 从头实现贝叶斯定理\n",
    "- 第 4.2 步: 从头实现朴素贝叶斯定理\n",
    "- 第 5 步: 使用 scikit-learn 实现朴素贝叶斯定力\n",
    "- 第 6 步: 评估模型\n",
    "- 第 7 步: 结论\n",
    "\n",
    "你可以通过转到此[链接](https://github.com/VictorZhang2014/machine-learning/tree/master/projects/practice_projects/naive_bayes_tutorial)跟着我们一起操作。\n"
   ]
  },
  {
   "cell_type": "markdown",
   "metadata": {},
   "source": [
    "** [跳转到项目在线作答](1.Project_Naive_Bayes_Inference/Bayesian_Inference.ipynb) **"
   ]
  },
  {
   "cell_type": "raw",
   "metadata": {},
   "source": []
  }
 ],
 "metadata": {
  "kernelspec": {
   "display_name": "Python 2",
   "language": "python",
   "name": "python2"
  },
  "language_info": {
   "codemirror_mode": {
    "name": "ipython",
    "version": 2
   },
   "file_extension": ".py",
   "mimetype": "text/x-python",
   "name": "python",
   "nbconvert_exporter": "python",
   "pygments_lexer": "ipython2",
   "version": "2.7.14"
  }
 },
 "nbformat": 4,
 "nbformat_minor": 2
}
