{
 "cells": [
  {
   "cell_type": "markdown",
   "metadata": {},
   "source": [
    "# 评估指标 Assessment Index"
   ]
  },
  {
   "cell_type": "markdown",
   "metadata": {},
   "source": [
    "- 当我们过度简化问题时，我们称之为欠拟合(underfitting)\n",
    "- 当我们过度复杂化问题时，我们称之为过拟合(overfitting)\n",
    "\n",
    "## 混淆矩阵 Confusion Matrix\n",
    "#### 如果鉴定一个Model的好坏？\n",
    "\n",
    "以下拿两个例子说明混淆矩阵：\n",
    "- 一是，病人有病还是没病\n",
    "- 二是，邮件是垃圾邮件，还是不是垃圾邮件\n",
    "\n",
    "**病人的例子**\n",
    "- True Positive（真阳性）: \n",
    "  - 检测到一位患者确实生病，并送去治疗\n",
    "\n",
    "- True Negative（真阴性）:\n",
    "  - 检测到一位没有生病的病人，并送他回家 \n",
    "\n",
    "- False Positive（假阳性）:\n",
    "  - 检测到一位健康的人为生病的人\n",
    "\n",
    "- False Negative（假阴性）:\n",
    "  - 检测到一位患者因为模型错误时被诊断为健康，这是一个错误，因为患者还没治疗，就回家了\n",
    "\n",
    "\n",
    "**垃圾邮件的例子**\n",
    "\n",
    "|   | Sent to Spam Folder | Sent to Inbox | \n",
    "| - | :-: | -: | \n",
    "| Spam | True Positive <br/> 当收到垃圾邮件，并且正确的被分配到垃圾邮件  | False Negative <br/> 当收到垃圾邮件，并且错误的把它认为是正常邮件  | \n",
    "| Not Spam | False Positive <br/> 当收到正常邮件时，被认为是垃圾邮件 | True Negative <br/> 当收到正常邮件时，并分配它到收件箱   | \n",
    "\n",
    "\n",
    "\n",
    "#### 准确率 Accuracy\n",
    "公式：\n",
    "- 准确率 = (真阳性 + 真阴性) / 总数\n",
    "  - 准确率乘以100，就是百分比\n",
    "- 在ScikitLearn中使用accuracy_score函数可以很容易的计算\n",
    "\n",
    "\n",
    "#### 精度 Precision Rate\n",
    "公式：\n",
    "精度 =  真阳性 /（真阳性 + 假阳性)\n",
    "\n"
   ]
  },
  {
   "cell_type": "markdown",
   "metadata": {},
   "source": [
    "# 召回率 Recall Rate\n",
    "公式：\n",
    "召回率 = 真阳性 / (真阳性 + 假阴性)"
   ]
  },
  {
   "cell_type": "code",
   "execution_count": 4,
   "metadata": {},
   "outputs": [
    {
     "data": {
      "text/html": [
       "<iframe src=\"https://www.youtube.com/embed/rNWAriJqZ9w\" width=\"560\" height=\"315\" frameborder=\"0\" allowfullscreen></iframe>"
      ],
      "text/plain": [
       "<IPython.core.display.HTML object>"
      ]
     },
     "execution_count": 4,
     "metadata": {},
     "output_type": "execute_result"
    }
   ],
   "source": [
    "from IPython.display import HTML\n",
    "\n",
    "HTML('<iframe src=\"https://www.youtube.com/embed/rNWAriJqZ9w\" width=\"560\" height=\"315\" frameborder=\"0\" allowfullscreen></iframe>')"
   ]
  },
  {
   "cell_type": "markdown",
   "metadata": {},
   "source": [
    "# 8. F1 得分\n",
    "### F1得分就是调和平均数（Harmonic Mean）\n",
    "先看下视频"
   ]
  },
  {
   "cell_type": "code",
   "execution_count": 5,
   "metadata": {},
   "outputs": [
    {
     "data": {
      "text/html": [
       "<iframe src=\"https://www.youtube.com/embed/Lu4lVWEweLk\" width=\"560\" height=\"315\" frameborder=\"0\" allowfullscreen></iframe>"
      ],
      "text/plain": [
       "<IPython.core.display.HTML object>"
      ]
     },
     "execution_count": 5,
     "metadata": {},
     "output_type": "execute_result"
    }
   ],
   "source": [
    "from IPython.display import HTML\n",
    "\n",
    "HTML('<iframe src=\"https://www.youtube.com/embed/Lu4lVWEweLk\" width=\"560\" height=\"315\" frameborder=\"0\" allowfullscreen></iframe>')"
   ]
  },
  {
   "cell_type": "markdown",
   "metadata": {},
   "source": [
    "练习题：\n",
    "\n",
    "接下来，请先理解以下的F1 Score得分公式：\n",
    "\n",
    "$F_1-Score = 2 * \\frac{Precision * Recall}{Precision + Recall}$\n",
    "\n",
    "问题：\n",
    "如果医疗模型的精度 55.6%，召回率是 83.3%，那么 F1 得分是多少？（答案请填写百分比，并四舍五入到小数点后一位。）\n"
   ]
  },
  {
   "cell_type": "markdown",
   "metadata": {},
   "source": [
    "解答：\n",
    "\n",
    "拆分公式：\n",
    "``` \n",
    "(4 * (Precision * Recall)) / (2 * (Precision + Recall)) 或者 (2 * (Precision * Recall)) / (Precision + Recall)\n",
    "=\n",
    "(4 * (0.556 * 0.833)) / (2 * (0.556 + 0.833))\n",
    "= \n",
    "(4 * 0.463148) / (2 * 1.389)\n",
    "= \n",
    "1.852592 / 2.778\n",
    "=\n",
    "0.6668\n",
    "\n",
    "```"
   ]
  },
  {
   "cell_type": "code",
   "execution_count": 9,
   "metadata": {},
   "outputs": [
    {
     "name": "stdout",
     "output_type": "stream",
     "text": [
      "0.6668797696184305\n"
     ]
    }
   ],
   "source": [
    "Precision = 0.556\n",
    "Recall = 0.833\n",
    "result = (2 * (Precision * Recall)) / (Precision + Recall)\n",
    "print(result)"
   ]
  },
  {
   "cell_type": "code",
   "execution_count": null,
   "metadata": {},
   "outputs": [],
   "source": [
    "# 9. F_β得分\n"
   ]
  },
  {
   "cell_type": "code",
   "execution_count": null,
   "metadata": {},
   "outputs": [],
   "source": []
  },
  {
   "cell_type": "markdown",
   "metadata": {},
   "source": [
    "# 10.ROC曲线 \n",
    "#### 接受者操作特征曲线(特征曲线)  Receiver Operating Characteristic Curve "
   ]
  },
  {
   "cell_type": "code",
   "execution_count": 10,
   "metadata": {},
   "outputs": [
    {
     "data": {
      "text/html": [
       "<iframe src=\"https://www.youtube.com/embed/2ydri2Cu1_8\" width=\"560\" height=\"315\" frameborder=\"0\" allowfullscreen></iframe>"
      ],
      "text/plain": [
       "<IPython.core.display.HTML object>"
      ]
     },
     "execution_count": 10,
     "metadata": {},
     "output_type": "execute_result"
    }
   ],
   "source": [
    "from IPython.display import HTML\n",
    "\n",
    "HTML('<iframe src=\"https://www.youtube.com/embed/2ydri2Cu1_8\" width=\"560\" height=\"315\" frameborder=\"0\" allowfullscreen></iframe>')"
   ]
  },
  {
   "cell_type": "markdown",
   "metadata": {},
   "source": [
    "# 11.回归指标\n",
    "\n",
    "- 平均绝对误差   Mean Absolute Error\n",
    "- 均方差   Mean Square"
   ]
  },
  {
   "cell_type": "code",
   "execution_count": 12,
   "metadata": {},
   "outputs": [
    {
     "data": {
      "text/html": [
       "<iframe src=\"https://www.youtube.com/embed/906P4BPnl9A\" width=\"560\" height=\"315\" frameborder=\"0\" allowfullscreen></iframe>"
      ],
      "text/plain": [
       "<IPython.core.display.HTML object>"
      ]
     },
     "execution_count": 12,
     "metadata": {},
     "output_type": "execute_result"
    }
   ],
   "source": [
    "HTML('<iframe src=\"https://www.youtube.com/embed/906P4BPnl9A\" width=\"560\" height=\"315\" frameborder=\"0\" allowfullscreen></iframe>')\n"
   ]
  },
  {
   "cell_type": "code",
   "execution_count": null,
   "metadata": {},
   "outputs": [],
   "source": []
  }
 ],
 "metadata": {
  "kernelspec": {
   "display_name": "Python 3",
   "language": "python",
   "name": "python3"
  },
  "language_info": {
   "codemirror_mode": {
    "name": "ipython",
    "version": 3
   },
   "file_extension": ".py",
   "mimetype": "text/x-python",
   "name": "python",
   "nbconvert_exporter": "python",
   "pygments_lexer": "ipython3",
   "version": "3.6.4"
  }
 },
 "nbformat": 4,
 "nbformat_minor": 2
}
