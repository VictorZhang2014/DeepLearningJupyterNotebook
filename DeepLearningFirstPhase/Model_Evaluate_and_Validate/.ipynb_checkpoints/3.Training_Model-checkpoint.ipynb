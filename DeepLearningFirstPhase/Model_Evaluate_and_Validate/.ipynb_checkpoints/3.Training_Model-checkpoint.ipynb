{
 "cells": [
  {
   "cell_type": "markdown",
   "metadata": {},
   "source": [
    "# 1.训练模型 - 简介"
   ]
  },
  {
   "cell_type": "code",
   "execution_count": 1,
   "metadata": {},
   "outputs": [
    {
     "data": {
      "text/html": [
       "<iframe src=\"https://www.youtube.com/embed/4C4PuJANIdE\" width=\"560\" height=\"315\" frameborder=\"0\" allowfullscreen></iframe>"
      ],
      "text/plain": [
       "<IPython.core.display.HTML object>"
      ]
     },
     "execution_count": 1,
     "metadata": {},
     "output_type": "execute_result"
    }
   ],
   "source": [
    "from IPython.display import HTML\n",
    "\n",
    "HTML('<iframe src=\"https://www.youtube.com/embed/4C4PuJANIdE\" width=\"560\" height=\"315\" frameborder=\"0\" allowfullscreen></iframe>')\n"
   ]
  },
  {
   "cell_type": "code",
   "execution_count": 2,
   "metadata": {},
   "outputs": [
    {
     "data": {
      "text/html": [
       "<iframe src=\"https://www.youtube.com/embed/YcvymUVt1YE\" width=\"560\" height=\"315\" frameborder=\"0\" allowfullscreen></iframe>"
      ],
      "text/plain": [
       "<IPython.core.display.HTML object>"
      ]
     },
     "execution_count": 2,
     "metadata": {},
     "output_type": "execute_result"
    }
   ],
   "source": [
    "HTML('<iframe src=\"https://www.youtube.com/embed/YcvymUVt1YE\" width=\"560\" height=\"315\" frameborder=\"0\" allowfullscreen></iframe>')\n"
   ]
  },
  {
   "cell_type": "markdown",
   "metadata": {},
   "source": [
    "# 2.统计学知识复习\n",
    "\n",
    "在这节课，我们将假设你熟悉以下统计学概念，例如均值、中值、方差等。如果你觉得学习这些知识已经有一段时间了，需要复习下，建议你查看课外部分的一些视频和练习。\n",
    "\n",
    "- 居中趋势测量：均值、中值、众数。\n",
    "- 数据的离散性：四分位距法、异常值、标准偏差、贝塞尔修正。"
   ]
  },
  {
   "cell_type": "markdown",
   "metadata": {},
   "source": [
    "# 3.在 Pandas 中加载数据\n",
    "\n",
    "在这部分，我们将了解如何在 `Pandas` 中打开数据集这一基础知识。如果你想了解更多知识，请参阅 [Pandas](http://pandas.pydata.org/pandas-docs/stable/) 文档。\n",
    "\n",
    "对于此部分，我们将使用数据集 `2_class_data.csv`，如下所示：\n",
    "![points](sources/img/points.png)\n",
    "\n",
    "要打开此数据集（csv 文件），我们将在 `Pandas` 中使用命令 `read_csv`：\n",
    "\n",
    "`\n",
    "import pandas\n",
    "data = pandas.read_csv(\"file_name.csv\")\n",
    "`\n",
    "\n",
    "请在下面的练习中试试！应该在 Pandas 中看到作为 DataFrame 对象的数据集。"
   ]
  },
  {
   "cell_type": "code",
   "execution_count": 3,
   "metadata": {},
   "outputs": [
    {
     "data": {
      "text/html": [
       "<div>\n",
       "<style scoped>\n",
       "    .dataframe tbody tr th:only-of-type {\n",
       "        vertical-align: middle;\n",
       "    }\n",
       "\n",
       "    .dataframe tbody tr th {\n",
       "        vertical-align: top;\n",
       "    }\n",
       "\n",
       "    .dataframe thead th {\n",
       "        text-align: right;\n",
       "    }\n",
       "</style>\n",
       "<table border=\"1\" class=\"dataframe\">\n",
       "  <thead>\n",
       "    <tr style=\"text-align: right;\">\n",
       "      <th></th>\n",
       "      <th>x1</th>\n",
       "      <th>x2</th>\n",
       "      <th>y</th>\n",
       "    </tr>\n",
       "  </thead>\n",
       "  <tbody>\n",
       "    <tr>\n",
       "      <th>0</th>\n",
       "      <td>0.78051</td>\n",
       "      <td>-0.063669</td>\n",
       "      <td>0</td>\n",
       "    </tr>\n",
       "    <tr>\n",
       "      <th>1</th>\n",
       "      <td>0.28774</td>\n",
       "      <td>0.291390</td>\n",
       "      <td>0</td>\n",
       "    </tr>\n",
       "    <tr>\n",
       "      <th>2</th>\n",
       "      <td>0.40714</td>\n",
       "      <td>0.178780</td>\n",
       "      <td>0</td>\n",
       "    </tr>\n",
       "    <tr>\n",
       "      <th>3</th>\n",
       "      <td>0.29230</td>\n",
       "      <td>0.421700</td>\n",
       "      <td>0</td>\n",
       "    </tr>\n",
       "    <tr>\n",
       "      <th>4</th>\n",
       "      <td>0.50922</td>\n",
       "      <td>0.352560</td>\n",
       "      <td>0</td>\n",
       "    </tr>\n",
       "  </tbody>\n",
       "</table>\n",
       "</div>"
      ],
      "text/plain": [
       "        x1        x2  y\n",
       "0  0.78051 -0.063669  0\n",
       "1  0.28774  0.291390  0\n",
       "2  0.40714  0.178780  0\n",
       "3  0.29230  0.421700  0\n",
       "4  0.50922  0.352560  0"
      ]
     },
     "execution_count": 3,
     "metadata": {},
     "output_type": "execute_result"
    }
   ],
   "source": [
    "import pandas\n",
    "\n",
    "# TODO: Use pandas to read the '2_class_data.csv' file, and store it in a variable\n",
    "# called 'data'.\n",
    "\n",
    "data = pandas.read_csv('sources/csv/2_class_data.csv')\n",
    "data.head()"
   ]
  },
  {
   "cell_type": "markdown",
   "metadata": {},
   "source": [
    "# 4.Numpy 数组\n",
    "\n",
    "我们已经在 Pandas 中加载数据，现在需要将输入和输出拆分为 numpy 数组，以便在 scikit-learn 中应用分类器。方法如下：假设有个 pandas 数据框 df，如下所示，有四个列，分别标为 A、B、C、D：\n",
    "\n",
    "![dataframe](sources/img/dataframe.png)\n",
    "\n",
    "如果我们想要提取列 A，则执行以下操作：\n",
    "\n",
    "```\n",
    "\n",
    ">> df['A']\n",
    "    0    1\n",
    "    1    5\n",
    "    2    9\n",
    "    Name: A, dtype: int64\n",
    "```\n",
    "\n",
    "![smalldf](sources/img/smalldf.png)\n",
    "\n",
    "现在你自己试试！使用我们之前在 pandas 中加载的同一数据框，将其拆分为特征 `X` 和标签 `y`。\n",
    "\n",
    "\n",
    "```\n",
    "import pandas as pd\n",
    "import numpy as np\n",
    "\n",
    "data = pd.read_csv(\"data.csv\")\n",
    "\n",
    "# TODO: Separate the features and the labels into arrays called X and y\n",
    "X = np.array(data[[\"x1\", \"x2\"]])\n",
    "y = np.array(data[\"y\"])\n",
    "```\n",
    "\n"
   ]
  },
  {
   "cell_type": "markdown",
   "metadata": {},
   "source": [
    "# 5.在 scikit learn 中训练模型\n",
    "\n",
    "在此部分，我们依然使用在前几个部分使用的数据集。\n",
    "\n",
    "\n"
   ]
  },
  {
   "cell_type": "code",
   "execution_count": null,
   "metadata": {},
   "outputs": [],
   "source": []
  }
 ],
 "metadata": {
  "kernelspec": {
   "display_name": "Python 3",
   "language": "python",
   "name": "python3"
  },
  "language_info": {
   "codemirror_mode": {
    "name": "ipython",
    "version": 3
   },
   "file_extension": ".py",
   "mimetype": "text/x-python",
   "name": "python",
   "nbconvert_exporter": "python",
   "pygments_lexer": "ipython3",
   "version": "3.6.4"
  }
 },
 "nbformat": 4,
 "nbformat_minor": 2
}
