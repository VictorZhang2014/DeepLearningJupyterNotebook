{
 "cells": [
  {
   "cell_type": "markdown",
   "metadata": {},
   "source": [
    "# 测试模型"
   ]
  },
  {
   "cell_type": "code",
   "execution_count": 1,
   "metadata": {},
   "outputs": [
    {
     "data": {
      "text/html": [
       "<iframe src=\"https://www.youtube.com/embed/gmxGRJSKEb0\" width=\"560\" height=\"315\" frameborder=\"0\" allowfullscreen></iframe>"
      ],
      "text/plain": [
       "<IPython.core.display.HTML object>"
      ]
     },
     "execution_count": 1,
     "metadata": {},
     "output_type": "execute_result"
    }
   ],
   "source": [
    "from IPython.display import HTML\n",
    "\n",
    "HTML('<iframe src=\"https://www.youtube.com/embed/gmxGRJSKEb0\" width=\"560\" height=\"315\" frameborder=\"0\" allowfullscreen></iframe>')"
   ]
  },
  {
   "cell_type": "code",
   "execution_count": null,
   "metadata": {},
   "outputs": [],
   "source": []
  },
  {
   "cell_type": "markdown",
   "metadata": {},
   "source": [
    "# 在Scikit-Learn中进行测试"
   ]
  },
  {
   "cell_type": "markdown",
   "metadata": {},
   "source": [
    "使用 sklearn 可以轻松地将数据集拆分为训练数据和测试数据。我们只需输入 train_test_split 命令。该函数获得输入 X 和 y，然后返回四项内容：\n",
    "\n",
    "- X_train：训练输入数据\n",
    "- X_test：测试输入数据\n",
    "- y_train：训练标签\n",
    "- y_test：测试标签\n",
    "\n",
    "该函数的调用如下所示：\n",
    "```\n",
    "from sklearn.model_selection import train_test_split\n",
    "X_train, X_test, y_train, y_test = train_test_split(X, y, test_size = 0.25)\n",
    "```\n",
    "\n",
    "最后一个参数 `test_size` 是我们想用作测试数据的点所占百分比。在上述调用中，我们使用 25% 的点作为测试数据，75% 作为训练数据。\n",
    "\n",
    "我们练习下！我们将再次使用上一部分的数据集：\n",
    "\n",
    "<img src=\"sources/img/points.png\" style=\"width:600px;height:400px;\">\n",
    "\n",
    "\n",
    "在下面的测验中，使用 `train_test_split` 函数将数据集拆分为训练集和测试集。测试集的大小必须是数据总大小的 20%。训练集称为 `X_train` 和 `y_train`，测试集称为 `X_test` 和 `y_test`。\n",
    "\n",
    "点击测试运行看看结果的可视化效果，训练集将画为圆圈，测试集将画为方形。完成后，点击提交以供我们评估你的代码！"
   ]
  },
  {
   "cell_type": "markdown",
   "metadata": {},
   "source": [
    "练习题："
   ]
  },
  {
   "cell_type": "code",
   "execution_count": 14,
   "metadata": {},
   "outputs": [],
   "source": [
    "# Reading the csv file\n",
    "import pandas as pd\n",
    "data = pd.read_csv(\"sources/csv/Testing_Model_sklearn_points.csv\")\n",
    "\n",
    "# Splitting the data into X and y\n",
    "import numpy as np\n",
    "X = np.array(data[['x1', 'x2']])\n",
    "y = np.array(data['y'])\n",
    "\n",
    "# Import statement for train_test_split\n",
    "from sklearn.cross_validation import train_test_split\n",
    "\n",
    "# TODO: Use the train_test_split function to split the data into\n",
    "# training and testing sets.\n",
    "# The size of the testing set should be 20% of the total size of the data.\n",
    "# Your output should contain 4 objects.\n",
    "\n"
   ]
  },
  {
   "cell_type": "markdown",
   "metadata": {},
   "source": [
    "答案："
   ]
  },
  {
   "cell_type": "code",
   "execution_count": 16,
   "metadata": {},
   "outputs": [],
   "source": [
    "# Reading the csv file\n",
    "import pandas as pd\n",
    "data = pd.read_csv(\"sources/csv/Testing_Model_sklearn_points.csv\")\n",
    "\n",
    "# Splitting the data into X and y\n",
    "import numpy as np\n",
    "X = np.array(data[['x1', 'x2']])\n",
    "y = np.array(data['y'])\n",
    "\n",
    "# Import statement for train_test_split\n",
    "from sklearn.cross_validation import train_test_split\n",
    "\n",
    "# TODO: Use the train_test_split function to split the data into\n",
    "# training and testing sets.\n",
    "# The size of the testing set should be 20% of the total size of the data.\n",
    "# Your output should contain 4 objects.\n",
    "X_train, X_test, y_train, y_test = train_test_split(X, y, test_size = 0.2) "
   ]
  },
  {
   "cell_type": "code",
   "execution_count": null,
   "metadata": {},
   "outputs": [],
   "source": []
  }
 ],
 "metadata": {
  "kernelspec": {
   "display_name": "Python 3",
   "language": "python",
   "name": "python3"
  },
  "language_info": {
   "codemirror_mode": {
    "name": "ipython",
    "version": 3
   },
   "file_extension": ".py",
   "mimetype": "text/x-python",
   "name": "python",
   "nbconvert_exporter": "python",
   "pygments_lexer": "ipython3",
   "version": "3.6.4"
  }
 },
 "nbformat": 4,
 "nbformat_minor": 2
}
